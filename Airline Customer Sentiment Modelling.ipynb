{
 "cells": [
  {
   "cell_type": "code",
   "execution_count": 1,
   "metadata": {},
   "outputs": [
    {
     "data": {
      "text/html": [
       "        <script type=\"text/javascript\">\n",
       "        window.PlotlyConfig = {MathJaxConfig: 'local'};\n",
       "        if (window.MathJax) {MathJax.Hub.Config({SVG: {font: \"STIX-Web\"}});}\n",
       "        if (typeof require !== 'undefined') {\n",
       "        require.undef(\"plotly\");\n",
       "        requirejs.config({\n",
       "            paths: {\n",
       "                'plotly': ['https://cdn.plot.ly/plotly-latest.min']\n",
       "            }\n",
       "        });\n",
       "        require(['plotly'], function(Plotly) {\n",
       "            window._Plotly = Plotly;\n",
       "        });\n",
       "        }\n",
       "        </script>\n",
       "        "
      ]
     },
     "metadata": {},
     "output_type": "display_data"
    }
   ],
   "source": [
    "\n",
    "import base64\n",
    "import numpy as np\n",
    "import pandas as pd\n",
    "# Plotly imports\n",
    "import plotly.offline as py\n",
    "py.init_notebook_mode(connected=True)\n",
    "import plotly.graph_objs as go\n",
    "import plotly.tools as tls\n",
    "\n",
    "\n",
    "# Other imports\n",
    "from collections import Counter\n",
    "import cv2\n",
    "#from scipy.misc.pilutil import imread\n",
    "#from imread import imread\n",
    "#from scipy.misc import imread\n",
    "from sklearn.feature_extraction.text import TfidfVectorizer, CountVectorizer\n",
    "from sklearn.decomposition import NMF, LatentDirichletAllocation\n",
    "from matplotlib import pyplot as plt\n",
    "%matplotlib inline\n",
    "\n",
    "import nltk\n",
    "import re\n",
    "from pprint import pprint\n",
    "import spacy  ## spacy is their for lemmatization\n",
    "\n",
    "# Plotting tools\n",
    "import pyLDAvis\n",
    "#import pyLDAvis.gensim\n",
    "import matplotlib.pyplot as plt\n",
    "\n",
    "\n",
    "\n",
    "\n",
    "# Enable logging for gensim - optional\n",
    "import logging\n",
    "logging.basicConfig(format='%(asctime)s : %(levelname)s : %(message)s', level=logging.ERROR)\n",
    "\n",
    "import warnings\n",
    "warnings.filterwarnings(\"ignore\",category=DeprecationWarning)"
   ]
  },
  {
   "cell_type": "code",
   "execution_count": 27,
   "metadata": {},
   "outputs": [],
   "source": [
    "train=pd.read_csv('Usecase3_Dataset.csv')"
   ]
  },
  {
   "cell_type": "markdown",
   "metadata": {},
   "source": [
    "## Exploratory Data Analysis"
   ]
  },
  {
   "cell_type": "code",
   "execution_count": 28,
   "metadata": {},
   "outputs": [
    {
     "data": {
      "text/html": [
       "<div>\n",
       "<style scoped>\n",
       "    .dataframe tbody tr th:only-of-type {\n",
       "        vertical-align: middle;\n",
       "    }\n",
       "\n",
       "    .dataframe tbody tr th {\n",
       "        vertical-align: top;\n",
       "    }\n",
       "\n",
       "    .dataframe thead th {\n",
       "        text-align: right;\n",
       "    }\n",
       "</style>\n",
       "<table border=\"1\" class=\"dataframe\">\n",
       "  <thead>\n",
       "    <tr style=\"text-align: right;\">\n",
       "      <th></th>\n",
       "      <th>airline_sentiment</th>\n",
       "      <th>airline</th>\n",
       "      <th>text</th>\n",
       "    </tr>\n",
       "  </thead>\n",
       "  <tbody>\n",
       "    <tr>\n",
       "      <th>0</th>\n",
       "      <td>neutral</td>\n",
       "      <td>Virgin America</td>\n",
       "      <td>@VirginAmerica What @dhepburn said.</td>\n",
       "    </tr>\n",
       "    <tr>\n",
       "      <th>1</th>\n",
       "      <td>positive</td>\n",
       "      <td>Virgin America</td>\n",
       "      <td>@VirginAmerica plus you've added commercials t...</td>\n",
       "    </tr>\n",
       "    <tr>\n",
       "      <th>2</th>\n",
       "      <td>neutral</td>\n",
       "      <td>Virgin America</td>\n",
       "      <td>@VirginAmerica I didn't today... Must mean I n...</td>\n",
       "    </tr>\n",
       "    <tr>\n",
       "      <th>3</th>\n",
       "      <td>negative</td>\n",
       "      <td>Virgin America</td>\n",
       "      <td>@VirginAmerica it's really aggressive to blast...</td>\n",
       "    </tr>\n",
       "    <tr>\n",
       "      <th>4</th>\n",
       "      <td>negative</td>\n",
       "      <td>Virgin America</td>\n",
       "      <td>@VirginAmerica and it's a really big bad thing...</td>\n",
       "    </tr>\n",
       "  </tbody>\n",
       "</table>\n",
       "</div>"
      ],
      "text/plain": [
       "  airline_sentiment         airline  \\\n",
       "0           neutral  Virgin America   \n",
       "1          positive  Virgin America   \n",
       "2           neutral  Virgin America   \n",
       "3          negative  Virgin America   \n",
       "4          negative  Virgin America   \n",
       "\n",
       "                                                text  \n",
       "0                @VirginAmerica What @dhepburn said.  \n",
       "1  @VirginAmerica plus you've added commercials t...  \n",
       "2  @VirginAmerica I didn't today... Must mean I n...  \n",
       "3  @VirginAmerica it's really aggressive to blast...  \n",
       "4  @VirginAmerica and it's a really big bad thing...  "
      ]
     },
     "execution_count": 28,
     "metadata": {},
     "output_type": "execute_result"
    }
   ],
   "source": [
    "train.head()"
   ]
  },
  {
   "cell_type": "code",
   "execution_count": 50,
   "metadata": {},
   "outputs": [],
   "source": [
    "Virgin_America=train[train.airline==\"Virgin America\"][\"text\"].value_counts"
   ]
  },
  {
   "cell_type": "code",
   "execution_count": 53,
   "metadata": {},
   "outputs": [
    {
     "data": {
      "text/html": [
       "<div>\n",
       "<style scoped>\n",
       "    .dataframe tbody tr th:only-of-type {\n",
       "        vertical-align: middle;\n",
       "    }\n",
       "\n",
       "    .dataframe tbody tr th {\n",
       "        vertical-align: top;\n",
       "    }\n",
       "\n",
       "    .dataframe thead th {\n",
       "        text-align: right;\n",
       "    }\n",
       "</style>\n",
       "<table border=\"1\" class=\"dataframe\">\n",
       "  <thead>\n",
       "    <tr style=\"text-align: right;\">\n",
       "      <th></th>\n",
       "      <th>airline_sentiment</th>\n",
       "      <th>airline</th>\n",
       "      <th>text</th>\n",
       "    </tr>\n",
       "  </thead>\n",
       "  <tbody>\n",
       "    <tr>\n",
       "      <th>count</th>\n",
       "      <td>14640</td>\n",
       "      <td>14640</td>\n",
       "      <td>14640</td>\n",
       "    </tr>\n",
       "    <tr>\n",
       "      <th>unique</th>\n",
       "      <td>3</td>\n",
       "      <td>6</td>\n",
       "      <td>14427</td>\n",
       "    </tr>\n",
       "    <tr>\n",
       "      <th>top</th>\n",
       "      <td>negative</td>\n",
       "      <td>United</td>\n",
       "      <td>@united thanks</td>\n",
       "    </tr>\n",
       "    <tr>\n",
       "      <th>freq</th>\n",
       "      <td>9178</td>\n",
       "      <td>3822</td>\n",
       "      <td>6</td>\n",
       "    </tr>\n",
       "  </tbody>\n",
       "</table>\n",
       "</div>"
      ],
      "text/plain": [
       "       airline_sentiment airline            text\n",
       "count              14640   14640           14640\n",
       "unique                 3       6           14427\n",
       "top             negative  United  @united thanks\n",
       "freq                9178    3822               6"
      ]
     },
     "execution_count": 53,
     "metadata": {},
     "output_type": "execute_result"
    }
   ],
   "source": [
    "train.describe()"
   ]
  },
  {
   "cell_type": "code",
   "execution_count": 56,
   "metadata": {},
   "outputs": [
    {
     "data": {
      "text/html": [
       "<style  type=\"text/css\" >\n",
       "#T_c97d4_row0_col1{\n",
       "            background-color:  #3f007d;\n",
       "            color:  #f1f1f1;\n",
       "        }#T_c97d4_row1_col1{\n",
       "            background-color:  #f1eff6;\n",
       "            color:  #000000;\n",
       "        }#T_c97d4_row2_col1{\n",
       "            background-color:  #fcfbfd;\n",
       "            color:  #000000;\n",
       "        }</style><table id=\"T_c97d4_\" ><thead>    <tr>        <th class=\"blank level0\" ></th>        <th class=\"col_heading level0 col0\" >airline_sentiment</th>        <th class=\"col_heading level0 col1\" >text</th>    </tr></thead><tbody>\n",
       "                <tr>\n",
       "                        <th id=\"T_c97d4_level0_row0\" class=\"row_heading level0 row0\" >0</th>\n",
       "                        <td id=\"T_c97d4_row0_col0\" class=\"data row0 col0\" >negative</td>\n",
       "                        <td id=\"T_c97d4_row0_col1\" class=\"data row0 col1\" >9178</td>\n",
       "            </tr>\n",
       "            <tr>\n",
       "                        <th id=\"T_c97d4_level0_row1\" class=\"row_heading level0 row1\" >1</th>\n",
       "                        <td id=\"T_c97d4_row1_col0\" class=\"data row1 col0\" >neutral</td>\n",
       "                        <td id=\"T_c97d4_row1_col1\" class=\"data row1 col1\" >3099</td>\n",
       "            </tr>\n",
       "            <tr>\n",
       "                        <th id=\"T_c97d4_level0_row2\" class=\"row_heading level0 row2\" >2</th>\n",
       "                        <td id=\"T_c97d4_row2_col0\" class=\"data row2 col0\" >positive</td>\n",
       "                        <td id=\"T_c97d4_row2_col1\" class=\"data row2 col1\" >2363</td>\n",
       "            </tr>\n",
       "    </tbody></table>"
      ],
      "text/plain": [
       "<pandas.io.formats.style.Styler at 0x1c31e370>"
      ]
     },
     "execution_count": 56,
     "metadata": {},
     "output_type": "execute_result"
    }
   ],
   "source": [
    "temp = train.groupby('airline_sentiment').count()['text'].reset_index().sort_values(by='text',ascending=False)\n",
    "temp.style.background_gradient(cmap='Purples')"
   ]
  },
  {
   "cell_type": "code",
   "execution_count": 58,
   "metadata": {},
   "outputs": [
    {
     "data": {
      "application/vnd.plotly.v1+json": {
       "config": {
        "plotlyServerURL": "https://plot.ly"
       },
       "data": [
        {
         "text": [
          "negative",
          "neutral",
          "positive"
         ],
         "title": {
          "position": "top center",
          "text": "Funnel-Chart of Sentiment Distribution"
         },
         "type": "funnelarea",
         "values": [
          9178,
          3099,
          2363
         ]
        }
       ],
       "layout": {
        "template": {
         "data": {
          "bar": [
           {
            "error_x": {
             "color": "#2a3f5f"
            },
            "error_y": {
             "color": "#2a3f5f"
            },
            "marker": {
             "line": {
              "color": "#E5ECF6",
              "width": 0.5
             }
            },
            "type": "bar"
           }
          ],
          "barpolar": [
           {
            "marker": {
             "line": {
              "color": "#E5ECF6",
              "width": 0.5
             }
            },
            "type": "barpolar"
           }
          ],
          "carpet": [
           {
            "aaxis": {
             "endlinecolor": "#2a3f5f",
             "gridcolor": "white",
             "linecolor": "white",
             "minorgridcolor": "white",
             "startlinecolor": "#2a3f5f"
            },
            "baxis": {
             "endlinecolor": "#2a3f5f",
             "gridcolor": "white",
             "linecolor": "white",
             "minorgridcolor": "white",
             "startlinecolor": "#2a3f5f"
            },
            "type": "carpet"
           }
          ],
          "choropleth": [
           {
            "colorbar": {
             "outlinewidth": 0,
             "ticks": ""
            },
            "type": "choropleth"
           }
          ],
          "contour": [
           {
            "colorbar": {
             "outlinewidth": 0,
             "ticks": ""
            },
            "colorscale": [
             [
              0,
              "#0d0887"
             ],
             [
              0.1111111111111111,
              "#46039f"
             ],
             [
              0.2222222222222222,
              "#7201a8"
             ],
             [
              0.3333333333333333,
              "#9c179e"
             ],
             [
              0.4444444444444444,
              "#bd3786"
             ],
             [
              0.5555555555555556,
              "#d8576b"
             ],
             [
              0.6666666666666666,
              "#ed7953"
             ],
             [
              0.7777777777777778,
              "#fb9f3a"
             ],
             [
              0.8888888888888888,
              "#fdca26"
             ],
             [
              1,
              "#f0f921"
             ]
            ],
            "type": "contour"
           }
          ],
          "contourcarpet": [
           {
            "colorbar": {
             "outlinewidth": 0,
             "ticks": ""
            },
            "type": "contourcarpet"
           }
          ],
          "heatmap": [
           {
            "colorbar": {
             "outlinewidth": 0,
             "ticks": ""
            },
            "colorscale": [
             [
              0,
              "#0d0887"
             ],
             [
              0.1111111111111111,
              "#46039f"
             ],
             [
              0.2222222222222222,
              "#7201a8"
             ],
             [
              0.3333333333333333,
              "#9c179e"
             ],
             [
              0.4444444444444444,
              "#bd3786"
             ],
             [
              0.5555555555555556,
              "#d8576b"
             ],
             [
              0.6666666666666666,
              "#ed7953"
             ],
             [
              0.7777777777777778,
              "#fb9f3a"
             ],
             [
              0.8888888888888888,
              "#fdca26"
             ],
             [
              1,
              "#f0f921"
             ]
            ],
            "type": "heatmap"
           }
          ],
          "heatmapgl": [
           {
            "colorbar": {
             "outlinewidth": 0,
             "ticks": ""
            },
            "colorscale": [
             [
              0,
              "#0d0887"
             ],
             [
              0.1111111111111111,
              "#46039f"
             ],
             [
              0.2222222222222222,
              "#7201a8"
             ],
             [
              0.3333333333333333,
              "#9c179e"
             ],
             [
              0.4444444444444444,
              "#bd3786"
             ],
             [
              0.5555555555555556,
              "#d8576b"
             ],
             [
              0.6666666666666666,
              "#ed7953"
             ],
             [
              0.7777777777777778,
              "#fb9f3a"
             ],
             [
              0.8888888888888888,
              "#fdca26"
             ],
             [
              1,
              "#f0f921"
             ]
            ],
            "type": "heatmapgl"
           }
          ],
          "histogram": [
           {
            "marker": {
             "colorbar": {
              "outlinewidth": 0,
              "ticks": ""
             }
            },
            "type": "histogram"
           }
          ],
          "histogram2d": [
           {
            "colorbar": {
             "outlinewidth": 0,
             "ticks": ""
            },
            "colorscale": [
             [
              0,
              "#0d0887"
             ],
             [
              0.1111111111111111,
              "#46039f"
             ],
             [
              0.2222222222222222,
              "#7201a8"
             ],
             [
              0.3333333333333333,
              "#9c179e"
             ],
             [
              0.4444444444444444,
              "#bd3786"
             ],
             [
              0.5555555555555556,
              "#d8576b"
             ],
             [
              0.6666666666666666,
              "#ed7953"
             ],
             [
              0.7777777777777778,
              "#fb9f3a"
             ],
             [
              0.8888888888888888,
              "#fdca26"
             ],
             [
              1,
              "#f0f921"
             ]
            ],
            "type": "histogram2d"
           }
          ],
          "histogram2dcontour": [
           {
            "colorbar": {
             "outlinewidth": 0,
             "ticks": ""
            },
            "colorscale": [
             [
              0,
              "#0d0887"
             ],
             [
              0.1111111111111111,
              "#46039f"
             ],
             [
              0.2222222222222222,
              "#7201a8"
             ],
             [
              0.3333333333333333,
              "#9c179e"
             ],
             [
              0.4444444444444444,
              "#bd3786"
             ],
             [
              0.5555555555555556,
              "#d8576b"
             ],
             [
              0.6666666666666666,
              "#ed7953"
             ],
             [
              0.7777777777777778,
              "#fb9f3a"
             ],
             [
              0.8888888888888888,
              "#fdca26"
             ],
             [
              1,
              "#f0f921"
             ]
            ],
            "type": "histogram2dcontour"
           }
          ],
          "mesh3d": [
           {
            "colorbar": {
             "outlinewidth": 0,
             "ticks": ""
            },
            "type": "mesh3d"
           }
          ],
          "parcoords": [
           {
            "line": {
             "colorbar": {
              "outlinewidth": 0,
              "ticks": ""
             }
            },
            "type": "parcoords"
           }
          ],
          "pie": [
           {
            "automargin": true,
            "type": "pie"
           }
          ],
          "scatter": [
           {
            "marker": {
             "colorbar": {
              "outlinewidth": 0,
              "ticks": ""
             }
            },
            "type": "scatter"
           }
          ],
          "scatter3d": [
           {
            "line": {
             "colorbar": {
              "outlinewidth": 0,
              "ticks": ""
             }
            },
            "marker": {
             "colorbar": {
              "outlinewidth": 0,
              "ticks": ""
             }
            },
            "type": "scatter3d"
           }
          ],
          "scattercarpet": [
           {
            "marker": {
             "colorbar": {
              "outlinewidth": 0,
              "ticks": ""
             }
            },
            "type": "scattercarpet"
           }
          ],
          "scattergeo": [
           {
            "marker": {
             "colorbar": {
              "outlinewidth": 0,
              "ticks": ""
             }
            },
            "type": "scattergeo"
           }
          ],
          "scattergl": [
           {
            "marker": {
             "colorbar": {
              "outlinewidth": 0,
              "ticks": ""
             }
            },
            "type": "scattergl"
           }
          ],
          "scattermapbox": [
           {
            "marker": {
             "colorbar": {
              "outlinewidth": 0,
              "ticks": ""
             }
            },
            "type": "scattermapbox"
           }
          ],
          "scatterpolar": [
           {
            "marker": {
             "colorbar": {
              "outlinewidth": 0,
              "ticks": ""
             }
            },
            "type": "scatterpolar"
           }
          ],
          "scatterpolargl": [
           {
            "marker": {
             "colorbar": {
              "outlinewidth": 0,
              "ticks": ""
             }
            },
            "type": "scatterpolargl"
           }
          ],
          "scatterternary": [
           {
            "marker": {
             "colorbar": {
              "outlinewidth": 0,
              "ticks": ""
             }
            },
            "type": "scatterternary"
           }
          ],
          "surface": [
           {
            "colorbar": {
             "outlinewidth": 0,
             "ticks": ""
            },
            "colorscale": [
             [
              0,
              "#0d0887"
             ],
             [
              0.1111111111111111,
              "#46039f"
             ],
             [
              0.2222222222222222,
              "#7201a8"
             ],
             [
              0.3333333333333333,
              "#9c179e"
             ],
             [
              0.4444444444444444,
              "#bd3786"
             ],
             [
              0.5555555555555556,
              "#d8576b"
             ],
             [
              0.6666666666666666,
              "#ed7953"
             ],
             [
              0.7777777777777778,
              "#fb9f3a"
             ],
             [
              0.8888888888888888,
              "#fdca26"
             ],
             [
              1,
              "#f0f921"
             ]
            ],
            "type": "surface"
           }
          ],
          "table": [
           {
            "cells": {
             "fill": {
              "color": "#EBF0F8"
             },
             "line": {
              "color": "white"
             }
            },
            "header": {
             "fill": {
              "color": "#C8D4E3"
             },
             "line": {
              "color": "white"
             }
            },
            "type": "table"
           }
          ]
         },
         "layout": {
          "annotationdefaults": {
           "arrowcolor": "#2a3f5f",
           "arrowhead": 0,
           "arrowwidth": 1
          },
          "autotypenumbers": "strict",
          "coloraxis": {
           "colorbar": {
            "outlinewidth": 0,
            "ticks": ""
           }
          },
          "colorscale": {
           "diverging": [
            [
             0,
             "#8e0152"
            ],
            [
             0.1,
             "#c51b7d"
            ],
            [
             0.2,
             "#de77ae"
            ],
            [
             0.3,
             "#f1b6da"
            ],
            [
             0.4,
             "#fde0ef"
            ],
            [
             0.5,
             "#f7f7f7"
            ],
            [
             0.6,
             "#e6f5d0"
            ],
            [
             0.7,
             "#b8e186"
            ],
            [
             0.8,
             "#7fbc41"
            ],
            [
             0.9,
             "#4d9221"
            ],
            [
             1,
             "#276419"
            ]
           ],
           "sequential": [
            [
             0,
             "#0d0887"
            ],
            [
             0.1111111111111111,
             "#46039f"
            ],
            [
             0.2222222222222222,
             "#7201a8"
            ],
            [
             0.3333333333333333,
             "#9c179e"
            ],
            [
             0.4444444444444444,
             "#bd3786"
            ],
            [
             0.5555555555555556,
             "#d8576b"
            ],
            [
             0.6666666666666666,
             "#ed7953"
            ],
            [
             0.7777777777777778,
             "#fb9f3a"
            ],
            [
             0.8888888888888888,
             "#fdca26"
            ],
            [
             1,
             "#f0f921"
            ]
           ],
           "sequentialminus": [
            [
             0,
             "#0d0887"
            ],
            [
             0.1111111111111111,
             "#46039f"
            ],
            [
             0.2222222222222222,
             "#7201a8"
            ],
            [
             0.3333333333333333,
             "#9c179e"
            ],
            [
             0.4444444444444444,
             "#bd3786"
            ],
            [
             0.5555555555555556,
             "#d8576b"
            ],
            [
             0.6666666666666666,
             "#ed7953"
            ],
            [
             0.7777777777777778,
             "#fb9f3a"
            ],
            [
             0.8888888888888888,
             "#fdca26"
            ],
            [
             1,
             "#f0f921"
            ]
           ]
          },
          "colorway": [
           "#636efa",
           "#EF553B",
           "#00cc96",
           "#ab63fa",
           "#FFA15A",
           "#19d3f3",
           "#FF6692",
           "#B6E880",
           "#FF97FF",
           "#FECB52"
          ],
          "font": {
           "color": "#2a3f5f"
          },
          "geo": {
           "bgcolor": "white",
           "lakecolor": "white",
           "landcolor": "#E5ECF6",
           "showlakes": true,
           "showland": true,
           "subunitcolor": "white"
          },
          "hoverlabel": {
           "align": "left"
          },
          "hovermode": "closest",
          "mapbox": {
           "style": "light"
          },
          "paper_bgcolor": "white",
          "plot_bgcolor": "#E5ECF6",
          "polar": {
           "angularaxis": {
            "gridcolor": "white",
            "linecolor": "white",
            "ticks": ""
           },
           "bgcolor": "#E5ECF6",
           "radialaxis": {
            "gridcolor": "white",
            "linecolor": "white",
            "ticks": ""
           }
          },
          "scene": {
           "xaxis": {
            "backgroundcolor": "#E5ECF6",
            "gridcolor": "white",
            "gridwidth": 2,
            "linecolor": "white",
            "showbackground": true,
            "ticks": "",
            "zerolinecolor": "white"
           },
           "yaxis": {
            "backgroundcolor": "#E5ECF6",
            "gridcolor": "white",
            "gridwidth": 2,
            "linecolor": "white",
            "showbackground": true,
            "ticks": "",
            "zerolinecolor": "white"
           },
           "zaxis": {
            "backgroundcolor": "#E5ECF6",
            "gridcolor": "white",
            "gridwidth": 2,
            "linecolor": "white",
            "showbackground": true,
            "ticks": "",
            "zerolinecolor": "white"
           }
          },
          "shapedefaults": {
           "line": {
            "color": "#2a3f5f"
           }
          },
          "ternary": {
           "aaxis": {
            "gridcolor": "white",
            "linecolor": "white",
            "ticks": ""
           },
           "baxis": {
            "gridcolor": "white",
            "linecolor": "white",
            "ticks": ""
           },
           "bgcolor": "#E5ECF6",
           "caxis": {
            "gridcolor": "white",
            "linecolor": "white",
            "ticks": ""
           }
          },
          "title": {
           "x": 0.05
          },
          "xaxis": {
           "automargin": true,
           "gridcolor": "white",
           "linecolor": "white",
           "ticks": "",
           "title": {
            "standoff": 15
           },
           "zerolinecolor": "white",
           "zerolinewidth": 2
          },
          "yaxis": {
           "automargin": true,
           "gridcolor": "white",
           "linecolor": "white",
           "ticks": "",
           "title": {
            "standoff": 15
           },
           "zerolinecolor": "white",
           "zerolinewidth": 2
          }
         }
        }
       }
      },
      "text/html": [
       "<div>                            <div id=\"8fc7919a-292e-431d-9f01-b7daa4c48870\" class=\"plotly-graph-div\" style=\"height:525px; width:100%;\"></div>            <script type=\"text/javascript\">                require([\"plotly\"], function(Plotly) {                    window.PLOTLYENV=window.PLOTLYENV || {};                                    if (document.getElementById(\"8fc7919a-292e-431d-9f01-b7daa4c48870\")) {                    Plotly.newPlot(                        \"8fc7919a-292e-431d-9f01-b7daa4c48870\",                        [{\"text\": [\"negative\", \"neutral\", \"positive\"], \"title\": {\"position\": \"top center\", \"text\": \"Funnel-Chart of Sentiment Distribution\"}, \"type\": \"funnelarea\", \"values\": [9178, 3099, 2363]}],                        {\"template\": {\"data\": {\"bar\": [{\"error_x\": {\"color\": \"#2a3f5f\"}, \"error_y\": {\"color\": \"#2a3f5f\"}, \"marker\": {\"line\": {\"color\": \"#E5ECF6\", \"width\": 0.5}}, \"type\": \"bar\"}], \"barpolar\": [{\"marker\": {\"line\": {\"color\": \"#E5ECF6\", \"width\": 0.5}}, \"type\": \"barpolar\"}], \"carpet\": [{\"aaxis\": {\"endlinecolor\": \"#2a3f5f\", \"gridcolor\": \"white\", \"linecolor\": \"white\", \"minorgridcolor\": \"white\", \"startlinecolor\": \"#2a3f5f\"}, \"baxis\": {\"endlinecolor\": \"#2a3f5f\", \"gridcolor\": \"white\", \"linecolor\": \"white\", \"minorgridcolor\": \"white\", \"startlinecolor\": \"#2a3f5f\"}, \"type\": \"carpet\"}], \"choropleth\": [{\"colorbar\": {\"outlinewidth\": 0, \"ticks\": \"\"}, \"type\": \"choropleth\"}], \"contour\": [{\"colorbar\": {\"outlinewidth\": 0, \"ticks\": \"\"}, \"colorscale\": [[0.0, \"#0d0887\"], [0.1111111111111111, \"#46039f\"], [0.2222222222222222, \"#7201a8\"], [0.3333333333333333, \"#9c179e\"], [0.4444444444444444, \"#bd3786\"], [0.5555555555555556, \"#d8576b\"], [0.6666666666666666, \"#ed7953\"], [0.7777777777777778, \"#fb9f3a\"], [0.8888888888888888, \"#fdca26\"], [1.0, \"#f0f921\"]], \"type\": \"contour\"}], \"contourcarpet\": [{\"colorbar\": {\"outlinewidth\": 0, \"ticks\": \"\"}, \"type\": \"contourcarpet\"}], \"heatmap\": [{\"colorbar\": {\"outlinewidth\": 0, \"ticks\": \"\"}, \"colorscale\": [[0.0, \"#0d0887\"], [0.1111111111111111, \"#46039f\"], [0.2222222222222222, \"#7201a8\"], [0.3333333333333333, \"#9c179e\"], [0.4444444444444444, \"#bd3786\"], [0.5555555555555556, \"#d8576b\"], [0.6666666666666666, \"#ed7953\"], [0.7777777777777778, \"#fb9f3a\"], [0.8888888888888888, \"#fdca26\"], [1.0, \"#f0f921\"]], \"type\": \"heatmap\"}], \"heatmapgl\": [{\"colorbar\": {\"outlinewidth\": 0, \"ticks\": \"\"}, \"colorscale\": [[0.0, \"#0d0887\"], [0.1111111111111111, \"#46039f\"], [0.2222222222222222, \"#7201a8\"], [0.3333333333333333, \"#9c179e\"], [0.4444444444444444, \"#bd3786\"], [0.5555555555555556, \"#d8576b\"], [0.6666666666666666, \"#ed7953\"], [0.7777777777777778, \"#fb9f3a\"], [0.8888888888888888, \"#fdca26\"], [1.0, \"#f0f921\"]], \"type\": \"heatmapgl\"}], \"histogram\": [{\"marker\": {\"colorbar\": {\"outlinewidth\": 0, \"ticks\": \"\"}}, \"type\": \"histogram\"}], \"histogram2d\": [{\"colorbar\": {\"outlinewidth\": 0, \"ticks\": \"\"}, \"colorscale\": [[0.0, \"#0d0887\"], [0.1111111111111111, \"#46039f\"], [0.2222222222222222, \"#7201a8\"], [0.3333333333333333, \"#9c179e\"], [0.4444444444444444, \"#bd3786\"], [0.5555555555555556, \"#d8576b\"], [0.6666666666666666, \"#ed7953\"], [0.7777777777777778, \"#fb9f3a\"], [0.8888888888888888, \"#fdca26\"], [1.0, \"#f0f921\"]], \"type\": \"histogram2d\"}], \"histogram2dcontour\": [{\"colorbar\": {\"outlinewidth\": 0, \"ticks\": \"\"}, \"colorscale\": [[0.0, \"#0d0887\"], [0.1111111111111111, \"#46039f\"], [0.2222222222222222, \"#7201a8\"], [0.3333333333333333, \"#9c179e\"], [0.4444444444444444, \"#bd3786\"], [0.5555555555555556, \"#d8576b\"], [0.6666666666666666, \"#ed7953\"], [0.7777777777777778, \"#fb9f3a\"], [0.8888888888888888, \"#fdca26\"], [1.0, \"#f0f921\"]], \"type\": \"histogram2dcontour\"}], \"mesh3d\": [{\"colorbar\": {\"outlinewidth\": 0, \"ticks\": \"\"}, \"type\": \"mesh3d\"}], \"parcoords\": [{\"line\": {\"colorbar\": {\"outlinewidth\": 0, \"ticks\": \"\"}}, \"type\": \"parcoords\"}], \"pie\": [{\"automargin\": true, \"type\": \"pie\"}], \"scatter\": [{\"marker\": {\"colorbar\": {\"outlinewidth\": 0, \"ticks\": \"\"}}, \"type\": \"scatter\"}], \"scatter3d\": [{\"line\": {\"colorbar\": {\"outlinewidth\": 0, \"ticks\": \"\"}}, \"marker\": {\"colorbar\": {\"outlinewidth\": 0, \"ticks\": \"\"}}, \"type\": \"scatter3d\"}], \"scattercarpet\": [{\"marker\": {\"colorbar\": {\"outlinewidth\": 0, \"ticks\": \"\"}}, \"type\": \"scattercarpet\"}], \"scattergeo\": [{\"marker\": {\"colorbar\": {\"outlinewidth\": 0, \"ticks\": \"\"}}, \"type\": \"scattergeo\"}], \"scattergl\": [{\"marker\": {\"colorbar\": {\"outlinewidth\": 0, \"ticks\": \"\"}}, \"type\": \"scattergl\"}], \"scattermapbox\": [{\"marker\": {\"colorbar\": {\"outlinewidth\": 0, \"ticks\": \"\"}}, \"type\": \"scattermapbox\"}], \"scatterpolar\": [{\"marker\": {\"colorbar\": {\"outlinewidth\": 0, \"ticks\": \"\"}}, \"type\": \"scatterpolar\"}], \"scatterpolargl\": [{\"marker\": {\"colorbar\": {\"outlinewidth\": 0, \"ticks\": \"\"}}, \"type\": \"scatterpolargl\"}], \"scatterternary\": [{\"marker\": {\"colorbar\": {\"outlinewidth\": 0, \"ticks\": \"\"}}, \"type\": \"scatterternary\"}], \"surface\": [{\"colorbar\": {\"outlinewidth\": 0, \"ticks\": \"\"}, \"colorscale\": [[0.0, \"#0d0887\"], [0.1111111111111111, \"#46039f\"], [0.2222222222222222, \"#7201a8\"], [0.3333333333333333, \"#9c179e\"], [0.4444444444444444, \"#bd3786\"], [0.5555555555555556, \"#d8576b\"], [0.6666666666666666, \"#ed7953\"], [0.7777777777777778, \"#fb9f3a\"], [0.8888888888888888, \"#fdca26\"], [1.0, \"#f0f921\"]], \"type\": \"surface\"}], \"table\": [{\"cells\": {\"fill\": {\"color\": \"#EBF0F8\"}, \"line\": {\"color\": \"white\"}}, \"header\": {\"fill\": {\"color\": \"#C8D4E3\"}, \"line\": {\"color\": \"white\"}}, \"type\": \"table\"}]}, \"layout\": {\"annotationdefaults\": {\"arrowcolor\": \"#2a3f5f\", \"arrowhead\": 0, \"arrowwidth\": 1}, \"autotypenumbers\": \"strict\", \"coloraxis\": {\"colorbar\": {\"outlinewidth\": 0, \"ticks\": \"\"}}, \"colorscale\": {\"diverging\": [[0, \"#8e0152\"], [0.1, \"#c51b7d\"], [0.2, \"#de77ae\"], [0.3, \"#f1b6da\"], [0.4, \"#fde0ef\"], [0.5, \"#f7f7f7\"], [0.6, \"#e6f5d0\"], [0.7, \"#b8e186\"], [0.8, \"#7fbc41\"], [0.9, \"#4d9221\"], [1, \"#276419\"]], \"sequential\": [[0.0, \"#0d0887\"], [0.1111111111111111, \"#46039f\"], [0.2222222222222222, \"#7201a8\"], [0.3333333333333333, \"#9c179e\"], [0.4444444444444444, \"#bd3786\"], [0.5555555555555556, \"#d8576b\"], [0.6666666666666666, \"#ed7953\"], [0.7777777777777778, \"#fb9f3a\"], [0.8888888888888888, \"#fdca26\"], [1.0, \"#f0f921\"]], \"sequentialminus\": [[0.0, \"#0d0887\"], [0.1111111111111111, \"#46039f\"], [0.2222222222222222, \"#7201a8\"], [0.3333333333333333, \"#9c179e\"], [0.4444444444444444, \"#bd3786\"], [0.5555555555555556, \"#d8576b\"], [0.6666666666666666, \"#ed7953\"], [0.7777777777777778, \"#fb9f3a\"], [0.8888888888888888, \"#fdca26\"], [1.0, \"#f0f921\"]]}, \"colorway\": [\"#636efa\", \"#EF553B\", \"#00cc96\", \"#ab63fa\", \"#FFA15A\", \"#19d3f3\", \"#FF6692\", \"#B6E880\", \"#FF97FF\", \"#FECB52\"], \"font\": {\"color\": \"#2a3f5f\"}, \"geo\": {\"bgcolor\": \"white\", \"lakecolor\": \"white\", \"landcolor\": \"#E5ECF6\", \"showlakes\": true, \"showland\": true, \"subunitcolor\": \"white\"}, \"hoverlabel\": {\"align\": \"left\"}, \"hovermode\": \"closest\", \"mapbox\": {\"style\": \"light\"}, \"paper_bgcolor\": \"white\", \"plot_bgcolor\": \"#E5ECF6\", \"polar\": {\"angularaxis\": {\"gridcolor\": \"white\", \"linecolor\": \"white\", \"ticks\": \"\"}, \"bgcolor\": \"#E5ECF6\", \"radialaxis\": {\"gridcolor\": \"white\", \"linecolor\": \"white\", \"ticks\": \"\"}}, \"scene\": {\"xaxis\": {\"backgroundcolor\": \"#E5ECF6\", \"gridcolor\": \"white\", \"gridwidth\": 2, \"linecolor\": \"white\", \"showbackground\": true, \"ticks\": \"\", \"zerolinecolor\": \"white\"}, \"yaxis\": {\"backgroundcolor\": \"#E5ECF6\", \"gridcolor\": \"white\", \"gridwidth\": 2, \"linecolor\": \"white\", \"showbackground\": true, \"ticks\": \"\", \"zerolinecolor\": \"white\"}, \"zaxis\": {\"backgroundcolor\": \"#E5ECF6\", \"gridcolor\": \"white\", \"gridwidth\": 2, \"linecolor\": \"white\", \"showbackground\": true, \"ticks\": \"\", \"zerolinecolor\": \"white\"}}, \"shapedefaults\": {\"line\": {\"color\": \"#2a3f5f\"}}, \"ternary\": {\"aaxis\": {\"gridcolor\": \"white\", \"linecolor\": \"white\", \"ticks\": \"\"}, \"baxis\": {\"gridcolor\": \"white\", \"linecolor\": \"white\", \"ticks\": \"\"}, \"bgcolor\": \"#E5ECF6\", \"caxis\": {\"gridcolor\": \"white\", \"linecolor\": \"white\", \"ticks\": \"\"}}, \"title\": {\"x\": 0.05}, \"xaxis\": {\"automargin\": true, \"gridcolor\": \"white\", \"linecolor\": \"white\", \"ticks\": \"\", \"title\": {\"standoff\": 15}, \"zerolinecolor\": \"white\", \"zerolinewidth\": 2}, \"yaxis\": {\"automargin\": true, \"gridcolor\": \"white\", \"linecolor\": \"white\", \"ticks\": \"\", \"title\": {\"standoff\": 15}, \"zerolinecolor\": \"white\", \"zerolinewidth\": 2}}}},                        {\"responsive\": true}                    ).then(function(){\n",
       "                            \n",
       "var gd = document.getElementById('8fc7919a-292e-431d-9f01-b7daa4c48870');\n",
       "var x = new MutationObserver(function (mutations, observer) {{\n",
       "        var display = window.getComputedStyle(gd).display;\n",
       "        if (!display || display === 'none') {{\n",
       "            console.log([gd, 'removed!']);\n",
       "            Plotly.purge(gd);\n",
       "            observer.disconnect();\n",
       "        }}\n",
       "}});\n",
       "\n",
       "// Listen for the removal of the full notebook cells\n",
       "var notebookContainer = gd.closest('#notebook-container');\n",
       "if (notebookContainer) {{\n",
       "    x.observe(notebookContainer, {childList: true});\n",
       "}}\n",
       "\n",
       "// Listen for the clearing of the current output cell\n",
       "var outputEl = gd.closest('.output');\n",
       "if (outputEl) {{\n",
       "    x.observe(outputEl, {childList: true});\n",
       "}}\n",
       "\n",
       "                        })                };                });            </script>        </div>"
      ]
     },
     "metadata": {},
     "output_type": "display_data"
    }
   ],
   "source": [
    "fig = go.Figure(go.Funnelarea(\n",
    "    text =temp.airline_sentiment,\n",
    "    values = temp.text,\n",
    "    title = {\"position\": \"top center\", \"text\": \"Funnel-Chart of Sentiment Distribution\"}\n",
    "    ))\n",
    "fig.show()"
   ]
  },
  {
   "cell_type": "code",
   "execution_count": 62,
   "metadata": {},
   "outputs": [],
   "source": [
    "def jaccard(str1, str2): \n",
    "    a = set(str1.lower().split()) \n",
    "    b = set(str2.lower().split())\n",
    "    c = a.intersection(b)\n",
    "    return float(len(c)) / (len(a) + len(b) - len(c))"
   ]
  },
  {
   "cell_type": "code",
   "execution_count": 63,
   "metadata": {},
   "outputs": [
    {
     "ename": "AttributeError",
     "evalue": "'Series' object has no attribute 'selected_text'",
     "output_type": "error",
     "traceback": [
      "\u001b[1;31m---------------------------------------------------------------------------\u001b[0m",
      "\u001b[1;31mAttributeError\u001b[0m                            Traceback (most recent call last)",
      "\u001b[1;32m<ipython-input-63-c35b8614691d>\u001b[0m in \u001b[0;36m<module>\u001b[1;34m\u001b[0m\n\u001b[0;32m      3\u001b[0m \u001b[1;32mfor\u001b[0m \u001b[0mind\u001b[0m\u001b[1;33m,\u001b[0m\u001b[0mrow\u001b[0m \u001b[1;32min\u001b[0m \u001b[0mtrain\u001b[0m\u001b[1;33m.\u001b[0m\u001b[0miterrows\u001b[0m\u001b[1;33m(\u001b[0m\u001b[1;33m)\u001b[0m\u001b[1;33m:\u001b[0m\u001b[1;33m\u001b[0m\u001b[1;33m\u001b[0m\u001b[0m\n\u001b[0;32m      4\u001b[0m     \u001b[0msentence1\u001b[0m \u001b[1;33m=\u001b[0m \u001b[0mrow\u001b[0m\u001b[1;33m.\u001b[0m\u001b[0mtext\u001b[0m\u001b[1;33m\u001b[0m\u001b[1;33m\u001b[0m\u001b[0m\n\u001b[1;32m----> 5\u001b[1;33m     \u001b[0msentence2\u001b[0m \u001b[1;33m=\u001b[0m \u001b[0mrow\u001b[0m\u001b[1;33m.\u001b[0m\u001b[0mselected_text\u001b[0m\u001b[1;33m\u001b[0m\u001b[1;33m\u001b[0m\u001b[0m\n\u001b[0m\u001b[0;32m      6\u001b[0m \u001b[1;33m\u001b[0m\u001b[0m\n\u001b[0;32m      7\u001b[0m     \u001b[0mjaccard_score\u001b[0m \u001b[1;33m=\u001b[0m \u001b[0mjaccard\u001b[0m\u001b[1;33m(\u001b[0m\u001b[0msentence1\u001b[0m\u001b[1;33m,\u001b[0m\u001b[0msentence2\u001b[0m\u001b[1;33m)\u001b[0m\u001b[1;33m\u001b[0m\u001b[1;33m\u001b[0m\u001b[0m\n",
      "\u001b[1;32mG:\\Anaconda_install\\lib\\site-packages\\pandas\\core\\generic.py\u001b[0m in \u001b[0;36m__getattr__\u001b[1;34m(self, name)\u001b[0m\n\u001b[0;32m   5463\u001b[0m             \u001b[1;32mif\u001b[0m \u001b[0mself\u001b[0m\u001b[1;33m.\u001b[0m\u001b[0m_info_axis\u001b[0m\u001b[1;33m.\u001b[0m\u001b[0m_can_hold_identifiers_and_holds_name\u001b[0m\u001b[1;33m(\u001b[0m\u001b[0mname\u001b[0m\u001b[1;33m)\u001b[0m\u001b[1;33m:\u001b[0m\u001b[1;33m\u001b[0m\u001b[1;33m\u001b[0m\u001b[0m\n\u001b[0;32m   5464\u001b[0m                 \u001b[1;32mreturn\u001b[0m \u001b[0mself\u001b[0m\u001b[1;33m[\u001b[0m\u001b[0mname\u001b[0m\u001b[1;33m]\u001b[0m\u001b[1;33m\u001b[0m\u001b[1;33m\u001b[0m\u001b[0m\n\u001b[1;32m-> 5465\u001b[1;33m             \u001b[1;32mreturn\u001b[0m \u001b[0mobject\u001b[0m\u001b[1;33m.\u001b[0m\u001b[0m__getattribute__\u001b[0m\u001b[1;33m(\u001b[0m\u001b[0mself\u001b[0m\u001b[1;33m,\u001b[0m \u001b[0mname\u001b[0m\u001b[1;33m)\u001b[0m\u001b[1;33m\u001b[0m\u001b[1;33m\u001b[0m\u001b[0m\n\u001b[0m\u001b[0;32m   5466\u001b[0m \u001b[1;33m\u001b[0m\u001b[0m\n\u001b[0;32m   5467\u001b[0m     \u001b[1;32mdef\u001b[0m \u001b[0m__setattr__\u001b[0m\u001b[1;33m(\u001b[0m\u001b[0mself\u001b[0m\u001b[1;33m,\u001b[0m \u001b[0mname\u001b[0m\u001b[1;33m:\u001b[0m \u001b[0mstr\u001b[0m\u001b[1;33m,\u001b[0m \u001b[0mvalue\u001b[0m\u001b[1;33m)\u001b[0m \u001b[1;33m->\u001b[0m \u001b[1;32mNone\u001b[0m\u001b[1;33m:\u001b[0m\u001b[1;33m\u001b[0m\u001b[1;33m\u001b[0m\u001b[0m\n",
      "\u001b[1;31mAttributeError\u001b[0m: 'Series' object has no attribute 'selected_text'"
     ]
    }
   ],
   "source": [
    "results_jaccard=[]\n",
    "\n",
    "for ind,row in train.iterrows():\n",
    "    sentence1 = row.text\n",
    "    sentence2 = row.selected_text\n",
    "\n",
    "    jaccard_score = jaccard(sentence1,sentence2)\n",
    "    results_jaccard.append([sentence1,sentence2,jaccard_score])"
   ]
  },
  {
   "cell_type": "code",
   "execution_count": 59,
   "metadata": {},
   "outputs": [
    {
     "ename": "KeyError",
     "evalue": "'selected_text'",
     "output_type": "error",
     "traceback": [
      "\u001b[1;31m---------------------------------------------------------------------------\u001b[0m",
      "\u001b[1;31mKeyError\u001b[0m                                  Traceback (most recent call last)",
      "\u001b[1;32mG:\\Anaconda_install\\lib\\site-packages\\pandas\\core\\indexes\\base.py\u001b[0m in \u001b[0;36mget_loc\u001b[1;34m(self, key, method, tolerance)\u001b[0m\n\u001b[0;32m   3079\u001b[0m             \u001b[1;32mtry\u001b[0m\u001b[1;33m:\u001b[0m\u001b[1;33m\u001b[0m\u001b[1;33m\u001b[0m\u001b[0m\n\u001b[1;32m-> 3080\u001b[1;33m                 \u001b[1;32mreturn\u001b[0m \u001b[0mself\u001b[0m\u001b[1;33m.\u001b[0m\u001b[0m_engine\u001b[0m\u001b[1;33m.\u001b[0m\u001b[0mget_loc\u001b[0m\u001b[1;33m(\u001b[0m\u001b[0mcasted_key\u001b[0m\u001b[1;33m)\u001b[0m\u001b[1;33m\u001b[0m\u001b[1;33m\u001b[0m\u001b[0m\n\u001b[0m\u001b[0;32m   3081\u001b[0m             \u001b[1;32mexcept\u001b[0m \u001b[0mKeyError\u001b[0m \u001b[1;32mas\u001b[0m \u001b[0merr\u001b[0m\u001b[1;33m:\u001b[0m\u001b[1;33m\u001b[0m\u001b[1;33m\u001b[0m\u001b[0m\n",
      "\u001b[1;32mpandas\\_libs\\index.pyx\u001b[0m in \u001b[0;36mpandas._libs.index.IndexEngine.get_loc\u001b[1;34m()\u001b[0m\n",
      "\u001b[1;32mpandas\\_libs\\index.pyx\u001b[0m in \u001b[0;36mpandas._libs.index.IndexEngine.get_loc\u001b[1;34m()\u001b[0m\n",
      "\u001b[1;32mpandas\\_libs\\hashtable_class_helper.pxi\u001b[0m in \u001b[0;36mpandas._libs.hashtable.PyObjectHashTable.get_item\u001b[1;34m()\u001b[0m\n",
      "\u001b[1;32mpandas\\_libs\\hashtable_class_helper.pxi\u001b[0m in \u001b[0;36mpandas._libs.hashtable.PyObjectHashTable.get_item\u001b[1;34m()\u001b[0m\n",
      "\u001b[1;31mKeyError\u001b[0m: 'selected_text'",
      "\nThe above exception was the direct cause of the following exception:\n",
      "\u001b[1;31mKeyError\u001b[0m                                  Traceback (most recent call last)",
      "\u001b[1;32m<ipython-input-59-63d4ee3c238d>\u001b[0m in \u001b[0;36m<module>\u001b[1;34m\u001b[0m\n\u001b[1;32m----> 1\u001b[1;33m \u001b[0mtrain\u001b[0m\u001b[1;33m[\u001b[0m\u001b[1;34m'temp_list'\u001b[0m\u001b[1;33m]\u001b[0m \u001b[1;33m=\u001b[0m \u001b[0mtrain\u001b[0m\u001b[1;33m[\u001b[0m\u001b[1;34m'selected_text'\u001b[0m\u001b[1;33m]\u001b[0m\u001b[1;33m.\u001b[0m\u001b[0mapply\u001b[0m\u001b[1;33m(\u001b[0m\u001b[1;32mlambda\u001b[0m \u001b[0mx\u001b[0m\u001b[1;33m:\u001b[0m\u001b[0mstr\u001b[0m\u001b[1;33m(\u001b[0m\u001b[0mx\u001b[0m\u001b[1;33m)\u001b[0m\u001b[1;33m.\u001b[0m\u001b[0msplit\u001b[0m\u001b[1;33m(\u001b[0m\u001b[1;33m)\u001b[0m\u001b[1;33m)\u001b[0m\u001b[1;33m\u001b[0m\u001b[1;33m\u001b[0m\u001b[0m\n\u001b[0m\u001b[0;32m      2\u001b[0m \u001b[0mtop\u001b[0m \u001b[1;33m=\u001b[0m \u001b[0mCounter\u001b[0m\u001b[1;33m(\u001b[0m\u001b[1;33m[\u001b[0m\u001b[0mitem\u001b[0m \u001b[1;32mfor\u001b[0m \u001b[0msublist\u001b[0m \u001b[1;32min\u001b[0m \u001b[0mtrain\u001b[0m\u001b[1;33m[\u001b[0m\u001b[1;34m'temp_list'\u001b[0m\u001b[1;33m]\u001b[0m \u001b[1;32mfor\u001b[0m \u001b[0mitem\u001b[0m \u001b[1;32min\u001b[0m \u001b[0msublist\u001b[0m\u001b[1;33m]\u001b[0m\u001b[1;33m)\u001b[0m\u001b[1;33m\u001b[0m\u001b[1;33m\u001b[0m\u001b[0m\n\u001b[0;32m      3\u001b[0m \u001b[0mtemp\u001b[0m \u001b[1;33m=\u001b[0m \u001b[0mpd\u001b[0m\u001b[1;33m.\u001b[0m\u001b[0mDataFrame\u001b[0m\u001b[1;33m(\u001b[0m\u001b[0mtop\u001b[0m\u001b[1;33m.\u001b[0m\u001b[0mmost_common\u001b[0m\u001b[1;33m(\u001b[0m\u001b[1;36m20\u001b[0m\u001b[1;33m)\u001b[0m\u001b[1;33m)\u001b[0m\u001b[1;33m\u001b[0m\u001b[1;33m\u001b[0m\u001b[0m\n\u001b[0;32m      4\u001b[0m \u001b[0mtemp\u001b[0m\u001b[1;33m.\u001b[0m\u001b[0mcolumns\u001b[0m \u001b[1;33m=\u001b[0m \u001b[1;33m[\u001b[0m\u001b[1;34m'Common_words'\u001b[0m\u001b[1;33m,\u001b[0m\u001b[1;34m'count'\u001b[0m\u001b[1;33m]\u001b[0m\u001b[1;33m\u001b[0m\u001b[1;33m\u001b[0m\u001b[0m\n\u001b[0;32m      5\u001b[0m \u001b[0mtemp\u001b[0m\u001b[1;33m.\u001b[0m\u001b[0mstyle\u001b[0m\u001b[1;33m.\u001b[0m\u001b[0mbackground_gradient\u001b[0m\u001b[1;33m(\u001b[0m\u001b[0mcmap\u001b[0m\u001b[1;33m=\u001b[0m\u001b[1;34m'Blues'\u001b[0m\u001b[1;33m)\u001b[0m\u001b[1;33m\u001b[0m\u001b[1;33m\u001b[0m\u001b[0m\n",
      "\u001b[1;32mG:\\Anaconda_install\\lib\\site-packages\\pandas\\core\\frame.py\u001b[0m in \u001b[0;36m__getitem__\u001b[1;34m(self, key)\u001b[0m\n\u001b[0;32m   3022\u001b[0m             \u001b[1;32mif\u001b[0m \u001b[0mself\u001b[0m\u001b[1;33m.\u001b[0m\u001b[0mcolumns\u001b[0m\u001b[1;33m.\u001b[0m\u001b[0mnlevels\u001b[0m \u001b[1;33m>\u001b[0m \u001b[1;36m1\u001b[0m\u001b[1;33m:\u001b[0m\u001b[1;33m\u001b[0m\u001b[1;33m\u001b[0m\u001b[0m\n\u001b[0;32m   3023\u001b[0m                 \u001b[1;32mreturn\u001b[0m \u001b[0mself\u001b[0m\u001b[1;33m.\u001b[0m\u001b[0m_getitem_multilevel\u001b[0m\u001b[1;33m(\u001b[0m\u001b[0mkey\u001b[0m\u001b[1;33m)\u001b[0m\u001b[1;33m\u001b[0m\u001b[1;33m\u001b[0m\u001b[0m\n\u001b[1;32m-> 3024\u001b[1;33m             \u001b[0mindexer\u001b[0m \u001b[1;33m=\u001b[0m \u001b[0mself\u001b[0m\u001b[1;33m.\u001b[0m\u001b[0mcolumns\u001b[0m\u001b[1;33m.\u001b[0m\u001b[0mget_loc\u001b[0m\u001b[1;33m(\u001b[0m\u001b[0mkey\u001b[0m\u001b[1;33m)\u001b[0m\u001b[1;33m\u001b[0m\u001b[1;33m\u001b[0m\u001b[0m\n\u001b[0m\u001b[0;32m   3025\u001b[0m             \u001b[1;32mif\u001b[0m \u001b[0mis_integer\u001b[0m\u001b[1;33m(\u001b[0m\u001b[0mindexer\u001b[0m\u001b[1;33m)\u001b[0m\u001b[1;33m:\u001b[0m\u001b[1;33m\u001b[0m\u001b[1;33m\u001b[0m\u001b[0m\n\u001b[0;32m   3026\u001b[0m                 \u001b[0mindexer\u001b[0m \u001b[1;33m=\u001b[0m \u001b[1;33m[\u001b[0m\u001b[0mindexer\u001b[0m\u001b[1;33m]\u001b[0m\u001b[1;33m\u001b[0m\u001b[1;33m\u001b[0m\u001b[0m\n",
      "\u001b[1;32mG:\\Anaconda_install\\lib\\site-packages\\pandas\\core\\indexes\\base.py\u001b[0m in \u001b[0;36mget_loc\u001b[1;34m(self, key, method, tolerance)\u001b[0m\n\u001b[0;32m   3080\u001b[0m                 \u001b[1;32mreturn\u001b[0m \u001b[0mself\u001b[0m\u001b[1;33m.\u001b[0m\u001b[0m_engine\u001b[0m\u001b[1;33m.\u001b[0m\u001b[0mget_loc\u001b[0m\u001b[1;33m(\u001b[0m\u001b[0mcasted_key\u001b[0m\u001b[1;33m)\u001b[0m\u001b[1;33m\u001b[0m\u001b[1;33m\u001b[0m\u001b[0m\n\u001b[0;32m   3081\u001b[0m             \u001b[1;32mexcept\u001b[0m \u001b[0mKeyError\u001b[0m \u001b[1;32mas\u001b[0m \u001b[0merr\u001b[0m\u001b[1;33m:\u001b[0m\u001b[1;33m\u001b[0m\u001b[1;33m\u001b[0m\u001b[0m\n\u001b[1;32m-> 3082\u001b[1;33m                 \u001b[1;32mraise\u001b[0m \u001b[0mKeyError\u001b[0m\u001b[1;33m(\u001b[0m\u001b[0mkey\u001b[0m\u001b[1;33m)\u001b[0m \u001b[1;32mfrom\u001b[0m \u001b[0merr\u001b[0m\u001b[1;33m\u001b[0m\u001b[1;33m\u001b[0m\u001b[0m\n\u001b[0m\u001b[0;32m   3083\u001b[0m \u001b[1;33m\u001b[0m\u001b[0m\n\u001b[0;32m   3084\u001b[0m         \u001b[1;32mif\u001b[0m \u001b[0mtolerance\u001b[0m \u001b[1;32mis\u001b[0m \u001b[1;32mnot\u001b[0m \u001b[1;32mNone\u001b[0m\u001b[1;33m:\u001b[0m\u001b[1;33m\u001b[0m\u001b[1;33m\u001b[0m\u001b[0m\n",
      "\u001b[1;31mKeyError\u001b[0m: 'selected_text'"
     ]
    }
   ],
   "source": [
    "train['temp_list'] = train['selected_text'].apply(lambda x:str(x).split())\n",
    "top = Counter([item for sublist in train['temp_list'] for item in sublist])\n",
    "temp = pd.DataFrame(top.most_common(20))\n",
    "temp.columns = ['Common_words','count']\n",
    "temp.style.background_gradient(cmap='Blues')"
   ]
  },
  {
   "cell_type": "code",
   "execution_count": null,
   "metadata": {},
   "outputs": [],
   "source": []
  },
  {
   "cell_type": "code",
   "execution_count": 52,
   "metadata": {},
   "outputs": [
    {
     "data": {
      "text/plain": [
       "<bound method IndexOpsMixin.value_counts of 0                    @VirginAmerica What @dhepburn said.\n",
       "1      @VirginAmerica plus you've added commercials t...\n",
       "2      @VirginAmerica I didn't today... Must mean I n...\n",
       "3      @VirginAmerica it's really aggressive to blast...\n",
       "4      @VirginAmerica and it's a really big bad thing...\n",
       "                             ...                        \n",
       "499    @VirginAmerica morning. If I have a question r...\n",
       "500    @VirginAmerica still waiting to see  @Starryey...\n",
       "501    @VirginAmerica was wondering if you guys recie...\n",
       "502    @VirginAmerica Flying LAX to SFO and after loo...\n",
       "503    “@VirginAmerica: Book out of town with fares f...\n",
       "Name: text, Length: 504, dtype: object>"
      ]
     },
     "execution_count": 52,
     "metadata": {},
     "output_type": "execute_result"
    }
   ],
   "source": [
    "Virgin_America"
   ]
  },
  {
   "cell_type": "code",
   "execution_count": 13,
   "metadata": {},
   "outputs": [
    {
     "data": {
      "text/plain": [
       "<bound method Series.unique of 0        Virgin America\n",
       "1        Virgin America\n",
       "2        Virgin America\n",
       "3        Virgin America\n",
       "4        Virgin America\n",
       "              ...      \n",
       "14635          American\n",
       "14636          American\n",
       "14637          American\n",
       "14638          American\n",
       "14639          American\n",
       "Name: airline, Length: 14640, dtype: object>"
      ]
     },
     "execution_count": 13,
     "metadata": {},
     "output_type": "execute_result"
    }
   ],
   "source": [
    "train['airline'].unique"
   ]
  },
  {
   "cell_type": "code",
   "execution_count": 47,
   "metadata": {},
   "outputs": [
    {
     "data": {
      "text/plain": [
       "airline_sentiment    object\n",
       "airline              object\n",
       "text                 object\n",
       "dtype: object"
      ]
     },
     "execution_count": 47,
     "metadata": {},
     "output_type": "execute_result"
    }
   ],
   "source": [
    "train.dtypes"
   ]
  },
  {
   "cell_type": "code",
   "execution_count": 48,
   "metadata": {},
   "outputs": [
    {
     "data": {
      "text/html": [
       "<div>\n",
       "<style scoped>\n",
       "    .dataframe tbody tr th:only-of-type {\n",
       "        vertical-align: middle;\n",
       "    }\n",
       "\n",
       "    .dataframe tbody tr th {\n",
       "        vertical-align: top;\n",
       "    }\n",
       "\n",
       "    .dataframe thead th {\n",
       "        text-align: right;\n",
       "    }\n",
       "</style>\n",
       "<table border=\"1\" class=\"dataframe\">\n",
       "  <thead>\n",
       "    <tr style=\"text-align: right;\">\n",
       "      <th></th>\n",
       "      <th>word_count</th>\n",
       "      <th>char_count</th>\n",
       "      <th>word_density</th>\n",
       "    </tr>\n",
       "  </thead>\n",
       "  <tbody>\n",
       "    <tr>\n",
       "      <th>0</th>\n",
       "      <td>4</td>\n",
       "      <td>32</td>\n",
       "      <td>0.121212</td>\n",
       "    </tr>\n",
       "    <tr>\n",
       "      <th>1</th>\n",
       "      <td>9</td>\n",
       "      <td>64</td>\n",
       "      <td>0.138462</td>\n",
       "    </tr>\n",
       "    <tr>\n",
       "      <th>2</th>\n",
       "      <td>12</td>\n",
       "      <td>60</td>\n",
       "      <td>0.196721</td>\n",
       "    </tr>\n",
       "    <tr>\n",
       "      <th>3</th>\n",
       "      <td>17</td>\n",
       "      <td>110</td>\n",
       "      <td>0.153153</td>\n",
       "    </tr>\n",
       "    <tr>\n",
       "      <th>4</th>\n",
       "      <td>10</td>\n",
       "      <td>46</td>\n",
       "      <td>0.212766</td>\n",
       "    </tr>\n",
       "    <tr>\n",
       "      <th>...</th>\n",
       "      <td>...</td>\n",
       "      <td>...</td>\n",
       "      <td>...</td>\n",
       "    </tr>\n",
       "    <tr>\n",
       "      <th>4995</th>\n",
       "      <td>5</td>\n",
       "      <td>32</td>\n",
       "      <td>0.151515</td>\n",
       "    </tr>\n",
       "    <tr>\n",
       "      <th>4996</th>\n",
       "      <td>29</td>\n",
       "      <td>103</td>\n",
       "      <td>0.278846</td>\n",
       "    </tr>\n",
       "    <tr>\n",
       "      <th>4997</th>\n",
       "      <td>15</td>\n",
       "      <td>88</td>\n",
       "      <td>0.168539</td>\n",
       "    </tr>\n",
       "    <tr>\n",
       "      <th>4998</th>\n",
       "      <td>17</td>\n",
       "      <td>120</td>\n",
       "      <td>0.140496</td>\n",
       "    </tr>\n",
       "    <tr>\n",
       "      <th>4999</th>\n",
       "      <td>24</td>\n",
       "      <td>131</td>\n",
       "      <td>0.181818</td>\n",
       "    </tr>\n",
       "  </tbody>\n",
       "</table>\n",
       "<p>5000 rows × 3 columns</p>\n",
       "</div>"
      ],
      "text/plain": [
       "      word_count  char_count  word_density\n",
       "0              4          32      0.121212\n",
       "1              9          64      0.138462\n",
       "2             12          60      0.196721\n",
       "3             17         110      0.153153\n",
       "4             10          46      0.212766\n",
       "...          ...         ...           ...\n",
       "4995           5          32      0.151515\n",
       "4996          29         103      0.278846\n",
       "4997          15          88      0.168539\n",
       "4998          17         120      0.140496\n",
       "4999          24         131      0.181818\n",
       "\n",
       "[5000 rows x 3 columns]"
      ]
     },
     "execution_count": 48,
     "metadata": {},
     "output_type": "execute_result"
    }
   ],
   "source": [
    "train['word_count'] = train['text'].apply(lambda x : len(x.split()))\n",
    "train['char_count'] = train['text'].apply(lambda x : len(x.replace(\" \",\"\")))\n",
    "train['word_density'] = train['word_count'] / (train['char_count'] + 1)\n",
    "#train['text'] = train['text'].apply(lambda x : len([a for a in x if a in text]))\n",
    "\n",
    "train[['word_count', 'char_count', 'word_density']].head(5000)"
   ]
  },
  {
   "cell_type": "code",
   "execution_count": 49,
   "metadata": {},
   "outputs": [
    {
     "data": {
      "application/vnd.plotly.v1+json": {
       "config": {
        "linkText": "Export to plot.ly",
        "plotlyServerURL": "https://plot.ly",
        "showLink": false
       },
       "data": [
        {
         "marker": {
          "color": [
           3822,
           2913,
           2759,
           2420,
           2222,
           504
          ],
          "colorscale": [
           [
            0,
            "rgb(0,0,131)"
           ],
           [
            0.2,
            "rgb(0,60,170)"
           ],
           [
            0.4,
            "rgb(5,255,255)"
           ],
           [
            0.6,
            "rgb(255,255,0)"
           ],
           [
            0.8,
            "rgb(250,0,0)"
           ],
           [
            1,
            "rgb(128,0,0)"
           ]
          ]
         },
         "text": "Text entries attributed to airline",
         "type": "bar",
         "x": [
          "Delta",
          "US Airways",
          "American",
          null
         ],
         "y": [
          3822,
          2913,
          2759,
          2420,
          2222,
          504
         ]
        }
       ],
       "layout": {
        "template": {
         "data": {
          "bar": [
           {
            "error_x": {
             "color": "#2a3f5f"
            },
            "error_y": {
             "color": "#2a3f5f"
            },
            "marker": {
             "line": {
              "color": "#E5ECF6",
              "width": 0.5
             }
            },
            "type": "bar"
           }
          ],
          "barpolar": [
           {
            "marker": {
             "line": {
              "color": "#E5ECF6",
              "width": 0.5
             }
            },
            "type": "barpolar"
           }
          ],
          "carpet": [
           {
            "aaxis": {
             "endlinecolor": "#2a3f5f",
             "gridcolor": "white",
             "linecolor": "white",
             "minorgridcolor": "white",
             "startlinecolor": "#2a3f5f"
            },
            "baxis": {
             "endlinecolor": "#2a3f5f",
             "gridcolor": "white",
             "linecolor": "white",
             "minorgridcolor": "white",
             "startlinecolor": "#2a3f5f"
            },
            "type": "carpet"
           }
          ],
          "choropleth": [
           {
            "colorbar": {
             "outlinewidth": 0,
             "ticks": ""
            },
            "type": "choropleth"
           }
          ],
          "contour": [
           {
            "colorbar": {
             "outlinewidth": 0,
             "ticks": ""
            },
            "colorscale": [
             [
              0,
              "#0d0887"
             ],
             [
              0.1111111111111111,
              "#46039f"
             ],
             [
              0.2222222222222222,
              "#7201a8"
             ],
             [
              0.3333333333333333,
              "#9c179e"
             ],
             [
              0.4444444444444444,
              "#bd3786"
             ],
             [
              0.5555555555555556,
              "#d8576b"
             ],
             [
              0.6666666666666666,
              "#ed7953"
             ],
             [
              0.7777777777777778,
              "#fb9f3a"
             ],
             [
              0.8888888888888888,
              "#fdca26"
             ],
             [
              1,
              "#f0f921"
             ]
            ],
            "type": "contour"
           }
          ],
          "contourcarpet": [
           {
            "colorbar": {
             "outlinewidth": 0,
             "ticks": ""
            },
            "type": "contourcarpet"
           }
          ],
          "heatmap": [
           {
            "colorbar": {
             "outlinewidth": 0,
             "ticks": ""
            },
            "colorscale": [
             [
              0,
              "#0d0887"
             ],
             [
              0.1111111111111111,
              "#46039f"
             ],
             [
              0.2222222222222222,
              "#7201a8"
             ],
             [
              0.3333333333333333,
              "#9c179e"
             ],
             [
              0.4444444444444444,
              "#bd3786"
             ],
             [
              0.5555555555555556,
              "#d8576b"
             ],
             [
              0.6666666666666666,
              "#ed7953"
             ],
             [
              0.7777777777777778,
              "#fb9f3a"
             ],
             [
              0.8888888888888888,
              "#fdca26"
             ],
             [
              1,
              "#f0f921"
             ]
            ],
            "type": "heatmap"
           }
          ],
          "heatmapgl": [
           {
            "colorbar": {
             "outlinewidth": 0,
             "ticks": ""
            },
            "colorscale": [
             [
              0,
              "#0d0887"
             ],
             [
              0.1111111111111111,
              "#46039f"
             ],
             [
              0.2222222222222222,
              "#7201a8"
             ],
             [
              0.3333333333333333,
              "#9c179e"
             ],
             [
              0.4444444444444444,
              "#bd3786"
             ],
             [
              0.5555555555555556,
              "#d8576b"
             ],
             [
              0.6666666666666666,
              "#ed7953"
             ],
             [
              0.7777777777777778,
              "#fb9f3a"
             ],
             [
              0.8888888888888888,
              "#fdca26"
             ],
             [
              1,
              "#f0f921"
             ]
            ],
            "type": "heatmapgl"
           }
          ],
          "histogram": [
           {
            "marker": {
             "colorbar": {
              "outlinewidth": 0,
              "ticks": ""
             }
            },
            "type": "histogram"
           }
          ],
          "histogram2d": [
           {
            "colorbar": {
             "outlinewidth": 0,
             "ticks": ""
            },
            "colorscale": [
             [
              0,
              "#0d0887"
             ],
             [
              0.1111111111111111,
              "#46039f"
             ],
             [
              0.2222222222222222,
              "#7201a8"
             ],
             [
              0.3333333333333333,
              "#9c179e"
             ],
             [
              0.4444444444444444,
              "#bd3786"
             ],
             [
              0.5555555555555556,
              "#d8576b"
             ],
             [
              0.6666666666666666,
              "#ed7953"
             ],
             [
              0.7777777777777778,
              "#fb9f3a"
             ],
             [
              0.8888888888888888,
              "#fdca26"
             ],
             [
              1,
              "#f0f921"
             ]
            ],
            "type": "histogram2d"
           }
          ],
          "histogram2dcontour": [
           {
            "colorbar": {
             "outlinewidth": 0,
             "ticks": ""
            },
            "colorscale": [
             [
              0,
              "#0d0887"
             ],
             [
              0.1111111111111111,
              "#46039f"
             ],
             [
              0.2222222222222222,
              "#7201a8"
             ],
             [
              0.3333333333333333,
              "#9c179e"
             ],
             [
              0.4444444444444444,
              "#bd3786"
             ],
             [
              0.5555555555555556,
              "#d8576b"
             ],
             [
              0.6666666666666666,
              "#ed7953"
             ],
             [
              0.7777777777777778,
              "#fb9f3a"
             ],
             [
              0.8888888888888888,
              "#fdca26"
             ],
             [
              1,
              "#f0f921"
             ]
            ],
            "type": "histogram2dcontour"
           }
          ],
          "mesh3d": [
           {
            "colorbar": {
             "outlinewidth": 0,
             "ticks": ""
            },
            "type": "mesh3d"
           }
          ],
          "parcoords": [
           {
            "line": {
             "colorbar": {
              "outlinewidth": 0,
              "ticks": ""
             }
            },
            "type": "parcoords"
           }
          ],
          "pie": [
           {
            "automargin": true,
            "type": "pie"
           }
          ],
          "scatter": [
           {
            "marker": {
             "colorbar": {
              "outlinewidth": 0,
              "ticks": ""
             }
            },
            "type": "scatter"
           }
          ],
          "scatter3d": [
           {
            "line": {
             "colorbar": {
              "outlinewidth": 0,
              "ticks": ""
             }
            },
            "marker": {
             "colorbar": {
              "outlinewidth": 0,
              "ticks": ""
             }
            },
            "type": "scatter3d"
           }
          ],
          "scattercarpet": [
           {
            "marker": {
             "colorbar": {
              "outlinewidth": 0,
              "ticks": ""
             }
            },
            "type": "scattercarpet"
           }
          ],
          "scattergeo": [
           {
            "marker": {
             "colorbar": {
              "outlinewidth": 0,
              "ticks": ""
             }
            },
            "type": "scattergeo"
           }
          ],
          "scattergl": [
           {
            "marker": {
             "colorbar": {
              "outlinewidth": 0,
              "ticks": ""
             }
            },
            "type": "scattergl"
           }
          ],
          "scattermapbox": [
           {
            "marker": {
             "colorbar": {
              "outlinewidth": 0,
              "ticks": ""
             }
            },
            "type": "scattermapbox"
           }
          ],
          "scatterpolar": [
           {
            "marker": {
             "colorbar": {
              "outlinewidth": 0,
              "ticks": ""
             }
            },
            "type": "scatterpolar"
           }
          ],
          "scatterpolargl": [
           {
            "marker": {
             "colorbar": {
              "outlinewidth": 0,
              "ticks": ""
             }
            },
            "type": "scatterpolargl"
           }
          ],
          "scatterternary": [
           {
            "marker": {
             "colorbar": {
              "outlinewidth": 0,
              "ticks": ""
             }
            },
            "type": "scatterternary"
           }
          ],
          "surface": [
           {
            "colorbar": {
             "outlinewidth": 0,
             "ticks": ""
            },
            "colorscale": [
             [
              0,
              "#0d0887"
             ],
             [
              0.1111111111111111,
              "#46039f"
             ],
             [
              0.2222222222222222,
              "#7201a8"
             ],
             [
              0.3333333333333333,
              "#9c179e"
             ],
             [
              0.4444444444444444,
              "#bd3786"
             ],
             [
              0.5555555555555556,
              "#d8576b"
             ],
             [
              0.6666666666666666,
              "#ed7953"
             ],
             [
              0.7777777777777778,
              "#fb9f3a"
             ],
             [
              0.8888888888888888,
              "#fdca26"
             ],
             [
              1,
              "#f0f921"
             ]
            ],
            "type": "surface"
           }
          ],
          "table": [
           {
            "cells": {
             "fill": {
              "color": "#EBF0F8"
             },
             "line": {
              "color": "white"
             }
            },
            "header": {
             "fill": {
              "color": "#C8D4E3"
             },
             "line": {
              "color": "white"
             }
            },
            "type": "table"
           }
          ]
         },
         "layout": {
          "annotationdefaults": {
           "arrowcolor": "#2a3f5f",
           "arrowhead": 0,
           "arrowwidth": 1
          },
          "autotypenumbers": "strict",
          "coloraxis": {
           "colorbar": {
            "outlinewidth": 0,
            "ticks": ""
           }
          },
          "colorscale": {
           "diverging": [
            [
             0,
             "#8e0152"
            ],
            [
             0.1,
             "#c51b7d"
            ],
            [
             0.2,
             "#de77ae"
            ],
            [
             0.3,
             "#f1b6da"
            ],
            [
             0.4,
             "#fde0ef"
            ],
            [
             0.5,
             "#f7f7f7"
            ],
            [
             0.6,
             "#e6f5d0"
            ],
            [
             0.7,
             "#b8e186"
            ],
            [
             0.8,
             "#7fbc41"
            ],
            [
             0.9,
             "#4d9221"
            ],
            [
             1,
             "#276419"
            ]
           ],
           "sequential": [
            [
             0,
             "#0d0887"
            ],
            [
             0.1111111111111111,
             "#46039f"
            ],
            [
             0.2222222222222222,
             "#7201a8"
            ],
            [
             0.3333333333333333,
             "#9c179e"
            ],
            [
             0.4444444444444444,
             "#bd3786"
            ],
            [
             0.5555555555555556,
             "#d8576b"
            ],
            [
             0.6666666666666666,
             "#ed7953"
            ],
            [
             0.7777777777777778,
             "#fb9f3a"
            ],
            [
             0.8888888888888888,
             "#fdca26"
            ],
            [
             1,
             "#f0f921"
            ]
           ],
           "sequentialminus": [
            [
             0,
             "#0d0887"
            ],
            [
             0.1111111111111111,
             "#46039f"
            ],
            [
             0.2222222222222222,
             "#7201a8"
            ],
            [
             0.3333333333333333,
             "#9c179e"
            ],
            [
             0.4444444444444444,
             "#bd3786"
            ],
            [
             0.5555555555555556,
             "#d8576b"
            ],
            [
             0.6666666666666666,
             "#ed7953"
            ],
            [
             0.7777777777777778,
             "#fb9f3a"
            ],
            [
             0.8888888888888888,
             "#fdca26"
            ],
            [
             1,
             "#f0f921"
            ]
           ]
          },
          "colorway": [
           "#636efa",
           "#EF553B",
           "#00cc96",
           "#ab63fa",
           "#FFA15A",
           "#19d3f3",
           "#FF6692",
           "#B6E880",
           "#FF97FF",
           "#FECB52"
          ],
          "font": {
           "color": "#2a3f5f"
          },
          "geo": {
           "bgcolor": "white",
           "lakecolor": "white",
           "landcolor": "#E5ECF6",
           "showlakes": true,
           "showland": true,
           "subunitcolor": "white"
          },
          "hoverlabel": {
           "align": "left"
          },
          "hovermode": "closest",
          "mapbox": {
           "style": "light"
          },
          "paper_bgcolor": "white",
          "plot_bgcolor": "#E5ECF6",
          "polar": {
           "angularaxis": {
            "gridcolor": "white",
            "linecolor": "white",
            "ticks": ""
           },
           "bgcolor": "#E5ECF6",
           "radialaxis": {
            "gridcolor": "white",
            "linecolor": "white",
            "ticks": ""
           }
          },
          "scene": {
           "xaxis": {
            "backgroundcolor": "#E5ECF6",
            "gridcolor": "white",
            "gridwidth": 2,
            "linecolor": "white",
            "showbackground": true,
            "ticks": "",
            "zerolinecolor": "white"
           },
           "yaxis": {
            "backgroundcolor": "#E5ECF6",
            "gridcolor": "white",
            "gridwidth": 2,
            "linecolor": "white",
            "showbackground": true,
            "ticks": "",
            "zerolinecolor": "white"
           },
           "zaxis": {
            "backgroundcolor": "#E5ECF6",
            "gridcolor": "white",
            "gridwidth": 2,
            "linecolor": "white",
            "showbackground": true,
            "ticks": "",
            "zerolinecolor": "white"
           }
          },
          "shapedefaults": {
           "line": {
            "color": "#2a3f5f"
           }
          },
          "ternary": {
           "aaxis": {
            "gridcolor": "white",
            "linecolor": "white",
            "ticks": ""
           },
           "baxis": {
            "gridcolor": "white",
            "linecolor": "white",
            "ticks": ""
           },
           "bgcolor": "#E5ECF6",
           "caxis": {
            "gridcolor": "white",
            "linecolor": "white",
            "ticks": ""
           }
          },
          "title": {
           "x": 0.05
          },
          "xaxis": {
           "automargin": true,
           "gridcolor": "white",
           "linecolor": "white",
           "ticks": "",
           "title": {
            "standoff": 15
           },
           "zerolinecolor": "white",
           "zerolinewidth": 2
          },
          "yaxis": {
           "automargin": true,
           "gridcolor": "white",
           "linecolor": "white",
           "ticks": "",
           "title": {
            "standoff": 15
           },
           "zerolinecolor": "white",
           "zerolinewidth": 2
          }
         }
        },
        "title": {
         "text": "Target variable distribution"
        }
       }
      },
      "text/html": [
       "<div>                            <div id=\"8b4f1e93-0c55-4456-8758-04a3c0ac27b4\" class=\"plotly-graph-div\" style=\"height:525px; width:100%;\"></div>            <script type=\"text/javascript\">                require([\"plotly\"], function(Plotly) {                    window.PLOTLYENV=window.PLOTLYENV || {};                                    if (document.getElementById(\"8b4f1e93-0c55-4456-8758-04a3c0ac27b4\")) {                    Plotly.newPlot(                        \"8b4f1e93-0c55-4456-8758-04a3c0ac27b4\",                        [{\"marker\": {\"color\": [3822, 2913, 2759, 2420, 2222, 504], \"colorscale\": [[0.0, \"rgb(0,0,131)\"], [0.2, \"rgb(0,60,170)\"], [0.4, \"rgb(5,255,255)\"], [0.6, \"rgb(255,255,0)\"], [0.8, \"rgb(250,0,0)\"], [1.0, \"rgb(128,0,0)\"]]}, \"text\": \"Text entries attributed to airline\", \"type\": \"bar\", \"x\": [\"Delta\", \"US Airways\", \"American\", null], \"y\": [3822, 2913, 2759, 2420, 2222, 504]}],                        {\"template\": {\"data\": {\"bar\": [{\"error_x\": {\"color\": \"#2a3f5f\"}, \"error_y\": {\"color\": \"#2a3f5f\"}, \"marker\": {\"line\": {\"color\": \"#E5ECF6\", \"width\": 0.5}}, \"type\": \"bar\"}], \"barpolar\": [{\"marker\": {\"line\": {\"color\": \"#E5ECF6\", \"width\": 0.5}}, \"type\": \"barpolar\"}], \"carpet\": [{\"aaxis\": {\"endlinecolor\": \"#2a3f5f\", \"gridcolor\": \"white\", \"linecolor\": \"white\", \"minorgridcolor\": \"white\", \"startlinecolor\": \"#2a3f5f\"}, \"baxis\": {\"endlinecolor\": \"#2a3f5f\", \"gridcolor\": \"white\", \"linecolor\": \"white\", \"minorgridcolor\": \"white\", \"startlinecolor\": \"#2a3f5f\"}, \"type\": \"carpet\"}], \"choropleth\": [{\"colorbar\": {\"outlinewidth\": 0, \"ticks\": \"\"}, \"type\": \"choropleth\"}], \"contour\": [{\"colorbar\": {\"outlinewidth\": 0, \"ticks\": \"\"}, \"colorscale\": [[0.0, \"#0d0887\"], [0.1111111111111111, \"#46039f\"], [0.2222222222222222, \"#7201a8\"], [0.3333333333333333, \"#9c179e\"], [0.4444444444444444, \"#bd3786\"], [0.5555555555555556, \"#d8576b\"], [0.6666666666666666, \"#ed7953\"], [0.7777777777777778, \"#fb9f3a\"], [0.8888888888888888, \"#fdca26\"], [1.0, \"#f0f921\"]], \"type\": \"contour\"}], \"contourcarpet\": [{\"colorbar\": {\"outlinewidth\": 0, \"ticks\": \"\"}, \"type\": \"contourcarpet\"}], \"heatmap\": [{\"colorbar\": {\"outlinewidth\": 0, \"ticks\": \"\"}, \"colorscale\": [[0.0, \"#0d0887\"], [0.1111111111111111, \"#46039f\"], [0.2222222222222222, \"#7201a8\"], [0.3333333333333333, \"#9c179e\"], [0.4444444444444444, \"#bd3786\"], [0.5555555555555556, \"#d8576b\"], [0.6666666666666666, \"#ed7953\"], [0.7777777777777778, \"#fb9f3a\"], [0.8888888888888888, \"#fdca26\"], [1.0, \"#f0f921\"]], \"type\": \"heatmap\"}], \"heatmapgl\": [{\"colorbar\": {\"outlinewidth\": 0, \"ticks\": \"\"}, \"colorscale\": [[0.0, \"#0d0887\"], [0.1111111111111111, \"#46039f\"], [0.2222222222222222, \"#7201a8\"], [0.3333333333333333, \"#9c179e\"], [0.4444444444444444, \"#bd3786\"], [0.5555555555555556, \"#d8576b\"], [0.6666666666666666, \"#ed7953\"], [0.7777777777777778, \"#fb9f3a\"], [0.8888888888888888, \"#fdca26\"], [1.0, \"#f0f921\"]], \"type\": \"heatmapgl\"}], \"histogram\": [{\"marker\": {\"colorbar\": {\"outlinewidth\": 0, \"ticks\": \"\"}}, \"type\": \"histogram\"}], \"histogram2d\": [{\"colorbar\": {\"outlinewidth\": 0, \"ticks\": \"\"}, \"colorscale\": [[0.0, \"#0d0887\"], [0.1111111111111111, \"#46039f\"], [0.2222222222222222, \"#7201a8\"], [0.3333333333333333, \"#9c179e\"], [0.4444444444444444, \"#bd3786\"], [0.5555555555555556, \"#d8576b\"], [0.6666666666666666, \"#ed7953\"], [0.7777777777777778, \"#fb9f3a\"], [0.8888888888888888, \"#fdca26\"], [1.0, \"#f0f921\"]], \"type\": \"histogram2d\"}], \"histogram2dcontour\": [{\"colorbar\": {\"outlinewidth\": 0, \"ticks\": \"\"}, \"colorscale\": [[0.0, \"#0d0887\"], [0.1111111111111111, \"#46039f\"], [0.2222222222222222, \"#7201a8\"], [0.3333333333333333, \"#9c179e\"], [0.4444444444444444, \"#bd3786\"], [0.5555555555555556, \"#d8576b\"], [0.6666666666666666, \"#ed7953\"], [0.7777777777777778, \"#fb9f3a\"], [0.8888888888888888, \"#fdca26\"], [1.0, \"#f0f921\"]], \"type\": \"histogram2dcontour\"}], \"mesh3d\": [{\"colorbar\": {\"outlinewidth\": 0, \"ticks\": \"\"}, \"type\": \"mesh3d\"}], \"parcoords\": [{\"line\": {\"colorbar\": {\"outlinewidth\": 0, \"ticks\": \"\"}}, \"type\": \"parcoords\"}], \"pie\": [{\"automargin\": true, \"type\": \"pie\"}], \"scatter\": [{\"marker\": {\"colorbar\": {\"outlinewidth\": 0, \"ticks\": \"\"}}, \"type\": \"scatter\"}], \"scatter3d\": [{\"line\": {\"colorbar\": {\"outlinewidth\": 0, \"ticks\": \"\"}}, \"marker\": {\"colorbar\": {\"outlinewidth\": 0, \"ticks\": \"\"}}, \"type\": \"scatter3d\"}], \"scattercarpet\": [{\"marker\": {\"colorbar\": {\"outlinewidth\": 0, \"ticks\": \"\"}}, \"type\": \"scattercarpet\"}], \"scattergeo\": [{\"marker\": {\"colorbar\": {\"outlinewidth\": 0, \"ticks\": \"\"}}, \"type\": \"scattergeo\"}], \"scattergl\": [{\"marker\": {\"colorbar\": {\"outlinewidth\": 0, \"ticks\": \"\"}}, \"type\": \"scattergl\"}], \"scattermapbox\": [{\"marker\": {\"colorbar\": {\"outlinewidth\": 0, \"ticks\": \"\"}}, \"type\": \"scattermapbox\"}], \"scatterpolar\": [{\"marker\": {\"colorbar\": {\"outlinewidth\": 0, \"ticks\": \"\"}}, \"type\": \"scatterpolar\"}], \"scatterpolargl\": [{\"marker\": {\"colorbar\": {\"outlinewidth\": 0, \"ticks\": \"\"}}, \"type\": \"scatterpolargl\"}], \"scatterternary\": [{\"marker\": {\"colorbar\": {\"outlinewidth\": 0, \"ticks\": \"\"}}, \"type\": \"scatterternary\"}], \"surface\": [{\"colorbar\": {\"outlinewidth\": 0, \"ticks\": \"\"}, \"colorscale\": [[0.0, \"#0d0887\"], [0.1111111111111111, \"#46039f\"], [0.2222222222222222, \"#7201a8\"], [0.3333333333333333, \"#9c179e\"], [0.4444444444444444, \"#bd3786\"], [0.5555555555555556, \"#d8576b\"], [0.6666666666666666, \"#ed7953\"], [0.7777777777777778, \"#fb9f3a\"], [0.8888888888888888, \"#fdca26\"], [1.0, \"#f0f921\"]], \"type\": \"surface\"}], \"table\": [{\"cells\": {\"fill\": {\"color\": \"#EBF0F8\"}, \"line\": {\"color\": \"white\"}}, \"header\": {\"fill\": {\"color\": \"#C8D4E3\"}, \"line\": {\"color\": \"white\"}}, \"type\": \"table\"}]}, \"layout\": {\"annotationdefaults\": {\"arrowcolor\": \"#2a3f5f\", \"arrowhead\": 0, \"arrowwidth\": 1}, \"autotypenumbers\": \"strict\", \"coloraxis\": {\"colorbar\": {\"outlinewidth\": 0, \"ticks\": \"\"}}, \"colorscale\": {\"diverging\": [[0, \"#8e0152\"], [0.1, \"#c51b7d\"], [0.2, \"#de77ae\"], [0.3, \"#f1b6da\"], [0.4, \"#fde0ef\"], [0.5, \"#f7f7f7\"], [0.6, \"#e6f5d0\"], [0.7, \"#b8e186\"], [0.8, \"#7fbc41\"], [0.9, \"#4d9221\"], [1, \"#276419\"]], \"sequential\": [[0.0, \"#0d0887\"], [0.1111111111111111, \"#46039f\"], [0.2222222222222222, \"#7201a8\"], [0.3333333333333333, \"#9c179e\"], [0.4444444444444444, \"#bd3786\"], [0.5555555555555556, \"#d8576b\"], [0.6666666666666666, \"#ed7953\"], [0.7777777777777778, \"#fb9f3a\"], [0.8888888888888888, \"#fdca26\"], [1.0, \"#f0f921\"]], \"sequentialminus\": [[0.0, \"#0d0887\"], [0.1111111111111111, \"#46039f\"], [0.2222222222222222, \"#7201a8\"], [0.3333333333333333, \"#9c179e\"], [0.4444444444444444, \"#bd3786\"], [0.5555555555555556, \"#d8576b\"], [0.6666666666666666, \"#ed7953\"], [0.7777777777777778, \"#fb9f3a\"], [0.8888888888888888, \"#fdca26\"], [1.0, \"#f0f921\"]]}, \"colorway\": [\"#636efa\", \"#EF553B\", \"#00cc96\", \"#ab63fa\", \"#FFA15A\", \"#19d3f3\", \"#FF6692\", \"#B6E880\", \"#FF97FF\", \"#FECB52\"], \"font\": {\"color\": \"#2a3f5f\"}, \"geo\": {\"bgcolor\": \"white\", \"lakecolor\": \"white\", \"landcolor\": \"#E5ECF6\", \"showlakes\": true, \"showland\": true, \"subunitcolor\": \"white\"}, \"hoverlabel\": {\"align\": \"left\"}, \"hovermode\": \"closest\", \"mapbox\": {\"style\": \"light\"}, \"paper_bgcolor\": \"white\", \"plot_bgcolor\": \"#E5ECF6\", \"polar\": {\"angularaxis\": {\"gridcolor\": \"white\", \"linecolor\": \"white\", \"ticks\": \"\"}, \"bgcolor\": \"#E5ECF6\", \"radialaxis\": {\"gridcolor\": \"white\", \"linecolor\": \"white\", \"ticks\": \"\"}}, \"scene\": {\"xaxis\": {\"backgroundcolor\": \"#E5ECF6\", \"gridcolor\": \"white\", \"gridwidth\": 2, \"linecolor\": \"white\", \"showbackground\": true, \"ticks\": \"\", \"zerolinecolor\": \"white\"}, \"yaxis\": {\"backgroundcolor\": \"#E5ECF6\", \"gridcolor\": \"white\", \"gridwidth\": 2, \"linecolor\": \"white\", \"showbackground\": true, \"ticks\": \"\", \"zerolinecolor\": \"white\"}, \"zaxis\": {\"backgroundcolor\": \"#E5ECF6\", \"gridcolor\": \"white\", \"gridwidth\": 2, \"linecolor\": \"white\", \"showbackground\": true, \"ticks\": \"\", \"zerolinecolor\": \"white\"}}, \"shapedefaults\": {\"line\": {\"color\": \"#2a3f5f\"}}, \"ternary\": {\"aaxis\": {\"gridcolor\": \"white\", \"linecolor\": \"white\", \"ticks\": \"\"}, \"baxis\": {\"gridcolor\": \"white\", \"linecolor\": \"white\", \"ticks\": \"\"}, \"bgcolor\": \"#E5ECF6\", \"caxis\": {\"gridcolor\": \"white\", \"linecolor\": \"white\", \"ticks\": \"\"}}, \"title\": {\"x\": 0.05}, \"xaxis\": {\"automargin\": true, \"gridcolor\": \"white\", \"linecolor\": \"white\", \"ticks\": \"\", \"title\": {\"standoff\": 15}, \"zerolinecolor\": \"white\", \"zerolinewidth\": 2}, \"yaxis\": {\"automargin\": true, \"gridcolor\": \"white\", \"linecolor\": \"white\", \"ticks\": \"\", \"title\": {\"standoff\": 15}, \"zerolinecolor\": \"white\", \"zerolinewidth\": 2}}}, \"title\": {\"text\": \"Target variable distribution\"}},                        {\"responsive\": true}                    ).then(function(){\n",
       "                            \n",
       "var gd = document.getElementById('8b4f1e93-0c55-4456-8758-04a3c0ac27b4');\n",
       "var x = new MutationObserver(function (mutations, observer) {{\n",
       "        var display = window.getComputedStyle(gd).display;\n",
       "        if (!display || display === 'none') {{\n",
       "            console.log([gd, 'removed!']);\n",
       "            Plotly.purge(gd);\n",
       "            observer.disconnect();\n",
       "        }}\n",
       "}});\n",
       "\n",
       "// Listen for the removal of the full notebook cells\n",
       "var notebookContainer = gd.closest('#notebook-container');\n",
       "if (notebookContainer) {{\n",
       "    x.observe(notebookContainer, {childList: true});\n",
       "}}\n",
       "\n",
       "// Listen for the clearing of the current output cell\n",
       "var outputEl = gd.closest('.output');\n",
       "if (outputEl) {{\n",
       "    x.observe(outputEl, {childList: true});\n",
       "}}\n",
       "\n",
       "                        })                };                });            </script>        </div>"
      ]
     },
     "metadata": {},
     "output_type": "display_data"
    }
   ],
   "source": [
    "z = {'Virgin America': 'Delta', 'United': 'US Airways', 'Southwest': 'American'}\n",
    "data = [go.Bar(\n",
    "            x = train.airline.map(z).unique(),\n",
    "            y = train.airline.value_counts().values,\n",
    "            marker= dict(colorscale='Jet',\n",
    "                         color = train.airline.value_counts().values\n",
    "                        ),\n",
    "            text='Text entries attributed to airline'\n",
    "    )]\n",
    "\n",
    "layout = go.Layout(\n",
    "    title='Target variable distribution'\n",
    ")\n",
    "\n",
    "fig = go.Figure(data=data, layout=layout)\n",
    "\n",
    "py.iplot(fig, filename='basic-bar')"
   ]
  },
  {
   "cell_type": "code",
   "execution_count": 50,
   "metadata": {},
   "outputs": [
    {
     "data": {
      "application/vnd.plotly.v1+json": {
       "config": {
        "linkText": "Export to plot.ly",
        "plotlyServerURL": "https://plot.ly",
        "showLink": false
       },
       "data": [
        {
         "marker": {
          "color": [
           5054,
           4359,
           3921,
           3639,
           3551,
           3544,
           3232,
           3035,
           2850,
           2848,
           2597,
           2579,
           2398,
           2344,
           2093,
           1974,
           1546,
           1543,
           1536,
           1531,
           1469,
           1433,
           1414,
           1295,
           1290,
           1270,
           1175,
           1168,
           1068,
           1063,
           1047,
           1035,
           997,
           968,
           852,
           818,
           791,
           757,
           718,
           714,
           669,
           659,
           658,
           657,
           632,
           631,
           624,
           615,
           596,
           591,
           588,
           569,
           558,
           544,
           537,
           512,
           500,
           494,
           493,
           484,
           482,
           482,
           476,
           471,
           471,
           465,
           464,
           464,
           456,
           452,
           450,
           449,
           447,
           447,
           439,
           432,
           425,
           422,
           422,
           420,
           413,
           412,
           408,
           399,
           393,
           385,
           383,
           377,
           375,
           370,
           357,
           356,
           354,
           352,
           340,
           338,
           333,
           330
          ],
          "colorscale": [
           [
            0,
            "rgb(0,0,131)"
           ],
           [
            0.2,
            "rgb(0,60,170)"
           ],
           [
            0.4,
            "rgb(5,255,255)"
           ],
           [
            0.6,
            "rgb(255,255,0)"
           ],
           [
            0.8,
            "rgb(250,0,0)"
           ],
           [
            1,
            "rgb(128,0,0)"
           ]
          ]
         },
         "text": "Word counts",
         "type": "bar",
         "x": [
          "I",
          "a",
          "for",
          "@united",
          "on",
          "and",
          "you",
          "my",
          "@AmericanAir",
          "@USAirways",
          "flight",
          "is",
          "in",
          "@SouthwestAir",
          "of",
          "@JetBlue",
          "have",
          "your",
          "me",
          "was",
          "with",
          "at",
          "it",
          "that",
          "get",
          "not",
          "be",
          "from",
          "but",
          "this",
          "Cancelled",
          "no",
          "are",
          "an",
          "can",
          "we",
          "been",
          "just",
          "so",
          "do",
          "I'm",
          "customer",
          "-",
          "service",
          "&amp;",
          "will",
          "now",
          "Flight"
         ],
         "y": [
          5054,
          4359,
          3921,
          3639,
          3551,
          3544,
          3232,
          3035,
          2850,
          2848,
          2597,
          2579,
          2398,
          2344,
          2093,
          1974,
          1546,
          1543,
          1536,
          1531,
          1469,
          1433,
          1414,
          1295,
          1290,
          1270,
          1175,
          1168,
          1068,
          1063,
          1047,
          1035,
          997,
          968,
          852,
          818,
          791,
          757,
          718,
          714,
          669,
          659,
          658,
          657,
          632,
          631,
          624,
          615
         ]
        }
       ],
       "layout": {
        "template": {
         "data": {
          "bar": [
           {
            "error_x": {
             "color": "#2a3f5f"
            },
            "error_y": {
             "color": "#2a3f5f"
            },
            "marker": {
             "line": {
              "color": "#E5ECF6",
              "width": 0.5
             }
            },
            "type": "bar"
           }
          ],
          "barpolar": [
           {
            "marker": {
             "line": {
              "color": "#E5ECF6",
              "width": 0.5
             }
            },
            "type": "barpolar"
           }
          ],
          "carpet": [
           {
            "aaxis": {
             "endlinecolor": "#2a3f5f",
             "gridcolor": "white",
             "linecolor": "white",
             "minorgridcolor": "white",
             "startlinecolor": "#2a3f5f"
            },
            "baxis": {
             "endlinecolor": "#2a3f5f",
             "gridcolor": "white",
             "linecolor": "white",
             "minorgridcolor": "white",
             "startlinecolor": "#2a3f5f"
            },
            "type": "carpet"
           }
          ],
          "choropleth": [
           {
            "colorbar": {
             "outlinewidth": 0,
             "ticks": ""
            },
            "type": "choropleth"
           }
          ],
          "contour": [
           {
            "colorbar": {
             "outlinewidth": 0,
             "ticks": ""
            },
            "colorscale": [
             [
              0,
              "#0d0887"
             ],
             [
              0.1111111111111111,
              "#46039f"
             ],
             [
              0.2222222222222222,
              "#7201a8"
             ],
             [
              0.3333333333333333,
              "#9c179e"
             ],
             [
              0.4444444444444444,
              "#bd3786"
             ],
             [
              0.5555555555555556,
              "#d8576b"
             ],
             [
              0.6666666666666666,
              "#ed7953"
             ],
             [
              0.7777777777777778,
              "#fb9f3a"
             ],
             [
              0.8888888888888888,
              "#fdca26"
             ],
             [
              1,
              "#f0f921"
             ]
            ],
            "type": "contour"
           }
          ],
          "contourcarpet": [
           {
            "colorbar": {
             "outlinewidth": 0,
             "ticks": ""
            },
            "type": "contourcarpet"
           }
          ],
          "heatmap": [
           {
            "colorbar": {
             "outlinewidth": 0,
             "ticks": ""
            },
            "colorscale": [
             [
              0,
              "#0d0887"
             ],
             [
              0.1111111111111111,
              "#46039f"
             ],
             [
              0.2222222222222222,
              "#7201a8"
             ],
             [
              0.3333333333333333,
              "#9c179e"
             ],
             [
              0.4444444444444444,
              "#bd3786"
             ],
             [
              0.5555555555555556,
              "#d8576b"
             ],
             [
              0.6666666666666666,
              "#ed7953"
             ],
             [
              0.7777777777777778,
              "#fb9f3a"
             ],
             [
              0.8888888888888888,
              "#fdca26"
             ],
             [
              1,
              "#f0f921"
             ]
            ],
            "type": "heatmap"
           }
          ],
          "heatmapgl": [
           {
            "colorbar": {
             "outlinewidth": 0,
             "ticks": ""
            },
            "colorscale": [
             [
              0,
              "#0d0887"
             ],
             [
              0.1111111111111111,
              "#46039f"
             ],
             [
              0.2222222222222222,
              "#7201a8"
             ],
             [
              0.3333333333333333,
              "#9c179e"
             ],
             [
              0.4444444444444444,
              "#bd3786"
             ],
             [
              0.5555555555555556,
              "#d8576b"
             ],
             [
              0.6666666666666666,
              "#ed7953"
             ],
             [
              0.7777777777777778,
              "#fb9f3a"
             ],
             [
              0.8888888888888888,
              "#fdca26"
             ],
             [
              1,
              "#f0f921"
             ]
            ],
            "type": "heatmapgl"
           }
          ],
          "histogram": [
           {
            "marker": {
             "colorbar": {
              "outlinewidth": 0,
              "ticks": ""
             }
            },
            "type": "histogram"
           }
          ],
          "histogram2d": [
           {
            "colorbar": {
             "outlinewidth": 0,
             "ticks": ""
            },
            "colorscale": [
             [
              0,
              "#0d0887"
             ],
             [
              0.1111111111111111,
              "#46039f"
             ],
             [
              0.2222222222222222,
              "#7201a8"
             ],
             [
              0.3333333333333333,
              "#9c179e"
             ],
             [
              0.4444444444444444,
              "#bd3786"
             ],
             [
              0.5555555555555556,
              "#d8576b"
             ],
             [
              0.6666666666666666,
              "#ed7953"
             ],
             [
              0.7777777777777778,
              "#fb9f3a"
             ],
             [
              0.8888888888888888,
              "#fdca26"
             ],
             [
              1,
              "#f0f921"
             ]
            ],
            "type": "histogram2d"
           }
          ],
          "histogram2dcontour": [
           {
            "colorbar": {
             "outlinewidth": 0,
             "ticks": ""
            },
            "colorscale": [
             [
              0,
              "#0d0887"
             ],
             [
              0.1111111111111111,
              "#46039f"
             ],
             [
              0.2222222222222222,
              "#7201a8"
             ],
             [
              0.3333333333333333,
              "#9c179e"
             ],
             [
              0.4444444444444444,
              "#bd3786"
             ],
             [
              0.5555555555555556,
              "#d8576b"
             ],
             [
              0.6666666666666666,
              "#ed7953"
             ],
             [
              0.7777777777777778,
              "#fb9f3a"
             ],
             [
              0.8888888888888888,
              "#fdca26"
             ],
             [
              1,
              "#f0f921"
             ]
            ],
            "type": "histogram2dcontour"
           }
          ],
          "mesh3d": [
           {
            "colorbar": {
             "outlinewidth": 0,
             "ticks": ""
            },
            "type": "mesh3d"
           }
          ],
          "parcoords": [
           {
            "line": {
             "colorbar": {
              "outlinewidth": 0,
              "ticks": ""
             }
            },
            "type": "parcoords"
           }
          ],
          "pie": [
           {
            "automargin": true,
            "type": "pie"
           }
          ],
          "scatter": [
           {
            "marker": {
             "colorbar": {
              "outlinewidth": 0,
              "ticks": ""
             }
            },
            "type": "scatter"
           }
          ],
          "scatter3d": [
           {
            "line": {
             "colorbar": {
              "outlinewidth": 0,
              "ticks": ""
             }
            },
            "marker": {
             "colorbar": {
              "outlinewidth": 0,
              "ticks": ""
             }
            },
            "type": "scatter3d"
           }
          ],
          "scattercarpet": [
           {
            "marker": {
             "colorbar": {
              "outlinewidth": 0,
              "ticks": ""
             }
            },
            "type": "scattercarpet"
           }
          ],
          "scattergeo": [
           {
            "marker": {
             "colorbar": {
              "outlinewidth": 0,
              "ticks": ""
             }
            },
            "type": "scattergeo"
           }
          ],
          "scattergl": [
           {
            "marker": {
             "colorbar": {
              "outlinewidth": 0,
              "ticks": ""
             }
            },
            "type": "scattergl"
           }
          ],
          "scattermapbox": [
           {
            "marker": {
             "colorbar": {
              "outlinewidth": 0,
              "ticks": ""
             }
            },
            "type": "scattermapbox"
           }
          ],
          "scatterpolar": [
           {
            "marker": {
             "colorbar": {
              "outlinewidth": 0,
              "ticks": ""
             }
            },
            "type": "scatterpolar"
           }
          ],
          "scatterpolargl": [
           {
            "marker": {
             "colorbar": {
              "outlinewidth": 0,
              "ticks": ""
             }
            },
            "type": "scatterpolargl"
           }
          ],
          "scatterternary": [
           {
            "marker": {
             "colorbar": {
              "outlinewidth": 0,
              "ticks": ""
             }
            },
            "type": "scatterternary"
           }
          ],
          "surface": [
           {
            "colorbar": {
             "outlinewidth": 0,
             "ticks": ""
            },
            "colorscale": [
             [
              0,
              "#0d0887"
             ],
             [
              0.1111111111111111,
              "#46039f"
             ],
             [
              0.2222222222222222,
              "#7201a8"
             ],
             [
              0.3333333333333333,
              "#9c179e"
             ],
             [
              0.4444444444444444,
              "#bd3786"
             ],
             [
              0.5555555555555556,
              "#d8576b"
             ],
             [
              0.6666666666666666,
              "#ed7953"
             ],
             [
              0.7777777777777778,
              "#fb9f3a"
             ],
             [
              0.8888888888888888,
              "#fdca26"
             ],
             [
              1,
              "#f0f921"
             ]
            ],
            "type": "surface"
           }
          ],
          "table": [
           {
            "cells": {
             "fill": {
              "color": "#EBF0F8"
             },
             "line": {
              "color": "white"
             }
            },
            "header": {
             "fill": {
              "color": "#C8D4E3"
             },
             "line": {
              "color": "white"
             }
            },
            "type": "table"
           }
          ]
         },
         "layout": {
          "annotationdefaults": {
           "arrowcolor": "#2a3f5f",
           "arrowhead": 0,
           "arrowwidth": 1
          },
          "autotypenumbers": "strict",
          "coloraxis": {
           "colorbar": {
            "outlinewidth": 0,
            "ticks": ""
           }
          },
          "colorscale": {
           "diverging": [
            [
             0,
             "#8e0152"
            ],
            [
             0.1,
             "#c51b7d"
            ],
            [
             0.2,
             "#de77ae"
            ],
            [
             0.3,
             "#f1b6da"
            ],
            [
             0.4,
             "#fde0ef"
            ],
            [
             0.5,
             "#f7f7f7"
            ],
            [
             0.6,
             "#e6f5d0"
            ],
            [
             0.7,
             "#b8e186"
            ],
            [
             0.8,
             "#7fbc41"
            ],
            [
             0.9,
             "#4d9221"
            ],
            [
             1,
             "#276419"
            ]
           ],
           "sequential": [
            [
             0,
             "#0d0887"
            ],
            [
             0.1111111111111111,
             "#46039f"
            ],
            [
             0.2222222222222222,
             "#7201a8"
            ],
            [
             0.3333333333333333,
             "#9c179e"
            ],
            [
             0.4444444444444444,
             "#bd3786"
            ],
            [
             0.5555555555555556,
             "#d8576b"
            ],
            [
             0.6666666666666666,
             "#ed7953"
            ],
            [
             0.7777777777777778,
             "#fb9f3a"
            ],
            [
             0.8888888888888888,
             "#fdca26"
            ],
            [
             1,
             "#f0f921"
            ]
           ],
           "sequentialminus": [
            [
             0,
             "#0d0887"
            ],
            [
             0.1111111111111111,
             "#46039f"
            ],
            [
             0.2222222222222222,
             "#7201a8"
            ],
            [
             0.3333333333333333,
             "#9c179e"
            ],
            [
             0.4444444444444444,
             "#bd3786"
            ],
            [
             0.5555555555555556,
             "#d8576b"
            ],
            [
             0.6666666666666666,
             "#ed7953"
            ],
            [
             0.7777777777777778,
             "#fb9f3a"
            ],
            [
             0.8888888888888888,
             "#fdca26"
            ],
            [
             1,
             "#f0f921"
            ]
           ]
          },
          "colorway": [
           "#636efa",
           "#EF553B",
           "#00cc96",
           "#ab63fa",
           "#FFA15A",
           "#19d3f3",
           "#FF6692",
           "#B6E880",
           "#FF97FF",
           "#FECB52"
          ],
          "font": {
           "color": "#2a3f5f"
          },
          "geo": {
           "bgcolor": "white",
           "lakecolor": "white",
           "landcolor": "#E5ECF6",
           "showlakes": true,
           "showland": true,
           "subunitcolor": "white"
          },
          "hoverlabel": {
           "align": "left"
          },
          "hovermode": "closest",
          "mapbox": {
           "style": "light"
          },
          "paper_bgcolor": "white",
          "plot_bgcolor": "#E5ECF6",
          "polar": {
           "angularaxis": {
            "gridcolor": "white",
            "linecolor": "white",
            "ticks": ""
           },
           "bgcolor": "#E5ECF6",
           "radialaxis": {
            "gridcolor": "white",
            "linecolor": "white",
            "ticks": ""
           }
          },
          "scene": {
           "xaxis": {
            "backgroundcolor": "#E5ECF6",
            "gridcolor": "white",
            "gridwidth": 2,
            "linecolor": "white",
            "showbackground": true,
            "ticks": "",
            "zerolinecolor": "white"
           },
           "yaxis": {
            "backgroundcolor": "#E5ECF6",
            "gridcolor": "white",
            "gridwidth": 2,
            "linecolor": "white",
            "showbackground": true,
            "ticks": "",
            "zerolinecolor": "white"
           },
           "zaxis": {
            "backgroundcolor": "#E5ECF6",
            "gridcolor": "white",
            "gridwidth": 2,
            "linecolor": "white",
            "showbackground": true,
            "ticks": "",
            "zerolinecolor": "white"
           }
          },
          "shapedefaults": {
           "line": {
            "color": "#2a3f5f"
           }
          },
          "ternary": {
           "aaxis": {
            "gridcolor": "white",
            "linecolor": "white",
            "ticks": ""
           },
           "baxis": {
            "gridcolor": "white",
            "linecolor": "white",
            "ticks": ""
           },
           "bgcolor": "#E5ECF6",
           "caxis": {
            "gridcolor": "white",
            "linecolor": "white",
            "ticks": ""
           }
          },
          "title": {
           "x": 0.05
          },
          "xaxis": {
           "automargin": true,
           "gridcolor": "white",
           "linecolor": "white",
           "ticks": "",
           "title": {
            "standoff": 15
           },
           "zerolinecolor": "white",
           "zerolinewidth": 2
          },
          "yaxis": {
           "automargin": true,
           "gridcolor": "white",
           "linecolor": "white",
           "ticks": "",
           "title": {
            "standoff": 15
           },
           "zerolinecolor": "white",
           "zerolinewidth": 2
          }
         }
        },
        "title": {
         "text": "Top 50 (Uncleaned) Word frequencies in the training dataset"
        }
       }
      },
      "text/html": [
       "<div>                            <div id=\"6a7bb362-e71f-4ac2-bb22-3b262dd0a58d\" class=\"plotly-graph-div\" style=\"height:525px; width:100%;\"></div>            <script type=\"text/javascript\">                require([\"plotly\"], function(Plotly) {                    window.PLOTLYENV=window.PLOTLYENV || {};                                    if (document.getElementById(\"6a7bb362-e71f-4ac2-bb22-3b262dd0a58d\")) {                    Plotly.newPlot(                        \"6a7bb362-e71f-4ac2-bb22-3b262dd0a58d\",                        [{\"marker\": {\"color\": [5054, 4359, 3921, 3639, 3551, 3544, 3232, 3035, 2850, 2848, 2597, 2579, 2398, 2344, 2093, 1974, 1546, 1543, 1536, 1531, 1469, 1433, 1414, 1295, 1290, 1270, 1175, 1168, 1068, 1063, 1047, 1035, 997, 968, 852, 818, 791, 757, 718, 714, 669, 659, 658, 657, 632, 631, 624, 615, 596, 591, 588, 569, 558, 544, 537, 512, 500, 494, 493, 484, 482, 482, 476, 471, 471, 465, 464, 464, 456, 452, 450, 449, 447, 447, 439, 432, 425, 422, 422, 420, 413, 412, 408, 399, 393, 385, 383, 377, 375, 370, 357, 356, 354, 352, 340, 338, 333, 330], \"colorscale\": [[0.0, \"rgb(0,0,131)\"], [0.2, \"rgb(0,60,170)\"], [0.4, \"rgb(5,255,255)\"], [0.6, \"rgb(255,255,0)\"], [0.8, \"rgb(250,0,0)\"], [1.0, \"rgb(128,0,0)\"]]}, \"text\": \"Word counts\", \"type\": \"bar\", \"x\": [\"I\", \"a\", \"for\", \"@united\", \"on\", \"and\", \"you\", \"my\", \"@AmericanAir\", \"@USAirways\", \"flight\", \"is\", \"in\", \"@SouthwestAir\", \"of\", \"@JetBlue\", \"have\", \"your\", \"me\", \"was\", \"with\", \"at\", \"it\", \"that\", \"get\", \"not\", \"be\", \"from\", \"but\", \"this\", \"Cancelled\", \"no\", \"are\", \"an\", \"can\", \"we\", \"been\", \"just\", \"so\", \"do\", \"I'm\", \"customer\", \"-\", \"service\", \"&amp;\", \"will\", \"now\", \"Flight\"], \"y\": [5054, 4359, 3921, 3639, 3551, 3544, 3232, 3035, 2850, 2848, 2597, 2579, 2398, 2344, 2093, 1974, 1546, 1543, 1536, 1531, 1469, 1433, 1414, 1295, 1290, 1270, 1175, 1168, 1068, 1063, 1047, 1035, 997, 968, 852, 818, 791, 757, 718, 714, 669, 659, 658, 657, 632, 631, 624, 615]}],                        {\"template\": {\"data\": {\"bar\": [{\"error_x\": {\"color\": \"#2a3f5f\"}, \"error_y\": {\"color\": \"#2a3f5f\"}, \"marker\": {\"line\": {\"color\": \"#E5ECF6\", \"width\": 0.5}}, \"type\": \"bar\"}], \"barpolar\": [{\"marker\": {\"line\": {\"color\": \"#E5ECF6\", \"width\": 0.5}}, \"type\": \"barpolar\"}], \"carpet\": [{\"aaxis\": {\"endlinecolor\": \"#2a3f5f\", \"gridcolor\": \"white\", \"linecolor\": \"white\", \"minorgridcolor\": \"white\", \"startlinecolor\": \"#2a3f5f\"}, \"baxis\": {\"endlinecolor\": \"#2a3f5f\", \"gridcolor\": \"white\", \"linecolor\": \"white\", \"minorgridcolor\": \"white\", \"startlinecolor\": \"#2a3f5f\"}, \"type\": \"carpet\"}], \"choropleth\": [{\"colorbar\": {\"outlinewidth\": 0, \"ticks\": \"\"}, \"type\": \"choropleth\"}], \"contour\": [{\"colorbar\": {\"outlinewidth\": 0, \"ticks\": \"\"}, \"colorscale\": [[0.0, \"#0d0887\"], [0.1111111111111111, \"#46039f\"], [0.2222222222222222, \"#7201a8\"], [0.3333333333333333, \"#9c179e\"], [0.4444444444444444, \"#bd3786\"], [0.5555555555555556, \"#d8576b\"], [0.6666666666666666, \"#ed7953\"], [0.7777777777777778, \"#fb9f3a\"], [0.8888888888888888, \"#fdca26\"], [1.0, \"#f0f921\"]], \"type\": \"contour\"}], \"contourcarpet\": [{\"colorbar\": {\"outlinewidth\": 0, \"ticks\": \"\"}, \"type\": \"contourcarpet\"}], \"heatmap\": [{\"colorbar\": {\"outlinewidth\": 0, \"ticks\": \"\"}, \"colorscale\": [[0.0, \"#0d0887\"], [0.1111111111111111, \"#46039f\"], [0.2222222222222222, \"#7201a8\"], [0.3333333333333333, \"#9c179e\"], [0.4444444444444444, \"#bd3786\"], [0.5555555555555556, \"#d8576b\"], [0.6666666666666666, \"#ed7953\"], [0.7777777777777778, \"#fb9f3a\"], [0.8888888888888888, \"#fdca26\"], [1.0, \"#f0f921\"]], \"type\": \"heatmap\"}], \"heatmapgl\": [{\"colorbar\": {\"outlinewidth\": 0, \"ticks\": \"\"}, \"colorscale\": [[0.0, \"#0d0887\"], [0.1111111111111111, \"#46039f\"], [0.2222222222222222, \"#7201a8\"], [0.3333333333333333, \"#9c179e\"], [0.4444444444444444, \"#bd3786\"], [0.5555555555555556, \"#d8576b\"], [0.6666666666666666, \"#ed7953\"], [0.7777777777777778, \"#fb9f3a\"], [0.8888888888888888, \"#fdca26\"], [1.0, \"#f0f921\"]], \"type\": \"heatmapgl\"}], \"histogram\": [{\"marker\": {\"colorbar\": {\"outlinewidth\": 0, \"ticks\": \"\"}}, \"type\": \"histogram\"}], \"histogram2d\": [{\"colorbar\": {\"outlinewidth\": 0, \"ticks\": \"\"}, \"colorscale\": [[0.0, \"#0d0887\"], [0.1111111111111111, \"#46039f\"], [0.2222222222222222, \"#7201a8\"], [0.3333333333333333, \"#9c179e\"], [0.4444444444444444, \"#bd3786\"], [0.5555555555555556, \"#d8576b\"], [0.6666666666666666, \"#ed7953\"], [0.7777777777777778, \"#fb9f3a\"], [0.8888888888888888, \"#fdca26\"], [1.0, \"#f0f921\"]], \"type\": \"histogram2d\"}], \"histogram2dcontour\": [{\"colorbar\": {\"outlinewidth\": 0, \"ticks\": \"\"}, \"colorscale\": [[0.0, \"#0d0887\"], [0.1111111111111111, \"#46039f\"], [0.2222222222222222, \"#7201a8\"], [0.3333333333333333, \"#9c179e\"], [0.4444444444444444, \"#bd3786\"], [0.5555555555555556, \"#d8576b\"], [0.6666666666666666, \"#ed7953\"], [0.7777777777777778, \"#fb9f3a\"], [0.8888888888888888, \"#fdca26\"], [1.0, \"#f0f921\"]], \"type\": \"histogram2dcontour\"}], \"mesh3d\": [{\"colorbar\": {\"outlinewidth\": 0, \"ticks\": \"\"}, \"type\": \"mesh3d\"}], \"parcoords\": [{\"line\": {\"colorbar\": {\"outlinewidth\": 0, \"ticks\": \"\"}}, \"type\": \"parcoords\"}], \"pie\": [{\"automargin\": true, \"type\": \"pie\"}], \"scatter\": [{\"marker\": {\"colorbar\": {\"outlinewidth\": 0, \"ticks\": \"\"}}, \"type\": \"scatter\"}], \"scatter3d\": [{\"line\": {\"colorbar\": {\"outlinewidth\": 0, \"ticks\": \"\"}}, \"marker\": {\"colorbar\": {\"outlinewidth\": 0, \"ticks\": \"\"}}, \"type\": \"scatter3d\"}], \"scattercarpet\": [{\"marker\": {\"colorbar\": {\"outlinewidth\": 0, \"ticks\": \"\"}}, \"type\": \"scattercarpet\"}], \"scattergeo\": [{\"marker\": {\"colorbar\": {\"outlinewidth\": 0, \"ticks\": \"\"}}, \"type\": \"scattergeo\"}], \"scattergl\": [{\"marker\": {\"colorbar\": {\"outlinewidth\": 0, \"ticks\": \"\"}}, \"type\": \"scattergl\"}], \"scattermapbox\": [{\"marker\": {\"colorbar\": {\"outlinewidth\": 0, \"ticks\": \"\"}}, \"type\": \"scattermapbox\"}], \"scatterpolar\": [{\"marker\": {\"colorbar\": {\"outlinewidth\": 0, \"ticks\": \"\"}}, \"type\": \"scatterpolar\"}], \"scatterpolargl\": [{\"marker\": {\"colorbar\": {\"outlinewidth\": 0, \"ticks\": \"\"}}, \"type\": \"scatterpolargl\"}], \"scatterternary\": [{\"marker\": {\"colorbar\": {\"outlinewidth\": 0, \"ticks\": \"\"}}, \"type\": \"scatterternary\"}], \"surface\": [{\"colorbar\": {\"outlinewidth\": 0, \"ticks\": \"\"}, \"colorscale\": [[0.0, \"#0d0887\"], [0.1111111111111111, \"#46039f\"], [0.2222222222222222, \"#7201a8\"], [0.3333333333333333, \"#9c179e\"], [0.4444444444444444, \"#bd3786\"], [0.5555555555555556, \"#d8576b\"], [0.6666666666666666, \"#ed7953\"], [0.7777777777777778, \"#fb9f3a\"], [0.8888888888888888, \"#fdca26\"], [1.0, \"#f0f921\"]], \"type\": \"surface\"}], \"table\": [{\"cells\": {\"fill\": {\"color\": \"#EBF0F8\"}, \"line\": {\"color\": \"white\"}}, \"header\": {\"fill\": {\"color\": \"#C8D4E3\"}, \"line\": {\"color\": \"white\"}}, \"type\": \"table\"}]}, \"layout\": {\"annotationdefaults\": {\"arrowcolor\": \"#2a3f5f\", \"arrowhead\": 0, \"arrowwidth\": 1}, \"autotypenumbers\": \"strict\", \"coloraxis\": {\"colorbar\": {\"outlinewidth\": 0, \"ticks\": \"\"}}, \"colorscale\": {\"diverging\": [[0, \"#8e0152\"], [0.1, \"#c51b7d\"], [0.2, \"#de77ae\"], [0.3, \"#f1b6da\"], [0.4, \"#fde0ef\"], [0.5, \"#f7f7f7\"], [0.6, \"#e6f5d0\"], [0.7, \"#b8e186\"], [0.8, \"#7fbc41\"], [0.9, \"#4d9221\"], [1, \"#276419\"]], \"sequential\": [[0.0, \"#0d0887\"], [0.1111111111111111, \"#46039f\"], [0.2222222222222222, \"#7201a8\"], [0.3333333333333333, \"#9c179e\"], [0.4444444444444444, \"#bd3786\"], [0.5555555555555556, \"#d8576b\"], [0.6666666666666666, \"#ed7953\"], [0.7777777777777778, \"#fb9f3a\"], [0.8888888888888888, \"#fdca26\"], [1.0, \"#f0f921\"]], \"sequentialminus\": [[0.0, \"#0d0887\"], [0.1111111111111111, \"#46039f\"], [0.2222222222222222, \"#7201a8\"], [0.3333333333333333, \"#9c179e\"], [0.4444444444444444, \"#bd3786\"], [0.5555555555555556, \"#d8576b\"], [0.6666666666666666, \"#ed7953\"], [0.7777777777777778, \"#fb9f3a\"], [0.8888888888888888, \"#fdca26\"], [1.0, \"#f0f921\"]]}, \"colorway\": [\"#636efa\", \"#EF553B\", \"#00cc96\", \"#ab63fa\", \"#FFA15A\", \"#19d3f3\", \"#FF6692\", \"#B6E880\", \"#FF97FF\", \"#FECB52\"], \"font\": {\"color\": \"#2a3f5f\"}, \"geo\": {\"bgcolor\": \"white\", \"lakecolor\": \"white\", \"landcolor\": \"#E5ECF6\", \"showlakes\": true, \"showland\": true, \"subunitcolor\": \"white\"}, \"hoverlabel\": {\"align\": \"left\"}, \"hovermode\": \"closest\", \"mapbox\": {\"style\": \"light\"}, \"paper_bgcolor\": \"white\", \"plot_bgcolor\": \"#E5ECF6\", \"polar\": {\"angularaxis\": {\"gridcolor\": \"white\", \"linecolor\": \"white\", \"ticks\": \"\"}, \"bgcolor\": \"#E5ECF6\", \"radialaxis\": {\"gridcolor\": \"white\", \"linecolor\": \"white\", \"ticks\": \"\"}}, \"scene\": {\"xaxis\": {\"backgroundcolor\": \"#E5ECF6\", \"gridcolor\": \"white\", \"gridwidth\": 2, \"linecolor\": \"white\", \"showbackground\": true, \"ticks\": \"\", \"zerolinecolor\": \"white\"}, \"yaxis\": {\"backgroundcolor\": \"#E5ECF6\", \"gridcolor\": \"white\", \"gridwidth\": 2, \"linecolor\": \"white\", \"showbackground\": true, \"ticks\": \"\", \"zerolinecolor\": \"white\"}, \"zaxis\": {\"backgroundcolor\": \"#E5ECF6\", \"gridcolor\": \"white\", \"gridwidth\": 2, \"linecolor\": \"white\", \"showbackground\": true, \"ticks\": \"\", \"zerolinecolor\": \"white\"}}, \"shapedefaults\": {\"line\": {\"color\": \"#2a3f5f\"}}, \"ternary\": {\"aaxis\": {\"gridcolor\": \"white\", \"linecolor\": \"white\", \"ticks\": \"\"}, \"baxis\": {\"gridcolor\": \"white\", \"linecolor\": \"white\", \"ticks\": \"\"}, \"bgcolor\": \"#E5ECF6\", \"caxis\": {\"gridcolor\": \"white\", \"linecolor\": \"white\", \"ticks\": \"\"}}, \"title\": {\"x\": 0.05}, \"xaxis\": {\"automargin\": true, \"gridcolor\": \"white\", \"linecolor\": \"white\", \"ticks\": \"\", \"title\": {\"standoff\": 15}, \"zerolinecolor\": \"white\", \"zerolinewidth\": 2}, \"yaxis\": {\"automargin\": true, \"gridcolor\": \"white\", \"linecolor\": \"white\", \"ticks\": \"\", \"title\": {\"standoff\": 15}, \"zerolinecolor\": \"white\", \"zerolinewidth\": 2}}}, \"title\": {\"text\": \"Top 50 (Uncleaned) Word frequencies in the training dataset\"}},                        {\"responsive\": true}                    ).then(function(){\n",
       "                            \n",
       "var gd = document.getElementById('6a7bb362-e71f-4ac2-bb22-3b262dd0a58d');\n",
       "var x = new MutationObserver(function (mutations, observer) {{\n",
       "        var display = window.getComputedStyle(gd).display;\n",
       "        if (!display || display === 'none') {{\n",
       "            console.log([gd, 'removed!']);\n",
       "            Plotly.purge(gd);\n",
       "            observer.disconnect();\n",
       "        }}\n",
       "}});\n",
       "\n",
       "// Listen for the removal of the full notebook cells\n",
       "var notebookContainer = gd.closest('#notebook-container');\n",
       "if (notebookContainer) {{\n",
       "    x.observe(notebookContainer, {childList: true});\n",
       "}}\n",
       "\n",
       "// Listen for the clearing of the current output cell\n",
       "var outputEl = gd.closest('.output');\n",
       "if (outputEl) {{\n",
       "    x.observe(outputEl, {childList: true});\n",
       "}}\n",
       "\n",
       "                        })                };                });            </script>        </div>"
      ]
     },
     "metadata": {},
     "output_type": "display_data"
    }
   ],
   "source": [
    "all_words = train['text'].str.split(expand=True).unstack().value_counts()\n",
    "data = [go.Bar(\n",
    "            x = all_words.index.values[2:50],\n",
    "            y = all_words.values[2:50],\n",
    "            marker= dict(colorscale='Jet',\n",
    "                         color = all_words.values[2:100]\n",
    "                        ),\n",
    "            text='Word counts'\n",
    "    )]\n",
    "\n",
    "layout = go.Layout(\n",
    "    title='Top 50 (Uncleaned) Word frequencies in the training dataset'\n",
    ")\n",
    "\n",
    "fig = go.Figure(data=data, layout=layout)\n",
    "\n",
    "py.iplot(fig, filename='basic-bar')"
   ]
  },
  {
   "cell_type": "code",
   "execution_count": 7,
   "metadata": {},
   "outputs": [],
   "source": [
    "Virgin_America=train[train.airline==\"Virgin America\"][\"text\"].values\n",
    "United = train[train.airline==\"United\"][\"text\"].values\n",
    "Southwest = train[train.airline==\"Southwest\"][\"text\"].values\n",
    "Delta= train[train.airline==\"Delta\"][\"text\"].values\n",
    "American= train[train.airline==\"American\"][\"text\"].values\n",
    "US_Airways= train[train.airline==\"US Airways\"][\"text\"].values\n"
   ]
  },
  {
   "cell_type": "code",
   "execution_count": 11,
   "metadata": {},
   "outputs": [
    {
     "ename": "AttributeError",
     "evalue": "'numpy.ndarray' object has no attribute 'value_counts'",
     "output_type": "error",
     "traceback": [
      "\u001b[1;31m---------------------------------------------------------------------------\u001b[0m",
      "\u001b[1;31mAttributeError\u001b[0m                            Traceback (most recent call last)",
      "\u001b[1;32m<ipython-input-11-5b235863bbdc>\u001b[0m in \u001b[0;36m<module>\u001b[1;34m\u001b[0m\n\u001b[1;32m----> 1\u001b[1;33m \u001b[0mVirgin_America\u001b[0m\u001b[1;33m.\u001b[0m\u001b[0mvalue_counts\u001b[0m\u001b[1;33m\u001b[0m\u001b[1;33m\u001b[0m\u001b[0m\n\u001b[0m",
      "\u001b[1;31mAttributeError\u001b[0m: 'numpy.ndarray' object has no attribute 'value_counts'"
     ]
    }
   ],
   "source": []
  },
  {
   "cell_type": "markdown",
   "metadata": {},
   "source": [
    "## NLP ## \n",
    "In almost all Natural Language Processing (the field that explores interactions between a computer and human languages) tasks that you will come across (be it topic modelling, or word clustering or document-text classification etc), one will generally always have to undergo these few pre-processing steps to convert the input raw text into a form that is readable by your model and the machine. You certainly can't expect to feed a Random Forest model a paragraph of words and expect it to immediately predict which author that paragraph came from. Behind the scenes, text pre-processing can be boiled down to these few simple steps:\n",
    "\n",
    "Tokenization - Segregation of the text into its individual constitutent words.\n",
    "Stopwords - Throw away any words that occur too frequently as its frequency of occurrence will not be useful in helping detecting relevant texts. (as an aside also consider throwing away words that occur very infrequently).\n",
    "Stemming - combine variants of words into a single parent word that still conveys the same meaning\n",
    "Vectorization - Converting text into vector format. One of the simplest is the famous bag-of-words approach, where you create a matrix (for each document or text in the corpus). In the simplest form, this matrix stores word frequencies (word counts) and is oft referred to as vectorization of the raw text.\n",
    "Natural Language Toolkit (NLTK): To make our Natural Language Processing endeavours more convenient, let me introduce to you one of the most handy toolkits that on NLP - the Natural Language Toolkit, also more commonly referred to as the NLTK module. To import the toolkit, it is as easier as:"
   ]
  },
  {
   "cell_type": "markdown",
   "metadata": {},
   "source": [
    "\n"
   ]
  },
  {
   "cell_type": "code",
   "execution_count": null,
   "metadata": {},
   "outputs": [],
   "source": []
  },
  {
   "cell_type": "code",
   "execution_count": 19,
   "metadata": {},
   "outputs": [
    {
     "data": {
      "image/png": "[encoded data removed]",
      "text/plain": [
       "<Figure size 432x288 with 1 Axes>"
      ]
     },
     "metadata": {
      "needs_background": "light"
     },
     "output_type": "display_data"
    }
   ],
   "source": [
    "sns.countplot(data=df, x=\"airline_sentiment\");\n"
   ]
  },
  {
   "cell_type": "code",
   "execution_count": null,
   "metadata": {},
   "outputs": [],
   "source": [
    "##Maximum feedback belongs to negative sentiment"
   ]
  },
  {
   "cell_type": "code",
   "execution_count": 22,
   "metadata": {},
   "outputs": [
    {
     "data": {
      "image/png": "[encoded data removed]",
      "text/plain": [
       "<Figure size 1800x600 with 1 Axes>"
      ]
     },
     "metadata": {
      "needs_background": "light"
     },
     "output_type": "display_data"
    }
   ],
   "source": [
    "plt.figure(figsize=(12, 4), dpi=150)\n",
    "sns.countplot(data=df, x=\"airline\", hue=\"airline_sentiment\");"
   ]
  },
  {
   "cell_type": "code",
   "execution_count": 54,
   "metadata": {},
   "outputs": [],
   "source": [
    "data = df[[\"airline_sentiment\", \"text\"]]\n",
    "data.head()\n",
    "df=pd.read_csv('Usecase3_Dataset.csv')"
   ]
  },
  {
   "cell_type": "code",
   "execution_count": null,
   "metadata": {},
   "outputs": [],
   "source": [
    "##Maximum negative feedback can be observed in United Airlines and US Airways among all the airlines"
   ]
  },
  {
   "cell_type": "code",
   "execution_count": 55,
   "metadata": {},
   "outputs": [],
   "source": [
    "X = df[\"text\"]\n",
    "y = df[\"airline_sentiment\"]"
   ]
  },
  {
   "cell_type": "code",
   "execution_count": 56,
   "metadata": {},
   "outputs": [],
   "source": [
    "from sklearn.model_selection import train_test_split\n",
    "Xtrain, Xvalid, ytrain, yvalid = train_test_split(X, y, test_size=0.2, random_state=101)"
   ]
  },
  {
   "cell_type": "code",
   "execution_count": 57,
   "metadata": {},
   "outputs": [],
   "source": [
    "from sklearn.feature_extraction.text import TfidfVectorizer, CountVectorizer\n"
   ]
  },
  {
   "cell_type": "code",
   "execution_count": 58,
   "metadata": {},
   "outputs": [],
   "source": [
    "tfidf = TfidfVectorizer(stop_words=\"english\")"
   ]
  },
  {
   "cell_type": "code",
   "execution_count": 59,
   "metadata": {},
   "outputs": [
    {
     "data": {
      "text/plain": [
       "TfidfVectorizer(stop_words='english')"
      ]
     },
     "execution_count": 59,
     "metadata": {},
     "output_type": "execute_result"
    }
   ],
   "source": [
    "tfidf.fit(Xtrain)"
   ]
  },
  {
   "cell_type": "code",
   "execution_count": 60,
   "metadata": {},
   "outputs": [
    {
     "name": "stdout",
     "output_type": "stream",
     "text": [
      "{'united': 12022, 'hi': 6014, 'relative': 9648, 'flight': 5168, 'booking': 2645, 'problems': 9187, 'number': 8319, 'my8yb4': 7968, 'clarita': 3269, 'jaramillo': 6689, 'mejia': 7657, 'thank': 11341, 'americanair': 1889, 'served': 10313, 'nastiest': 8035, 'food': 5293, 'ive': 6645, 'seen': 10262, 'yesterday': 12872, 'rubber': 10005, 'chicken': 3192, 'slime': 10566, 'entire': 4690, 'cabin': 2900, 'sent': 10294, 'fas': 4986, 'confirm': 3525, 'yes': 12869, 'partly': 8684, 'used': 12189, 'del': 4000, 'ewr': 4799, 'return': 9835, 'cancelled': 2947, 'flightled': 5197, 'technical': 11273, 'glitch': 5630, 'operations': 8479, 'jetblue': 6725, 'helping': 5989, 'bunch': 2828, 'trying': 11717, 'time': 11472, 'fly': 5239, 'terrible': 11311, 'service': 10316, 'ruined': 10013, 'vacation': 12231, 'lostsuitcase': 7341, 'noreimbursement': 8246, 'usairways': 12170, '2hrs': 593, 'late': 7048, 'flightr': 5205, 'finally': 5096, 'taking': 11213, 'new': 8118, 'big': 2524, 'fan': 4971, 'southwestair': 10715, 'seriously': 10309, 'delays': 4008, 'takes': 11212, '42': 842, 'minutes': 7776, 'vegas': 12270, 'flylaxairport': 5260, 'amp': 1908, 'connecting': 3545, 'ridiculous': 9884, 'waiting': 12412, 'money': 7859, 'sitting': 10505, 'runway': 10030, 'hours': 6164, '5545': 1042, 'gate': 5527, 'agent': 1726, 'plane': 8923, 'phx': 8858, 'b18': 2283, 'nice': 8145, 'customer': 3822, 'bdl': 2420, 'stranded': 10944, 'dulles_airport': 4464, 'shout': 10428, 'diligent': 4158, 'agents': 1727, 'true': 11699, 'saying': 10144, 'way': 12487, 'collect': 3381, 'passengers': 8702, 'door': 4358, 'closing': 3315, 'want': 12448, 'mce': 7599, 'seat': 10231, 'followed': 5289, 'thanks': 11349, 'having': 5924, 'issues': 6618, 'checking': 3166, 'check': 3162, 'dm': 4302, 'convo': 3628, 'info': 6443, 'happened': 5877, 'didn': 4136, 'notification': 8281, 'departure': 4048, 'flightation': 5184, 'tomorrow': 11540, 'hrs': 6180, 'talk': 11217, 'second': 10242, 'row': 9985, 'haven': 5921, 'received': 9521, 'text': 11326, 'updates': 12111, 'change': 3115, 'don': 4340, 'offer': 8393, 'won': 12687, 'use': 12187, 'engineer': 4664, 'designed': 4075, '787': 1274, 'frame': 5348, 'extend': 4887, 'half': 5845, 'foot': 5299, '27a': 548, 'forced': 5303, 'sit': 10499, 'just': 6832, 'downloaded': 4383, 'app': 2012, 'iphone': 6583, 'notice': 8279, 'drink': 4420, 'coupon': 3681, 'displayed': 4247, 'getting': 5581, 'ready': 9484, 'say': 10142, 'delay': 4002, 'likely': 7186, 'love_dragonss': 7357, 'oh': 8406, 'god': 5648, 'lauren': 7061, 'sure': 11085, 'people': 8781, 'working': 12714, 'hard': 5895, 'systems': 11171, 'assist': 2138, 'ivr': 6647, 'prompting': 9241, 'offering': 8395, 'backs': 2312, 'hold': 6069, 'wait': 12409, 'times': 11477, 'poor': 9008, 'weekend': 12520, 'storm': 10933, 'stuck': 10985, 'tarmac': 11238, 'answer': 1970, 'status': 10868, 'merger': 7688, 'took': 11553, 'place': 8913, 'live': 7231, 'person': 8805, 'speak': 10739, 'day': 3923, 'dividend': 4284, 'miles': 7753, 'wrongfully': 12766, '65': 1156, '000': 1, 'account': 1608, 'pm': 8981, 'lodge': 7283, 'formal': 5324, 'complaints': 3483, 'thx': 11444, 'ca': 2896, 'attend': 2179, 'training': 11603, 'camp': 2941, 'sending': 10288, 'gear': 5538, 'fl': 5140, 'looks': 7319, 'like': 7182, 'trip': 11680, 'waste': 12469, 'nothappy': 8276, 'checked': 3163, 'cho': 3213, 'needs': 8078, 'added': 1657, 'evaluate': 4772, 'supposed': 11077, 'extended': 4888, 'weather': 12504, 'counting': 3673, 'help': 5983, 'https': 6188, 'oqukso3s2o': 8495, 'subscribe': 11009, 'doesn': 4327, 'address': 1664, 'issue': 6616, '30': 631, 'min': 7761, 'flying': 5252, 'competitor': 3473, 'today': 11519, 'starts': 10856, 'ends': 4654, 'make': 7478, 'mistake': 7815, 'americanforlife': 1896, 'yup': 12918, 'know': 6957, 'fault': 4997, 'ideal': 6261, 'sittin': 10504, 'hour': 6160, 'staff': 10823, 'great': 5732, 'impossible': 6336, 'actually': 1647, 'passenger': 8701, 'luggage': 7398, 'final': 5093, 'destination': 4092, 'skis': 10534, 'bag': 2337, 'svc': 11112, 'airport': 1783, 'left': 7106, 'msgs': 7923, 'things': 11400, 'happen': 5876, 'ok': 8416, 'wish': 12660, 'beach': 2423, 'fight': 5076, 'got': 5691, 'flighted': 5190, 'rebook': 9510, 'center': 3074, 'busy': 2855, 'calls': 2933, 'yuck': 12914, 'connected': 3542, '4467': 886, '152': 219, '25': 511, '503': 985, '26th': 541, '4am': 947, 'delayed': 4003, 'reinstated': 9636, 'caused': 3039, 'additional': 1660, 'details': 4100, 'happy': 5883, 'automated': 2224, 'lip': 7213, 'quick': 9382, 'question': 9376, 'bought': 2678, 'wifi': 12618, 'phone': 8849, 'buy': 2861, 'tablet': 11190, 'moving': 7904, 'brother': 2773, 'laws': 7067, 'graduation': 5712, '6th': 1205, 'deck': 3967, 'ua768': 11901, 'sfo': 10343, 'gt': 5787, 'bos': 2664, 'exceptional': 4813, 'tell': 11290, 'ceo': 3083, 'robin': 9942, 'hayes': 5930, 'battles': 2401, 'appease': 2021, 'wall': 12436, 'street': 10959, 'business': 2849, 'savannah': 10129, 'http': 6187, 'kkay8xaps1': 6941, 'making': 7485, 'worth': 12740, 'currently': 3810, 'deplane': 4054, 'worst': 12727, 'class': 3272, 'boarding': 2617, 'guys': 5816, 'fee': 5029, 'changes': 3118, 'flights': 5207, 'dca': 3932, 'afternoon': 1719, 'uwon': 12215, 'allow': 1844, 'me2make': 7614, 'online': 8456, 'force': 5302, 'me2sit': 7615, 'excess': 4817, 'insist': 6487, 'charging': 3135, 'crazy': 3731, 'fees': 5039, 'thats': 11361, 'hahaha': 5839, 'russia': 10034, 'apology': 2009, 'commitment': 3431, 'fix': 5132, 'broken': 2765, 'better': 2500, 'fixing': 5135, 'wsj': 12772, 'team': 11265, 'access': 1589, 'journal': 6800, 'digital': 4154, '2nzh3qoazo': 612, 'cmh': 3339, 'website': 12511, 'crashed': 3723, 'going': 5655, 'forth': 5332, 'able': 1561, 'board': 2615, 'virginamerica': 12332, 'shame': 10358, 'va': 12223, 'spend': 10761, 'cities': 3250, 'airlines': 1777, 'landing': 7023, 'jfk': 6750, 'reimburse': 9631, 'technically': 11274, 'drive': 4422, 'request': 9737, '261633561838': 533, 'let': 7127, 'need': 8073, 'friend': 5394, 'lucky': 7395, 'destinationdragons': 4094, 'birthday': 2547, 'years': 12859, 'thirty_lives': 11409, '1562': 233, 'bags': 2343, '12': 133, 'ago': 1737, 'missing': 7811, 'connections': 3547, 'realize': 9492, 'contents': 3590, 'wet': 12556, 'hotel': 6148, 'suit': 11037, 'shirts': 10392, 'dry': 4441, 'cleaned': 3285, 'mtgs': 7931, 'start': 10850, 'brd': 2718, 'frustrated': 5416, 'buf': 2808, 'roc': 9950, 'tld': 11505, 'flt': 5227, 'gng': 5643, '2b': 573, 'held': 5977, 'earlier': 4507, 'mess': 7692, 'cng': 3347, 'bk': 2558, 'unable': 11946, 'overbk': 8570, 'vp': 12371, 'custexp': 3821, 'jimmy': 6762, 'samartzis': 10085, 'survey': 11103, 'email': 4605, 'awful': 2264, 'exp': 4844, 'otfz7cyguq': 8535, 'leaves': 7101, 'arriving': 2098, 'early': 4509, 'wedding': 12514, 'vt': 12377, 'sept': 10304, 'grateful': 5729, 'btv': 2794, 'response': 9791, 'ticket': 11449, 'refunded': 9603, 'purchased': 9308, 'credit': 3741, 'respond': 9787, 'giving': 5615, 'false': 4964, 'hope': 6118, 'home': 6086, 'jamesasworth': 6678, 'corporate': 3645, 'manager': 7502, '22': 454, 'brent': 2736, '70plus': 1219, 'delta': 4024, 'phl': 8843, 'austin': 2216, 'headed': 5943, 'houston': 6167, 'pay': 8738, 'rent': 9691, 'car': 2973, 'stahhppp': 10830, 'rt': 9997, 'fleet': 5155, 'fleek': 5154, 'vhfjgneozo': 12303, 'killing': 6921, 'flightly': 5200, 'missed': 7804, 'international': 6539, 'connection': 3546, 'extra': 4895, 'night': 8157, '15lb': 246, 'surfboardbag': 11090, 'updated': 12110, 'killeen': 6919, 'tx': 11775, 'really': 9495, 'v5qwkyxsw6': 12221, 'consider': 3556, '50': 977, 'mins': 7771, '10': 51, '00pm': 10, 'sunday': 11048, 'fast': 4988, 'reconsider': 9541, 'think': 11403, 'means': 7622, 'baggage': 2339, 'free': 5369, 'oxsa8btvtb': 8610, 'chat': 3147, 'support': 11072, 'site': 10500, 'vhp2gtdwpk': 12304, 'honululu': 6106, 'gets': 5579, 'pushed': 9317, 'beg': 2450, 'plz': 8980, 'sort': 10691, 'soon': 10681, 'feedback': 5031, 'impressed': 6338, 'super': 11061, 'reply': 9717, 'cgjase': 3094, 'rerouted': 9748, 'aa977': 1529, 'mia': 7720, 'cur': 3803, 'mean': 7619, 'posted': 9044, 'usair': 12165, 'empl': 4632, 'direct': 4169, '800': 1306, 'accepting': 1587, 'contact': 3579, 'greatjob': 5736, 'followback': 5288, 'hire': 6045, 'efficiency': 4559, 'consultant': 3573, 'manage': 7499, 'checkin': 3165, 'open': 8469, 'kiosks': 6932, '100': 52, 'ppl': 9063, 'musicians': 7959, 'sensitive': 10293, 'safety': 10063, 'instruments': 6504, 'good': 5669, 'reason': 9501, 'word': 12701, 'relations': 9645, 'department': 4046, 'charge': 3131, 'seats': 10238, 'available': 2233, 'sense': 10291, 'upcoming': 12108, 'rr': 9993, 'deval': 4106, 'southwest': 10714, 'anymore': 1991, 'loyal': 7377, 'far': 4976, 'standby': 10839, '4hrs': 955, 'conf': 3520, 'fvf9yw': 5475, 'swrr': 11149, '298033455': 568, 'pity': 8905, 'machine': 7446, 'replied': 9715, 'story': 10935, 'unusual': 12100, 'expected': 4851, 'given': 5611, 'article': 2101, 'magazine': 7458, 'msscottwg': 7927, 'screwed': 10209, 'admit': 1677, 'goingforgreatnessfail': 5657, '838': 1334, 'leaving': 7102, 'mechanical': 7633, 'lodging': 7284, 'voucher': 12366, 'meals': 7618, 'tonight': 11548, 'st': 10818, 'thomas': 11417, 'booked': 2644, 'award': 2254, 'recently': 9525, 'using': 12197, 'form': 5323, 'luckily': 7394, 'disinfectant': 4229, 'wipes': 12656, 'did': 4135, 'job': 6782, 'welcome': 12533, 'badservice': 2332, 'awaiting': 2252, 'nburnside26': 8057, 'hate': 5913, 'holding': 6072, 'hostage': 6143, 'ua': 11796, '1001': 55, 'portland': 9028, 'ride': 9880, 'getmartyhome': 5570, 'wasting': 12474, 'arrive': 2095, 'lose': 7328, 'den': 4032, 'ord': 8500, 'ugh': 11931, 'lost': 7334, 'experience': 4864, 'choose': 3218, 'imaginedragons': 6316, 'movies': 7903, 'apparently': 2016, 'dunkin': 4471, 'donuts': 4355, 'coffee': 3370, 'hazard': 5932, 'thingsyoucantmakeup': 11402, 'switch2sbux': 11143, 'assigned': 2135, 'seating': 10236, 'cousin': 3694, 'probably': 9183, '17': 285, 'month': 7869, 'old': 8427, 'child': 3194, 'fold': 5283, 'crib': 3752, 'similar': 10479, 'policy': 9001, 'infant': 6432, 'appreciate': 2036, 'kindness': 6929, 'adjusting': 1671, 'reservation': 9767, 'snowstorms': 10638, 'prefer': 9101, 'different': 4146, 'airline': 1771, 'fav': 5001, 'dal': 3881, 'airways': 1794, 'hits': 6056, 'high': 6021, '58': 1070, 'jblu': 6700, 'wkrb': 12673, 'news': 8131, 'xvbjczlmda': 12825, '2nd': 606, 'february': 5019, 'try': 11714, 'cancun': 2950, 'badcustomerservice': 2324, 'area': 2067, 'pic': 8863, 'taken': 11208, 'albums': 1816, 'philly': 8841, 'deplorable': 4058, 'rude': 10008, 'unprofessional': 12071, 'flightations': 5185, 'takingthistothetop': 11214, 'll': 7250, 'reads': 9483, 'responds': 9790, 'assistance': 2139, 'sorry': 10689, 'claims': 3263, 'aa': 1479, 'ref': 9580, '2990176298': 570, '3001885409': 635, 'accordingly': 1607, 'bham': 2517, 'waterbury': 12480, 'republican': 9733, 'american': 1888, 'ur60un86gy': 12134, 'aa1675': 1495, 'airplane': 1780, '24': 492, 'btw': 2796, 'desk': 4082, 'unorganized': 12064, 'ones': 8446, 'unhelpful': 12018, 'prompted': 9240, 'initial': 6457, 'tweet': 11761, 'easy': 4527, 've': 12265, '35': 704, 'sync': 11163, 'message': 7693, 'wrong': 12765, 'promo': 9233, 'coming': 3418, 'looking': 7318, 'premiere': 9114, 'card': 2975, 'option': 8492, 'update': 12109, 'emergency': 4622, 'jacksonville': 6668, 'right': 9889, 'parentsonboard': 8673, 'letting': 7136, 'switch': 11142, 'bc': 2411, 'flighting': 5193, 'forcing': 5306, 'bwi': 2868, 'sjd': 10515, 'seasonal': 10230, 'wasn': 12466, 'extension': 4890, 'called': 2927, 'intl': 6551, 'sat': 10115, 'continuing': 3601, 'sleep': 10554, '29': 558, 'travel': 11633, 'refund': 9601, 'told': 11531, 'waitin': 12411, 'view': 12314, 'mi': 7719, 'problem': 9185, 'changed': 3116, 'fingers': 5106, 'crossed': 3764, 'fail': 4937, 'todays': 11520, 'ensure': 4681, 'best': 2488, 'utilize': 12211, 'cut': 3837, 'original': 8517, 'estimated': 4752, 'shown': 10434, 'pdx': 8756, 'suuuuper': 11110, 'hot': 6147, 'club': 3326, 'ual': 11916, 'flightlation': 5195, 'costs': 3661, 'overbooked': 8572, 'folks': 5286, 'im': 6313, 'miss': 7803, 'main': 7468, 'supporter': 11074, 'play': 8942, 'jesus': 6722, 'portrayed': 9030, 'homosexual': 6092, 'partner': 8685, 'judas': 6817, 'performs': 8794, 'gay': 5533, 'boycott': 2689, 'infuriated': 6452, 'previous': 9145, 'rep': 9698, 'treated': 11658, 'possibly': 9042, 'work': 12705, 'tried': 11677, 'idea': 6260, 'morning': 7882, 'nashville': 8033, 'bna': 2610, 'fort': 5331, 'lauderdale': 7053, 'fll': 5218, '683': 1177, 'bad4business': 2318, 'long': 7309, 'recommend': 9538, 'neveryamind': 8117, 'paid': 8642, '450': 896, '250': 512, 'customers': 3826, 'vn3jjia53o': 12351, 'does': 4326, 'meaning': 7620, 'nightmare': 8158, 'bumped': 2825, 'dallas': 3883, 'pilots': 8884, 'oversleeping': 8594, 'uncontrollable': 11971, 'irregularity': 6596, 'eligible': 4590, 'compensation': 3466, 'america': 1887, 'hawaii': 5926, 'end': 4649, 'year': 12857, 'r8p2zy3fe4': 9409, 'pacificbiznews': 8626, 'hanging': 5869, 'line': 7201, 'deal': 3942, 'iah': 6240, 'airlinegeeks': 1774, 'avgeek': 2240, 'djhxvjt201': 4293, '3472': 698, 'dreaming': 4413, 'route': 9979, '795': 1280, '4097': 819, 'maintenance': 7474, 'leave': 7100, 'sigh': 10457, 'wins': 12648, 'marks': 7544, 'twitter': 11772, 'turned': 11749, 'positive': 9036, 'effort': 4564, 'confirmation': 3526, 'fwwe7f': 5483, 'norfolk': 8248, 'lga': 7148, 'nyc': 8339, 'ant': 1977, 'understand': 11983, 'drain': 4403, 'lavatory': 7064, 'fearing': 5015, 'freezing': 5376, 'smh': 10596, 'come': 3405, 'cool': 3633, 'explanation': 4878, 'meeting': 7649, 'outraged': 8559, 'included': 6376, 'completely': 3486, 'unanticipated': 11956, 'pathetic': 8720, 'complicated': 3489, 'cust': 3820, 'hey': 6002, 'takeoff': 11209, 'regardless': 9614, 'makes': 7482, 'claim': 3260, 'crew': 3745, '504': 986, 'yvr': 12921, 'friendly': 5396, 'efficient': 4560, 'awesome': 2261, 'stand': 10836, 'causing': 3041, 'confirmed': 3528, 'linked': 7209, 'rez': 9864, 'follow': 5287, 'book': 2642, 'drop': 4428, 'price': 9148, 'cheaper': 3153, 'rate': 9452, 'reroute': 9747, 'eta': 4754, 'air': 1758, 'svu': 11114, 'space': 10727, 'aa199': 1498, 'mxp': 7966, 'feb': 5018, '28th': 557, 'figure': 5078, 'san': 10090, 'juan': 6816, 'diego': 4140, 'wondering': 12692, 'past': 8712, 'days': 3926, 'weeks': 12524, 'complaint': 3482, 'submitted': 11005, 'said': 10070, 'look': 7314, '1hr': 365, 'spot': 10789, 'virgin': 12331, 'modify': 7845, 'waive': 12420, 'phones': 8852, 'becuz': 2443, 'dropped': 4430, 'ring': 9893, 'figured': 5079, 'grr': 5775, 'plenty': 8965, 'gates': 5529, 'worried': 12722, 'spare': 10737, 'tickets': 11452, 'forever': 5312, 'music': 7956, 'marcnocwzn': 7525, 'callback': 2926, 'ukm4e99dz0': 11939, 'lmaoooo': 7255, 'bad': 2317, 'multiple': 7944, 'scared': 10162, 'noted': 8271, '4443': 880, 'arrived': 2096, '33': 676, 'apx': 2057, 'hr': 6178, 'special': 10743, 'accommodations': 1601, 'mom': 7849, 'traveling': 11640, 'unacceptable': 11947, 'sign': 10460, 'stl': 10911, 'saturday': 10123, 'expecting': 4852, 'ice': 6247, 'snow': 10630, 'waivers': 12423, 'obviously': 8371, 'ads': 1684, 'helpful': 5986, 'uvf': 12214, 'correct': 3647, 'moved': 7898, 'economy': 4542, '4567': 903, 'understands': 11987, 'military': 7756, 'families': 4968, 'unpredictable': 12069, 'pound': 9055, 'says': 10145, 'retrieved': 9831, 'boom': 2649, 'pzgc6jch7n': 9331, '90': 1388, 'dollar': 4334, 'chicago': 3188, 'worse': 12726, 'goes': 5650, 'diverted': 4281, 'happens': 5879, 'power': 9060, 'level': 7137, 'feet': 5040, 'opportunity': 8485, 'pets': 8819, 'allowed': 1849, 'stop': 10925, 'pointsme': 8995, 'error': 4729, 'pilot': 8883, 'attendant': 2180, 'walking': 12433, 'away': 2257, 'laughing': 7056, 'wow': 12749, 'resolution': 9775, 'decided': 3962, 'especially': 4741, 'continue': 3598, 'attempting': 2178, 'odds': 8386, 'orlando': 8520, '2dayslate': 582, 'okc': 8420, 'roger': 9962, 'mclarren': 7603, 'sp': 10726, 'group': 5768, 'supervisor': 11068, 'responding': 9789, 'quickly': 9386, 'complete': 3484, 'cop': 3635, 'ask': 2117, 'situation': 10508, 'plus': 8979, 'course': 3685, 'dming': 4307, 'ladies': 7010, 'gents': 5554, 'solution': 10665, 'lax': 7071, 'unveils': 12101, 'routes': 9981, 'including': 6378, 'ohio': 8410, '4urzvbpjko': 972, 'usatoday': 12181, '1272': 159, 'ric': 9869, 'depart': 4043, 'normal': 8251, 'receive': 9520, 'central': 3077, 'baggageissues': 2340, 'yelled': 12863, 'notified': 8283, 'welldone': 12536, 'favorite': 5005, 'orleans': 8522, 'april': 2053, '1644': 269, 'sna': 10617, 'dfw': 4118, 'mke': 7824, 'rebooked': 9511, 'fresh': 5384, 'cross': 3763, 'country': 3677, 'close': 3308, 'eat': 4528, 'tpa': 11587, 'nope': 8242, 'extremely': 4900, 'disappointed': 4189, 'mileageplus': 7751, 'explorer': 4881, 'holder': 6070, 'arrival': 2093, 'shv': 10449, '1st': 379, 'mon': 7856, '23rd': 490, 'viraltech': 12330, 'creates': 3736, 'institutional': 6500, 'quality': 9370, 'driven': 4423, 'revenue': 9848, 'predictive': 9098, 'analytics': 1919, 'forecasts': 5308, 'public': 9288, 'data': 3912, 'limit': 7195, 'ozs': 8615, 'excited': 4819, 'ground': 5765, 'evenlate': 4776, 'drunk': 4435, 'guy': 5814, 'threw': 11430, 'ua936': 11911, 'rest': 9798, '5hrs': 1095, 'shopping': 10408, 'somebody': 10672, 'duty': 4476, 'writing': 12763, 'company': 3452, 'transports': 11626, 'clients': 3300, 'monthly': 7870, 'sw': 11115, 'fare': 4978, 'structures': 10980, 'reduced': 9573, 'legroom': 7115, 'hated': 5914, 'carrier': 3000, 'congrats': 3538, 'repeat': 9704, 'cle': 3283, 'activities': 1643, 'asked': 2119, 'ua7985': 11903, 'coshared': 3655, 'ana': 1915, 'prior': 9168, 'momma': 7852, '1389': 190, 'las': 7039, 'spoken': 10780, 'pls': 8973, 'unitedairlines': 12028, 'aspenbaggagefail': 2125, 'aspen': 2124, 'cold': 3376, '2284': 468, 'flightrs': 5206, 'event': 4780, 'male': 7489, 'attendants': 2181, 'playing': 8947, 'game': 5513, 'bigger': 2525, 'dick': 4132, '952': 1410, 'chi': 3186, 'mid': 7728, 'scavenger': 10166, 'hunt': 6213, 'little': 7230, 'win': 12632, '1861': 331, 'charlotte': 3141, 'rdu': 9467, '20pm': 429, 'scheduled': 10177, 'ua1534': 11826, '11': 100, 'wtf': 12775, 'mind': 7762, 'beginning': 2454, 'send': 10286, 'mail': 7463, 'tiredofwaiting': 11490, 'forget': 5316, 'log': 7286, '45': 895, 'alsonodrinkcartcomingaround': 1858, 'hands': 5862, 'massive': 7563, 'inconvenience': 6389, 'hrl': 6179, '20': 389, 'fligt': 5210, '2321': 477, 'hare': 5902, '17pm': 309, 'volume': 12357, 'thanku': 11355, 'g8cvwj': 5497, 'kailua': 6854, 'accomplish': 1604, 'item': 6626, 'located': 7276, 'returned': 9836, 'coupons': 3682, 'points': 8994, 'friends': 5399, 'segments': 10268, 'york': 12883, 'suck': 11020, 'maybe': 7583, 'bus': 2843, 'security': 10254, 'checkpoint': 3168, 'respect': 9784, 'stress': 10963, 'reschedule': 9752, 'replane': 9713, '15': 207, 'youcandobetter': 12886, 'fwa': 5480, 'boards': 2619, 'landed': 7022, 'platinum': 8937, 'flyer': 5246, 'tkt': 11501, 'accounts': 1611, 'flightn': 5201, 'fend': 5048, 'came': 2936, 'runaround': 10023, 'employee': 4635, 'blaming': 2575, 'delaney': 4001, 'shawn': 10375, 'showed': 10430, 'happily': 5881, 'possible': 9041, 'valid': 12241, 'circle': 3241, 'pacific': 8625, 'itineraries': 6633, 'dest': 4090, 'invalid': 6558, 'leg': 7107, '2133': 442, '2pm': 616, 'spent': 10764, 'caterobbie': 3026, 'link': 7208, 'worked': 12707, 'care': 2978, 'tech': 11272, 'usual': 12199, 'wiyh': 12667, 'hello': 5982, 'sunny': 11054, 'west': 12549, 'palm': 8654, 'jetbluerocks': 6736, 'resolved': 9778, 'comment': 3424, 'contacting': 3581, 'aa223': 1501, 'ignored': 6288, 'losing': 7332, 'worst2unitedflightsever': 12728, 'ua1429': 11818, 'iad': 6238, '19': 339, 'switched': 11144, 'aircraft': 1765, '528': 1019, 'columbus': 3396, 'phoenix': 8848, 'starving': 10858, 'pissed': 8894, 'seconds': 10244, 'thrilled': 11431, 'loved': 7358, 'starting': 10852, 'canada': 2944, 'traffic': 11600, 'control': 3608, 'general': 5545, 'newburgh': 8125, 'relate': 9644, 'flightd': 5188, 'ty': 11779, '1706': 289, 'loses': 7331, 'software': 10655, 'believe': 2468, 'upgrade': 12116, 'delivered': 4020, 'delivery': 4022, 'accident': 1592, 'rno': 9925, 'resched': 9751, 'absolutely': 1568, 'karen': 6860, 'salisbury': 10079, 'amazing': 1879, 'daughter': 3917, 'ua1516': 11823, 'accepted': 1586, 'customerservicewin': 3831, 'itravelalot': 6637, 'z5znfwkkwp': 12933, 'whiny': 12589, 'accommodated': 1597, 'dont': 4348, '290': 559, 'boston': 2667, 'tues': 11737, 'based': 2387, 'negligence': 8087, 'subpar': 11008, 'stepitup': 10887, 'real': 9487, 'accurate': 1616, 'guide': 5802, 'mp3': 7906, 'player': 8945, 'usage': 12164, 'nvk3irg4kp': 8327, 'luved': 7410, 'sjc': 10514, '23': 472, 'boarded': 2616, '372': 730, 'represents': 9730, 'brand': 2704, 'considering': 3562, 'gold': 5658, 'jump': 6826, 'singapore': 10487, 'charged': 3132, '600': 1112, 'desks': 4083, 'buffalo': 2809, '555phltoslc': 1046, 'happening': 5878, 'horrible': 6132, 'future': 5473, 'eczhcmm5vi': 4543, '1665': 273, 'departing': 4045, 'operational': 8478, 'difficulties': 4149, 'started': 10851, 'triflight': 11679, 'lile': 7191, 'florida': 5223, 'upstate': 12130, 'ny': 8337, 'son': 10676, 'pass': 8697, 'printed': 9165, 'print': 9164, 'expressed': 4885, 'disapptment': 4193, 'love': 7356, 'tv': 11756, 'descent': 4066, 'fares': 4981, 'recent': 9524, 'annoying': 1964, 'raleigh': 9429, 'firstclass': 5120, 'screw': 10208, 'elite': 4592, 'bailed': 2347, 'fortunately': 5333, 'window': 12635, 'scoot': 10192, 'create': 3734, '_austrian': 1453, 'guess': 5795, 'awhile': 2268, 'longer': 7311, 'aa375': 1517, '02': 17, 'cncled': 3345, 'csr': 3783, 'alternate': 1862, 'arrangement': 2091, 'doors': 4359, 'telling': 11292, 'weak': 12496, 'sauce': 10125, 'zero': 12940, 'inflight': 6441, 'entertainment': 4689, 'salt': 10081, 'lake': 7018, 'philadelphia': 8838, 'fernheinig18': 5050, 'accountability': 1609, 'progress': 9220, 'pleasehelp': 8957, 'whenitsnowsitpours': 12579, 'tgcyalate': 11335, '70': 1212, 'yall': 12844, 'pretty': 9137, 'shin': 10386, 'splits': 10775, 'sprinting': 10801, 'watch': 12476, 'pull': 9294, 'jet': 6723, 'reserved': 9770, 'point': 8990, 'stating': 10865, 'regular': 9626, 'picking': 8866, 'vtqe8m1l3i': 12378, 'lolol': 7300, 's_myc88': 10047, 'vibe': 12305, 'moodlight': 7875, 'touchdown': 11575, 'moodlitmonday': 7877, 'sciencebehindtheexperience': 10186, 'y7o0unxtqp': 12839, 'push': 9315, 'acceptable': 1585, 'rapids': 9448, 'rewards': 9863, 'member': 7667, 'lovetotravel': 7367, 'chaching': 3099, 'paris': 8675, 'oui': 8543, 'awesomeee': 2262, 'appear': 2018, 'applied': 2029, 'flaw': 5150, 'wasted': 12470, 'family': 4969, 'lol': 7299, 'plans': 8932, 'tuesday': 11738, 'computer': 3499, 'crash': 3722, 'fam': 4966, 'lmfao': 7256, 'needed': 8076, 'admirals': 1675, 'clt': 3323, 'ignorant': 6286, 'fallen': 4960, 'doug': 4374, 'parker': 8678, 'options': 8493, 'rental': 9692, 'yr': 12909, 'priority': 9170, 'adam': 1652, 'b12': 2279, 'communication': 3439, 'poorservice': 9015, 'luv': 7408, 'companion': 3449, 'claudoakeshott': 3280, 'nonstop': 8231, 'loyalty': 7380, 'count': 3668, 'hometown': 6090, 'preferred': 9105, 'bummed': 2822, 'disappeared': 4185, 'miserable': 7788, 'letdown': 7128, 'neveragain': 8107, 'denied': 4034, '150': 208, 'hime': 6036, '1217': 138, 'huge': 6196, 'feels': 5036, '4251': 849, 'jm8gq1kgrf': 6774, 'nc': 8060, 'respectful': 9785, 'cleared': 3289, '5hourwait': 1092, 'nocrew': 8200, 'intention': 6523, 'lies': 7168, 'lack': 7005, 'directly': 4174, 'hadn': 5835, 'shes': 10382, 'rescheduled': 9753, 'frigid': 5401, '2day': 580, 'kp': 6967, 'mention': 7678, 'quiche': 9381, 'breakfast': 2724, 'tandoori': 11228, 'dinner': 4166, 'entrees': 4695, 'accompaniments': 1602, 'truly': 11705, 'mistakes': 7817, 'short': 10409, 'period': 8795, 'basically': 2389, 'evening': 4775, 'midnight': 7734, 'monday': 7857, 'trips': 11685, '2139': 443, 'aforementioned': 1715, 'merge': 7686, 'patron': 8729, 'hitting': 6057, 'hoodlums': 6109, 'c24cefa9pl': 2883, 'section': 10248, 'chrome': 3227, 'wanna': 12445, 'trust': 11707, 'handle': 5856, 'breathing': 2731, 'heavily': 5966, 'gave': 5532, 'moment': 7850, 'unexpected': 12002, 'gesture': 5566, '211': 437, 'prevent': 9141, 'onboard': 8440, 'reasonable': 9502, 'sapphire': 10106, 'members': 7668, 'reach': 9469, '4603': 917, 'newark': 8121, '10am': 87, 'kys': 6993, 'glenn': 5629, 'coles': 3378, 'niagara': 8144, 'notch': 8267, 'livvyports16': 7243, 'bcuz': 2414, 'compensated': 3463, 'describing': 4067, 'angry': 1939, 'cvg': 3846, 'meelan': 7646, 'afford': 1713, 'conversation': 3618, 'rec': 9515, 'copy': 3638, 'edition': 4546, 'hemisphere': 5994, 'lets': 7130, 'saw': 10140, 'avail': 2230, 'pref': 9100, 'alt': 1861, 'oregon': 8506, 'women': 12686, 'tennis': 11302, 'santa': 10102, 'barbara': 2375, 'supposedly': 11078, 'la': 7000, 'golf': 5660, 'clubs': 3328, 'shoes': 10407, 'balls': 2360, 'piece': 8873, '4649': 921, 'ft': 5425, 'louisville': 7351, 'kids': 6915, 'lines': 7203, 'dilemma': 4157, 'jason': 6691, 'hasn': 5908, '654': 1161, 'wonderful': 12690, 'despite': 4089, 'heavy': 5967, 'load': 7263, 'write': 12761, 'post': 9043, 'medium': 7643, 'tanked': 11229, 'aa973': 1528, 'jumping': 6828, 'gun': 5810, 'flightlations': 5196, '561': 1056, 'pbi': 8750, '4ktk2hsmgy': 960, 'hoping': 6127, 'maintained': 7473, 'bummer': 2823, 'blue': 2604, 'planes': 8925, 'runways': 10031, 'disaster': 4194, 'program': 9218, 'pairs': 8652, 'grand': 5714, 'budapest': 2802, 'oscarscountdown': 8533, 'skywest': 10545, 'events': 4783, '1278': 160, '48': 931, 'record': 9543, 'locator': 7280, 'bsuxlu': 2789, '3thparty': 796, 'shit': 10393, 'nigga': 8155, 'north': 8254, 'couldn': 3667, 'behalf': 2458, 'instead': 6499, 'refused': 9609, '2days': 581, 'sleeping': 10555, 'floor': 5221, 'homeless': 6088, 'equipment': 4720, 'isn': 6611, 'get2': 5567, 'couple': 3680, 'rings': 9896, 'mailbox': 7464, 'set': 10324, 'forwarding': 5338, 'cell': 3071, '1247': 152, 'carry': 3003, 'overhead': 8581, 'bins': 2539, 'flight6831': 5178, 'pssgrs': 9277, 'rain': 9423, 'cover': 3696, 'psngrs': 9275, 'cnnbrk': 3349, 'doing': 4331, 'stewardess': 10895, 'serving': 10321, 'drunks': 4437, 'drinks': 4421, 'jb': 6698, 'birder': 2542, 'outside': 8562, 'shouldn': 10425, 'trap': 11627, 'disheartening': 4226, 'lot': 7342, 'taxi': 11247, 'employees': 4636, 'wife': 12615, 'sick': 10453, '3yr': 801, 'twins': 11770, 'til': 11465, 'bank': 2367, 'conference': 3521, 'social': 10648, 'agencies': 1724, 'qrxz0bgbtq': 9363, 'atl': 2165, 'typo': 11784, 'logging': 7291, 'slc': 10549, 'dark': 3908, 'blackish': 2566, 'fit': 5128, 'bit': 2551, 'flex': 5157, '445pm': 883, 'mt': 7929, '122': 140, 'reported': 9720, 'husband': 6221, 'ordered': 8503, 'screen': 10202, 'noooo': 8237, 'lsxji0ouvr': 7385, '89': 1355, 'apple': 2023, 'kept': 6898, 'glass': 5625, 'jetbluejfk': 6733, 'bucks': 2801, 'xd': 12803, 'doesnt': 4328, 'clothes': 3318, 'julgood1': 6821, 'miscommunicated': 7786, '8pm': 1379, 'unfortunate': 12010, 'incident': 6367, 'discrimination': 4215, 'chose': 3222, 'ball': 2357, 'gives': 5612, '667': 1165, 'frustrating': 5417, 'frequent': 5379, 'continental': 3593, 'equals': 4718, 'paying': 8741, 'purchase': 9307, 'prompt': 9239, 'continually': 3597, 'according': 1606, 'federal': 5025, 'regulations': 9629, 'quicker': 9383, 'voice': 12354, 'concerns': 3506, 'miami': 7721, 'preboard': 9084, 'fat': 4992, 'felt': 5045, 'threatened': 11427, 'unsafe': 12079, 'derrick': 4063, 'bussey': 2852, 'reiterate': 9641, 'doubtful': 4373, 'sales': 10078, 'covering': 3699, 'sweet': 11132, 'glad': 5621, 'hear': 5952, 'us1765': 12141, '5012': 982, 'hopefully': 6121, 'suggestions': 11034, 'approximate': 2050, 'unfortunately': 12011, 'answered': 1971, 'horrid': 6136, 'swa': 11117, 'role': 9963, 'model': 7843, 'finger': 5105, 'pointing': 8992, 'excuses': 4825, 'answering': 1972, 'questions': 9377, 'aren': 2069, 'dozens': 4390, '3hrs': 784, 'interview': 6547, 'suicide': 11036, 'leading': 7086, 'cause': 3038, 'death': 3949, 'teens': 11280, 'inquire': 6473, 'pretend': 9136, 'interested': 6530, 'responded': 9788, '746': 1249, 'okay': 8418, 'deleted': 4010, 'thought': 11419, 'run': 10022, 'c29': 2886, 'a18': 1461, 'b11': 2278, 'carts': 3013, 'transfer': 11611, 'elderly': 4581, 'handicap': 5853, 'budget': 2805, 'blown': 2603, 'refer': 9581, 'works': 12717, 'google': 5682, 'internet': 6541, 'trouble': 11691, 'satisfactory': 10119, 'aqjn4hwnac': 2059, 'negotiate': 8089, 'resolutions': 9776, 'spruce': 10802, 'moose': 7879, 'pr': 9068, 'tweets': 11766, 'mr': 7914, 'note': 8270, 'wezumdimyf': 12562, 'redo': 9569, 'experiences': 4866, 'ua5184': 11882, 'wpg': 12751, 'backyard': 2316, 'consumers': 3575, 'biz': 2556, 'competes': 3469, 'disrespect': 4254, 'begin': 2453, 'explain': 4874, 'literally': 7227, 'pulled': 9295, 'kate': 6864, 'appleton': 2025, 'reflight': 9590, 'professors': 9209, 'midterm': 7737, 'reservations': 9768, 'robotic': 9947, 'asking': 2120, 'deaf': 3940, 'share': 10367, 'filmcrew': 5087, 'media': 7638, 'nytimes': 8342, 'latimes': 7049, 'chicagotribune': 3191, 'frrfxccw7z': 5415, 'nklw9ssvrq': 8174, 'dads': 3877, 'wheelchair': 12575, 'dulles': 4463, 'promised': 9230, 'replacement': 9711, 'ftw': 5433, 'sing': 10486, 'song': 10677, 'terminal': 11306, 'humphrey': 6207, 'mavigetbbw': 7578, 'citi': 3249, 'books': 2647, 'sister': 10497, 'law': 7066, 'desperately': 4086, 'stick': 10899, '1k': 367, 'harder': 5897, 'million': 7757, 'mile': 7749, 'flier': 5164, 'embarrassed': 4612, 'launched': 7057, 'dunno': 4472, 'information': 6446, '4968': 943, 'n8325d': 7997, 'departs': 4047, 'mco': 7605, 'enroute': 4679, 'no_airport': 8185, 'fd4snvkiem': 5013, '55pm': 1054, 'availability': 2232, 'young': 12890, 'children': 3196, 'selected': 10273, '2120': 441, 'plan': 8921, '21st': 453, 'century': 3082, 'standbye': 10840, 'meal': 7617, 'potential': 9051, 'guessweflyingdelta': 5798, 'apologize': 2005, 'words': 12703, 'actions': 1638, 'eom': 4702, 'twice': 11767, 'switching': 11145, 'reboarding': 9509, 'a49': 1473, 'middle': 7729, 'minute': 7775, 'jetway': 6745, 'expect': 4849, 'inside': 6484, 'airports': 1784, 'outrageous': 8560, '1way': 385, '190': 340, 'departed': 4044, 'lady': 7011, 'simply': 10482, 'freaked': 5361, 'named': 8015, 'leah': 7089, 'anchorage': 1922, 'missin': 7810, 'lying': 7428, 'hotels': 6150, 'classy': 3278, 'bhm': 2518, 'connect': 3541, 'flgt': 5163, 'motel': 7887, 'perth': 8813, 'gotta': 5693, 'customerservice': 3827, 'buddies': 2803, 'ways': 12489, 'cae': 2909, 'week': 12518, 'flydelta': 5244, 'fair': 4949, 'stinks': 10910, 'sits': 10503, 'gotten': 5694, '200': 390, 'exact': 4803, 'hou': 6159, '165': 270, '574': 1066, 'math': 7570, 'add': 1655, 'joe': 6786, 'watson': 12484, 'kelsey': 6896, 'jennings': 6716, 'regrading': 9623, 'funds': 5459, 'yuma': 12916, 'disappointment': 4191, '40': 803, 'hungry': 6211, 'tired': 11487, 'midway': 7738, 'inexcusable': 6429, '5594': 1050, '3937': 767, 'adolfo': 1679, 'garcia': 5519, 'occurred': 8378, 'drove': 4434, 'pick': 8864, 'sju': 10518, 'icecream': 6248, 'baby': 2303, 'jh': 6752, 'responses': 9792, '4524': 899, 'deadhead': 3939, 'bin': 2537, 'annoyed': 1963, 'colleagues': 3380, 'communicate': 3436, 'intentionally': 6525, 'handing': 5855, 'empathy': 4630, 'wailing': 12408, 'connecticut': 3544, 'flown': 5226, 'listening': 7222, 'went': 12541, 'scm1133': 10187, '7stktjxan1': 1298, 'timbit': 11470, '80th': 1316, 'bday': 2418, 'aviation': 2241, 'themed': 11378, 'surprise': 11098, 'party': 8693, 'yeah': 12856, '7am': 1284, '60': 1111, 'roads': 9928, 'funny': 5464, 'emailed': 4606, 'virginatlantic': 12333, 'lhr': 7154, 'ua4727': 11869, 'turrible': 11753, 'receipt': 9518, 'lists': 7225, 'cost': 3657, '89ish': 1361, 'reflect': 9588, 'talking': 11219, 'hormonal': 6130, 'teenager': 11279, 'refuses': 9610, 'useless': 12192, 'wastedeffort': 12471, 'accidentally': 1593, 'listed': 7219, 'newly': 8128, 'married': 7546, 'opposed': 8486, 'legal': 7109, 'um': 11941, 'wut': 12781, 'm4uwcpxtxj': 7436, 'instructions': 6502, 'sunrise': 11055, 'ual212': 11917, 'cabo': 2904, 'smoothflight': 10607, 'frequentflyer': 5380, 'crews': 3749, 'single': 10490, 'removal': 9683, 'method': 7703, 'cessna': 3090, '747': 1250, '9v8tmusjvu': 1445, 'filed': 5082, 'noon': 8236, 'contacted': 3580, 'ipad': 6582, 'touch': 11574, 'locally': 7273, 'calling': 2930, 'enjoy': 4670, 'profits': 9217, 'stone9956': 10922, 'dislike': 4231, 'forgetting': 5318, 'lazy': 7077, 'wanting': 12450, '8th': 1381, 'save': 10130, 'exit': 4841, 'stretch': 10966, 'hang': 5865, 'lostinlove': 7338, 'brandmance': 2708, 'bzwgp7adve': 2876, 'wemosaictogether': 12539, 'mint': 7772, 'woulda': 12743, 'stay': 10871, 'slept': 10559, 'utah': 12206, 'premier': 9112, 'feel': 5032, 'cheated': 3161, 'read': 9479, 'def': 3979, 'suggested': 11032, 'brittanyobx11': 2758, 'keeping': 6885, 'apart': 1999, 'quirky': 9389, 'archaic': 2065, 'policies': 9000, 'accommodates': 1598, 'known': 6960, 'traveler': 11636, 'tsa': 11723, 'prescreen': 9126, 'visa': 12338, 'expiring': 4873, 'june': 6829, 'personnel': 8811, 'investment': 6564, 'process': 9195, 'running': 10027, 'resolve': 9777, 'spending': 10762, 'denver': 4038, 'ghjbp5gg67': 5594, 'insane': 6479, 'luck': 7393, 'dealing': 3943, 'winter': 12650, 'wasnt': 12467, 'slowing': 10579, 'inbound': 6358, 'worry': 12724, '4438': 877, 'eyw': 4906, 'holz': 6085, 'ahead': 1746, 'cheers': 3173, 'asap': 2105, 'fun': 5453, 'lasted': 7044, 'redeeming': 9562, 'reward': 9862, 'bil': 2530, 'detroit': 4105, 'hung': 6209, 'eventually': 4784, 'vx': 12386, '112': 109, 'stuff': 10994, 'fails': 4945, 'disappoint': 4188, 'aggravated': 1730, 'disappear': 4184, 'gas': 5524, 'prices': 9153, 'rikrik__': 9891, 'jp': 6805, 'convince': 3626, 'seven': 10333, 'carousel': 2996, 'kc': 6873, 'notcool': 8269, '72': 1229, 'tokyo': 11529, 'knees': 6954, '72rmpkogwu': 1234, 'cbcallinaday': 3050, 'cbcnews': 3051, 'waived': 12421, '18': 311, 'reps': 9731, 'squished': 10809, '37': 728, 'explaining': 4876, 'recovered': 9550, 'laugh': 7054, 'barbados': 2374, 'cuba': 3794, 'offered': 8394, 'chances': 3114, 'allows': 1851, 'harass': 5893, 'mistakefurious': 7816, '6yo': 1210, 'haha': 5837, 'crickets': 3753, 'certainly': 3086, 'wx': 12784, 'reschedules': 9755, '2hr15min': 590, 'pwm': 9325, 'saturdays': 10124, 'march': 7523, 'permanent': 8799, 'thing': 11399, 'daughters': 3918, 'gettingthirsty': 5584, '05am': 27, 'closed': 3309, 'laptop': 7033, '4c': 948, 'premium': 9116, 'americanairlines': 1891, 'bqonpa': 2696, '1641': 267, 'pos': 9033, '2214': 458, 'key': 6902, 'confusion': 3536, 'metal': 7701, 'dawn_davis': 3922, 'dawn': 3921, 'resent': 9765, 'living': 7242, 'monetary': 7858, 'understandable': 11984, 'creating': 3737, 'accommodate': 1596, 'dang': 3901, 'teleportation': 11288, 'device': 4113, 'ua514': 11880, 'soda': 10651, 'sad': 10055, 'xhlc30mtff': 12811, 'invite': 6569, 'fallow': 4962, 'helacohlc': 5976, 'learn': 7093, 'prevention': 9144, 'programs': 9219, 'health': 5950, 'condom': 3518, 'rito': 9909, '501': 981, 'changing': 3119, 'explanations': 4879, '20minute': 428, 'gone': 5664, 'a380s': 1469, 'anytime': 1995, 'awww': 2271, 'man': 7498, 'aa3370': 1513, 'ba': 2298, 'ff': 5057, 'tag': 11195, 'weigh': 12526, 'scale': 10155, 'appears': 2020, 'conveyor': 3625, 'belt': 2476, 'indy': 6419, 'kicking': 6911, 'life': 7169, 'sbehi46bmk': 10151, 'mty': 7935, 'mex': 7706, '30am': 648, 'bicycles': 2523, '62': 1128, '50lbs': 995, 'criteria': 3758, 'bikes': 2529, 'automatically': 2226, '75': 1252, 'faq': 4975, 'page': 8639, 'clear': 3288, 'fran': 5349, 'ignoring': 6290, 'purpose': 9313, 'hand': 5849, 'wrote': 12768, 'letter': 7134, 'abc7newsbayarea': 1552, 'outdated': 8551, 'opt': 8490, 'verified': 12284, 'nonsense': 8230, 'girl': 5606, 'sxsw': 11154, 'die': 4138, 'goodness': 5678, 'field': 5073, 'pressure': 9133, 'texas': 11324, 'beatstheothers': 2436, 'crisis': 3756, 'pv': 9322, 'approved': 2048, 'layovers': 7076, 'peanuts': 8762, 'crackers': 3713, 'h2o': 5823, '2oz': 614, 'fantastic': 4974, 'ua22': 11843, 'dublin': 4454, 'jam': 6676, 'packed': 8631, 'denairport': 4033, 'springs': 10798, 'snowy': 10640, 'cinedrones': 3238, 'courteous': 3688, 'kidding': 6913, 'gonna': 5667, 'beating': 2432, 'apron': 2054, 'lookin': 7317, 'mother': 7888, '235': 482, 'seattle': 10239, '0162389030167': 12, '16866853': 279, 'case': 3015, 'id': 6258, '8465981': 1336, 'train': 11601, 'manners': 7514, 'decency': 3959, 'dc': 3931, 'visit': 12341, 'easter': 4525, 'difficult': 4148, 'ended': 4650, 'black': 2562, 'history': 6052, 'commercial': 3427, 'grant': 5725, 'continued': 3599, 'slightly': 10565, 'absurd': 1572, 'courtesy': 3690, 'ethics': 4762, 'sir': 10494, 'till': 11466, 'argued': 2077, 'exec': 4827, 'plat': 8935, 'benefits': 2480, 'inaccurate': 6354, 'misleading': 7798, 'hopethegearmakesitintact': 6125, '5283': 1020, 'knew': 6955, 'compassion': 3459, 'flew': 5156, 'northeast': 8255, 'uk': 11937, 'regarding': 9613, 'agreed': 1740, 'catch': 3021, 'feeling': 5033, 'unitedfail': 12033, 'maintenece': 7475, 'incompetence': 6382, 'nopq5xisbs': 8244, 'luvsw': 7415, 'list': 7218, 'hogs': 6068, 'rifle': 9888, 'hunting': 6214, 'pistol': 8897, 'large': 7034, 'freq': 5378, 'seeking': 10259, 'client': 3298, 'filled': 5084, 'confident': 3523, 'indication': 6414, 'notify': 8284, 'syracuse': 11168, 'routing': 9984, 'everybody': 4787, '15th': 251, 'bluemanity': 2606, 'design': 4073, 'e5naxbue4s': 4502, 'klxivnbcyh': 6947, 'seated': 10235, '413': 830, 'watched': 12477, '380': 743, 'messages': 7695, 'degree': 3993, 'westpalmbeachbound': 12555, 'informed': 6448, 'thor': 11418, 'hates': 5916, '669': 1166, 'enjoyed': 4672, 'rates': 9454, 'iata': 6243, 'wouldn': 12744, 'transaction': 11605, 'approach': 2040, 'a68d5fulmh': 1476, 'report': 9719, 'noticed': 8280, 'sooner': 10682, 'lightyears': 7181, 'precious': 9091, 'frightening': 5400, 'clean': 3284, '337': 686, 'terra': 11309, 'chips': 3205, 'fispahani': 5125, 'disruptions': 4259, 'sarcasm': 10110, 'perfect': 8788, 'sun': 11046, 'visors': 12343, 'carriers': 3001, 'raise': 9425, 'definitely': 3989, 'remember': 9671, 'sti': 10898, 'season': 10229, '35a': 717, 'pays': 8746, 'credits': 3744, 'lounge': 7352, 'deals': 3944, 'definition': 3990, 'patience': 8722, 'reviewed': 9855, 'pleasehurryup': 8958, 'answerphone': 1973, 'reschedulemyflight': 9754, 'treat': 11657, 'refuse': 9608, 'iflyalot': 6281, 'bs': 2787, 'nwf2fka8fy': 8332, 'ypbkcirbxu': 12904, 'moodlighting': 7876, 'n3bvzty3zi': 7987, 'fine': 5103, 'rock': 9951, 'oscars': 8529, 'redcarpet': 9559, 'oscars2015': 8530, 'overseas': 8590, 'explained': 4875, 'lemme': 7119, 'university': 12043, 'student': 10991, 'break': 2721, 'msy': 7928, 'realized': 9493, 'date': 3913, 'passes': 8705, 'passbook': 8698, 'us651621': 12157, 'unhappy': 12014, 'nasty': 8036, 'selling': 10281, 'stock': 10915, 'luggages': 7400, 'lpalumbo': 7381, 'opal': 8467, 'dragon': 4401, 'ali': 1825, 'woven': 12748, 'murdering': 7951, 'philippines': 8839, 'australia': 2218, 'ltwhmol1dr': 7389, 'cheertymedad': 3174, 'gee': 5539, 'caring': 2988, 'int': 6513, 'trusted': 11708, 'adult': 1685, 'double': 4369, 'nny': 8182, 'hubby': 6190, 'kitties': 6938, 'warm': 12454, 'countingdown': 3674, 'safe': 10060, 'sound': 10703, 'expensive': 4862, 'services': 10319, 'hts': 6186, 'advisory': 1699, 'unscheduled': 12081, 'terry': 11319, 'hero': 6001, 'retrieve': 9830, 'cellphone': 3072, '85832': 1341, 'pty': 9286, 'pit': 8898, 'world': 12719, 'attempt': 2176, 'pens': 8780, 'collection': 3382, 'pen': 8773, 'secret': 10245, 'result': 9810, 'separated': 10301, '40mins': 822, 'wheresthecustomerserviceat': 12584, 'phi2ifnjit': 8835, 'insure': 6512, 'assholes': 2133, 'fricken': 5391, 'responsibility': 9793, 'macario2': 7445, 'saving': 10138, 'sweetheart': 11133, 'seeing': 10257, 'altonbrownlive': 1866, 'sohappy': 10656, 'sharing': 10370, 'alright': 1856, 'shitty': 10397, 'freezes': 5375, 'nitrogen': 8167, 'low': 7369, 'tire': 11486, 'inflating': 6438, 'malfunctioning': 7491, 'aa2444': 1505, 'purchasing': 9309, 'n598jb': 7990, 'weekday': 12519, 'joke': 6791, 'queue': 9378, 'picture': 8869, 'thursday': 11443, 'ivgpzsjtkw': 6646, 'self': 10277, 'pre': 9083, 'existing': 4839, 'reachable': 9470, 'kelly': 6895, 'draws': 4407, 'crowd': 3767, 'bwi_airport': 2869, 'partnership': 8690, 'cvba4olcbl': 3845, 'wta5px70a5': 12774, 'reduce': 9572, 'situations': 10509, 'certain': 3085, 'fidencio': 5071, 'dissapointed': 4260, 'paseengers': 8694, '0510': 25, 'santo': 10103, 'domingo': 4337, '9hrs': 1434, 'tries': 11678, 'following': 5291, 'ib8kyjbcjm': 6244, 'tmrw': 11512, 'reduction': 9574, '737': 1241, '900s': 1390, 'upgrades': 12119, 'hassle': 5909, 'totally': 11572, 'dishonest': 4227, 'faa': 4921, 'kudos': 6982, 'web': 12507, 'relevant': 9657, 'ritz': 9910, '700': 1213, 'idiots': 6268, 'ramada': 9431, 'priceless': 9151, 'overflight': 8577, 'downgrading': 4380, 'ffstatusdontmatter': 5061, 'thenewaa': 11381, '150202': 211, '000419': 3, 'worstcustservice': 12733, 'contingency': 3596, 'workers': 12709, 'beneficial': 2478, 'longstanding': 7313, 'fyi': 5488, 'continuous': 3602, 'texts': 11329, 'emails': 4609, 'captive': 2970, 'queuing': 9380, 'stucked': 10986, 'aadelay': 1535, 'aa919': 1525, 'fllairport': 5219, 'kill': 6917, 'josephtreis': 6799, 'bother': 2673, 'rkwugmanm9': 9916, 'lmao': 7253, 'white': 12595, 'island': 6608, 'samchampion': 10086, 'n3suiip0vw': 7988, 'order': 8502, 'unaccompanied': 11950, 'minor': 7769, 'played': 8944, 'lo': 7261, 'exists': 4840, 'upset': 12129, 'handlers': 5859, 'decide': 3961, 'belongings': 2474, 'flyfi': 5249, 'udub': 11926, 'cameron__roe': 2940, 'kbhym5gkap': 6872, 'thinks': 11406, 'toilet': 11524, '1081': 81, '3rd': 794, 'sell': 10280, 'ripped': 9902, 'excellent': 4810, 'scheduling': 10179, 'solved': 10668, 'abilities': 1559, 'counter': 3670, '2034': 410, 'ua6255': 11892, 'winnipeg': 12647, 'frozen': 5414, 'ua1059': 11799, 'tightconnection': 11462, 'lots': 7343, 'scratching': 10198, 'heads': 5948, 'screens': 10205, 'market': 7538, 'huh': 6200, 'interesting': 6531, 'expedia': 4854, 'korea': 6965, 'idiotic': 6267, 'conditions': 3517, 'ua994': 11915, 'wanted': 12449, 'court': 3687, 'gain': 5505, 'ilqzmmjiyq': 6311, 'deltanews': 4026, '1632': 264, 'phenomenal': 8832, 'frm': 5404, 'sea': 10221, 'testing': 11321, 'waters': 12482, 'dime': 4160, 'helped': 5985, 'bird': 2541, 'released': 9655, 'lisa': 7216, 'disappointing': 4190, '634': 1139, 'help_lindsey': 5984, 'honor': 6100, 'shouldnt': 10426, 'officer': 8398, '1514': 218, '757': 1256, '1tfh2v0a7z': 381, 'robocalls': 9945, 'accept': 1584, 'jm4geyxby5': 6773, 'planning': 8931, 'local': 7272, 'washington': 12465, 'bougth': 2679, 'fligths': 5212, 'campilley': 2942, 'itinerary': 6634, 'functionality': 5457, 'satisfaction': 10117, 'months': 7871, 'prev': 9140, 'uh': 11932, '1613': 257, '2440': 497, 'putting': 9321, 'eniqg0buzj': 4669, 'actual': 1646, 'duanenclark': 4451, 'prepared': 9121, 'bringing': 2752, '728': 1232, 'stated': 10861, 'strange': 10950, 'hearing': 5954, 'periods': 8796, 'warnings': 12461, 'misses': 7809, 'lunch': 7405, 'beverage': 2504, 'cheesy': 3177, '4232': 847, 'shanghai': 10362, '858': 1340, 'engine': 4663, 'paperwork': 8666, 'rectify': 9556, 'advance': 1688, 'auh': 2210, 'instructed': 6501, 'shattered': 10373, 'oaflfr7wxb': 8354, 'mad': 7448, 'overnight': 8587, 'hangar': 5866, 'sounds': 10707, 'lovely': 7363, 'lie': 7165, 'screensand': 10206, 'securing': 10253, 'velourlive': 12275, 'thankyou': 11356, 'journalist': 6801, 'include': 6375, 'rajuchinthala': 9428, 'faced': 4930, 'type': 11781, 'mo3tvida': 7836, 'uhmmm': 11934, 'jcolenc': 6701, 'tour': 11580, 'staralliance': 10844, 'medallion': 7637, 'probablynot': 9184, 'room': 9970, 'forces': 5305, 'complains': 3481, 'ctr': 3792, 'spots': 10791, 'areas': 2068, 'ragandisney': 9420, 'unnoticed': 12062, 'corporation': 3646, 'nasdaq': 8032, 'lufthansa': 7397, 'markets': 7540, 'bureau': 2832, 'apy3zlsquu': 2058, 'impression': 6339, 'meetings': 7650, 'interviews': 6549, 'select': 10272, 'yyz': 12930, 'canadian': 2946, 'azltjhf7lv': 2276, 'forward': 5337, 'snack': 10619, 'arrangements': 2092, 'shows': 10435, 'catering': 3025, 'aa3390': 1514, 'aaadvantage': 1531, 'dissatisfied': 4265, 'showing': 10433, 'appreciates': 2038, '1300': 172, 'nohotel': 8210, 'robbed': 9934, '21': 433, 'overloads': 8586, 'small': 10584, 'execution': 4829, '4435': 876, '00': 0, 'domestic': 4336, 'tweeted': 11762, 'bitch': 2552, 'unamerican': 11953, 'mysteriously': 7975, 'yow': 12903, 'box': 2687, 'sjqemdtqma': 10517, 'talked': 11218, 'betting': 2501, 'mths': 7933, 'repainted': 9700, 'sunset': 11057, 'surprised': 11099, 'fastest': 4991, 'q2': 9333, 'q3': 9334, '2014': 399, '10th': 94, 'pafe': 8638, 'costa': 3658, 'rica': 9871, 'turnaround': 11748, 'c11': 2877, 'turning': 11750, 'favor': 5004, 'non': 8223, 'revs': 9860, 'improvements': 6345, 'retains': 9819, 'crappy': 3721, 'advantage': 1689, 'hsmpbsf4uf': 6183, 'crooked': 3762, '500': 978, 'shouldwearmasks': 10427, 'shocked': 10402, 'saves': 10134, 'finding': 5100, 'lower': 7371, 'july': 6825, '13': 170, '4840': 934, '3875': 754, 'land': 7021, 'ua415': 11865, '17th': 310, 'bio': 2540, 'encountered': 4645, 'understatement': 11988, 'kind': 6924, 'dates': 3914, 'selfie': 10278, 'extreme': 4899, 'disrespectful': 4256, 'particularly': 8683, 'malfunction': 7490, 'snapchat': 10625, 'imessage': 6318, 'instagram': 6493, 'laissez': 7017, 'faire': 4951, 'vbfieo2qjc': 12259, 'dragons': 4402, 'sundays': 11050, 'travels': 11650, 'deep': 3978, 'abysmal': 1578, 'spiritairlines': 10769, 'greyhoundbus': 5753, 'nocustomerservice': 8201, 'cab': 2897, 'returns': 9838, 'ballin': 2358, 'jets': 6743, 'overhaul': 8580, 'a1': 1459, 'pts': 9284, 'expired': 4871, 'prchase': 9081, 'retailer': 9816, 'wks': 12674, 'l8': 6997, 'keepmy': 6890, 'excuse': 4824, '1117': 107, 'obsessed': 8367, 'ath': 2162, '3days': 775, 'shortly': 10412, 'brendanpshannon': 2735, 'brendan': 2734, 'rs': 9994, 'aus': 2215, 'beautiful': 2437, 'skies': 10524, 'x1eqyahfvz': 12788, 'research': 9759, 'buddy': 2804, 'context': 3592, '810': 1318, 'sooo': 10683, 'jabevan221': 6659, '40th': 824, 'gth239': 5788, 'lmuschel': 7259, 'sep': 10299, 'f3kxb8': 4912, 'submit': 11003, '6232': 1132, 'dia': 4124, '435': 864, '457': 904, 'sivi': 10510, 'stewart': 10897, 'match': 7568, 'speaking': 10740, 'downgraded': 4379, 'compensates': 3464, 'fact': 4935, '96apr35qan': 1417, 'waited': 12410, 'dispatch': 4242, 'forgot': 5321, 'unfriendlyskies': 12013, 'yayayay': 12849, 'straight': 10939, 'hiring': 6049, 'agree': 1739, 'head': 5940, 'max': 7579, 'epicfailunited': 4707, 'sandra': 10094, 'ur': 12133, 'offensive': 8392, 'commented': 3425, 'complained': 3477, 'cuz': 3843, '25yrs': 528, 'pittsburg': 8903, 'honoring': 6103, 'choice': 3216, 'disunited': 4273, 'servicefail': 10318, 'supporting': 11075, 'padresst': 8637, '1748': 297, 'near': 8067, 'fortunemagazine': 5334, 'deserved': 4071, 'cluster': 3333, 'continues': 3600, 'shafted': 10353, '359': 716, 'bragged': 2701, 'driver': 4424, 'twiiter': 11768, 'respects': 9786, 'dear': 3948, 'usairwis': 12179, 'inefficiency': 6424, 'misinformation': 7795, 'servicing': 10320, 'bump': 2824, 'custserv': 3835, 'thks': 11412, 'tip': 11484, 'workaround': 12706, 'easily': 4523, 'accessible': 1591, 'hundreds': 6208, 'quiet': 9387, 'worrying': 12725, 'items': 6627, 'carryon': 3005, 'stolen': 10919, 'lock': 7281, 'yea': 12855, 'bullshit': 2820, 'interior': 6535, 'video': 12311, 'improvement': 6344, 'newplanesmell': 8130, 'djjjn9slht': 4295, '550': 1039, 'dollars': 4335, 'cash': 3017, 'isthisreal': 6622, 'nevertoldus': 8116, 'usairwaysfail': 12172, 'experienced': 4865, 't5': 11179, 'ins': 6478, '3104': 656, '51': 999, '31': 654, '08': 36, 'hell': 5979, 'memphis': 7675, '730a': 1237, 'human': 6201, 'socialtantrum': 10649, 'understood': 11989, 'reaching': 9473, 'apply': 2031, 'transferable': 11612, 'define': 3987, 'smaller': 10585, 'requirements': 9744, 'backpacks': 2310, 'conversations': 3620, 'spanish': 10736, 'courier': 3683, 'offers': 8396, 'provide': 9262, 'quitting': 9393, 'mkwlkr': 7827, 'nbr': 8055, 'dept': 4061, 'outlets': 8554, 'preflight': 9107, 'rules': 10017, 'shouldhaveflownjetblue': 10423, '1707': 290, 'overall': 8569, 'meant': 7623, '830': 1329, 'organizational': 8511, 'knows': 6961, 'ran': 9436, '68': 1174, 'droped': 4429, 'airlinequality': 1775, 'skytrax': 10543, 'tu9jx2jazn': 11733, 'beat': 2431, 'auto': 2223, 'insulting': 6510, 'sucks': 11022, 'imagine': 6314, 'contest': 3591, '36': 721, 'tight': 11461, 'cx': 3848, 'delaying': 4007, 'secs': 10247, 'g3uy6w28qh': 5492, 'ua688': 11897, 'sf': 10341, 'officially': 8401, 'dealt': 3945, 'southwestairlines': 10716, 'various': 12256, 'relationships': 9647, 'capa_aviation': 2961, 'o5sifhp4rt': 8351, '27l': 549, 'econ': 4540, 'waiver': 12422, 'treating': 11659, 'jan': 6682, '2063': 415, '50pm': 998, '18feb': 336, 'herba': 5998, 'thurs': 11442, '3710': 729, 'toronto': 11562, 'colliding': 3385, 'stopped': 10927, 'deserves': 4072, 'bankrupt': 2368, 'outbound': 8548, 'practice': 9071, 'raised': 9426, 'mild': 7748, 'poisoning': 8997, 'ua5': 11875, 'damn': 3893, 'dignity': 4155, 'announced': 1957, 'flight1797': 5172, '4420': 875, 'jax': 6693, 'london': 7305, 'file': 5081, 'reference': 9582, '723': 1230, 'usa': 12162, 'wednesday': 12515, 'mosaic': 7884, 'alot': 1854, 'aware': 2256, 'tilleymonsta': 11468, 'george': 5558, '4gr39s91dl': 952, 'willie': 12626, 'nelson': 8095, 'impersonator': 6332, 'sang': 10098, 'peanutsandtoons': 8763, 'kcddod7uff': 6874, 'code': 3365, 'mommy': 7853, 'daddy': 3874, 'concerning': 3505, 'corrected': 3648, 'beought': 2482, 'rooms': 9971, 'unexpactable': 12001, 'btr': 2792, 'trained': 11602, 'agts': 1743, 'nvr': 8330, 'listen': 7220, 'radio': 9415, 'tcmparty': 11260, 'ce3k': 3063, '31daysofoscar': 665, 'backup': 2314, 'goodgriefpeople': 5676, 'kansas': 6857, 'kci': 6875, '304min': 641, 'dnmsblzumr': 4313, 'lin': 7198, 'hv': 6226, 'flight424': 5177, 'carsl': 3008, 'comedic': 3406, 'watching': 12478, 'othr': 8536, 'measly': 7626, 'certificate': 3087, 'ua1116': 11801, 'layover': 7075, 'recheck': 9527, 'touched': 11576, 'nicely': 8146, 'handed': 5851, 'by3vdiosua': 2871, 'accomidating': 1595, 'smell': 10591, 'nd': 8065, 'stupid': 10998, '2008': 393, 'anybody': 1989, 'uno_baseball': 12063, 'led': 7104, 'singing': 10489, 'luvintheair': 7413, 'notifications': 8282, 'bergstrom': 2485, 'lanes': 7028, 'savings': 10139, 'operator': 8480, 'surely': 11087, '05': 24, '55': 1038, 'carlw1980': 2990, 'concern': 3503, 'dep': 4042, 'estimate': 4751, 'mayweatherpacquiao': 7587, '8dqzlrjo9p': 1368, 'act': 1634, 'reimbursement': 9633, 'hosting': 6146, 'theacademy': 11364, 'atlanta': 2166, 'peanutsonaplatter': 8764, '77': 1264, 'wonder': 12688, 'yo': 12879, 'loose': 7324, 'returning': 9837, 'fixes': 5134, 'breaking': 2725, 'attitudy': 2193, 'worstairline': 12729, 'tho': 11416, 'usairwayssucks': 12178, '1156': 120, '26': 529, 'scene': 10169, 'whiskey': 12592, 'photo': 8853, 'pn': 8982, '320008a': 670, 'wheel': 12574, 'deflator': 3992, 'specified': 10751, 'chapter': 3127, '32': 667, 'b787': 2295, 'amm': 1906, 'oilncfweyg': 8415, 'irrlcd': 6601, '1318': 174, '300': 632, 'upgrading': 12120, 'lousy': 7355, 'unitedfirst': 12034, 'truth': 11709, 'u69fafqhsf': 11794, 'motto': 7893, 'tear': 11270, 'seam': 10222, 'soaked': 10642, 'busted': 2854, 'zippers': 12947, 'lhwfbkfyni': 7157, '1917': 344, 'girlfriend': 5607, 'mexico': 7707, 'sprint': 10800, 'kewl': 6901, '0_0': 38, 'pillows': 8882, 'blankets': 2579, 'hair': 5843, 'elaborate': 4579, 'cha': 3098, 'alist': 1829, 'wifiless': 12619, '1701': 286, 'mileage': 7750, 'holders': 6071, 'pa': 8622, 'flexible': 5160, 'sugafly': 11029, '4124': 828, '5431': 1033, 'messing': 7699, 'ruins': 10015, 'hopes': 6124, 'dreams': 4415, 'china': 3202, '2xdaily': 624, 'b737': 2292, 'orangecounty': 8498, '8aug': 1364, 'favoriteairline': 5006, 'luvforsw': 7411, 'acquisition': 1633, '1843': 326, 'flyers': 5248, 'insulted': 6509, 'jacket': 6665, '6pm': 1203, 'atleast': 2168, 'wmcactionnews5': 12678, 'mem': 7666, 'gbd5r1olsi': 5534, 'learned': 7095, 'sxm': 11153, 'unaccomidating': 11948, 'nm4agoodlife': 8178, 'synergy': 11165, 'planned': 8929, 'downstairs': 4387, 'elise': 4591, 'joined': 6790, 'skillful': 10528, 'flightness': 5203, 'snafu': 10621, 'ypvpvdltys': 12907, 'oak': 8356, 'rubs': 10007, '1202': 135, 'systemic': 11170, 'comes': 3410, '153': 220, '69': 1181, '214': 444, '203': 408, 'spf': 10765, 'disallows': 4183, 'fixed': 5133, 'ramp': 9432, 'major': 7476, 'ua3710': 11858, 'passing': 8706, 'al': 1802, 'neverflyusairways': 8110, 'incidents': 6370, 'jeff': 6710, 'smisek': 10601, 'notes': 8272, 'answers': 1974, 'phantom': 8830, 'apeared': 2001, 'nj': 8170, 'patiently': 8725, 'fri': 5390, '6344': 1140, '6373': 1143, '1576': 238, 'joanna': 6780, 'hella': 5980, 'koa': 6964, 'clue': 3329, 'arose': 2087, 'applepay': 2024, '174': 296, 'nightmarish': 8159, 'appalled': 2013, 'facts': 4936, 'integration': 6517, 'rubbish': 10006, 'meaningful': 7621, 'official': 8400, 'trueblue': 11700, 'terribly': 11315, 'bet': 2496, 'registered': 9619, 'letters': 7135, 'shameful': 10359, 'treatment': 11660, 'reactions': 9476, 'dog': 4329, 'lives': 7238, 'ah': 1744, 'sacramento': 10054, 'minneapolis': 7768, 'october': 8384, 'yay': 12848, 'dependents': 4051, 'discount': 4209, 'inperson': 6469, 'understanding': 11986, 'english': 4666, 'yelling': 12864, 'slowly': 10580, 'hawaiian': 5927, 'earn': 4512, 'hawaiianair': 5928, '9hour': 1432, 'enter': 4683, 'pooling': 9006, 'mechanic': 7632, 'tool': 11554, 'shock': 10401, 'absorber': 1570, 'w5nl0ay9bl': 12399, 'profit': 9212, 'allowing': 1850, 'hangs': 5870, 'eyes': 4904, 'steps': 10889, 'improving': 6348, 'h46ht1oz40': 5825, 'tpallini': 11588, 'odlall5edh': 8387, 'announce': 1956, 'intercom': 6528, 'complain': 3476, '15minutes': 249, 'q5sb0davuy': 9340, 'lh': 7152, 'fra': 5346, 'logged': 7290, '2010': 396, 'matter': 7572, 'okaaaaay': 8417, 'executive': 4830, 'geraghty': 5559, 'nfjauw16vz': 8139, 'lt': 7386, 'ha': 5829, 'fits': 5130, 'correctly': 3649, 'additionally': 1661, 'halfway': 5846, 'loving': 7368, 'capt': 2968, '633': 1138, 'monitor': 7862, 'specific': 10748, 'film': 5086, 'cutting': 3842, 'prolonged': 9227, 'prds': 9082, 'funeral': 5460, 'displaced': 4245, 'deltaassist': 4025, 'pleasant': 8951, 'timeliness': 11475, '1m': 371, 'robot': 9946, 'apologizes': 2007, 'rtb': 9998, 'global': 5633, 'headaches': 5942, 'neighbors': 8093, 'smoking': 10604, 'cigarettes': 3234, '2plains': 615, '2fails': 585, 'south': 10711, 'tiday': 11455, 'kjkuvj6cmo': 6939, 'receipts': 9519, 'presidential': 9131, 'brought': 2775, 'tkauygcpms': 11499, '600117': 1114, 'superiors': 11065, 'hbsj2sf17h': 5933, 'tea': 11262, '2x': 623, 'cflanagian': 3092, 'hpn': 6175, 'mvp': 7962, 'grt': 5778, 'taxing': 11250, 'water': 12479, 'compensate': 3462, 'ashamed': 2111, 'representative': 9727, 'fabulous': 4927, 'nickcunningham1': 8150, 'biggest': 2526, 'frustration': 5419, '206': 413, 'canthurtasking': 2958, 'travis': 11651, 'east': 4524, 'knowing': 6958, 'boots': 2656, 'teach': 11263, 'mgr': 7713, 'badly': 2329, 'younger': 12891, 'siblings': 10452, 'logo': 7298, 'airplanes': 1782, 'jdbwaffles': 6702, 'spring': 10797, 'relying': 9664, 'caffeine': 2913, 'needcoffee': 8075, 'woman': 12685, 'blatimore': 2584, 'madbee95': 7449, 'bush': 2846, '1856': 330, '556': 1047, '2012': 397, 'fave': 5002, 'band': 2364, 'tix': 11494, 'amsterdam': 1910, 'snowstorm': 10637, 'results': 9813, 'handily': 5854, 'exceed': 4808, 'gonmrwem6i': 5666, 'cockroaches': 3362, 'crawling': 3728, 'visible': 12339, 'mouse': 7895, 'traps': 11630, 'hotlanta': 6153, 'x5zqssjtrb': 12792, 'sale': 10076, 'tan': 11227, 'approve': 2047, 'fear': 5014, 'separate': 10300, 'met': 7700, 'badmgmt': 2330, 'unaccounted': 11951, 'standing': 10842, 'sold': 10661, 'certificates': 3088, 'char': 3128, 'b44': 2288, 'mpagent': 7907, 'seanmfmadden': 10224, 'peterstraubmma': 8817, 'jmercadomma': 6775, 'tonysimsmma': 11552, 'customerservicefail': 3828, 'gnv': 5645, 'fsd': 5422, 'perks': 8798, 'senseless': 10292, 'louder': 7347, 'hmm': 6062, 'looked': 7315, 'sammi_jon3s': 10087, '525': 1017, 'travelers': 11637, 'urged': 12136, 'zcbjyo6lsn': 12938, '30pm': 652, 'juice': 6819, 'getphilz': 5578, 'sg7iqqfvso': 10346, '475': 929, 'tf': 11331, 'green': 5742, 'staring': 10848, 'blank': 2577, 'download': 4382, 'movie': 7902, 'isnt': 6612, 'any1': 1988, 'ua1481': 11821, 'stt': 10983, 'duh': 4460, 'grandfather': 5718, 'hired': 6046, 'compliment': 3490, 'jeanette': 6705, '1572': 237, 'affected': 1708, 'olympic': 8434, 'athlete': 2163, '617': 1125, '653': 1159, '3040': 640, 'join': 6789, 'stuckintheloop': 10989, 'weds': 12517, 'feces': 5022, 'sprinkled': 10799, 'bathroom': 2394, 'incredibly': 6401, '9148445695': 1399, 'chantilly': 3122, 'france': 5350, 'letitgo': 7129, 'qxteqzm3yz': 9403, 'rushed': 10032, 'stillwaiting': 10908, 'grouchy': 5764, '636': 1142, 'complimentarybeveragesneeded': 3492, 'summer': 11044, '13th': 192, '2007': 392, '27': 542, 'telephone': 11286, 'apps': 2051, 'damage': 3888, 'whats': 12571, 'horrendous': 6131, 'heard': 5953, 'shifts': 10385, '5095': 990, 'cak': 2914, '0hmmqczkcf': 41, 'incur': 6403, 'city': 3253, 'daytona': 3928, 'boss': 2666, 'sbgbn7ouxy': 10152, 'appreciated': 2037, 'weren': 12543, 'bring': 2748, 'carseat': 3007, 'profitbeforepeople': 9215, 'imo': 6324, '2020': 405, 'frankfurt': 5354, 'identical': 6263, 'sample': 10088, 'thinking': 11405, 'nantucket': 8021, 'urcyfcp2lx': 12135, 'effing': 4563, 'holidays': 6078, 'skiing': 10526, 'flyyow': 5275, 'weblink': 12509, 'notgoodenough': 8274, 'cr': 3710, 'advise': 1695, 'jn3v3k3qgv': 6778, 'corybronze': 3653, 'freaking': 5363, 'nuts': 8325, 'strand': 10943, 'chkin': 3209, 'emp': 4628, 'mtg': 7930, 'faanews': 4924, 'cement': 3073, 'ua1724': 11836, 'ndtlj15zpu': 8066, 'chance': 3113, 'walk': 12431, 'nickeled': 8151, '214i0rtih4': 445, '3138': 661, 'givethemraises': 5613, 'breast': 2727, 'pumping': 9300, 'parts': 8692, 'freeflight': 5373, 'cranky': 3718, 'tracker': 11593, 'otis': 8537, 'absolute': 1567, 'madness': 7453, 'q5a7jtki5k': 9339, 'crap': 3719, 'ada': 1651, 'chairs': 3105, 'upgraded': 12117, 'inquired': 6474, 'red': 9558, 'wine': 12639, 'sauvignon': 10127, 'blanc': 2576, 'pronounce': 9244, 'camera': 2937, 'turns': 11751, '307': 644, 'danihampton': 3906, 'dani': 3905, '1547': 227, 'segment': 10267, 'thaiairways': 11339, 'thai': 11338, 'finder': 5099, 'cityandsand': 3254, 'coordinate': 3634, 'nutella': 8324, 'veryimportantproject': 12294, '3487': 700, 'ep': 4704, 'reminded': 9676, 'comfortable': 3413, 'proficient': 9210, 'enjoyable': 4671, 'repeatedly': 9707, 'failed': 4940, 'display': 4246, '0kn7pjelzl': 45, 'weathered': 12505, 'existence': 4837, 'stacy': 10821, 'tucson': 11735, '3056': 643, 'loaded': 7264, 'syr': 11167, 'rights': 9890, 'helps': 5993, 'flyingwithus': 5256, 'lostacustomer': 7335, 'rescheduling': 9756, '1580': 240, 'ogg': 8405, 'h3k3owohd1': 5824, 'protection': 9257, 'diversions': 4279, 'nottrue': 8296, '3oq1t4ohjl': 792, 'handling': 5861, 'compliant': 3488, 'fargo': 4982, 'fargoairport': 4983, 'amazings': 1881, 'performance': 8792, 'express': 4884, 'leverage': 7139, 'carried': 2999, 'numerous': 8322, 'style': 11000, 'retiring': 9825, '25th': 527, 'anniversary': 1954, 'inability': 6352, 'deciding': 3964, 'eye': 4902, 'soooooo': 10686, 'sleepy': 10557, 'noplacelikehome': 8243, 'eventhoughits2degreesathome': 4781, 'touching': 11577, 'pleased': 8954, 'monitoring': 7863, 'january': 6688, 'fakeawards': 4957, 'luvisbetter': 7414, 'timely': 11476, 'fu': 5434, 'guesstimate': 5797, 'chasefoster': 3145, 'celebs': 3070, 'youth': 12901, 'cincinnati': 3236, '6170': 1126, 'picked': 8865, 'immediately': 6322, 'edits': 4547, 'msbgu': 7921, 'mbas': 7590, 'meet': 7648, 'sop': 10688, 'strike': 10968, 'operation': 8477, 'sms': 10612, 'battery': 2397, 'dying': 4488, 'ipodtouch': 6584, 'xxsaombdgs': 12830, 'jua': 6815, 'itenary': 6628, 'keeps': 6891, 'heck': 5968, 'saga': 10066, 'melissaafrancis': 7662, 'reunion': 9842, 'tuned': 11744, 'sobbed': 10644, '4geiger': 951, 'burst': 2842, 'blame': 2571, 'mentioned': 7679, 'transformative': 11616, 'numbers': 8320, 'toolong': 11556, 'jackass': 6663, 'peter': 8816, 'scott': 10195, '3750': 737, '5000': 979, 'connector': 3549, 'rachel': 9413, 'wong': 12693, 'marisol': 7535, 'pimentel': 8886, 'chaos': 3123, 'robinreda': 9943, 'embarrassment': 4614, '6am': 1186, '5fmipw9dhi': 1089, '2edgc6tbls': 584, 'attended': 2182, 'whoa': 12597, 'brave': 2712, 'kax': 6869, 'tnx': 11516, 'failure': 4946, '33036': 678, 'terriblecustomerservice': 11313, 'fec4i3vwq7': 5021, 'walked': 12432, '16': 252, 'individual': 6416, 'silver': 10474, 'privileges': 9175, 'itunesmusic': 6641, 'mood': 7874, 'spagnuolo': 10732, 'coached': 3354, 'rams': 9435, 'partners': 8689, 'lister': 7224, '1230': 148, '130': 171, 'mrandyep': 7915, 'creative': 3738, 'chilly': 3200, 'promises': 9231, 'location': 7278, 'face': 4928, 'earth': 4519, 'stayed': 10872, '4500': 897, '403': 812, 'smile': 10597, 'joy': 6803, 'videos': 12312, 'fa': 4920, '4553': 900, 'fab': 4925, 'asset': 2130, '1f': 360, 'nabisco': 8006, 'pepperidge': 8784, 'farms': 4985, 'ua4636': 11866, 'painful': 8645, 'ua82': 11904, 'delhi': 4011, 'grandma': 5719, 'ella': 4595, 'greeting': 5746, 'eastern': 4526, '1680': 277, 'smooth': 10605, 'willing': 12627, 'loyalmosaicmember': 7378, 'hoped': 6119, 'dining': 4165, 'zgoqoxjbqy': 12944, 'aircanada': 1763, 'fraud': 5359, 'westpalmbeach': 12554, 'flybetter': 5243, 'reevaluate': 9579, 'influx': 6442, 'investigated': 6563, 'thefaaonline': 11370, 'affordable': 1714, 'happycamper': 5886, 'regulation': 9628, 'furnish': 5468, 'proof': 9245, 'age': 1723, 'toddler': 11521, 'unnecessary': 12060, 'headache': 5941, 'flyunited': 5272, 'aa1457': 1490, '26pm': 540, 'premier1k': 9113, 'lima': 7193, 'cuzco': 3844, 'pzal4wtrez': 9330, 'marketing': 7539, 'f2lfulcbq7': 4911, '5187': 1008, 'sight': 10459, 'phlairport': 8844, '45minutes': 913, 'yvonne': 12919, 'anthony': 1979, 'chairman': 3102, 'tier': 11459, 'outstanding': 8566, 'simple': 10481, 'search': 10226, 'tells': 11293, 'bridge': 2742, 'waitingforbags': 12414, 'landonschott': 7025, 'likes': 7187, 'excruciatingly': 4823, 'slow': 10575, 'norm': 8249, 'exception': 4812, 'addressed': 1665, 'easiest': 4522, 'register': 9618, 'the15hours': 11363, 'places': 8915, 'achieve': 1621, 'facebook': 4929, 'clothing': 3319, 'mislead': 7797, 'suntimes': 11059, 'photography': 8854, 'cameragear': 2938, 'nexttimeiwillflysouthwest': 8136, '374': 733, 'dad': 3871, 'road': 9927, 'choosing': 3219, 'difference': 4145, 'reuniting': 9844, 'aging': 1735, 'size': 10511, 'oversold': 8595, 'minefits': 7764, 'unrealistic': 12074, 'loss': 7333, 'reflection': 9589, 'extinct': 4893, 'inevitable': 6428, 'college': 3384, 'alert': 1820, 'capital': 2966, 'rear': 9499, 'facing': 4934, 'ua5025': 11876, 'erj145': 4726, 'troubling': 11694, 'bar': 2373, 'nmbhngnmki': 8181, '10pm': 93, 'crjs': 3760, 'airstairs': 1790, 'icy': 6256, 'valet': 12240, 'killed': 6918, 'promising': 9232, '837': 1333, 'announcing': 1962, 'gatwick': 5531, 'heathrow': 5961, 'moments': 7851, 'aboard': 1562, 'em': 4604, 'bonuses': 2639, 'deliver': 4019, 'southwestairwasthere': 10717, 'needtocatchmynextflight': 8080, 'alreadyrebookedonce': 1855, 'unnerving': 12061, 'deicing': 3999, 'qdxft9qqt9': 9347, 'state': 10860, 'asus': 2156, '16th': 284, 'wondered': 12689, 'stars': 10849, 'aligned': 1827, '80': 1305, 'mobay': 7838, 'closer': 3311, 'calgary': 2922, 'maiden': 7462, 'usually': 12200, '2046': 411, 'narrow': 8027, 'legs': 7116, 'reagan': 9485, 'rarely': 9450, 'opens': 8472, 'closet': 3314, 'unitedlies': 12037, '2302': 474, '10x': 97, 'thnx': 11415, 'finishes': 5109, 'walks': 12434, 'sac': 10052, 'chill': 3198, 'misplace': 7800, '1pm10': 378, 'cincy': 3237, 'ninadavuluri': 8162, 'loc': 7271, 'kybilc': 6990, 'adjacent': 1670, 'isle': 6610, 'choices': 3217, 'border': 2659, 'equal': 4715, 'lowest': 7375, 'value': 12247, 'beatriz': 2433, 'susan': 11107, 'miscounting': 7787, 'threatens': 11429, 'understaffed': 11981, 'shot': 10415, 'devices': 4114, 'antonio': 1985, 'barely': 2380, '2168': 448, 'fi': 5065, 'tests': 11322, 'chemistry': 3179, 'suppose': 11076, 'overloaded': 8585, 'disconnects': 4206, 'broadway': 2762, 'asyqe1tdjp': 2158, 'thread': 11425, 'birmingham': 2544, 'v24qnp3doi': 12219, '67k4n9eq6e': 1173, 'spoil': 10777, '2078': 420, 'balt': 2361, 'hit': 6053, 'turbulence': 11745, 'babies': 2302, 'cried': 3754, 'vomited': 12363, 'caroline': 2995, 'superhero': 11063, '51pm': 1009, 'unloaded': 12050, '424': 848, 'kangaroos': 6856, 'rectified': 9555, 'buying': 2863, 'genuinely': 5556, 'comparable': 3453, 'despise': 4088, 'thee': 11368, 'disappears': 4187, '3m': 789, 'reebooked': 9577, 'lv': 7421, 'ideas': 6262, 'furious': 5467, 'firm': 5119, 'disgrace': 4219, 'efforts': 4566, 'protect': 9255, 'wonked': 12694, 'browsers': 2778, 'css': 3785, '8qsqmm7kf2': 1380, 'veryloyalcustomer': 12295, 'expedient': 4855, '2053': 412, 'fr1': 5345, '2015': 400, 'sr': 10810, '256746438028': 518, 'toll': 11534, 'liqwoblfbt': 7215, 'addtl': 1669, 'aadvantage': 1537, 'reset': 9771, 'password': 8711, 'troubleshoot': 11693, 'wake': 12427, 'extralight': 4897, '8hh4p2': 1374, 'cargo': 2985, 'umm': 11942, 'aarp': 1542, 'jimcramer': 6760, '75yo': 1259, 'audience': 2202, 'insubstantial': 6505, 'skyscanner': 10541, 'agency': 1725, 'fly2midway': 5240, 'applauded': 2022, 'abt': 1574, 'takemeback': 11206, 'oqz7wc4lla': 8496, 'italy': 6625, 'finnair': 5111, 'operated': 8475, 'credited': 3743, 'amenities': 1885, 'function': 5455, 'nocharge': 8194, 'pasta': 8713, 'covered': 3698, 'tastes': 11242, 'plastic': 8934, 'consumption': 3576, 'nerdbird': 8099, 'nerd': 8098, 'canned': 2956, 'wear': 12500, 'skin': 10530, 'survive': 11106, 'xxx': 12831, 'gabriela': 5503, 'unpleasant': 12066, 'customerexperience': 3824, 'light': 7176, 'parked': 8677, 'emptied': 4638, 'consequence': 3555, 'vm': 12348, 'integrate': 6515, 'activate': 1639, 'surf': 11088, '3359': 684, 'pressed': 9132, 'staffer': 10825, 'insight': 6486, 'professorpaul15': 9208, 'planestrainsandautomobiles': 8926, 'friday': 5392, 'disrespected': 4255, 'turn': 11747, 'round': 9976, 'accelerate': 1583, 'fm': 5276, 'cxl': 3849, 'quoted': 9396, 'higher': 6023, 'staying': 10873, 'supp': 11070, 'neverflyvirginforbusiness': 8112, 'ua647': 11896, 'heading': 5944, 'improper': 6342, 'packing': 8633, 'gills': 5605, 'comp': 3447, 'direction': 4172, 'shares': 10369, '4q': 968, 'iol': 6576, 'xz6qeg3nef': 12833, 'leisure': 7118, 'highly': 6028, 'recommended': 9540, 'uniform': 12019, 'dre': 4408, 'snoop': 10629, 'en': 4643, 'wheelsup': 12578, 'jetbluesofly': 6738, '9xkiy0kq2j': 1449, 'epic': 4705, '863': 1343, 'pleasure': 8960, 'trqlpeinzw': 11696, 'annricord': 1965, 'incoming': 6381, 'louis': 7350, 'operating': 8476, 'communist': 3443, 'divadapouch': 4276, 'aka': 1800, 'thepoopqueen': 11383, 'xxy2d2imnp': 12832, 'feature': 5017, 'plants': 8933, 'increase': 6397, 'productivity': 9202, 'luvswa': 7416, 'healthbenefitsofplants': 5951, 'gardening': 5521, 'bvfaxdubaq': 2867, 'providing': 9268, 'tisk': 11491, 'itin': 6632, '79wajk7eyt': 1282, 'controllableirregularity': 3610, 'ohare': 8408, 'requested': 9738, 'attention': 2186, '2morrow': 604, 'ctl': 3791, 'justifythissupport': 6837, 'rocking': 9955, 'tim': 11469, 'mcgraw': 7600, 'quickest': 9384, 'marie': 7532, 'cali': 2923, 'bound': 2683, 'angel': 1933, 'blessed': 2587, 'phrased': 8857, 'differently': 4147, 'lesson': 7126, '781': 1273, '879': 1349, '4505': 898, 'preciation': 9090, 'tampa': 11226, 'aa138': 1488, 'jtrexsocial': 6814, 'exactly': 4804, 'disconnected': 4202, 'rwrd': 10038, 'aadv': 1536, '1am': 356, 'cesspool': 3091, 'germs': 5563, 'abounds': 1564, 'humour': 6206, 'heart': 5955, 'hayleymad': 5931, 'pjs': 8909, 'momsgoodeats': 7855, 'mandarinjourney': 7507, 'buzzkill': 2866, 'msg': 7922, 'building': 2815, 'insisted': 6488, 'seeks': 10260, 'balance': 2353, 'daily': 3879, 'w8mtmsp2ry': 12400, '4199': 837, '3999': 771, 'professionals': 9206, 'android': 1930, 'applicable': 2026, 'nexus': 8137, 'screenshot': 10207, 'soiqrn19aj': 10657, 'ibvvtzls4e': 6246, 'pa7dcjxlzl': 8623, '419': 836, 'suitcase': 11038, '648': 1152, 'fgkxv5': 5062, '587701925count': 1074, 'passed': 8699, 'didnt': 4137, 'jezziegoldz': 6749, 'bumping': 2827, 'haqc7gdg7c': 5892, 'wheels': 12577, 'dimensions': 4161, 'dozen': 4389, 'fritz': 5403, '20min': 426, 'stood': 10924, '400': 804, 'appealing': 2017, 'getittogether': 5569, '2417': 495, 'ineedcoffee': 6423, 'spoke': 10779, 'ellahenderson': 4596, 'omg': 8438, 'lft5': 7145, 'robcnyc': 9936, 'gbiw9ugfnm': 5535, 'pple': 9064, 'lucia': 7392, 'antigua': 1983, '06': 29, 'wallstreet': 12440, 'scope': 10193, 'ofw4a8b5ws': 8404, 'reconsidering': 9542, 'decision': 3965, 'reading': 9482, 'worthless': 12741, 'dn1if2cgwe': 4311, 'patrichruben': 8726, 'maximization': 7582, 'registers': 9621, 'dinosaurs': 4168, 'div': 4275, '2k424j0': 598, 'dnx58v': 4317, 'letsgo': 7131, 'caller': 2928, 'kylejudah': 6992, 'responsible': 9794, 'outage': 8547, 'smoothly': 10609, 'basic': 2388, 'prof_solutions': 9204, 'nonprofit': 8228, 'oil': 8414, '5238': 1016, '2066': 417, 'vacancies': 12227, 'ewk': 4798, 'pseudo': 9273, 'directed': 4170, 'daysinn': 3927, 'galaxy': 5511, 's4': 10046, 'zoom': 12959, 'scroll': 10212, 'abused': 1577, 'guidance': 5801, 'ud': 11925, 'chnge': 3212, 'retrn': 9832, 'flght': 5161, 'pickng': 8867, 'hve': 6227, 'giant': 5596, 'snacks': 10620, 'fustrated': 5471, 'rotten': 9974, 'guacamole': 5789, 'cont': 3577, 'enh1keuutd': 4667, 'broke': 2764, 'bicycle': 2522, 'bike': 2528, 'fla': 5143, 'mundane': 7949, 'qs': 9364, 'srv': 10815, 'provided': 9263, 'increments': 6402, '4491': 892, '3am': 773, 'inch': 6364, 'lulgnweffh': 7403, 'manned': 7512, 'mf7rabgn8a': 7708, 'fucking': 5442, 'wgyztnjcxm': 12563, 'displeased': 4249, '1152': 118, 'c4': 2889, 'bothered': 2674, 'ad': 1650, 'dancing': 3899, 'behavior': 2461, 'cot': 3665, 'richard': 9874, 'tixs': 11495, 'faces': 4933, 'inappropriate': 6356, 'comments': 3426, 'icing': 6253, 'cake': 2916, 'unreal': 12073, 'misplaced': 7801, 'greenville': 5745, 'important': 6334, 'exposed': 4882, 'contagious': 3582, 'virus': 12337, 'wth': 12777, 'dialogue': 4128, 'solve': 10667, 'faster': 4990, 'emailing': 4607, 'vail': 12237, 'eagle': 4505, 'brazil': 2716, 'volunteer': 12360, 'teaching': 11264, 'skills': 10529, 'improve': 6343, 'strangers': 10952, 'senior': 10290, 'management': 7501, 'illness': 6306, 'forfeits': 5315, 'h952rdktqy': 5828, 'asarco_es_ar': 2106, 'computers': 3500, 'fed': 5024, 'ua276': 11848, 'nearly': 8069, 'sked': 10522, 'workng': 12715, 'term': 11305, 'et': 4753, 'fired': 5114, 'pushy': 9319, 'wjiigztiwg': 12669, 'winners': 12645, '87yearslate': 1350, 'maybeijustlost': 7584, 'whyyounoloveme': 12609, 'awheelchair': 2267, 'assaulted': 2127, 'predictable': 9096, 'shannon': 10363, 'lasairport': 7042, 'c22': 2882, 'miracle': 7777, 'worker': 12708, 'feck': 5023, 'flightling': 5199, 'locations': 7279, 'owner': 8606, '802': 1310, 'fairbanks': 4950, 'fjkvqmbmas': 5139, 'sincerely': 10484, 'thanking': 11346, '4461': 884, 'braving': 2714, 'reveals': 9847, 'livery': 7237, 'travelpulse': 11649, 'fttfyfmvco': 5431, 'tempting': 11300, 'sodone': 10652, 'gg8929': 5588, 'thousands': 11423, 'exchange': 4818, 'doublestandards': 4371, 'reliable': 9659, 'brownsville': 2776, 'oakland': 8357, 'redeem': 9560, 'exhaustion': 4833, 'runnin': 10026, 'tryin': 11716, '2rent': 618, 'killin': 6920, 'grounds': 5767, 'haul': 5919, 'failover': 4943, 'eager': 4504, 'vision': 12340, 'ccicanine': 3057, 'dgruber1700': 4120, 'complaining': 3480, 'shucks': 10442, 'ottawa': 8538, 'ac': 1579, '1472': 202, 'ffl': 5060, '15p': 250, 'whatajoke': 12567, 'fuel': 5446, 'exhausted': 4832, 'boise': 2632, 'labor': 7002, 'fupf0uayir': 5466, 'pros': 9253, 'displeasure': 4250, 'oct': 8382, 'written': 12764, 'c7kzbvf8h8': 2891, '1130pm': 112, 'est': 4748, 'asleep': 2123, 'tips': 11485, 'nights': 8160, 'badwebsite': 2333, 'gary': 5522, 'delayedl': 4004, '9pm': 1438, 'deiced': 3997, 'uncool': 11973, 'untrue': 12095, 'barrettkarabis': 2384, 'payment': 8742, 'jnqnbk7hut': 6779, 'waking': 12428, 'professional': 9205, 'flustered': 5238, 'incredible': 6400, 'refreshing': 9595, 'unlike': 12047, 'etfjqiwuvt': 4760, '8fkqw': 1370, 'noexcuses': 8202, 'cp': 3706, 'pieces': 8874, 'lied': 7166, 'skys': 10540, 'grader': 5709, 'school': 10182, 'science': 10185, 'project': 9224, 'loves': 7364, 'bayepzkmiz': 2404, 'promos': 9234, '79': 1277, 'click': 3294, 'nothanks': 8275, 'chief': 3193, 'alex': 1823, 'espinosa': 4742, '0hxlnvzknp': 42, 'cs': 3779, 'cxld': 3850, '4454': 882, '1627': 262, 'montego': 7868, 'bay': 2403, '1person': 376, '1568': 234, 'toyingwithouremotions': 11586, 'brilliant': 2747, 'brisk': 2755, 'cue': 3797, 'vx363': 12388, 'rmznivgmg6': 9920, 'soured': 10708, 'epicfailure': 4708, 'yep': 12867, 'gmail': 5640, 'promotions': 9238, 'folder': 5284, 'regularly': 9627, '30min': 650, 'stays': 10874, 'lifetime': 7172, 'higgs': 6020, 'boson': 2665, 'compete': 3467, 'unused': 12099, 'expiration': 4869, 'hidden': 6018, 'happiness': 5882, 'develop': 4110, 'ding': 4164, 'firefox': 5116, 'browser': 2777, 'swell': 11136, '5siczx1oez': 1102, '639': 1145, 'renewed': 9688, 'ass': 2126, 'praying': 9079, 'americanview': 1900, '31f': 666, 'aa1469': 1491, 't9jbn9wztq': 11183, 'refuel': 9598, 'announces': 1961, 'truck': 11698, 'announcement': 1958, 'weight': 12530, 'restriction': 9805, '1338': 180, 'providenciales': 9265, '1651': 271, 'sweepstakes': 11131, 'nutsaboutsouthwest': 8326, 'scoop': 10191, 'spain': 10733, 'necessary': 8070, 'wind': 12633, 'xoxo': 12822, '30a': 647, '00a': 7, 'discontinue': 4207, '471': 927, '472': 928, 'jayvig': 6697, 'example': 4805, 'jvmchat': 6844, 'roundtrip': 9977, '1137': 115, '5203': 1012, '877': 1347, 'wide': 12613, 'unlucky': 12053, 'lowered': 7373, 'total': 11569, 'intent': 6522, 'catching': 3022, 'cdn': 3060, 'towns': 11585, 'incentive': 6363, 'hurt': 6218, 'customerappreciation': 3823, 'gaincustomers': 5506, 'keepem2': 6883, 'ajm3bhjvaa': 1799, 'foh': 5282, '2086': 421, 'pax': 8736, 'cnxns': 3352, '1171': 124, 'colonist': 3389, 'nzdxrvszwv': 8344, 'pivxean3jy': 8906, 'b15': 2281, 'jackpot': 6666, 'zo2iceg4li': 12955, 'circumstances': 3246, '3hours': 781, 'refueling': 9600, '4ward': 973, 'bed': 2444, 'pb': 8749, 'sandwich': 10095, 'tux': 11755, 'umosaicmecrazy': 11943, 'hap4gbostu': 5875, 'isis': 6606, '1000cost': 54, 'justynmoro': 6842, 'automatic': 2225, 'attendent': 2184, 'distinguish': 4269, 'woo': 12697, 'pdquigley': 8754, 'patrick': 8728, '750': 1253, '539': 1028, 'nbzkhizf3v': 8059, 'thanksamericanairlines': 11350, 'poc': 8986, 'partnerships': 8691, 'organizations': 8512, 'mobile': 7839, 'ios': 6578, 'xmrvr4lgeg': 12819, 'wjoc9f14su': 12670, 'tori_leggieri': 11561, '24th': 510, 'ya': 12841, 'bringin': 2751, 'raising': 9427, 'fuck': 5437, 'fucken': 5439, 'flight293': 5175, 'resolving': 9779, 'rocks': 9958, 'rhonda': 9866, 'navy': 8052, 'sisters': 10498, '2470': 501, 'cancld': 2949, 'discnct': 4199, 'surveys': 11105, 'legit': 7112, 'assume': 2146, 'arrives': 2097, 'yousuck': 12899, 'talks': 11220, 'maryella_green': 7558, 'handled': 5857, 'dmangen': 4303, 'visualclubconcepts': 12344, 'com': 3397, '2bestfriends': 574, 'czor4nyh9n': 3861, 'parking': 8679, 'garage': 5517, '10mins': 91, 'enquires': 4675, 'david': 3919, 'provides': 9267, 'wiggle': 12620, 'accommodating': 1599, 'concerned': 3504, 'ahhhh': 1747, 'p8xfhq4kps': 8621, 'screencap': 10203, 'unspecified': 12088, 'dfwairport': 4119, 'voxcghciji': 12370, 'serve': 10312, 'confusing': 3535, 'contradictory': 3606, 'advice': 1693, 'anaphylaxis': 1921, 'refrain': 9591, 'travelocity': 11645, '1181': 127, 'whammie': 12566, '4278': 852, 'drag': 4400, 'lead': 7083, 'c26': 2885, 'dead': 3938, 'wk': 12671, 'flts': 5235, 'nt': 8310, 'unhappytraveler': 12016, 'uggh': 11930, 'wmass': 12677, 'puerto': 9292, 'rico': 9877, 'disgraceful': 4220, 'gent': 5551, 'headphones': 5947, 'us4623': 12150, 'deplaning': 4057, 'upgrademe': 12118, '9gx5mmmubb': 1430, 'seatback': 10233, 'ua1260': 11812, 'ailing': 1754, 'parent': 8671, 'untz': 12097, 'lj2larive0': 7246, 'precheck': 9087, 'ktn': 6980, 'tail': 11200, 'n615jb': 7991, 'sox': 10725, 'weekends': 12521, 'myr': 7972, 'problematic': 9186, 'zqutus7epw': 12960, 'british_airways': 2756, 'comped': 3461, 'quietly': 9388, 'irate': 6588, 'justsaying': 6839, 'rampers': 9433, 'b40': 2287, 'marshaled': 7551, 'ids': 6275, 'brutal': 2785, 'locked': 7282, 'created': 3735, 'mc': 7595, 'caren': 2983, 'maddie_flood': 7451, 'feed': 5030, 'clearly': 3291, 'useful': 12190, 'unavailable': 11957, '45min': 910, '2of2': 613, 'refueled': 9599, 'hurry': 6217, 'retards': 9820, '1583': 241, '2065': 416, 'relieved': 9661, 'neighboring': 8092, 'spirit': 10768, 'sets': 10326, 'cos': 3654, 'typically': 11783, 'expires': 4872, 'emerging': 4623, 'leader': 7084, 'development': 4112, 'jlhm0x7ukb': 6771, 'trapped': 11628, 'aafail': 1538, 'brands': 2709, 'dualcam': 4450, 'redreserve': 9570, 'smelly': 10593, 'birds': 2543, 'grounded': 5766, 'heymynameissean': 6003, 'sean': 10223, 'schedule': 10176, 'gr8': 5703, 'ordeal': 8501, 'jacked': 6664, 'cousins': 3695, 'counted': 3669, 'nearby': 8068, 'suggestion': 11033, 'maps': 7519, 'electronics': 4585, 'blocking': 2596, 'aa215': 1499, 'hcnn0wxqqr': 5934, '25mn': 526, 'sna2ord': 10618, '1357': 183, 'rough': 9975, 'considerably': 3558, 'peaches275': 8759, 'entered': 4684, 'qualify': 9369, 'progressed': 9221, '919': 1403, '675': 1172, '0985': 37, 'directtv': 4176, 'stepping': 10888, 'vqtyza6mzu': 12374, 'transit': 11617, 'private': 9173, '24hrs': 509, 'amarillo': 1874, '11pm': 131, 'appointments': 2035, 'ruining': 10014, 'airnzusa': 1779, '6hjucp694l': 1192, '622': 1130, '1898': 335, 'dkzl57upqi': 4298, 'fwiw': 5481, 'loweredexpectations': 7374, 'danger': 3902, '6491': 1153, 'communicating': 3438, 'honeymoon': 6098, 'oneworld': 8447, 'disconnect': 4201, 'endless': 4652, '10hrs': 90, 'grandcayman': 5717, 'gx7qbtckbr': 5819, '1058': 74, 'cun': 3800, 'jumped': 6827, '5350': 1027, 'gripeo': 5756, 'f6copx1fvj': 4918, 'pray': 9077, 'incompetent': 6384, 'cnn': 3348, 'abcnews': 1555, 'msnbc': 7925, 'fllight': 5220, 'pointed': 8991, 'oreos': 8507, 'youre': 12894, 'beers': 2448, 'ar': 2060, 'fresno': 5385, 'perfectly': 8789, 'fml': 5277, 'versus': 12293, 'errors': 4732, 'hooray': 6115, 'reaches': 9472, 'range': 9441, 'streetwise': 10961, 'c7tpdkqulm': 2892, 'bahamas': 2346, 'cabs': 2905, 'qqbmug': 9359, 'reticketed': 9823, '34': 691, '10p': 92, 'previously': 9146, 'ruin': 10012, '584': 1073, 'debacle': 3950, 'luggagegate': 7399, 'constantly': 3568, 'challenges': 3109, 'charges': 3134, 'dvt': 4479, '180': 312, 'xc6jq70r7b': 12801, 'current': 3809, 'screakjmf': 10199, 'shaking': 10355, 'rage': 9421, 'travelproblems': 11648, 'practical': 9070, 'reno': 9690, 'diverting': 4282, 'adding': 1658, '404': 814, 'unusable': 12098, 'megzezzo': 7655, 'injured': 6460, 'roadwarrior': 9930, 'cheapoairchat': 3157, 'gainesville': 5507, '5137': 1003, '5547': 1043, '05pm': 28, 'names': 8016, '1625': 261, 'cockpit': 3361, 'blew': 2588, 'cap': 2960, 'c8mqezxvdh': 2893, 'shivadelrahim': 10398, 'franchise02': 5351, 'tnkixxrxhb': 11515, 'ees': 4555, 'k20': 6850, '430': 857, 'chking': 3210, 'schd': 10173, 'untd': 12093, 'strandedattheairport': 10945, 'escalate': 4734, 'anyone40min': 1992, 'store': 10931, 'necessities': 8071, '3127': 659, 'lit': 7226, 'dmd': 4305, 'receives': 9522, 'coverage': 3697, 'analysts': 1918, 'legacy': 7108, 'doruxbqla1': 4364, '4464': 885, 'rsw': 9996, 'shannonbloom': 10364, 'cabcelled': 2899, 'arrogant': 2099, 'uncalled': 11963, 'theworst': 11394, 'fransico': 5357, 'evacuated': 4771, 'bold': 2633, 'stunned': 10996, 'hartford': 5906, 'yards': 12845, 'rescue': 9757, 'students': 10992, 'laguardia': 7015, 'king': 6930, 'scollegelondon': 10189, 'charity': 3137, 'jailbreak': 6673, 'rag': 9419, 'b6': 2291, '620': 1129, 'views': 12315, 'southwestluv': 10719, '9unxqotzik': 1444, 'enertainment': 4657, 'strategy': 10953, 'innovation': 6465, 'hi76boavxy': 6015, 'sweeps': 11130, 'nofg0tqhyn': 8204, 'perfectomobile': 8790, 'reports': 9722, 'consistently': 3565, 'crashes': 3724, 'pbpinftworth': 8751, '64gb': 1154, 'flt803': 5234, 'nonupgrade': 8233, 'contingencies': 3595, '8273993': 1327, 'shoutout': 10429, 'b1': 2277, 'abq': 1565, '336': 685, 'ooej4d4jop': 8463, 'insult': 6508, 'injury': 6462, 'poorly': 9012, 'orl': 8519, '310': 655, 'advised': 1696, 'action': 1637, 'directional': 4173, 'dislexia': 4230, 'church': 3232, 'grown': 5773, 'tears': 11271, 'deborah': 3955, 'underway': 11990, 'query': 9375, 'scrum': 10213, 'organization': 8510, '3444': 695, 'neworleans': 8129, 'annual': 1966, 'heinekenusacorp': 5975, 'national': 8041, 'distributor': 4272, 'livethelegend': 7239, 'scent': 10171, 'tht': 11439, 'quite': 9391, 'dnt': 4316, 'suggests': 11035, 'cert': 3084, 'receiving': 9523, 'detailed': 4099, '597': 1080, 'grk': 5757, 'metars': 7702, 'treats': 11661, 'overbook': 8571, 'assignments': 2137, 'inept': 6427, 'uncaring': 11964, 'piss': 8893, 'poorplanning': 9014, 'stories': 10932, 'kick': 6908, 'katie': 6867, 'c47': 2890, 'props': 9252, 'microsecond': 7727, 'compounded': 3496, 'announcements': 1959, 'jetbluemess': 6735, 'closes': 3312, 'refunds': 9606, 'hug': 6195, '118': 126, 'pho': 8847, 'foolish': 5298, 'quote': 9395, 'gguig3t28z': 5592, 'safely': 10061, 'srsly': 10814, 'eternity': 4759, '5ammisery': 1084, 'waitinginphilly': 12415, 'flight838': 5180, 'worries': 12723, 'spelling': 10760, 'louprice13': 7354, 'aacustomerservice': 1533, '50am': 992, 'ct': 3789, 'tmm': 11509, 'desktop': 4084, 'caching': 2908, 'bug': 2811, 'sos': 10696, 'wa': 12402, '28': 551, '03': 19, 'cultural': 3798, 'appropriation': 2044, 'boyfriend': 2690, 'substitute': 11014, 'grk13575m': 5758, 'lruns4cupcakes': 7384, 'clarkhoward': 3271, 'glitchy': 5632, 'tracking': 11594, 'md80': 7607, 'faail': 4923, 'mci': 7601, 'ticked': 11448, 'aisle': 1796, 'epicfail': 4706, 'upfare': 12114, 'gpu': 5701, 'waitlisted': 12418, 'bonus': 2638, 'offenders': 8391, 'conversational': 3619, 'exiting': 4842, 'slogan': 10569, 'will1531': 12625, 'comfort': 3412, '3ltx7jkbo9': 788, 'goal': 5646, 'sdq': 10218, '7gb0hgw51t': 1292, 'swair': 11122, 'tortured': 11564, '1971': 352, 'assisted': 2141, 'tough': 11578, 'refusing': 9611, 'actingoutmgmnt': 1636, 'alwayshappensthere': 1869, 'angrytraveler': 1943, 'narrowly': 8029, 'snags': 10624, 'dtw': 4449, 'mdw': 7612, 'tus': 11754, 'crowded': 3768, 'jaskyplwt5': 6690, 'insensitive': 6482, 'foodallergies': 5294, 'threatening': 11428, 'unsolicited': 12087, 'uneducated': 11998, 'opinions': 8483, 'reckless': 9531, 'dangerous': 3904, '901hlngbtx': 1392, 'answerthis': 1976, '8uxzj2': 1383, 'ase': 2107, '777': 1268, '46n9kdcsxu': 925, 'onholdwith': 8453, 'secondly': 10243, 'present': 9127, 'deplaned': 4055, 'dub': 4452, 'jac': 6660, 'allowance': 1847, 'atx': 2196, 'transactional': 11606, '15min': 247, 'embarrassing': 4613, 'transferred': 11613, '4x': 974, 'pleeeeeeeease': 8964, 'aw': 2250, 'soooo': 10684, '3860': 751, '433': 862, '7300': 1236, 'speaks': 10741, 'bravo': 2715, 'msp': 7926, '2023': 407, '60th': 1120, 'attitudes': 2192, 'attitude': 2190, 'adjustment': 1672, 'cyncyn661': 3856, '763s': 1260, 'madrid': 7454, 'iimtjxcvlg': 6296, 'tagging': 11197, 'backing': 2307, 'us558': 12153, 'reimbursed': 9632, 'entry': 4697, 'fans': 4973, '2009': 394, 'bogota': 2627, 'wallet': 12437, 'wcsazzqpae': 12491, 'charleston': 3139, 'seulpvfn95': 10331, 'truebluemember4life': 11703, 'ack': 1623, 'qrxvzfrd1z': 9362, 'jammed': 6681, 'secure': 10251, 'footrest': 5301, 'shelf': 10379, 'a330': 1467, 'zl4bvexmcj': 12953, 'clicked': 3295, 'confused': 3533, 'xmaqcucwzl': 12817, 'closest': 3313, 'warmest': 12456, 'negativedegrees': 8083, 'snowwillnevermelt': 10639, 'handler': 5858, 'throw': 11434, 'conveyer': 3624, 'lyoocx5msh': 7431, 'scotch': 10194, 'yrs': 12910, 'relayed': 9653, 'downgrade': 4378, 'lft7qd23sy': 7146, 'askamex': 2118, 'amex': 1901, 'airspace': 1789, 'jkf': 6769, 'anxiety': 1986, 'ill': 6303, 'emotional': 4627, 'financial': 5097, '4158': 833, 'jms2802': 6777, 'outsourced': 8564, 'timco': 11471, 'knack': 6953, 'substandard': 11013, 'joyadventuremom': 6804, 'breastfeeding': 2728, 'robertdwyer': 9938, 'origin': 8516, 'remains': 9668, '11am': 129, 'empathize': 4629, 'capitalized': 2967, 'lowercase': 7372, 'daytonabeach': 3929, 'oyllrzqu5m': 8614, 'john': 6787, 'wayne': 12488, 'ohk': 8412, 'inexpensive': 6430, 'airfares': 1769, 'flawed': 5151, 'logic': 7292, 'abandoned': 1547, 'fliers': 5166, 'saveface': 10132, 'showup': 10437, 'duffle': 4459, 'pack': 8628, 'personal': 8807, '415': 832, 'inputted': 6472, 'sittingontheplane': 10506, 'woke': 12684, 'brush': 2782, 'sorude': 10695, '4297': 855, 'disgusting': 4224, 'xijyrpslzk': 12813, 'canx': 2959, 'weatherless': 12506, 'iflyoakland': 6282, 'base': 2386, '670': 1169, 'failures': 4947, 'moms': 7854, 'cardholder': 2976, 'cards': 2977, 'scan': 10158, '893': 1357, 'finish': 5108, 'thetroubadour': 11391, 'crying': 3776, 'rn': 9921, 'ripme': 9899, 'nyvv1x3d67': 8343, 'sympathy': 11162, 'wendi': 12540, '127': 158, 'braved': 2713, 'pricy': 9157, 'anhour': 1945, 'bmi': 2609, 'avoided': 2246, 'zkatcher': 12950, 'bretharold': 2737, 'vyuanh4iqr': 12395, 'beantownmatty': 2427, 'southwestverity': 10723, 'elevategold': 4587, 'links': 7211, '2npxb6obmr': 609, '150219': 212, '000114': 2, 'ons': 8459, 'ashevilleair': 2113, 'severe': 10335, 'shall': 10357, '3x': 798, '715': 1225, 'intact': 6514, 'begrudgingly': 2456, 'captain': 2969, 'preparations': 9119, 'processes': 9197, 'destroyed': 4097, 'lastnight': 7046, 'careless': 2982, 'amazed': 1878, 'house': 6165, 'iceday': 6250, 'thecandacesmith': 11367, 'candace': 2951, 'adore': 1682, 'lap': 7030, 'entrance': 4693, 'hospitals': 6142, 'hp9rppcvhx': 6173, 'areyounew': 2073, 'no800number': 8184, 'feeltheheat': 5038, 'television': 11289, 'commercials': 3428, 'traveled': 11635, 'feltthelove': 5046, 'forgive': 5319, 'jose': 6798, '04sdytt7zd': 23, '930': 1404, '3458': 697, '314505529': 662, '386': 750, 'stole': 10918, 'glasses': 5627, 'classes': 3274, 'thanksjetblue': 11353, 'sass': 10114, 'bgtjfmneot': 2516, 'avoid': 2244, 'cspkcats': 3782, 'yikes': 12875, 'ua5282': 11883, 'x2': 12789, 'inform': 6445, 'schedules': 10178, 'replacing': 9712, 'vitaminwater': 12346, 'beer': 2447, 'leinenkugels': 7117, 'dosequis': 4366, 'fattire': 4995, 'devaluation': 4107, '9am': 1426, 'inventory': 6560, 'aa45': 1519, '3a': 772, '8c': 1366, '48hrs': 937, 'freaky': 5365, 'coincidence': 3374, 'nbsnewsr': 8056, 'youve': 12902, 'ant_kneee': 1978, 'heat': 5959, 'wave': 12485, 'warmth': 12457, 'jj': 6765, 'jackson': 6667, 'ms': 7920, 'pxdel1nq3l': 9327, 'ua938': 11912, 'ua3462': 11852, '1629': 263, '1533': 222, '1500': 209, 'characters': 3130, 'dzegapfqw1': 4490, 'consecutive': 3554, 'prize': 9176, 'sba': 10149, '5001': 980, '605': 1118, 'hanger': 5868, '1153': 119, 'fb': 5009, 'larkc8vc4s': 7037, 'gdzadxzbya': 5537, 'saidi': 10071, 'hotelstonight': 6151, 'startingbloc': 10853, 'informative': 6447, 'logan': 7287, 'checkers': 3164, 'overkill': 8584, 'marriott': 7547, 'specifically': 10749, 'safari': 10059, 'cal': 2918, '8004337300': 1308, 'youcouldntmakethis': 12887, 'brokenwheel': 2767, 'stopover': 10926, 'personally': 8810, 'incompetency': 6383, 'b16': 2282, 'cdg': 3059, 'disabledtraveler': 4182, 'jamaica': 6677, 'phxskyharbor': 8859, 'delightful': 4017, 'cbsphilly': 3053, 'dhepburn': 4122, 'cushions': 3818, 'diff': 4143, 'portcolumbuscmh': 9025, 'arpt': 2088, 'aa2450': 1506, 'wat': 12475, 'slight': 10564, 'tweak': 11760, 'skip': 10531, 'flyfrontier': 5250, 'managed': 7500, 'scramble': 10197, 'impressions': 6340, 'pittsburgh': 8904, 'fully': 5452, 'entirely': 4691, 'ua230': 11844, '7d': 1288, 'oversized': 8593, 'carryons': 3006, 'enforce': 4658, 'channels': 3121, 'static': 10864, 'replying': 9718, '1684': 278, 'disclose': 4198, 'hardworking': 5901, 'invalid_loyalty_member_account_status': 6559, 'sw900001': 11116, 'vyil1xklrog24fs': 12394, '918j_a': 1402, 'checkout': 3167, 'birth': 2545, 'born': 2662, 'lynn': 7430, 'loyalrrmember': 7379, 'pin': 8887, 'reso': 9773, 'associated': 2143, 'cc': 3056, 'flightdelay': 5189, 'craft': 3714, 'nocompensation': 8199, 'stuckinmemphis': 10987, 'texasisclosed': 11325, '_justdippin_': 1455, 'drops': 4433, 'thetakeover': 11389, 'produced': 9200, 'yponthebeat': 12905, 'ikqbdza7tn': 6300, 'thankful': 11343, 'myers': 7969, 'serv': 10311, 'unaware': 11959, 'wtw': 12779, 'h11jglw74l': 5822, 'ayyy': 2274, 'worstairlineever': 12730, 'moves': 7900, 't9s68korsn': 11184, 'avios': 2242, 'remembers': 9674, 'lame': 7019, 'geez': 5541, 'coffeeneeded': 3372, 'gotcha': 5692, 'puj': 9293, 'a9': 1477, 'b13': 2280, 'wing': 12640, '5b2agfd8c4': 1085, '1007': 56, 'signed': 10463, 'bettween': 2502, '71a': 1228, '73': 1235, '2bwi': 577, 'nmaryland': 8180, '2morrw': 605, 'inclement': 6372, '40pm': 823, 'appropriate': 2042, 'decorum': 3972, 'revisiting': 9858, 'fefhpmfple': 5041, 'alerts': 1822, '5imdckodfx': 1096, 'costing': 3660, '5237': 1015, 'definitive': 3991, 'disappoints': 4192, 'blanket': 2578, 'potatoes': 9049, 'vile': 12316, 'm2phoavrxc': 7435, 'peanut': 8761, 'treenut': 11663, 'allergies': 1838, 'provider': 9266, 'courteroy': 3689, 'lolz': 7303, 'swu': 11150, 'codeshare': 3368, 'c38': 2888, 'us626': 12155, 'irritated': 6599, 'wheresthepilot': 12585, 'flt1088': 5228, 'portion': 9027, 'hook': 6110, 'fendforyourself': 5049, 'complimentary': 3491, 'giggled': 5604, 'goodgenes': 5675, 'ilookyoung': 6309, '1other': 375, 'measure': 7627, 'men': 7676, 'wore': 12704, 'retweet': 9839, 'scvpools': 10215, '2210': 457, 'fuchzrzjg5': 5436, 'eqepkkpsxm': 4711, 'ua1069': 11800, 'sunglasses': 11052, '26f': 538, 'getaway': 5568, '59': 1077, 'tzzjhuibch': 11790, 'cheapflights': 3155, 'farecompare': 4979, '1715': 293, 'res': 9749, 'chg': 3182, 'rethink': 9821, 'greatservice': 5738, 'tjycqh': 11497, 'nite': 8166, 'pu': 9287, 'unt': 12092, 'aft': 1717, 'shld': 10400, 'disgusted': 4223, 'delighted': 4016, 'dumb': 4469, 'cats': 3032, 'lindsey': 7200, 'l8r': 6998, 'souljacoy': 10702, 'utterly': 12213, 'communications': 3442, 'flightst': 5209, 'mandatory': 7508, 'token': 11528, 'goodwill': 5681, '136': 185, 'mark': 7536, 'chase': 3144, '8yr': 1387, 'a321': 1466, 'core': 3639, 'config': 3524, 'ithica': 6631, 'degrees': 3994, 'shirt': 10391, 'burn': 2836, 'crated': 3726, 'jenniferwalshpr': 6715, 'tumitravel': 11742, 'xmas': 12818, 'gift': 5600, 'razor': 9461, 'pocket': 8987, '1220': 141, 'discussing': 4218, '2498': 505, 'tiredofthis': 11489, 'limited': 7196, '2118': 438, '695': 1184, 'spade': 10730, 'bottle': 2676, 'spiced': 10766, 'rum': 10019, 'tore': 11560, 'hid': 6017, 'badge': 2327, 'easier': 4521, 'psych': 9280, '1027': 63, 'alternative': 1863, 'selves': 10283, 'michelle': 7726, 't1': 11176, 'mdt': 7611, '348': 699, 'sittingonthetarmac': 10507, 'secured': 10252, 'dorns': 4363, 'thanked': 11342, 'goodenoughmother': 5672, 'ensued': 4680, 'marcos': 7526, 'concierge': 3509, 'gru': 5779, 'sorting': 10694, 'jt': 6813, 'repair': 9701, 'ship': 10388, 'stuffy': 10995, 'preferences': 9104, 'eliza': 4594, 'airtahitinui': 1791, 'fr': 5344, 'proceed': 9194, 'speciifc': 10752, 'character': 3129, 'adopting': 1681, 'eri': 4722, 'hugely': 6198, 'popular': 9020, 'hop': 6117, 'disorganized': 4241, 'congested': 3537, 'dissapointing': 4261, 'politely': 9003, 'efficiently': 4561, 'shrinerack': 10439, 'wifey': 12617, 'vday': 12264, 'keeper': 6884, 'holla': 6079, 'jloiblnair': 6772, 'enhance': 4668, 'hopeless': 6123, 'snowing': 10636, 'anotherfail': 1968, 'xx': 12828, 'sloooooow': 10570, 'sk6w9xqaqb': 10519, 'mwangbickler': 7963, 'frustrations': 5420, 'michael': 7724, 'poorcustomerservice': 9010, 'usairwaysfflyer': 12174, 'lon': 7304, 'veers': 12267, 'dw6vdvqxbb': 4481, 'in24bpb7dw': 6351, '496': 942, '9news': 1436, '9newsbusiness': 1437, 'o3wlainimy': 8349, 'transportation': 11624, 'vieques': 12313, 'pop': 9016, 'humans': 6203, 'extortion': 4894, 'urgently': 12139, 'connects': 3551, 'svllindia': 11113, 'logistics': 7297, 'india': 6408, 'mumbai': 7947, 'surat': 11083, 'navimumbai': 8051, 'unitedsucksdick': 12039, 'jhau4k48yv': 6754, 'nbd': 8054, 'muchas': 7937, 'grassy': 5728, '5721': 1064, 'considered': 3561, 'aa291': 1508, 'mthm9waobu': 7932, 'trial': 11670, 'assuming': 2148, 'eould': 4703, 'onholdforever': 8452, 'suboptimal': 11007, 'fsz4yo': 5424, 'reasons': 9504, 'unrelate': 12075, 'requesting': 9739, 'accurately': 1617, 'squashed': 10806, 'properly': 9247, 'citing': 3251, 'abigailedge': 1558, 'frankly': 5355, 'defines': 3988, 'abc': 1550, 'basics': 2390, 'atlantic': 2167, 'ploughs': 8969, 'lone': 7307, 'furrow': 5469, 'middleeast': 7730, 'fvudmh27pf': 5477, 'thenationaluae': 11380, 'heated': 5960, 'temp': 11295, 'itscold': 6639, 'happycustomer': 5887, 'blocked': 2595, '3866': 752, '25mins': 525, '30mins': 651, '4333': 863, 'bademployeeproblem': 2326, '325': 673, 'e09kej9bv1': 4492, 'kay': 6870, 'chapman': 3126, 'designs': 4077, 'art': 2100, 'locate': 7275, 'mnl': 7835, 'advertising': 1692, '1051': 73, 'weird': 12532, '666': 1164, 'lqjt2jvoys': 7383, 'amazingly': 1880, 'industry': 6418, 'california': 2925, 'nolove': 8215, 'kumtbger03': 6984, 'kleinerin': 6946, 'pastor': 8716, 'homeschool': 6089, 'spirited': 10771, 'prefundia': 9108, 'jrbzlhrw7y': 6810, '8473573': 1337, 'invitation': 6567, 'participate': 8681, 'assured': 2151, 'albany': 1812, 'xaspqdsqhe': 12798, 'providence': 9264, 'infinite': 6435, 'loop': 7322, 'dsm': 4445, 'inconvenient': 6392, 'cheapest': 3154, '5077': 988, 'closings': 3316, 'ec': 4537, 'bf': 2507, 'prem': 9111, 'eco': 4538, 'mystery': 7976, 'wed': 12513, 'albanyairport': 1813, 'claiming': 3262, 'spaces': 10729, 'distance': 4267, 'flight911': 5182, 'mission': 7813, 'accomplished': 1605, 'handy': 5864, 'historical': 6051, 'society': 10650, 'afterall': 1718, '930pm': 1405, '5202': 1011, 'orf': 8508, 'befor': 2449, 'vcp': 12262, 'badcustomerexperience': 2323, 'whereabouts': 12580, 'unknown': 12045, 'greeeaat': 5741, 'hfjkto': 6007, 'strikes': 10969, 'common': 3434, 'colleague': 3379, 'l_burley11': 6999, 'worstcustomerservice': 12731, 'optimistic': 8491, 'lands': 7026, 'elevate': 4586, 'taxiing': 11249, 'ua6259': 11893, 'flightaware': 5186, 'ua5525': 11885, 'seguinej': 10270, 'scattered': 10165, 'ap': 1998, 'tfjfmsha2k': 11333, '41am': 838, '57am': 1069, 'strandednyc': 10947, 'aggravating': 1731, 'aa1344': 1487, '623': 1131, '544': 1034, 'postpone': 9046, 'guests': 5800, 'agreement': 1741, 'etihad': 4764, 'correlate': 3651, 'ticketing': 11451, 'mass': 7562, 'craziness': 3729, 'stations': 10867, 'unmanned': 12054, 'dontflythem': 4351, 'chalk': 3106, 'costumer': 3662, 'sucked': 11021, 'honest': 6095, 'generic': 5547, 'apologies': 2003, 'avalible': 2234, 'hotelliving': 6149, 'lifting': 7175, 'spirits': 10772, 'wi': 12611, '3511': 708, 'prn': 9177, 'originally': 8518, 'ripoff': 9900, '2275': 467, 'pp': 9062, 'chrishasmadeusblush': 3224, 'trending': 11668, 'exist': 4836, 'averted': 2239, 'hollow': 6081, 'obvious': 8370, 'attached': 2172, 'nbc': 8053, 'uq2oopjpwg': 12132, 'versace': 12290, 'biceps': 2521, 'stow': 10936, 'distressed': 4270, 'startling': 10855, 'huntsville': 6215, 'spotify': 10790, 'stat': 10859, 'guiltypleasures': 5805, 'remedy': 9670, 'urgency': 12137, 'convinced': 3627, 'usaw': 12182, 'issued': 6617, 'responsive': 9795, 'thoughts': 11421, 'speedy': 10757, 'nix': 8168, 'driving': 4426, 'cakairport': 2915, 'disloyal': 4232, '0cevy3p42b': 39, 'huffpostbiz': 6194, 'promise': 9229, 'unfollow': 12007, 'hiremorepeople': 6047, 'ezemanalyst': 4909, 'impersonal': 6331, 'impatient': 6329, 'packermama1': 8632, 'decent': 3960, 'priced': 9149, 'purse': 9314, 'dms': 4309, 'owed': 8603, 'vanessaannz': 12253, 'inclemental': 6373, '2070': 419, 'block': 2594, 'faith': 4955, 'k13': 6849, 'discuss': 4216, 'nofun': 8205, 'onhold': 8450, 'm7mmq2f5fa': 7438, 'wonderfully': 12691, 'remembered': 9672, 'proper': 9246, 'van': 12251, 'nogearnotraining': 8207, 'unitedairlinessux': 12030, 'fiasco': 5069, 'doctors': 4323, 'gnight': 5644, 'unfriendly': 12012, 'tiredcustomer': 11488, 'ethiopia': 4763, 'investors': 6566, 'toledo': 11532, 'blade': 2569, 'r4xjxqrx1z': 9407, 'janet': 6685, 'settled': 10329, 'november': 8299, 'gangway': 5516, 'darquenloveli': 3910, 'regret': 9624, 'kn': 6952, 'hahah': 5838, '7vee44macm': 1301, 'emerg': 4621, 'confidence': 3522, 'booster': 2653, 'sizer': 10512, 'hats': 5918, 'admiral': 1674, 'banana': 2363, 'challenge': 3108, 'classed': 3273, 'sayin': 10143, 'dmed': 4306, 'earning': 4515, 'sections': 10249, 'mac': 7444, 'acquire': 1631, 'bullying': 2821, 'workforce': 12710, 'fd2tnyctrb': 5012, 'e190': 4496, 'tails': 11202, 'srvc': 10816, 'fuk': 5448, 'salad': 10075, 'overpriced': 8588, 'fuking': 5449, 'nomorecheckedbags': 8221, 'comps': 3498, 'cowboycerrone': 3702, 'ton': 11544, 'publicity': 9289, 'willneverflywithyou': 12628, 'reinstating': 9637, 'kosher': 6966, 'rip': 9898, '1019': 60, '5347': 1025, 'greatly': 5737, 'replies': 9716, 'thehaileytate': 11374, 'blatant': 2582, 'pro': 9178, 'ability': 1560, 'prepare': 9120, 'race': 9411, 'dr': 4398, 'ggqzqd': 5589, 'gorgeous': 5689, 'miracles': 7778, 'friendliest': 5395, 'vallarta': 12243, 'aa363': 1515, 'temper': 11296, 'pennypincher': 8779, '1614': 258, 'laurasbrown5': 7060, 'toby': 11518, 'boy': 2688, 'prince': 9160, 'ressie': 9797, 'gsb2j3c4gm': 5784, 'toss': 11567, 'wit': 12662, 'dsearls': 4444, 'dxn58rxdks': 4486, 'jameskraw': 6679, 'dramatically': 4404, 'pricey': 9155, 'urgent': 12138, 'allrepresentativesbusy': 1852, 'nooption': 8241, 'helpless': 5990, 'achieves': 1622, 'profitability': 9213, 'zsuztnaijq': 12964, 'interviewed': 6548, 'recruiter': 9553, 'unbelievable': 11961, 'bein': 2462, 'park': 8676, 'commence': 3422, '2600': 530, 'timed': 11474, 'hateful': 5915, 'spelled': 10759, 'reminder': 9677, 'insurance': 6511, 'graduate': 5711, 'slcairport': 10550, '1228': 145, '640': 1148, 'fingerscrossed': 5107, 'pleasegod': 8956, 'missmykids': 7814, 'cheese': 3176, 'veggies': 12273, 'olives': 8433, 'addition': 1659, 'mix': 7821, 'secrets': 10246, '4009': 807, 'speed': 10755, 'peeps': 8770, '_robprice': 1457, 'existent': 4838, 'jeokoo': 6717, 'entertain': 4686, 'lizaapproved': 7244, '800iflyswa': 1309, 'eatgregeat': 4530, 'greg': 5749, 'sobewff': 10646, 'ps': 9271, 'teamnkh': 11266, 'police': 8999, 'sexual': 10338, 'assult': 2145, 'jacquie': 6671, 'plitt': 8966, 'gal': 5509, 'vbuxfpckfa': 12260, 'beautifull': 2438, 'spam': 10734, 'wedontcarebecauseyoupaidalready': 12516, 'humor': 6205, 'aside': 2116, 'of40': 8388, '39': 761, 'wudda': 12780, 'pek': 8772, 'worstcustomerserviceever': 12732, 'solving': 10670, 'cushion': 3817, 'ua6465': 11895, '296': 565, 'glasgow': 5624, 'educate': 4550, 'bohol': 2630, 'galley': 5512, 'pulling': 9296, 'asses': 2129, 'hubs': 6192, 'beauty': 2440, 'ns1acfqcdq': 8308, 'dontdothistome': 4350, 'maxfitgirl29': 7581, 'strandusindenver': 10949, 'hourandtenminutedelay': 6162, 'flightfail': 5192, 'invoice': 6571, 'cleaning': 3286, '000lbs': 4, 'lavoratories': 7065, '40min': 821, '340': 692, 'backroads': 2311, 'p6ucbvlv5e': 8618, 'expenses': 4861, '297': 567, 'lusaka': 7407, 'zambia': 12937, 'malcome': 7488, 'replicate': 9714, '5txu5tsfkj': 1105, 'ase24766m': 2108, 'torture': 11563, 'path': 8719, 'ukdjjijrow': 11938, 'finest': 5104, 'addressing': 1667, 'sanfrancisco': 10097, 'proactively': 9180, 'nathankillam': 8039, 'throwing': 11436, 'rebooks': 9512, 'legally': 7111, 'required': 9742, 'chaperone': 3125, '611': 1122, 'fidifamilies': 5072, 'hotline': 6154, 'reserve': 9769, 'veg': 12268, 'dplq3mhqgd': 4393, 'exe': 4826, 'wdaktmr7mj': 12493, 'stops': 10929, 'aug': 2207, 'txfd': 11776, 'cncdld': 3342, 'spectacular': 10753, 'lhrdfw': 7155, 'engaging': 4662, 'ticks': 11453, 'takr': 11215, 'traditionally': 11598, 'sledge': 10552, 'hammer': 5848, 'scalpel': 10156, 'anamarketers': 1920, 'fly2ohare': 5241, 'flypbi': 5261, 'expedited': 4857, 'delongerry': 4023, 'recruiting': 9554, '14': 193, 'az': 2275, 'coach': 3353, '992': 1422, 'salvaged': 10083, '80s': 1314, 'tiny': 11483, 'lifevests': 7173, 'ua992': 11914, 'err': 4728, '545': 1035, '5530': 1040, 'destinationdragon': 4093, 'ex': 4802, 'locals': 7274, 'bellagio': 2471, 'qkkjdfobos': 9353, 'paste': 8714, 'additonal': 1662, 'holy': 6084, 'numerical': 8321, 'shortcuts': 10411, 'blizzard': 2591, '5559': 1045, 'yyc': 12928, 'lightbulb': 7177, 'advertise': 1690, 'bcwckwtnle': 2415, 'destinations': 4095, 'grkbj7bxlk': 5759, 'acct': 1613, 'ba_usa': 2301, '20mins': 427, 'brothaaaaaa': 2772, 'shuttle': 10447, 'debbie': 3952, 'baldwin': 2356, 'rockstar': 9959, 'demo': 4029, 'vx919': 12390, 'las2sfo': 7041, 'bestcrew': 2490, 'sherocks': 10381, 'texting': 11328, 'esp': 4740, 'flies': 5167, 'react': 9475, 'scenario': 10167, 'matters': 7573, 'dominican': 4338, 'republic': 9732, 'staffing': 10827, '3pm': 793, 'toiletries': 11525, 'kit': 6935, 'trvl': 11713, 'sooooooo': 10687, 'ridiculously': 9885, 'meoalcipdd': 7683, 'stranding': 10948, 'solo': 10664, '4275': 851, 'rxmjwoo7qi': 10041, 'cosmopolitan': 3656, 'blacklist': 2567, 'beverages': 2505, '645': 1150, 'replaced': 9710, 'inferior': 6434, 'mergers': 7690, 'review': 9854, 'duhbj41jhx': 4461, 'boo': 2640, 'booo': 2650, 'counters': 3672, 'manner': 7513, 'smells': 10592, 'onion': 8455, 'fron': 5407, 'ending': 4651, 'dominick': 4339, 'guardia': 5792, 'xt': 12824, '1571aus': 236, '1600': 253, 'gla': 5620, 'ta': 11185, 'shipped': 10389, 'track': 11592, 'yqhk8ljabn': 12908, 'ua1619': 11833, 'vaca': 12226, 'lostluggage': 7339, 'concourse': 3510, 'b36a': 2285, 'beatsmusic': 2435, 'gif': 5599, 'strong': 10977, 'earned': 4513, '67': 1168, 'congratulation': 3539, '123': 147, 'coats': 3359, 'coat': 3357, 'pair': 8650, 'congratulations': 3540, 'sm': 10582, 'sexually': 10339, 'queues': 9379, 'terminals': 11307, 'wont': 12695, 'accompany': 1603, 'active': 1640, 'brain': 2702, 'surgery': 11093, 'actively': 1642, 'docs': 4321, '719': 1227, 'flight850': 5181, 'glowing': 5636, 'sparkled': 10738, 'nokidhungry': 8212, 'theres': 11386, 'firevan': 5117, '5080': 989, '5129': 1002, 'paytontaylor129': 8748, 'payton': 8747, 'taylor': 11253, '2hr': 589, 'linesforever': 7204, 'disney': 4235, 'idontwannalivewithoutyourlove': 6272, 'i9kcgaxxfa': 6237, 'itwasminttobe': 6642, 'bestinclasssocial': 2494, 'screws': 10211, 'gracious': 5707, '1636': 265, 'a320': 1465, '1200': 134, 'vincenzolandino': 12319, 'cbarrows': 3049, 'qxww1p09a0': 9404, 'rise': 9905, 'q4': 9336, 'lfs4pefe6y': 7144, 'woof': 12700, 'carpet': 2997, 'iidrblnoox': 6295, 'grief': 5754, '0400': 22, 'nolo': 8214, 'toes': 11523, 'tkts': 11502, 'brink': 2754, 'bankruptcy': 2370, '01ldxn3qqq': 15, 'gfc': 5587, 'nvlnglnmgn': 8328, 'fx9bijlxat': 5485, 'bbaonx9txd': 2405, 'pvd': 9323, 'b8': 2297, '5hr': 1094, '1172': 125, 'filing': 5083, 'consumer': 3574, 'affairs': 1706, 'valentines': 12239, 'scotthroth': 10196, 'installed': 6495, 'kicked': 6909, 'pleaseeee': 8955, 'deoderant': 4041, 'entertaining': 4688, 'ahold': 1750, 'reallytallchris': 9496, 'zv2pt6trk9': 12968, '5th': 1104, 'unserviceable': 12084, 'attach': 2171, '94lxa62': 1408, 'e2kvm4': 4500, 'thansk': 11358, 'guarantee': 5790, 'parents': 8672, 'hdoxim6nz2': 5938, 'inconveniences': 6391, 'causes': 3040, 'suggest': 11031, 'ua1157': 11808, 'serves': 10315, '4ojrsdwpkk': 965, 'unconscionable': 11970, 'inconceivable': 6387, 'q9n6nzyspk': 9343, 'rcvd': 9465, 'ua5396': 11884, 'paper': 8665, '738': 1242, 'specials': 10747, 'debating': 3951, 'environment': 4699, '791': 1279, 'ttinac11': 11730, 'stuckintampa': 10988, 'amy': 1912, 'lloyd': 7251, 'zurich': 12967, 'cart': 3009, 'outsourcing': 8565, 'downhill': 4381, 'benefit': 2479, 'atrocious': 2169, 'qll48r57ep': 9354, 'waitingonapilot': 12416, 'siouxfalls': 10493, 'whyairtravelsucks': 12603, 'applying': 2032, '430am': 859, 'dca48810m': 3933, 'dirty': 4178, 'bass': 2393, 'aeroport': 1703, 'winterweather': 12653, 'brrr': 2779, 'sorted': 10693, 'thu': 11440, 'precludes': 9094, '07xhcacjax': 35, 'pummeled': 9298, 'austinairport': 2217, 'assistant': 2140, 'handedly': 5852, 'unitedsucks': 12038, 'sloooowresponses': 10571, 'austrian': 2219, 'assign': 2134, 'lgjw7b': 7151, 'voluntarily': 12359, 'journey': 6802, '8b': 1365, 'dh2rfuijyp': 4121, 'measured': 7628, 'vouchers': 12367, 'throne': 11432, 'terrifyingly': 11317, 'jwa': 6846, '1mnth': 373, 'bcs': 2413, 'ew': 4797, 'b4xhirugzv': 2289, 'larry': 7038, 'fedora': 5027, 'qqlzk2jkzr': 9360, 'alas': 1807, 'witty': 12666, 'repartee': 9703, '1542': 226, '1800': 313, 'flowers': 5225, 'choppiest': 3220, 'whiplash': 12590, 'americanairlinesfail': 1892, 'iwantmymoneyback': 6648, 'sudden': 11023, 'lawyer': 7069, 'wrath': 12754, 'deli': 4012, 'customerservicenot': 3829, 'hardly': 5899, 'chillpill': 3199, '628': 1133, '1pm': 377, 'content': 3588, 'lax29108m': 7072, 'cruise': 3771, 'tracks': 11595, 'loud': 7346, 'button': 2858, 'mashing': 7559, 'tones': 11546, '6hrs': 1194, 'incidentally': 6368, 'sheila': 10378, 'chicagomidway': 3189, 'mgmt': 7712, 'sympathetic': 11160, 'groupa': 5769, 'honey': 6097, 'moon': 7878, 'aww': 2270, 'faves': 5003, 'blumanity': 2607, 'paint': 8648, 'dallas_news': 3884, 'blog': 2597, 'lfgr0nifut': 7143, 'concept': 3502, 'baggages': 2342, 'usaireays': 12166, '699': 1185, 'vu5lbzxtrx': 12379, '462': 919, 'allowances': 1848, 'mrjustyn': 7918, 'companies': 3448, 'studying': 10993, 'lingo': 7206, 'depressing': 4060, 'strip': 10971, 'stoked': 10917, 'topqmvqnjp': 11559, 'w0hoaewhws': 12396, 'ucvnilmb4x': 11923, 'ryand2285': 10042, 'happybirthday': 5885, 'honored': 6102, '2955': 564, 'drwinston001': 4440, 'doorstep': 4360, 'tone': 11545, 'hah': 5836, 'managers': 7503, 'disbelief': 4196, 'sombrons': 10671, 'rang': 9440, 'vendor': 12276, 'trbl': 11654, 'pile': 8880, 'terriblecommunication': 11312, 'skype': 10539, 'effin': 4562, 'shitting': 10396, 'shades': 10350, 'approx': 2049, 'windows': 12636, 'rj': 9912, '145s': 201, 'aoeaeszdlx': 1997, 'taylorlumsden': 11254, 'responsiveness': 9796, 'ua4646': 11867, 'dropping': 4432, 'infants': 6433, 'unloading': 12051, 'writes': 12762, '2d': 579, '3d': 774, 'embossed': 4617, 'badges': 2328, 'patches': 8718, 'superior': 11064, '3fq3xelbon': 779, 'stamp': 10835, 'wreck': 12755, '0prgysvurm': 48, 'diverged': 4277, 'burlington': 2835, 'vermont': 12288, 'ladygaga': 7012, 'carrieunderwood': 3002, 'tribute': 11672, 'soundofmusic': 10706, 'curbside': 3805, 'teamusa': 11269, 'steward': 10894, 'mammoth': 7497, '35pm': 719, 'refunding': 9604, 'terror': 11318, 'angrycustomer': 1942, 'realizing': 9494, 'mask': 7560, 'puts': 9320, 'jacquelyn': 6670, '2251': 464, 'mentions': 7680, 'negative': 8082, 'gratitude': 5730, 'ua922': 11910, 'aircrft': 1766, 'gifts': 5602, 'ralph': 9430, 'nader': 8009, 'o0745apiau': 8346, '2hxsdp0ha4': 594, 'tejrn09tfw': 11283, 'noooooooooooooooooo': 8239, 'procedure': 9192, 'discovered': 4213, 'theft': 11372, 'cup': 3801, 'relax': 9650, 'avon': 2247, 'dcoadavon': 3934, 'srm13qbrzd': 10812, 'us3645': 12148, 'losers': 7330, '38otlzak5d': 760, 'undrstnd': 11996, 'wlcm': 12675, 'onbrd': 8441, 'hughes': 6199, 'trains': 11604, 'automobiles': 2227, 'pushing': 9318, 'ths10ldy2a': 11438, 'murphyjulie': 7953, '8je1h3666w': 1377, '1205': 136, 'winterstorm2015': 12652, 'whichisworsedenordfw': 12587, 'test': 11320, 'tomoro': 11538, 'concentrate': 3501, 'gjqx6j': 5617, 'a587cw': 1474, 'instrument': 6503, 'involved': 6575, 'chronological': 3229, 'resulting': 9812, 'mis': 7782, 'shameonyou': 10360, 'bgr1061': 2515, 'masters': 7566, 'smf': 10594, 'teco': 11276, 'reclameaqui': 9532, 'tripadvisor': 11681, 'augjscmolu': 2208, 'brothers': 2774, 'panamerican': 8657, 'championship': 3112, 'columbia': 3394, 'sky': 10536, 'harbor': 5894, 'bereavement': 2484, 'airfare': 1768, 'aa1657': 1494, 'goodenufmother': 5673, 'ey': 4901, 'fluid': 5237, '3hourdelay': 780, 'settle': 10328, 'sarahzou': 10109, 'translation': 11619, 'reinvest': 9638, 'tmadcle': 11507, 'meh': 7656, 'justgetmehome': 6834, '689': 1180, 'itfits': 6629, 'aurn07pwd4': 2213, 'wouldnt': 12745, 'gains': 5508, 'wiped': 12655, 'yyj': 12929, 'pandora': 8659, '441': 873, 'wc': 12490, 'kphl': 6968, 'orthodoc': 8525, 'kindly': 6928, 'gang': 5515, 'askpaypal': 2121, 'quit': 9390, 'cheap': 3152, 'resending': 9764, '759': 1258, 'solate': 10660, 'ptsbka4cdj': 9285, 'cinci': 3235, 'argue': 2076, 'ocqk0jfxua': 8381, 'shoddy': 10405, 'whatsoever': 12572, 'unitedairline': 12027, 'prompts': 9243, 'menus': 7682, 'opposite': 8487, 'thete': 11390, 'envoy': 4700, 'redirects': 9568, 'travelbank': 11634, 'recouping': 9548, 'eis9hcnpro': 4574, 'probs': 9191, 'shocker': 10403, 'reminding': 9678, 'vouufrn4js': 12368, 'yasss': 12846, 'i7ut2zvhco': 6235, 'sabe': 10049, 'wsgyckciio': 12771, '8jcediky9u': 1376, 'pretzels': 9139, 'office': 8397, 'unitedairlinessucks': 12029, '3198': 664, 'aex': 1704, 'thrown': 11437, 'ambivalence': 1883, 'penalty': 8775, 'ihatemergers': 6293, 'quzvmk2rtr': 9398, 'miserably': 7790, 'reboot': 9513, 'attentiveness': 2188, 'iced': 6249, 'tulsa': 11741, 'nrt': 8307, 'blegh': 2585, 'phn': 8846, 'states': 10863, 'disrespectfully': 4257, 'strive': 10973, 'shhhh': 10384, 'steal': 10876, 'fete': 5055, 'snowfall': 10635, 'aprzspxige': 2055, '99': 1421, '99999999': 1424, 'incedentals': 6362, 'noworstairline': 8301, 'grace': 5705, '__rwg__': 1452, 'powers': 9061, 'deny': 4040, 'aa953': 1527, 'albuquerque': 1818, 'nm': 8177, 'cebu': 3064, 'educational': 4552, 'upc': 12107, 'swimsuits': 11138, 'nicer': 8147, 'ftl': 5427, 'pizza': 8907, 'doom': 4357, 'nippon': 8164, 'replace': 9709, 'cm4roiypc2': 3337, 'flysfo': 5265, 'xzbajmiekx': 12834, 'arkansas': 2082, 'gov': 5697, 'governor': 5699, 'sb': 10147, '202': 404, 'legalizes': 7110, 'lgbt': 7150, 'lend': 7121, 'usairwayscenter': 12171, '639p': 1146, 'danbury': 3897, 'increased': 6398, 'meantime': 7624, 'spends': 10763, 'random': 9437, 'stranger': 10951, 'randomactsofcorporategreed': 9438, 'thankfully': 11344, 'submitting': 11006, '3586': 715, '70s': 1220, 'inner': 6464, 'metro': 7705, 'lowstandards': 7376, 'm67wnbglxq': 7437, 'dpdfpp': 4391, 'screening': 10204, 'lagos': 7014, 'nigeria': 8154, 'ou': 8540, 'blood': 2598, 'appt': 2052, '18009174929': 314, '6uxwpadugs': 1208, 'nwk': 8333, 'representatives': 9728, 'julian': 6822, 'login': 7295, 'rack': 9414, 'latte': 7052, 'unsure': 12090, 'aha': 1745, 'strayed': 10955, '96sctomh29': 1419, 'thebachelor': 11366, 'wah': 12407, 'irina': 6591, 'flip': 5214, 'eatup': 4532, 'cafe': 2912, '3lpvfhky2f': 787, '20years': 432, 'eventprof': 4782, '8088': 1313, '62godfaknb': 1134, 'vskxyamnom': 12376, '5418': 1032, 'overchging': 8575, 'bg': 2511, 'herded': 5999, 'cattle2slaughter': 3035, 'turkish': 11746, '3345': 683, 'volunteers': 12361, 'bringbackrealstaff': 2749, 'pregnant': 9109, 'hubbys': 6191, 'sand': 10092, 'screwing': 10210, 'philacarservice': 8837, 'yoga': 12880, 'flt1999': 5231, 'cookies': 3631, 'stuckonaplane': 10990, 'babyfood': 2304, '3970': 770, 'arbitrarily': 2062, 'rearrange': 9500, 'mismanagement': 7799, 'n559jb': 7989, 'kid': 6912, 'bostonlogan': 2670, 'qeada92mw6': 9348, 'hospitality': 6141, 'helpfulness': 5987, 'lastella': 7045, 'malaysia': 7487, '0011': 5, '55558000': 1044, 'kuala': 6981, 'lumpur': 7404, 'kul': 6983, 'q8vsffrd1u': 9342, 'memo': 7670, 'contains': 3584, 'modifications': 7844, 'fusturated': 5472, 'consistent': 3564, 'cable': 2903, 'technology': 11275, 'mans': 7515, 'dream': 4412, 'portable': 9023, 'qw1til96ya': 9399, 'winks': 12642, 'nyjets': 8340, 'gopatriots': 5686, 'beats': 2434, 'milage': 7745, 'paged': 8640, 'spaced': 10728, 'acebo6elpa': 1620, 'everytime': 4790, 'minimum': 7767, 'shut': 10445, 'unproductive': 12070, 'stillmakingmepoorthough': 10905, 'casleah': 3019, 'split': 10774, 'ind': 6404, 'thatisall': 11360, 'carolina': 2993, 'resort': 9780, 'downnnnn': 4384, 'messaged': 7694, 'prove': 9261, 'mb0hvfqb1t': 7588, 'ihop': 6294, 'feat': 5016, 'fairs': 4954, 'rick': 9875, 'clifton': 3301, 'father': 4994, 'handbag': 5850, 'shuffle': 10443, 'trace': 11590, 'yucki': 12915, '9r9omzqavi': 1439, '90mins': 1396, 'texarkana': 11323, 'shouldhavedriven': 10421, 'adds': 1668, 'ljzdthd9bv': 7249, 'reccewife': 9517, 'heh': 5972, 'sdf': 10217, 'dultch97': 4467, 'horse': 6139, 'radish': 9416, 'bracket': 2697, 'deter': 4103, 'storage': 10930, 'vague': 12235, 'forelock': 5310, 'virtual': 12336, 'upaz1ef3dl': 12106, 'bringbacktheluvtordu': 2750, 'directflights': 4171, 'prime': 9159, 'impacts': 6326, 'hnl': 6064, 'ua252': 11846, 'wastedtime': 12472, 'incidentals': 6369, 'slaycancerwithdragons': 10548, '711': 1222, 'argument': 2080, 'sa_craig': 10048, 'disorganization': 4240, 'aaalwayslate': 1532, '428': 853, '4322': 861, '4473': 888, 'discover': 4212, 'alaska': 1808, 'loading': 7265, 'tweetin': 11764, 'doin': 4330, 'anythin': 1994, 'wiser': 12659, 'sbn': 10153, 'pleasantly': 8952, 'byod': 2873, 'worksnicely': 12718, 'nonrefundable': 8229, 'europe': 4768, 'vacations': 12233, 'havent': 5922, 'ef4p0hishb': 4556, 'blasting': 2581, 'cots': 3666, 'aa65': 1522, 'whufmi2ytd': 12601, 'fbtemfwrsp': 5010, 'deserve': 4070, 'irony': 6595, 'barking': 2381, 'cocktail': 3363, 'e1mex0t6q5': 4498, 'lord': 7326, 'nlzs1ehnee': 8176, 'livid': 7241, 'regional': 9617, '4040': 815, 'dj': 4291, 'died': 4139, 'meds': 7644, 'abuse': 1576, 'overcharge': 8573, 'privilege': 9174, 'sdylukr7pt': 10219, 'robthecameraman': 9948, 'extravaganza': 4898, 'dobetter': 4318, 'v8pvphmtzc': 12222, '90s': 1397, 'coke': 3375, 'cushy': 3819, 'culture': 3799, 'blamed': 2572, 'staffed': 10824, 'posting': 9045, 'surrounding': 11102, 'hillaconlin': 6032, 'solar': 10659, 'charger': 3133, 'amazon': 1882, 'changer': 3117, 'plug': 8976, 'usb': 12183, 'step': 10885, '195': 349, 'pounds': 9057, '304': 639, 'ua2066': 11842, 'cnx': 3351, 'ua6194': 11891, 'runners': 10025, 'miscnx': 7785, 'everyones': 4788, 'doubt': 4372, 'misunderstood': 7819, 'ru': 10003, 'edplotts': 4548, 'pressurization': 9135, '1109': 105, '1219': 139, 'boiled': 2631, 'b777': 2294, '200er': 395, 'milan': 7747, 'malpensa': 7495, 'b767': 2293, '400er': 808, '7apr': 1285, '28mar': 556, 'username': 12194, 'aa1119': 1484, 'aa157': 1493, 'slew': 10560, 'condescension': 3514, 'reeks': 9578, 'prohibits': 9222, 'karinslee': 6861, 'celebrating': 3068, 'chinese': 3203, '140': 194, '3739': 732, 'manually': 7516, '11th': 132, 'mel': 7658, 'sticker': 10900, 'medal': 7636, 'reverted': 9852, '0ewj7oklji': 40, 'mediocre': 7642, 'combo': 3402, 'switchingboth': 11146, 'travelling': 11644, 'melbourne': 7659, 'colombia': 3387, '4439': 878, '730pm': 1238, '150am': 215, 'contain': 3583, '2559': 517, 'execplat': 4828, 'thenewamerican': 11382, 'sydney': 11158, 'asia': 2115, 'pac': 8624, '226': 466, 'fw': 5479, 'unload': 12049, '3322': 680, 'planb': 8922, 'bringyourown': 2753, 'kleankanteen': 6945, 'daaa0rqbxw': 3870, 'tyr': 11785, 'outta': 8567, '3200': 669, 'mikes': 7744, 'unrivalled': 12078, 'unserved': 12083, 'onehouronhold': 8444, 'cri': 3751, 'pdw': 8755, 'ilovejetblue': 6310, '43': 856, '871': 1345, '132': 175, 'afraid': 1716, 'gray': 5731, 'tab': 11186, 'redeye': 9565, 'endlessly': 4653, 'fall': 4959, 'absoulutely': 1571, 'sounded': 10704, 'francisco': 5352, 'unprecedented': 12068, 'perk': 8797, 'nustgpelsf': 8323, 'be0b4k1xbt': 2421, 'communicationfail': 3440, 'dobetterjetblue': 4319, 'inadequate': 6355, 'tyxaztmq1u': 11789, 'rainy': 9424, 'tooooo': 11558, 'chain': 3100, 'command': 3420, '157': 235, 'nov': 8298, 'kin': 6923, 'admitted': 1678, 'equip': 4719, 'checks': 3169, 'probability': 9182, '1330': 178, 'inconvience': 6394, 'jasonwhitely': 6692, '947': 1407, 'emer': 4619, 'albuquer': 1817, 'condition': 3515, 'maverick': 7577, 'divert': 4280, 'hilarious': 6030, 'nw7vx7dgmf': 8331, 'ebhset': 4534, '2424': 496, 'kurt': 6985, 'ua1745': 11838, 'disgruntled': 4221, 'requires': 9745, 'document': 4324, 'bobwesson': 2622, 'eiw2syb8fu': 4575, 'roberts': 9941, 'unreliable': 12076, 'espn_coachmack': 4743, 'lane': 7027, 'rant': 9444, 'bgr': 2514, 'ferrissalameh': 5051, 'refurbish': 9607, 'billed': 2532, 'body': 2623, 'pat': 8717, 'downs': 4386, 'meat': 7630, 'punishedforflying': 9303, 'idnumber8569822': 6270, 'hopetogetanswersoon': 6126, 'gopuregrenada': 5688, 'discovergrenada': 4214, 'mbcehcszx3': 7591, 'caribbejan': 2987, 'islandexpert': 6609, '2zm4jkalzl': 630, 'poorest': 9011, '7hours': 1293, 'jetbluecheeps': 6729, 'gf': 5586, '5yrs': 1109, 'southwestluvsweeps': 10720, 'tiks': 11464, 'imran_r44': 6349, 'ua6366': 11894, 'monkey': 7864, 'mdw2mci': 7613, 'homeandreadyfornexttrip': 6087, '2xjvun66zz': 625, 'retrain': 9828, '3837': 747, 'becky': 2441, 'piela': 8875, 'orange': 8497, 'county': 3679, 'clever': 3293, 'qn5odugfqk': 9357, 'tweeting': 11765, 'festivities': 5054, 'gregwallace66': 5751, 'cents': 3081, 'coast': 3355, 'messed': 7697, 'addair': 1656, 'sests': 10323, 'dreamliner': 4414, 'witness': 12664, 'mental': 7677, 'breakdown': 2722, 'bounce': 2680, 'walls': 12438, 'remind': 9675, 'incorrectly': 6396, 'input': 6471, 'preventing': 9143, 'prioritize': 9169, 'aa1061': 1481, 'steering': 10883, 'flight2031': 5173, 'x7ilzqdwe2': 12794, 'unplanned': 12065, 'pain': 8644, 'nsjwvttjgo': 8309, 'footage': 5300, 'mightmismybrosgraduation': 7739, 'winner': 12644, 'youragentshavenoclue': 12892, 'a37n3ohokl': 1468, 'ratchet': 9451, 'airway': 1793, 'clarification': 3265, 'nap': 8022, 'froward': 5411, 'patient': 8724, 'digging': 4153, 'wrap': 12753, 'saved': 10131, 'amounts': 1907, 'apologized': 2006, 'calming': 2934, '1146': 117, 'iqnvyfpg4p': 6585, '1776': 302, '3ticketsforjax': 797, 'ml': 7828, 'hide': 6019, 'seek': 10258, 'paypal': 8745, 'pending': 8776, 'disability': 4180, 'carrying': 3004, 'medical': 7639, '445': 881, 'internationally': 6540, 'rlwbj80ma5': 9918, 'functioning': 5458, 'airtran': 1792, 'q4vnmb': 9338, 'altitude': 1865, 'skyw': 10544, 'investor': 6565, 'p2hum7lxur': 8616, '25m': 523, 'ncrmqibiwo': 8064, 'closepwcs': 3310, 'wtop': 12778, 'recovering': 9551, 'cvgairport': 3847, 'combination': 3399, 'inspected': 6489, 'discounts': 4210, 'firefighters': 5115, 'attempted': 2177, 'parameters': 8670, '1491': 203, 'ticketed': 11450, '82': 1323, 'tongue': 11547, 'cheek': 3171, 'etiquette': 4765, 'gguaa1jvdf': 5591, '899': 1360, 'pumps': 9301, 'compatible': 3460, '1esmmnizek': 359, 'tarmack': 11239, '878': 1348, 'elm': 4598, 'f6': 4916, 'shouldhaveflowndelta': 10422, 'hannah': 5873, 'surgeries': 11092, 'donate': 4342, 'v4zvugmkjw': 12220, 'gma': 5639, 'ourprincess': 8546, '778aztdaer': 1269, 'blowing': 2602, 'shotwest': 10417, 'ua978': 11913, 'são': 11175, 'paulo': 8735, 'rule': 10016, 'submits': 11004, 'toilets': 11526, 'strongly': 10978, 'worded': 12702, 'funited': 5463, 'aa1401': 1489, 'vindictive_tk': 12321, '686': 1179, '599': 1081, 'jamie': 6680, 'mckinnie': 7602, 'owning': 8608, 'andrewfallis': 1928, 'stillnotonmyflight': 10907, 'wrwqrublps': 12769, 'ubergizmo': 11918, '110': 101, 'mountains': 7894, 'ucf0b0bq8r': 11920, 'fuckinf': 5441, '2301': 473, 'gogo': 5653, 'oops': 8466, 'bathrooms': 2395, 'fairly': 4953, '702': 1214, 'involuntarily': 6573, 'tug': 11739, 'c25': 2884, '959': 1412, 'tue': 11736, 'emplid': 4633, 'aa67': 1523, 'sj': 10513, '20feb15': 422, 'yxn00pnoav': 12925, 'pearl': 8765, 'blah': 2570, 'shoulda': 10418, 'burningman': 2839, 'charles': 3138, 'cave': 3045, 'principle': 9163, 'stroller': 10975, '8h': 1371, '4478': 889, 'lynchburg': 7429, 'wld': 12676, 'barzegar': 2385, 'tourists': 11582, 'euros': 4770, 'tent': 11303, 'village': 12317, 'runs': 10029, 'igsvzvrbbn': 6291, '3397': 690, 'booted': 2655, 'helpline': 5991, 'buwjtvuwkm': 2860, 'diabetic': 4125, 'sugar': 11030, 'vip': 12327, 'vineyard': 12322, 'packages': 8630, 'operators': 8481, '745': 1248, '815': 1320, 'niece': 8153, 'amiltx3': 1904, 'forgiven': 5320, 'bae': 2334, 'thinner': 11407, 'maint': 7471, 'takeresponsibility': 11210, 'smiling': 10600, 'rx8z53m7yy': 10040, 'treacherous': 11655, '5268': 1018, 'impact': 6325, 'mpi4yuo9jr': 7908, 'august': 2209, 'overflowed': 8579, 'plumber': 8977, 'bright': 2745, 'vibrant': 12306, 'habitrails': 5831, 'requiring': 9746, 'interaction': 6526, 'ruth': 10035, 'punta': 9304, 'cana': 2943, 'basket': 2391, 'catered': 3024, 'coathanging': 3358, 'irritating': 6600, 'aunts': 2212, 'in1st': 6350, 'foxnews': 5342, 'patiencerunningout': 8723, '21mbps': 451, 'vincesviews': 12320, 'significant': 10464, 'girls': 5608, 'inspired': 6490, 'woaw': 12682, 'rfxlv1kgdh': 9865, 'pictures': 8870, 'totallyconfused': 11573, 'dvsltqzkmq': 4478, '129': 162, '259': 520, 'j_beatz247': 6658, 'gladly': 5622, 'consult': 3572, '578': 1068, 'signs': 10468, 'iyuzm2puvs': 6653, 'naval': 8049, 'commands': 3421, 'tryng': 11720, 'rsrv': 9995, 'us5268': 12152, '4050': 816, '4285': 854, 'classics': 3276, 'bgm': 2513, 'annnnnd': 1955, '2ny5tuxfqf': 611, 'airliner': 1776, 'blackhistorymonth': 2565, 'flyingitforward': 5254, 'port': 9022, 'au': 2197, 'haiti': 5844, 'earthquake': 4520, 'relief': 9660, 'yco9dikpt9': 12853, 'unlikely': 12048, '4mqfmxebxt': 963, 'b4': 2286, 'plainly': 8919, 'mech': 7631, 'evv': 4796, 'honestly': 6096, 'overwhelming': 8598, 'eeqwvammiy': 4553, 'flattering': 5148, 'proud': 9260, 'oktukjy92o': 8425, 'parachuteguy': 8668, '10d': 88, 'unemployment': 12000, 'donna': 4346, 'club_': 3327, 'informing': 6449, 'priv': 9172, 'waaaaaaiting': 12404, 'n775jb': 7994, 'capture': 2971, 'claimed': 3261, 'corp': 3643, 'kaneshow': 6855, 'internjohnradio': 6542, 'mrerickv': 7916, 'deed': 3975, 'smashed': 10589, 'wichita': 12612, 'falls': 4963, 'n8661a': 7998, 'boeing': 2624, '8h4': 1372, '5z9styuqj3': 1110, 'exasperating': 4807, 'undergoing': 11979, 'nick': 8149, '742': 1247, '2119': 439, 'spotty': 10793, 'lovejetblue': 7361, 'wants': 12452, 'circling': 3243, 'loosing': 7325, 'barclays': 2378, 'iowa': 6580, 'acces': 1588, 'straightend': 10941, 'tsvibtvt8h': 11728, 'coworker': 3703, 'airside': 1787, 'anna': 1949, 'success': 11018, 'happier': 5880, '105': 71, 'preferably': 9102, 'dallaslovefield': 3886, '376': 739, 'beqotlnugc': 2483, 'tsanightmare': 11724, 'town': 11584, 'nws': 8334, 'warning': 12460, 'reality': 9491, 'launder': 7058, 'dale': 3882, 'southbendinwhere': 10712, 'qgwk10dewv': 9351, 'mike': 7741, 'justify': 6836, 'sticking': 10901, 'thng': 11413, 'ml1jacpmch': 7829, 'recap': 9516, 'nervous': 8101, 'rising': 9906, 'natca': 8038, 'vahdekvoke': 12236, 'func': 5454, 'map': 7518, 'christmas': 3226, 'vacatinn': 12230, 'december': 3958, 'devalue': 4108, 'sys': 11169, 'zofwldqxbe': 12956, 'pres': 9125, 'therofo': 11387, '2000': 391, 'cbsbaltimore': 3052, 'oi32uq2ttz': 8413, '3months': 790, 'pqd': 9065, 'departures': 4049, '9year': 1450, 'ua6076': 11889, '8o3scr5efw': 1378, 'childish': 3195, 'nah': 8011, '2373': 485, '3hr': 782, '26min': 539, 'renting': 9694, 'keepingit100': 6886, 'weaktea': 12498, '8d': 1367, 'dividendsmember': 4288, 'nuhplnxriq': 8316, 'schooler': 10183, '57': 1063, 'verify': 12286, 'kinda': 6925, 'unsettling': 12085, '805': 1311, 'ua1159': 11809, 'rmoug15': 9919, 'cheduled': 3170, '1800iflyswa': 316, 'waits': 12419, 'currentlysittingontarmac': 3811, 'constitution': 3569, 'declaration': 3968, 'independence': 6407, 'i6ep18': 6234, 'crutches': 3774, 'nerves': 8100, 'signal': 10462, '411': 826, '989': 1420, 'styling': 11001, '2155': 446, 'e11': 4495, 'penguin': 8777, 'tides': 11457, 'tide': 11456, 'drawing': 4406, 'french': 5377, 'coasts': 3356, 'gxdqortss0': 5820, 'mintyfresh': 7773, 'selfies': 10279, '52': 1010, 'giennyqn22': 5598, 'sosmart': 10697, 'frequentflyerappreciates': 5381, 'alsoyayforsnacks': 1859, '4146': 831, 'grrrrrr': 5776, 'golfwithwoody': 5663, 'woody': 12699, 'understaffing': 11982, 'rudeness': 10009, 'rookie': 9969, 'wether': 12557, 'srq': 10813, 'vpdrplxj5a': 12372, 'ricardo': 9872, 'olavarria': 8426, 'centers': 3076, 'ua862': 11905, 'pe': 8757, 'charlote': 3140, 'lexington': 7142, 'istead': 6621, 'oscar': 8528, 'liftin': 7174, 'higherandhigher': 6024, 'xgfs6tjtmo': 12809, 'ixm3t5mizc': 6652, '5348': 1026, '512': 1001, 'sime': 10478, 'rudest': 10010, 'flashlight': 5146, 'noapology': 8189, 'flexibility': 5159, '4pm': 966, '2100': 435, '12h': 166, '24h': 506, 'chkout': 3211, 'plains': 8920, 'stahp': 10831, 'bm2unraoni': 2608, 'nola': 8213, '630': 1135, 'orig': 8514, 'trees': 11664, 'optout': 8494, 'cxrzhcdtvz': 3852, 'ritacomo': 9908, 'undone': 11995, 'selections': 10275, 'ua5097': 11878, 'processed': 9196, '6kpyhcka9l': 1197, '2102': 436, 'natt': 8046, 'sweetmel': 11135, '1320': 176, 'reaccommodation': 9468, 'mumbled': 7948, 'anxious': 1987, 'discomfort': 4200, 'vmquurzupw': 12349, 'affiliate': 1711, '4487': 890, 'terrific': 11316, 'property': 9248, 'package': 8629, '1028': 64, 'allegiantair': 1835, 'ignores': 6289, 'tonite': 11549, 'reposting': 9724, 'autoresponse': 2228, 'imateacher': 6317, 'neptune': 8097, 'waivethefee': 12425, 'notmyfault': 8289, 'jax2bna': 6694, 'notokay': 8291, 'airlinesecurity': 1778, '382': 745, '3312': 679, 'evenmorespace': 4777, 'evenmoreview': 4778, 'dxux6dbfd3': 4487, 'ezee': 4908, 'steve': 10891, 'wilson': 12631, 'vinylvegas': 12325, 'pregnantwithtwins': 9110, 'jayfranceschi': 6695, 'appreciation': 2039, 'showexpert': 10432, 'fraction': 5347, 'physical': 8860, 'telephones': 11287, 'need2know': 8074, 'maf': 7456, 'gvgkhbx1rb': 5817, '14am': 205, '19pm': 353, 'logistically': 7296, 'damages': 3890, '7im9rhivyr': 1294, 'effect': 4557, 'alternatives': 1864, '210': 434, 'cleveland': 3292, 'ito': 6635, '11c': 130, 'terms': 11308, '751': 1254, 'hoo': 6107, 'vice': 12307, 'president': 9130, 'hints': 6040, 'timing': 11480, 'buck': 2798, '1384': 188, 'julie': 6824, 'andrews': 1929, 'doc': 4320, 'ua3466': 11853, 'nicole': 8152, 'quito': 9392, 'nas': 8030, 'popped': 9017, 'amin_aur': 1905, 'follows': 5292, 'savethediagonals': 10135, 'flyquiet': 5263, 'ordnoise': 8505, 'claudia': 3279, 'iwas': 6649, 'upgrd': 12121, '12am': 164, '317': 663, 'induce': 6417, 'webpage': 12510, 'sabotaging': 10050, 'owen': 8604, '95': 1409, 'invoices': 6572, 'vancouver': 12252, '680': 1175, 'reagan_airport': 9486, 'jetways': 6746, 'pisspoor': 8896, 'skilled': 10527, 'norway': 8258, 'shoulder': 10419, 'shrugging': 10440, 'decisions': 3966, 'us728': 12158, 'connectors': 3550, 'seriousness': 10310, 'expense': 4860, 'bot': 2671, 'freyabevan_fund': 5386, '2y': 626, 'battling': 2402, 'cancer': 2948, 'freyasfund': 5387, 'release': 9654, 'gerri_elliott': 5565, 'tremendous': 11665, 'injuries': 6461, '50min': 997, 'epitimeoffail': 4709, 'tcf': 11259, 'amateur': 1875, 'considerable': 3557, 'auction': 2201, 'invitational': 6568, 'mrfbjtepef': 7917, 'iamtedking': 6242, 'uczzp9yphk': 11924, 'lounges': 7353, 'supported': 11073, 'donkey': 4345, 'ilc0hp': 6302, 'resoled': 9774, '437': 866, 'ab': 1545, 'manchester': 7506, 'loner': 7308, 'illegal': 6304, 'methods': 7704, 'debit': 3953, 'billmelate': 2535, 'aau9mka6zy': 1543, 'sub': 11002, 'par': 8667, 'beamske': 2425, 'snowbound': 10634, 'usvi': 12203, 'dndoepqukz': 4312, 'md': 7606, 'anderson': 1924, 'qualified': 9367, '4th': 970, 'hollymais': 6082, 'zfroinpszi': 12942, 'mcdonnell': 7598, 'douglas': 4375, 'goodnight': 5679, 'recorded': 9544, 'us643': 12156, '2202': 455, 'rapid': 9446, 'avrtowtyzk': 2248, 'kristie': 6973, 'gate4': 5528, 'promotethatgirl': 9235, 'teeth': 11281, 'chkd': 3208, 'tray': 11653, 'table': 11188, 'ffc13zygjs': 5059, 'oc': 8372, 'drone': 4427, 'keambleam': 6882, 'retweeted': 9840, 'ignore': 6287, 'kathryn': 6865, 'sotelo': 10698, 'jal': 6675, 'cathay': 3028, 'cookjaycook123': 3632, 'transactions': 11607, 'league': 7088, 'yell': 12862, 'devs': 4115, 'inpolite': 6470, 'avyqdmpi1y': 2249, 'explore': 4880, 'ongoing': 8449, 'anticipate': 1980, 'keepitup': 6889, 'bkmfey7qol': 2561, 'americanairbr': 1890, 'sabre': 10051, '2022': 406, 'phil': 8836, 'magical': 7460, 'aa2402': 1503, 'athletes': 2164, 'significantly': 10465, 'que': 9373, '15mins': 248, 'defend': 3981, 'zrh': 12961, '45hrs': 908, 'guest': 5799, '4386': 868, 'placed': 8914, 'flat': 5147, '3113': 657, 'oma': 8436, 'conflicting': 3531, '910': 1398, 'costumerservice': 3664, 'jk': 6767, 'bked': 2559, 'mary': 7557, 'martin': 7553, '1079871763': 78, 'ages': 1728, '338': 687, 'banned': 2371, '734': 1239, 'troubles': 11692, 'bills': 2536, 'gettingoffplane': 5583, 'coin': 3373, 'tables': 11189, 'sanitized': 10099, 'purifier': 9312, 'ty9c0gae2o': 11780, 'cnbc': 3341, 'bloombergradio': 2601, 'hpgxyzrw8o': 6174, 'astounds': 2155, 'westchester': 12551, 'cty': 3793, 'ji7xks2jkk': 6757, 'preboarding': 9085, 'recognition': 9535, '3763': 740, 'outdoor': 8552, 'dependable': 4050, 'western': 12552, 'belong': 2473, 'star': 10843, 'alliance': 1842, 'skyteam': 10542, 'rating': 9455, '1099': 85, 'keithlaw': 6893, 'propositioned': 9251, 'creditcardsales': 3742, 'nelsjeff': 8094, 'ing': 6454, '2am': 572, 'nfaqhhr09j': 8138, 'opened': 8470, 'hahahah': 5840, '4411': 874, 'entree': 4694, 'standards': 10838, 'nosedived': 8260, 'newamerican': 8119, '56essfoowt': 1062, 'pedro': 8768, 'belize': 2470, 'pockets': 8988, 'apologizing': 2008, 'trite': 11686, 'condescending': 3513, 'platitudes': 8940, 'finalizing': 5095, 'airbus': 1760, 'recline': 9533, '882': 1353, 'searching': 10228, 'seg': 10266, 'falseadvertising': 4965, 'hub': 6189, 'nevergettinghome': 8113, 'surveying': 11104, 'focused': 5281, 'ear': 4506, 'chewey': 3181, 'oatmeal': 8359, 'greatest': 5735, 'deane': 3947, 'norma': 8250, 'sedholm': 10255, 'luz': 7420, 'calderon': 2920, '1sywlmtzek': 380, 'nogate': 8206, 'tolerable': 11533, 'ouch': 8541, 'deceiving': 3957, 'reprehensible': 9725, 'inline': 6463, 'disgutedindenver': 4225, 'aa2227': 1500, 'miatoiah': 7723, 'rented': 9693, 'nhlonnbcsports': 8143, 'midland': 7733, 'lubbock': 7390, 'competitors': 3474, '1071': 77, '4hr': 954, 'pet': 8815, 'wilmington': 12630, 'filling': 5085, 'ain': 1757, 'greetings': 5747, 'confirming': 3529, 'arranged': 2090, 'expedite': 4856, 'sap': 10105, '1504': 214, '1102': 103, 'eating': 4531, 'soul': 10700, 'typical': 11782, 'caned': 2953, 'performing': 8793, 'ranked': 9443, 'velour': 12274, 'aftr': 1721, 'bng': 2613, 'hstg': 6184, 'refsd': 9597, 'med': 7635, 'fnd': 5279, 'cnceld': 3343, '360': 722, 'midoexhibition': 7736, 'mn': 7834, 'clarifying': 3267, 'prevented': 9142, 'advising': 1697, '45mins': 912, 'enjoying': 4673, 'precioustime': 9092, 'ontarmac': 8461, '1881': 334, 'donaldaroberts1': 4341, 'cyndi': 3857, 'troy': 11695, 'mailing': 7465, 'surliness': 11095, 'coworkers': 3704, 'guessing': 5796, 'airpt': 1785, '460': 916, 'faundation': 5000, 'judeo': 6818, 'cristian': 3757, 'ideologias': 6264, 'mwbk68k0a3': 7964, 'misbehavior': 7783, 'dubai': 4453, 'flt1533': 5229, 'carta': 3010, 'goin': 5654, 'pride': 9158, '2330': 479, 'sleepless': 10556, 'maneuver': 7509, 'dissapointment': 4262, 'spite': 10773, 'promptly': 9242, '240': 493, 'kms': 6951, 'channel': 3120, 'clarence': 3264, 'frank': 5353, 'hoot': 6116, 'dismissive': 4234, 'craving': 3727, 'stupidly': 10999, 'lasalle': 7043, 'teamspirit': 11268, 'x5jena7nye': 12791, 'provo': 9270, 'shitshow': 10395, '47': 926, 'useable': 12188, '8x7xvm': 1386, 'knoxville': 6962, 'lunchtime': 7406, 'ntuix5dbyr': 8314, 'gloves': 5635, 'maria': 7531, 'beanie': 2426, 'aneqxzr4bp': 1932, 'promotion': 9237, '10a': 86, '10f': 89, 'mbltalr4bs': 7593, 'asgmnt': 2109, 'yest': 12871, '15am': 245, 'abcnetwork': 1554, 'permissions': 8802, 'whyabcwhy': 12602, 'ch0nmjymgh': 3096, 'brochure': 2763, 'touting': 11583, 'merged': 7687, 'clicking': 3296, 'ux': 12216, 'awe': 2258, 'scolding': 10188, 'color': 3390, 'ringing': 9894, 'crashing': 3725, 'kathrynsotelo': 6866, '5957': 1079, '9c': 1428, '9skrlyrz1o': 1442, 'bull': 2819, 'columbian': 3395, 'pg96ys9asw': 8823, 'supvsr': 11082, 'sally': 10080, 'nephew': 8096, 'sourhwest': 10709, 'hall': 5847, 'signage': 10461, 'lisapal': 7217, 'laguardiaair': 7016, 'entering': 4685, 'stewardesses': 10896, 'ckin': 3258, 'irmafromdallas': 6593, 'fiancé': 5067, 'meerikangas': 7647, '400s': 809, 'tvs': 11758, 'narita': 8026, 'physically': 8861, 'doctor': 4322, 'aa1691': 1497, 'hassles': 5910, 'patheticcx': 8721, 'emphasize': 4631, 'vape': 12255, 'marxsterbcow': 7556, 'eh': 4571, '1106': 104, 'ua1740': 11837, 'spilled': 10767, 'fasten': 4989, 'seatbelt': 10234, 'convenience': 3615, '577': 1067, 'linking': 7210, 'muc': 7936, 'hypocrisy': 6231, 'chair': 3101, '9h': 1431, 'x4tdy84dbh': 12790, 'notifying': 8285, 'krescate': 6971, 'kim': 6922, 'smiles': 10598, 'becuase': 2442, 'sunshine': 11058, 'accidents': 1594, 'airborne': 1759, 'boofin': 2641, 'apt': 2056, 'jetblueblues': 6727, '6zj6l2ztua': 1211, 'irresponsible': 6598, 'trivialize': 11688, 'ardent': 2066, 'poughkeepsie': 9054, 'frhuxib8ii': 5389, 'misery': 7791, 'breach': 2719, 'contract': 3603, 'lawsuit': 7068, 'lawyerup': 7070, 'surfboard': 11089, 'bqn': 2695, 'shannonwoodward': 10365, 'wearing': 12501, 'buys': 2864, 'thehipmunk': 11375, 'correctness': 3650, '35x': 720, 'nationalairpor': 8042, 'nothin': 8277, 'bout': 2686, 'ghettofab': 5593, 'maqw2nlniu': 7520, 'impossibly': 6337, '1lesscustomer': 370, 'myvxexperience': 7977, 'expansion': 4848, 'spread': 10794, 'wings': 12641, 'dispatcher': 4244, 'il': 6301, 'network': 8104, 'centerl': 3075, 'lio6ocpteq': 7212, 'ua3728': 11859, 'vftuyjh45x': 12300, '350': 705, 'luvagent': 7409, 'transported': 11625, '2z3hgqprsg': 629, 'stacey': 10820, 'dial': 4126, 'upload': 12126, 'bandwidth': 2365, 'ping': 8888, '280': 552, 'backed': 2305, 'gettin': 5580, 'fancy': 4972, 'lieflat': 7167, 'menu': 7681, 'saxonandparole': 10141, 'lobstermac': 7270, 'bloodymary': 2600, 'jetsetter': 6744, 'zf5wjgtxzt': 12941, 'releasing': 9656, 'september': 10305, 'lbb': 7079, 'tripofalifetime': 11683, 'clarkey_19': 3270, 'biggie': 2527, 'bruh': 2781, 'w9bqiw0aou': 12401, 'hole': 6076, 'essential': 4745, 'attire': 2189, 'idk': 6269, 'betch': 2498, 'ejacqui': 4576, '44': 870, 'competitively': 3472, '179': 304, 'vs': 12375, '324': 672, 'expire': 4870, 'damaged': 3889, '1798': 307, 'missedupgrades': 7807, '740': 1244, 'knowledge': 6959, 'ontime': 8462, 'sailed': 10072, 'deboards': 3954, 'ua469': 11868, 'getmeontop': 5574, 'starbucks': 10846, 'unavoidable': 11958, 'controllable': 3609, 'atct': 2160, 'hpsieaokwh': 6176, 'possession': 9037, 'multiplier': 7946, 'transatlantic': 11608, 'barclay': 2376, 'membership': 7669, 'paigeworthy': 8643, 'values': 12249, 'rare': 9449, 'complimenting': 3493, 'fake': 4956, 'kitchen': 6936, 'unitedagainstunited': 12026, 'g00saozgtv': 5491, 'megentripodi': 7653, 'jordnnicole7': 6796, 'retaining': 9818, 'flightspots': 5208, 'mobileboarding': 7840, 'mates': 7569, 'cb': 3048, '1183': 128, 'mde': 7609, '1851': 328, '1769': 301, 'wamo66': 12444, 'sentierimelinda': 10295, 'travisamex': 11652, 'gross': 5762, 'duck': 4456, 'fewer': 5056, '900': 1389, '3933': 766, 'planet': 8927, 'smallest': 10586, 'bottles': 2677, 'nada': 8007, 'restless': 9801, 'l7lwjazioa': 6996, 'bdindallas': 2419, 'findurgrip': 5102, 'resume': 9814, 'airlinegave': 1773, 'mechanics': 7634, 'makers': 7481, 'mindset': 7763, 'dqnn0rf1v8': 4396, 'of7pfvqpoy': 8389, 'ua1118': 11802, 'everglades': 4785, 'faint': 4948, 'sunburn': 11047, 'mastercard': 7565, 'tomo': 11537, '1408': 196, 'munich': 7950, 'geg4nghmie': 5542, 'napkins': 8023, 'oxy1jnpjm3': 8611, 'phoneeeee': 8851, '8162': 1322, 'hopeful': 6120, 'gruber': 5780, 'gogh': 5652, 'e1eofthgaj': 4497, 'amybruni': 1913, 'devastated': 4109, '94': 1406, 'workforces': 12711, 'rtn': 9999, '22nd': 471, 'pd7r1ll6re': 8753, 'rolling': 9968, 'preference': 9103, 'anku': 1947, 'peuc0bmij9': 8821, 'insanity': 6481, 'storms': 10934, 'realistic': 9489, 'citizen': 3252, 'misjudging': 7796, 'deliberate': 4013, 'expens': 4859, '1242': 151, 'angrybird': 1941, 'smybag': 10616, '604': 1117, 'londonfashionweek': 7306, 'lfw15': 7147, 'ernie_vigil': 4727, 'sickcrew': 10454, 'rows': 9987, 'statement': 10862, 'o3srl1hfho': 8348, 'philpete': 8842, 'suddenly': 11024, 'restrictions': 9806, 'measurements': 7629, 'tia': 11446, '58b7swrpmq': 1076, 'fudgin': 5445, 'justwantmybed': 6840, 'stacycrossb6': 10822, 'saharasams': 10068, 'flawless': 5152, 'blueheros': 2605, 'clearing': 3290, 'vomit': 12362, 'indicated': 6411, 'statusmatchpaidoff': 10870, 'atfrkp6goy': 2161, 'guns': 5812, 'iwoulddoanythingforlove': 6651, 'yx1dqjn8nl': 12923, 'lovesongfriday': 7365, 'michaelbcoleman': 7725, 'getmeoutofhere': 5575, 'yessir': 12870, 'yourlocalnyer': 12896, 'rob': 9933, '1226': 144, 'flysouthwest': 5266, 'flyjetblue': 5258, 'theyareallbetter': 11396, 'stillnobags': 10906, 'despicable': 4087, 'hasty': 5911, 'unwise': 12104, 'pushback': 9316, 'plows': 8972, '330': 677, 'zone': 12957, 'flt1727': 5230, 'w3xs6tvpzg': 12398, 'darrel': 3911, 'rid': 9879, 'hip': 6041, 'sirius': 10495, 'xm': 12816, 'swfan': 11137, 'films': 5089, 'cmfat35000feet': 3338, 'kek5pdmgif': 6894, 'ind43728m': 6405, 'cking': 3259, '1136': 114, '779': 1270, '389': 757, 'fwkj49b1le': 5482, 'slip': 10567, 'supervisors': 11069, 'ph': 8828, 'cramped': 3717, 'csddccmvbd': 3780, 'loudly': 7348, 'throug': 11433, 'lights': 7180, 'dimmed': 4163, 'picks': 8868, 'holler': 6080, 'concert': 3507, 'aweful': 2260, 'scheme': 10180, 'badairline': 2319, 'crabby': 3711, 'earlybird': 4510, 'p8vcz4xthm': 8620, 'dispatchalerts': 4243, 'dallasairport': 3885, '2208': 456, 'a20': 1462, 'yxu': 12927, 'outline': 8555, 'scenarios': 10168, 'gunna': 5811, 'taiwan': 11205, 'sukhdeep': 11043, 'fo': 5280, '1623': 260, 'sjo': 10516, 'traditions': 11599, 'alive': 1833, 'pissing': 8895, 'fehqne': 5042, '21feb15': 450, '953': 1411, 'fligth': 5211, 'somthing': 10675, 'drift': 4419, 'comforting': 3415, 'stationary': 10866, '12b': 165, '41g': 840, '2312': 476, '1557': 231, 'bogotá': 2628, 'colombian': 3388, 'overwhelmed': 8597, 'txt': 11778, '249': 503, 'payed': 8740, 'thousand': 11422, 'ji2pg4gom9': 6756, 'instance': 6497, 'failing': 4941, 'proving': 9269, 'unsuccessful': 12089, 'nonperformance': 8227, 'plebes': 8961, 'cycle': 3854, '4372': 867, 'n2fvelcygz': 7982, '3659': 727, 'sgf': 10348, 'clarify': 3266, 'intended': 6521, 'peer': 8771, 'jhughes1025': 6755, 'grrrrrrrr': 5777, 'nationalized': 8043, 'nation': 8040, 'faaaannntastic': 4922, 'intro': 6553, 'integrating': 6516, '703': 1215, 'chaotic': 3124, 'va370': 12224, 'routine': 9982, 'nyt': 8341, 'bngpli8jt6': 2614, 'zzps5ywve2': 12970, 'aback': 1546, 'squarely': 10805, 'shoulders': 10420, 'cdt': 3061, 'yvonneokaka': 12920, 'forgotten': 5322, 'disconnections': 4205, '1534': 223, 'obtain': 8369, 'pattonoswalt': 8732, 'sleekmoney': 10553, 'zdkxn4ktou': 12939, 'havana': 5920, 'gracias': 5706, 'jerks': 6719, 'admiralsclub': 1676, 'honour': 6105, 'westjet': 12553, 'searched': 10227, 'inconvenienced': 6390, 'infrastructure': 6450, 'massivefail': 7564, 'failphone': 4944, 'mpower': 7911, '1agr9kncpf': 355, 'werin': 12546, 'oscars2105': 8532, 'vipswagbags': 12328, 'avalonhollywood': 2235, 'ybmbgs0dhn': 12850, 'dpt': 4394, '59pm': 1082, 'dpted': 4395, 'average': 2238, 'ua3645': 11856, '54pm': 1037, 'tul': 11740, 'competition': 3471, 'sponsorship': 10782, 'opportunities': 8484, 'q6xedzvhh9': 9341, 'silicon': 10472, 'valleys': 12244, 'festival': 5053, 'monopoly': 7865, 'ua1532': 11825, 'assed': 2128, 'falling': 4961, 'ua6doua34l': 11898, 'flyingretro': 5255, '6asuwx3kv0': 1187, '1797': 306, 'reputation': 9734, 'built': 2816, 'incorrect': 6395, 'horriblecustomerservice': 6133, 'redemption': 9563, 'warehouse': 12453, 'letsworktogether': 7133, 'trials': 11671, 'inches': 6366, '9tbsjquw41': 1443, 'mojave': 7847, 'desert': 4069, 'pressurecooker': 9134, 'heattrap': 5963, 'pipes': 8891, '40am': 820, '01pm': 16, 'merging': 7691, 'dividendmiles': 4285, 'yield': 12874, '_exact_': 1454, 'navigate': 8050, 'lovedflyingwiththem': 7359, 'notanymore': 8266, 'badpolicy': 2331, 'bear': 2428, 'pairings': 8651, 'redwineisbetter': 9575, 'xggcntco8m': 12810, 'ua1297': 11815, 'loads': 7266, 'batman': 2396, 'speeds': 10756, 'insanely': 6480, 'intuit': 6555, 'jhamilton2007': 6753, 'careers': 2981, 'intuitlife': 6556, 'leanin': 7092, '2qjbcv5jzq': 617, 'dare': 3907, 'dullestostatecollege': 4466, 'runningonthreehoursofsleep': 10028, 'delayedovernight': 4005, 'loluwfci11': 7302, 'dedication': 3974, 'mos': 7883, '4053': 817, 'millions': 7758, 'garbage': 5518, 'eservice': 4739, 'bg0kwm': 2512, 'narayanan': 8025, 'tel': 11284, 'f5r3zz': 4915, '6mos': 1202, 'las2buf': 7040, 'slapintheface': 10546, 'passenegers': 8700, 'tcunningham10': 11261, '7403607771': 1245, 'establish': 4749, 'deferring': 3982, 'tweeter': 11763, 'tinman2ironman': 11482, 'meggersrocks': 7654, 'woeful': 12683, 'pleasecomeback': 8953, 'glxfwp6nqh': 5638, 'lou': 7345, 'ann': 1948, 'ourguest': 8545, '167': 274, 'cmon': 3340, '1820': 321, '2rsw': 619, 'courtsey': 3692, '2min': 601, '6x': 1209, 'vuxf4r4unu': 12382, 'ua6': 11887, 'disrupted': 4258, 'winston': 12649, 'assisting': 2142, 'pvg': 9324, 'soft': 10654, 'cnctl7g1ef': 3346, 'shade': 10349, 'reachingnewlows': 9474, 'winds': 12637, '521': 1013, 'hotter': 6157, 'entitled': 4692, 'usable': 12163, 'selection': 10274, 'dope': 4361, 'e36': 4501, '8am': 1363, 'canld': 2955, 'resch': 9750, 'tom': 11536, 'okayyyy': 8419, 'irons': 6594, 'shenanigans': 10380, 'stall': 10834, '1535': 224, 'reboard': 9508, 'eerekdf9fq': 4554, 'ua871': 11907, 'fyvrfn': 5489, 'tickt': 11454, 'resource': 9782, 'stressed': 10964, '4315': 860, 'n231wn': 7979, 'taxis': 11251, 'flytpa': 5271, 'fly_nashville': 5242, 'idra8kenoh': 6274, 'apparent': 2015, 'straying': 10956, 'jane': 6684, 'rncahill': 9922, 'aa5411': 1521, 'i7vdi9wqsf': 6236, 'hmmm': 6063, 'usairsucks': 12168, 'cll': 3303, 'trash': 11631, 'ramps': 9434, 'trickling': 11675, '4kbtzvju3b': 958, '1503': 213, 'temperature': 11297, 'icyflight': 6257, '672': 1170, '305': 642, 'sadly': 10058, 'presentation': 9128, 'mysterious': 7974, 'grades': 5710, 'kqnrrp86a5': 6969, 'digg': 4152, 'mallowfairy': 7494, 'silverairways': 10475, 'printer': 9166, '757s': 1257, 'btwn': 2797, 'ports': 9031, 'tfw1': 11334, 'jimtrotter_nfl': 6763, 'listened': 7221, 'blackmailed': 2568, 'nullified': 8317, 'scam': 10157, 'unitedflyerhd': 12035, 'united_airline': 12025, 'n26902': 7980, 'b787fans': 2296, 'ai0yzwt8za': 1752, 'swapping': 11126, 'ont': 8460, 'records': 9547, 'chillycvz': 3201, 'thankgoodness': 11345, 'mypompanobeach': 7971, 'missedconnection': 7805, 'forcedovernight': 5304, 'venetia': 12277, 'crook': 3761, 'ensuring': 4682, 'cldnt': 3282, 'pins': 8890, '494': 940, 'cbv7f3kbkx': 3055, 'vinyl': 12324, 'dissemination': 4266, 'nassau': 8034, 'granny': 5724, '103': 65, 'pleading': 8950, 'oversize': 8592, 'overweight': 8596, 'removes': 9686, 'kvxs1lcqlp': 6987, 'alynewton': 1871, '1230am': 149, '230am': 475, 'dildo': 4156, 'hooked': 6111, 'flierfriendly': 5165, 'supplies': 11071, 'dam': 3887, 'honalulu': 6094, 'delayua53': 4009, 'kauai': 6868, 'aa1103': 1482, 'acknowledgment': 1626, 'npbhd0': 8304, 'ewxwxidtfx': 4801, 'crewmembers': 3748, 'community': 3444, 'inspiring': 6491, 'recieved': 9529, 'ciscojimfrench': 3247, 'cobedien': 3360, 'trend': 11667, 'projects': 9225, '4200': 843, 'subterfuge': 11016, '5db9esbnzg': 1088, 'forms': 5328, 'applies': 2030, 'memories': 7672, 'potentially': 9052, 'harsh': 5905, 'resell': 9762, 'calendar': 2921, 'inquiry': 6477, 'universally': 12042, 'adopted': 1680, 'noluv': 8217, 'marty': 7554, 'nobaggagefees': 8191, 'tjdzamhpew': 11496, '1222': 142, 'pgh': 8825, 'onhxhco6bk': 8454, '1907': 342, 'swooped': 11148, 'restored': 9803, 'bool': 2648, 'niggaz': 8156, 'imma': 6320, 'ua5631': 11886, 'burbank': 2831, 'ua1758': 11840, 'messaging': 7696, 'pri': 9147, 'opsec': 8489, 'behaves': 2460, 'legitimate': 7113, 'rockies': 9954, 'airplanemodewason': 1781, 'inchecking': 6365, 'netherlands': 8102, 'ams': 1909, 'exceptionally': 4814, 'uncourteous': 11974, 'mugged': 7938, 'wrongiswrong': 12767, 'duped': 4473, 'ua3774': 11860, 'versa': 12289, 'candy': 2952, '449': 891, 'wewanttoknow': 12559, 'cstmr': 3787, 'ucveu2hurz': 11922, 'magically': 7461, '01': 11, 'baitandswitch': 2350, 'prob': 9181, 'clueless': 3330, 'agnt': 1736, '4me': 962, 'midnite': 7735, 'aiyc9wv5oq': 1798, '2spooky': 620, 'm8': 7439, 'spook': 10784, 'scare': 10161, 'shavon': 10374, 'evn': 4793, 'zakkohane': 12936, 'ricoh': 9878, 'happytohelp': 5891, 'refundable': 9602, 'dakota': 3880, 'wowxhpu5qv': 12750, 'vx399': 12389, 'dirtiest': 4177, 'truthful': 11710, 'xaizw2isml': 12797, 'exclusive': 4821, 'publicly': 9290, 'uhuh': 11935, 'preemptive': 9099, 'ybv0xaowkv': 12851, 'omaha': 8437, 'firstworldproblems': 5123, 'unless': 12046, '390': 762, 'snuck': 10641, 'cookie': 3630, 'recording': 9545, 'conveniently': 3617, 'holiday': 6077, 'transferring': 11614, 'contribution': 3607, 'pool': 9005, '4rl0p5jchb': 969, 'disneyland': 4236, 'nkafbjyari': 8172, 'alison': 1828, 'bobbi': 2621, 'ladan': 7008, 'idols': 6271, 'sooooo': 10685, 'retweets': 9841, 'relatives': 9649, 'ahoy': 1751, 'allyoucanjetpass': 1853, '6kqlhvap7g': 1198, 'weights': 12531, 'jobfail': 6783, 'unresolved': 12077, 'huston': 6223, 'problemss': 9189, 'clob5qwmxr': 3305, '106': 75, '104': 68, 'protocols': 9259, 'restrm': 9807, 'row7': 9986, 'usexpress': 12196, 'psa': 9272, 'patterns': 8731, 'jobs': 6784, 'transition': 11618, 'yourphonesystemsucks': 12897, 'aa5': 1520, 'ba1506': 2299, 'tossed': 11568, 'dbcvepn5qc': 3930, 'corevalues': 3640, 'passion': 8707, 'aerojobmarket': 1702, '5am': 1083, '1838': 324, 'donthavehighhopes': 4353, 'referencing': 9583, 'pnbajfkmhg': 8983, 'revers': 9849, 'agt': 1742, 'hhoxqpsuba': 6013, 'theworstairline': 11395, '45ktssk18j': 909, 'holds': 6074, 'bulkhead': 2818, 'armrest': 2084, 'controller': 3612, 'agian': 1734, 'rubbed': 10004, 'awe1701': 2259, 'faulty': 4999, 'repaired': 9702, 'upinairclaire': 12124, 'chart': 3143, 'thaw': 11362, '769': 1263, 'hangup': 5871, 'ultimately': 11940, 'education': 4551, 'dance': 3898, 'revue': 9861, 'snaps': 10627, 'cups': 3802, 'embassy': 4615, 'suites': 11041, 'herndon': 6000, 'miriam': 7781, 'enforcing': 4660, 'locating': 7277, 'hayden': 5929, 'steamboat': 10878, '1046': 70, 'stellar': 10884, 'notafanofyourmerger': 8263, 'umpteen': 11945, '5hpsqvrjk8': 1093, 'businesstravel': 2850, 'grandmothers': 5721, 'committed': 3433, 'continentalairlines': 3594, '3387': 688, 'hopped': 6128, 'winwin': 12654, 'phltolas': 8845, 'noexcusesaccepted': 8203, 'particular': 8682, 'pto': 9283, 'preciate': 9089, '5015': 983, 'fc': 5011, 'eliz': 4593, '673': 1171, 'crosswinds': 3766, '581': 1072, 'position': 9034, 'application': 2027, 'platinumeventually': 8938, 'assets': 2131, 'a0yosjhzmc': 1458, 'resorting': 9781, 'afterward': 1720, 'cute': 3838, 'workhard': 12712, 'playsoon': 8949, 'valuable': 12245, 'appeared': 2019, 'assignment': 2136, '1729': 294, 'alarm': 1806, 'jedediahbila': 6709, 'voted': 12365, 'title': 11493, 'jedediah': 6708, 'pages': 8641, 'lick': 7164, 'unbelievably': 11962, 'gj': 5616, 'recourse': 9549, 'ua5168': 11881, 'ua795': 11902, 'givethoseladiesraise': 5614, 'aa1679': 1496, 'successful': 11019, '96': 1413, 'pamgrout': 8655, 'flight2149': 5174, 'regards': 9615, 'bounced': 2681, 'spotting': 10792, 'p6eef1zwzc': 8617, 'freddie': 5368, 'sibling': 10451, 'crfrwpc1sx': 3750, 'sounding': 10705, 'slapped': 10547, 'juliasinton948': 6823, '125': 153, '2160': 447, 'cockup': 3364, 'oh7cfv7dhr': 8407, '915': 1400, 'mhtt': 7718, 'partial': 8680, '2962': 566, '0600': 30, 'importantflight': 6335, 'circles': 3242, 'us1562': 12140, 'ric2dfw': 9870, 'serenitynow': 10307, 'g8': 5496, 'c17': 2880, 'divided': 4283, 'awards': 2255, '4663': 922, '610': 1121, '362': 725, '7498': 1251, 'apostrophe': 2010, 'surname': 11097, 'apostrophefail': 2011, '2495': 504, '1170': 123, '1229': 146, '1120am': 110, 'repeating': 9708, 'nudgenudge': 8315, 'slots': 10574, 'c9': 2894, 'negligent': 8088, 'dividends': 4287, 'blames': 2573, 'redirect': 9566, 'jessicajaymes': 6721, 'addr': 1663, 'signin': 10466, 'colo': 3386, 'johnwayneair': 6788, '464': 920, '3574': 713, '5xweekly': 1108, 'a319': 1464, '28apr': 554, 'njv4bp': 8171, 'nakedmeetings': 8014, 'awkward': 2269, '3960': 769, 'terribleservice': 11314, 'tomvh': 11543, 'mae': 7455, 'aygaoeb6uu': 2273, 'headphone': 5946, 'jack': 6661, 'older': 8428, 'prayer': 9078, 'mishaps': 7794, 'lotttttttt': 7344, 'memorial': 7671, 'bnflhpxtmw': 2612, 'moveaboutthecountry': 7897, 'unitedhatesusall': 12036, 'comcast': 3403, 'ync2zut4zz': 12878, 'xbqqqbrgvf': 12800, '320': 668, 'lapse': 7032, 'ecom': 4539, 'sites': 10501, 'stagnant': 10829, 'yellow': 12865, 'princesses': 9161, 'glassslipperchallenge': 5628, 'wdw': 12494, 'ashleykatherton': 2114, 'bwood': 2870, 'trublue': 11697, 'num': 8318, 'involve': 6574, 'removing': 9687, 'groups': 5770, 'clunky': 3332, '101': 58, 'cathy': 3031, 'hooking': 6112, 'aegeanairlines': 1700, 'availab': 2231, 'nixchangefees': 8169, '4565': 902, 'russell': 10033, 'daiber': 3878, 'maatkare67': 7443, 'tatianaking': 11244, 'thewayoftheid': 11393, 'haa': 5830, 'inserted': 6483, 'aim': 1755, 'usaiways': 12180, 'ua125': 11811, 'indicates': 6412, 'liar': 7159, 'precipitation': 9093, 'pacify': 8627, 'fool': 5297, 'predict': 9095, 'owes': 8605, 'tammy': 11225, 'salem': 10077, 'untrained': 12094, 'meagan': 7616, 'fouty': 5340, 'brancato': 2703, '2771': 547, 'painfully': 8646, 'inexperienced': 6431, 'guaranteed': 5791, 'disabled': 4181, 'airbus321seat14fproblems': 1761, 'zkoe6clgiu': 12951, 'qxnoaqtyn8': 9402, 'jk7qmdfqgf': 6768, 'trivia': 11687, 'aucsykfuhd': 2200, 'wsjplus': 12773, 'pie': 8872, 'ferry': 5052, 'housing': 6166, 'boost': 2652, 'conversion': 3622, 'etailwest': 4755, 'payments': 8743, 'promoting': 9236, 'product': 9201, 'noneother': 8224, 'tfanxbh1cf': 11332, 'montana': 7867, 'arms': 2085, 'sfjduahx9z': 10342, 'skift': 10525, '1808': 317, 'begun': 2457, 'blacked': 2564, 'dumas2ttg': 4468, 'tamara': 11224, 'comfortably': 3414, 'noxtralegroom': 8302, 'nocoatcloset': 8197, 'longday': 7310, 'marathon': 7521, '2a': 571, '8tjuum22dd': 1382, 'heartlanta': 5957, 'vents': 12280, 'vx358': 12387, 'noair': 8188, 'worstflightever': 12736, 'roasted': 9932, 'sfotobos': 10345, 'formally': 5325, 'irene': 6590, 'paxex': 8737, 'ua3782': 11861, 'photos': 8855, 'kindle': 6927, '7dm2j8h97m': 1289, 'xedeckgmw5': 12805, 'frghglmkqf': 5388, 'arvls': 2104, 'custs': 3834, 'irrops': 6602, 'latrice': 7051, 'inappropriately': 6357, 'dphqrgkdoa': 4392, 'incase': 6361, 'whisper': 12593, 'vanished': 12254, 'genuine': 5555, 'opinion': 8482, 'lololololol': 7301, 'yxswfq9tgp': 12926, 'grievance': 5755, 'opaque': 8468, 'glitches': 5631, 'communicated': 3437, 'bingo': 2538, 'noah': 8187, '1687': 280, 'websites': 12512, 'entertained': 4687, 'updating': 12113, 'offended': 8390, 'sht': 10441, '834': 1331, 'tywinter': 11788, 'breaks': 2726, 'guitars': 5808, 'unitedbreaksguitars': 12032, 'wantmymoneyback': 12451, 'passport': 8710, 'remaining': 9667, 'validity': 12242, 'wknd': 12672, 'hyrao7a4uu': 6232, 'multi': 7940, '1of': 374, 'ump': 11944, 'construction': 3570, 'os': 8527, 'category': 3023, 'sc': 10154, 'separating': 10303, 'safetyconcerns': 10064, 'ztrdwv0n4l': 12965, 'bostonbbb': 2668, 'exicted': 4835, 'albertbreer': 1815, 'dicks': 4133, 'joni': 6795, '5653': 1060, 'subsequent': 11011, 'excellence': 4809, 'praised': 9074, '505': 987, 'bradley': 2698, 'transport': 11623, 'refers': 9587, '1679': 276, 'refresher': 9593, 'courses': 3686, 'flyitforward': 5257, 'mines': 7765, 'retracted': 9827, 'iberia': 6245, 'goingforgreat': 5656, 'suffer': 11026, 'extent': 4891, 'horrific': 6137, '2069': 418, 'hsv': 6185, 'vodkatonics': 12353, 'inop': 6467, 'safetyfirst': 10065, 'severally': 10334, 'chairmanlove': 3103, 'neurosurgery': 8105, 'icu': 6255, 'centricity': 3080, 'tsaprecheck': 11725, 'pandu': 8660, 'milwaukee': 7759, 'failingyourcustomer': 4942, 'insta': 6492, 'produce': 9199, 'limits': 7197, 'incl': 6371, 'clusterfucks': 3334, 'insufficient': 6506, '813': 1319, 'atc': 2159, '826': 1326, 'mbj': 7592, '816': 1321, 'ftmyers': 5430, 'danahajek': 3896, 'outsource': 8563, 'poteettj': 9050, 'belfast': 2465, 'unmissable': 12056, 'bushug': 2848, 'format': 5326, 'busads': 2844, 'thinkbus': 11404, 'belfastairport': 2466, 'avbdstjujs': 2236, 'ksml': 6975, 'slides': 10563, 'taxiway': 11252, '4ponj3jide': 967, '3dcwerz1kr': 776, 'explains': 4877, '07': 32, 'seatac': 10232, 'dude': 4458, 'valued': 12248, 'stealing': 10877, 'cameras': 2939, 'panynj': 8664, 'boeingairplanes': 2625, 'froschtravel': 5410, 'rdj1mwflg1': 9466, 'suspect': 11108, 'incapable': 6360, '2yo': 627, 'jack_kairys': 6662, 'beingsuckontarmacsucks': 2463, 'portsmouth': 9032, 'nh': 8141, 'nochill': 8195, 'esd3xd5v1r': 4738, 'require': 9741, 'vino': 12323, 'ga8pbamu0c': 5502, 'painless': 8647, 'effortless': 4565, 'tory': 11565, 'wigs': 12621, 'makeup': 7484, 'qf0oc2hqez': 9349, 'hon': 6093, 'purely': 9311, '787s': 1275, 'operate': 8474, 'tahiti': 11199, 'isabelle': 6603, 'gramp': 5713, 'kmquly9g5e': 6950, 'geeks': 5540, 'servers': 10314, 'unknowledgeable': 12044, 'evidently': 4792, 'btvpxtzju0': 2795, 'pointless': 8993, 'cinnabon': 3239, 'cinnabons': 3240, 'bonsinthesky': 2637, '631': 1137, '891': 1356, '5722': 1065, 'tanpa': 11230, 'mainline': 7470, 'seet': 10264, '45pm': 914, 'divident': 4289, '53': 1021, 'legitimately': 7114, 'hegshmeg': 5971, 'interpreting': 6546, 'sarcastic': 10111, 'asks': 2122, 'finale': 5094, 'knuvuovhub': 6963, 'pigeon': 8877, 'warn': 12459, '3494': 701, '5491': 1036, 'ywg': 12922, '5644': 1059, 'connex': 3553, 'moneynotspentonunited': 7860, 'surprises': 11100, 'olive201': 8432, 'bops': 2658, 'newspaper': 8132, 'baltimore': 2362, 'laps': 7031, 'giants': 5597, 'heaven': 5964, 'suffering': 11028, 'immensely': 6323, 'hourdelay': 6163, 'multipledooropeningandclosing': 7945, 'dangerofgettingsnowedin': 3903, 'justwrong': 6841, 'x____x': 12796, 'y39yzdpbvu': 12837, 'detectors': 4102, 'worm': 12721, 'smoothie': 10608, 'geography': 5557, '489': 936, '589': 1075, 'brooklyn': 2769, 'backpack': 2309, '9bzqzqx8dc': 1427, 'warriors': 12463, 'referral': 9584, 'milageplus': 7746, 'user': 12193, 'redesign': 9564, 'pump': 9299, 'disciplined': 4197, 'lycarltfhl': 7427, 'e2axlqzwvh': 4499, 'incomprehensible': 6386, 'issuing': 6619, 'conversed': 3621, 'downtown': 4388, '3xdaily': 800, 'embraersa': 4618, 'evansville': 4773, '4jun': 957, 'electronic': 4584, '275': 545, 'disregard': 4253, 'highlight': 6027, 'freeconcert': 5371, 'skycap': 10537, 'finds': 5101, 'exceptions': 4816, 'acpt': 1630, '4223': 845, 'damion': 3891, 'damionflight4223': 3892, 'polite': 9002, 'habitually': 5832, 'cases': 3016, 'fedup': 5028, 'disastrous': 4195, '580815': 1071, 'bored': 2661, 'screaming': 10201, 'toddlers': 11522, 'tb': 11256, 'floors': 5222, 'opening': 8471, '30k': 649, 'skymall': 10538, 'ripskymall': 9904, 'tabitha': 11187, 'controlled': 3611, 'verizonwireless': 12287, 'guatemala': 5793, 'combined': 3401, 'drunkpilots': 4436, 'zira2z3udc': 12948, 'nvm': 8329, 'luxury': 7419, 'spoiled': 10778, 'nostalgic': 8261, 'stevie': 10893, 'joking': 6794, 'proportion': 9249, '1591': 244, '1618': 259, 'advis': 1694, 'wo': 12681, 'gentleman': 5552, 'us624': 12154, 'messes': 7698, '253': 516, 'honolulu': 6099, 'aaron': 1541, 'bloody': 2599, 'distribution': 4271, 'orphan': 8523, 'fn2qxybt9k': 5278, '3526665682': 709, 'counterparts': 3671, 'procedures': 9193, '3231dtw': 671, 'lag': 7013, 'hdn': 5936, 'tryagain': 11715, 'intimate': 6550, 'postsecret': 9047, '1m36ntptr8': 372, 'ttxrsynlxr': 11732, 'sheer': 10376, 'reigning': 9630, 'gd': 5536, 'dynamite': 4489, 'gather': 5530, 'tgsb1dfps3': 11336, 'reunited': 9843, 'delinquent': 4018, 'homeward': 6091, 'wise': 12658, 'stains': 10832, 'otty5rymzd': 8539, 'classiq': 3277, 'greetingz': 5748, 'ua51': 11879, 'acting': 1635, 'shorts': 10413, '30th': 653, 'coldly': 3377, 'troubadour': 11690, 'rklqxxawhc': 9913, 'flight16': 5171, 'wrestle': 12759, 'attained': 2174, '1114': 106, 'isolate': 6613, 'hectic': 5969, 'represent': 9726, 'wway': 12783, 'youareonyourown': 12885, '3x9nruovts': 799, 'passngr': 8709, 'capable': 2964, 'hockey': 6067, 'sticks': 10903, 'f623': 4917, 'exhibited': 4834, 'newamericanairline': 8120, 'cheapslogannotmotto': 3158, 'emaleesugano': 4610, 'miler': 7752, 'observe': 8365, 'talents': 11216, 'flyswa': 5268, 'grandpa': 5722, 'ashes': 2112, 'naples': 8024, 'lived': 7233, 'usnavy': 12198, 'ky': 6989, 'strandedinnashville': 10946, 'convenient': 3616, '1558': 232, 'fy6f9rzb9k': 5487, 'firing': 5118, 'loaned': 7267, 'bt37kyrbyj': 2791, 'resulted': 9811, 'crewmember': 3747, '3hrdelay': 783, '1050': 72, 'memory': 7674, 'worstthingever': 12738, 'fedexed': 5026, 'telaviv': 11285, 'impolite': 6333, 'betty': 2503, 'ilm': 6308, 'tysvm': 11787, 'recommendation': 9539, 'nonexistent': 8226, 'nailed': 8013, 'ireland': 6589, 'childrens': 3197, 'jeanine': 6706, '1579': 239, '16mo': 283, 'likelihood': 7185, '2nt': 610, 'misfortune': 7792, 'countries': 3676, 'americanairlnes': 1893, '0316': 20, '55am': 1051, 'wretched': 12760, 'signing': 10467, 'credentials': 3739, 'margo': 7530, 'intercontinental': 6529, 'overheard': 8582, 'sexy': 10340, 'tattoo': 11245, 'jetbae': 6724, 'ox4w6ktsgi': 8609, 'ua1764': 11841, '3883': 756, '38e': 759, 'aruba': 2102, 'bestplanesever': 2495, 'bestflightever': 2491, '1yln1gx4qx': 387, 'eyyyy': 4907, 'conflict': 3530, 'erased': 4721, 'pgfryz': 8824, 'curious': 3808, 'crucial': 3769, 'n33103': 7983, 'taxies': 11248, 'bhx_official': 2519, 'ua26': 11847, 'liberty': 7161, 'ialiceh2ft': 6241, 'personalized': 8809, 'published': 9291, 'eaten': 4529, 'burger': 2834, 'usairwayssuck': 12177, 'goodcustomerservice': 5671, 'tys': 11786, 'okee': 8423, 'doke': 4332, 'popping': 9018, 'airlineadviser': 1772, 'targeting': 11237, '7br5t5qcxk': 1286, 'alan_bledsoe': 1805, 'alan': 1804, 'lve': 7422, 'nxt': 8336, '7th': 1300, 'muscles': 7955, 'frown': 5412, 'flyin': 5251, 'unaccommodating': 11949, 'rethinking': 9822, 'fromthefrontseat': 5406, 'yaffasolin': 12843, '4llwi5oxvo': 961, 'lmfaooooo': 7258, 'deedee': 3976, 'jerk': 6718, 'needtobehonest': 8079, 'canadaair': 2945, 'plain': 8918, 'female': 5047, 'traveller': 11642, 'scary': 10164, 'foreign': 5309, 'sponsor': 10781, '293': 561, 'defiantly': 3983, 'tequila': 11304, 'shots': 10416, 'superb': 11062, 'raving': 9458, 'borderline': 2660, 'smart': 10588, 'partnered': 8686, '0liwecasoe': 46, 'battle': 2400, '6rlz0ebk2x': 1204, '108': 79, 'maine': 7469, 'globe': 5634, 'cathaypacific': 3029, 'cathaypacificus': 3030, 'shocking': 10404, 'jokers': 6792, 'notwheelsup': 8297, 'fourth': 5339, 'emily': 4624, 'gso': 5785, 'inconsiderate': 6388, 'lighting': 7178, 'reclining': 9534, 'kickin': 6910, 'selects': 10276, 'silence': 10471, 'pereira': 8787, 'cartago': 3012, 'streets': 10960, 'forfeited': 5314, 'cst': 3786, 'routinely': 9983, 'odd': 8385, '495': 941, 'suffered': 11027, 'disneyworld': 4238, 'rundisney': 10024, 'princesshalf': 9162, 'stqy9v8256': 10938, 'omgee': 8439, 'onfleek': 8448, 'noooooooooooooooooooooope': 8240, 'misread': 7802, '1800flowers': 315, 'utdfqf5wpa': 12208, 'aviv': 2243, '2334': 480, 'intentional': 6524, 'vegan': 12269, 'marciaveronicaa': 7524, 'uncle': 11967, 'considerate': 3559, 'rockers': 9953, 'knock': 6956, 'unpleased': 12067, 'compare': 3454, 'diufep8n2q': 4274, 'cnnmoney': 3350, 'flamethrowers': 5145, 'plow': 8970, 'surfer': 11091, 'noloveforsurfers': 8216, 'capabilities': 2962, 'stevelord212': 10892, 'yaayy': 12842, 'prom': 9228, 'dxicoyioxf': 4485, 'pricing': 9156, 'criminal': 3755, 'pricewise': 9154, 'itover': 6636, 'someones': 10673, '20hrs': 423, 'excitement': 4820, 'foodnetwork': 5296, 'tummy': 11743, 'unsat': 12080, 'vo3eqsepqh': 12352, '7pm': 1296, '3khgjofgpx': 785, 'reliability': 9658, 'badbadbad': 2320, 'ac6zwmuoon': 1580, 'ugfckermrw': 11929, 'pia': 8862, 'familiar': 4967, 'ups': 12127, 'angering': 1936, 'slowness': 10581, '3076': 646, 'united1k': 12024, 'lipstick': 7214, 'pig': 8876, 'tap': 11231, 'readers': 9481, 'emv': 4641, 'sb5551': 10148, 'casual': 3020, 'jieycat1ek': 6758, 'inbox': 6359, 'standard': 10837, 'protocol': 9258, '6kp4m0r1f7': 1196, 'samsonite': 10089, 'totaled': 11570, 'nanceebing': 8018, 'aa3688': 1516, 'acnewsguy': 1627, 'acarl4': 1581, 'hotmail': 6155, 'badcustomersrvice': 2325, 'whereismybag': 12581, 'inflatable': 6437, 'savethoseseats': 10136, 'unsympathetic': 12091, 'confrontational': 3532, 'fell': 5043, 'midght': 7732, 'maltese': 7496, 'puppy': 9305, 'montreal': 7872, 'ua3659': 11857, 'ua3417': 11851, 'bizarre': 2557, 'hlm2oks6xl': 6060, 'loooooong': 7321, 'lostandforgotten': 7336, 'maddening': 7450, 'unmonitored': 12057, 'na5g5eakpa': 8005, 'stilling': 10904, 'dialing': 4127, 'chatted': 3150, 'fella': 5044, 'lowdown': 7370, '3389': 689, 'chs': 3230, 'prospective': 9254, 'schools': 10184, 'alavera': 1810, 'acc': 1582, 'battierccipuppy': 2398, 'brandssayingbae': 2710, 'baftz': 2336, '8hh0c63tie': 1373, 'mccarran': 7597, 'c16': 2879, 'internal': 6538, 'zksx79itdn': 12952, 'contracts': 3605, 'ua3882': 11864, 'crewe': 3746, 'lukewyckoff': 7402, '1086': 82, 'begging': 2452, 'saddens': 10057, 'seanvrose': 10225, 'stephenrodrick': 10886, 'build': 2814, 'capacity': 2965, 'appropriately': 2043, 'royally': 9990, 'fakesincerity': 4958, 'e0r0nto4tr': 4494, 'iusedtoloveu': 6643, 'tefhpuwmdj': 11282, 'researching': 9760, 'wiil': 12622, 'anyways': 1996, 'nomoreaggravation': 8220, 'refreshments': 9596, '12h30am': 167, 'predicted': 9097, 'ufyxxkisa3': 11928, 'subsequently': 11012, 'gis2015': 5610, 'memorize': 7673, 'phrase': 8856, 'flysaa': 5264, 'cares': 2984, 'rnp': 9926, 'brokenpromises': 2766, 'notnice': 8290, 'tellyourstory': 11294, 'raeann': 9417, '3768': 741, '2522': 515, 'toolittletoolate': 11555, 'stndby': 10914, '2934': 562, 'gsp': 5786, 'library': 7162, 'decline': 3970, 'des': 4064, 'moines': 7846, 'commitments': 3432, 'sal': 10074, 'clo': 3304, '1h45m': 363, 'av': 2229, 'inoperable': 6468, 'ua1270': 11814, 'descending': 4065, 'farce': 4977, 'protected': 9256, 'kerry': 6899, '88': 1351, 'apologise': 2004, 'blameshiftoverload': 2574, 'boardingpass': 2618, 'bagage': 2338, '1923': 346, 'backwards': 2315, 'qdljhsloi5': 9346, 'gooutofbusiness': 5685, '5182': 1007, 'tiffany': 11460, 'burning': 2838, 'glance': 5623, 'starboard': 10845, '1254': 154, 'initiative': 6459, '755': 1255, 'ypu': 12906, 'livepersonplease': 7236, 'evennotified': 4779, 'theflight': 11371, 'isdelayed': 6604, 'wererunning': 12545, '3nsusfsbpv': 791, 'jpd7nsgrt7': 6807, '2littlebirds': 599, 'quickie': 9385, 'nit': 8165, 'cheerupdates': 3175, 'roadtrip': 9929, '2324': 478, 'robert': 9937, 'backtowinter': 2313, 'refreshed': 9592, 'vx9vbctdlf': 12391, 'reissue': 9639, 'alfamilyoffour': 1824, 'presented': 9129, 'lofty': 7285, 'silverstatus': 10477, 'f4tp0dawbd': 4913, 'remained': 9666, 'unhappycustomer': 12015, 'awake': 2253, 'sharp': 10372, 'marcus': 7527, 'us84': 12160, 'ers': 4733, 'curtesy': 3814, 'rocked': 9952, 'kristy': 6974, 'allan': 1834, 'kmm24999563v99860l0km': 6949, '8719519': 1346, 'challenging': 3110, 'neverflyaaagain': 8109, 'oardjjgrrd': 8358, 'hurricane': 6216, 'n7osjz8a59': 7996, 'friendlyskies': 5397, 'ystrdy': 12913, 'theellenshow': 11369, 'interferes': 6532, 'ellen': 4597, 'concerts': 3508, 'alway': 1867, 'treasure': 11656, 'liveatfirefly': 7232, 'als': 1857, 'm1yywafkfi': 7434, 'kevinswan_': 6900, 'alstdi': 1860, 'a_life_story_': 1478, 'caught': 3037, 'q16xvwg0l6': 9332, 'el': 4577, 'paso': 8696, 'wills': 12629, '2hr30': 591, 'loser': 7329, 'ringling': 9895, 'barnum': 2383, 'bailey': 2348, 'peeled': 8769, 'clown': 3322, '345': 696, 'redirected': 9567, 'foresight': 5311, 'managing': 7504, 'rkvczbpdce': 9915, 'gqp69g9zgw': 5702, 'ga': 5501, 'pleeeease': 8962, 'sway': 11127, 'tqc96tkci9': 11589, '1142': 116, '1125': 111, '395': 768, 'comenity': 3408, 'constant': 3567, 'tallahassee': 11222, 'negroni': 8090, 'bitcoin': 2554, 'offline': 8402, 'jetgreen': 6741, 'jetred': 6742, 'flight1407': 5170, '44stocker': 894, 'sarah': 10107, 'stocker': 10916, 'keepingtraditionsalive': 6887, 'alabama': 1803, 'businesstrip': 2851, 'caution': 3042, 'arc': 2064, 'rely': 9663, 'extractions': 4896, 'abducted': 1556, 'subtlety': 11017, 'yzh4zrqm0i': 12931, 'petty': 8820, 'cstsvc': 3788, 'honors': 6104, 'rcd': 9463, 'ny_njairports': 8338, 'misguided': 7793, 'destroy': 4096, 'southern': 10713, 'sav': 10128, 'delivering': 4021, '8hrs': 1375, 'thailand': 11340, 'redeemed': 9561, 'straightened': 10942, 'impaired': 6327, 'jetblueanyone': 6726, '5cwh1yfoow': 1087, 'makeovertime': 7480, 'customerserviceplease': 3830, 'tonnes': 11550, 'cudtomers': 3796, 'owe': 8602, 'constructive': 3571, 'criticism': 3759, '2062': 414, '901': 1391, 'rio': 9897, 'rcm_oficial': 9464, 'representing': 9729, 'cisnerosmedia': 3248, 'yourstoryhere': 12898, 'swagglikebean': 11121, '2601': 531, 'x6syw3mdvu': 12793, 'els': 4602, 'humiliating': 6204, 'shutting': 10446, 'threat': 11426, 'sue': 11025, 'fl382': 5142, 'daddyshome': 3875, '0jjt4x3yxg': 43, 'usxlon': 12204, 'bankruptcies': 2369, 'gjt': 5618, 'reserv': 9766, 'permission': 8801, 'ph6rps': 8829, 'hiltonworldwide': 6035, 'caravannyc': 2974, 'maysvillenyc': 7586, 'tourist': 11581, 'egaejtrglb': 4567, 'emxlyy': 4642, 'swear': 11128, 'nat': 8037, 'hemophilia': 5995, 'reappeared': 9498, 'unloads': 12052, 'badbusiness': 2321, 'welcomes': 12534, 'abc11_wtvd': 1551, 'aa111': 1483, 'mdbeei': 7608, 'mcmullen': 7604, 'a4': 1472, 'transparent': 11621, 'vxn2j36m7v': 12392, 'shadier': 10351, 'nines': 8163, 'salted': 10082, 'vote': 12364, 'dread': 4409, 'rhw78ktqfo': 9867, 'brussels': 2784, 'eu': 4766, 'tmobile': 11510, 'await': 2251, 'southwestfail': 10718, 'qualifies': 9368, 'comms': 3435, 'lil': 7190, '1316': 173, 'voided': 12356, 'kciairport': 6876, 'notsatisfied': 8294, 'unclear': 11968, 'exclusively': 4822, 'fl1289sfo': 5141, 'getmeoffrhisfuckinplane': 5572, 'celebrates': 3067, 'u5hxri6crx': 11793, 'dl': 4299, 'ethan': 4761, 'pants': 8663, 'revive': 9859, 'laundry': 7059, 'tabs': 11192, 'likingyoulessandless': 7189, 'geneva': 5548, 'plate': 8936, 'spaghetti': 10731, 'cramming': 3716, 'bpdfpp': 2694, 'astounding': 2154, 'fixyourstuff': 5137, 'height': 5974, 'aal': 1539, 'slower': 10577, 'ory89eegek': 8526, 'struggle': 10981, 'hqdb5iruvg': 6177, 'vmsg': 12350, '3825': 746, 'grandcanyon': 5716, 'arizona': 2081, 'd7pqouatdf': 3866, 'wervirgin': 12548, 'revision': 9857, 'onholdfordays': 8451, 'travelportland': 11647, 'hood': 6108, 'y3sahvx3zk': 12838, '2yr': 628, 'burroughs': 2841, 'yourairlinesucks': 12893, 'briughy': 2759, 'comclassic': 3404, 'aif2015': 1753, 'agcommunity': 1722, '66nxzhbbmt': 1167, 'twtr': 11774, 'dissaponted': 4263, 'garywerk': 5523, 'sandwiches': 10096, 'nikon': 8161, 'needtogethome': 8081, 'dreading': 4411, 'fucked': 5438, '416': 834, '514': 1004, 'waved': 12486, 'reebok': 9576, 'rockinwellness': 9957, 'tkvmhbkec3': 11504, 'rollaboard': 9965, '5xvnnmltiw': 1107, 'evasive': 4774, 'bershawnjackson': 2487, 'dean': 3946, 'theydontanswer': 11397, 'desirable': 4078, 'welllllll': 12537, 'dhhomg2kix': 4123, 'weighing': 12528, 'pink': 8889, 'guitar': 5807, 'thousandth': 11424, 'usairway': 12169, '5kshtue6q0': 1097, '45am': 907, '5pm': 1100, 'lea': 7082, 'twin': 11769, 'olds': 8430, 'boys': 2692, 'lifesaver': 7171, '25min': 524, 'allegianttravel': 1836, 'stressful': 10965, 'qjlzrywfj2': 9352, 'slog': 10568, 'loganairports': 7288, 'amypoehler': 1914, 'cehroeurc5': 3065, 'utfdhxa8pu': 12210, '86': 1342, 'tissues': 11492, 'approproately': 2045, 'mails': 7466, 'wating': 12483, 'aboout': 1563, 'brighter': 2746, 'pr3oebc2n2': 9069, 'earliest': 4508, '1a': 354, '7f': 1291, 'xdjzkc34gb': 12804, 'potable': 9048, 'struts': 10982, 'nozzle': 8303, 'calibrated': 2924, 'saysorrychris': 10146, 'hiccups': 6016, 'sympathize': 11161, 'skkewqhssg': 10535, 'overfilled': 8576, 'notahappycustomer': 8264, 'leavingtomm': 7103, 'labeled': 7001, 'occupy': 8376, 'musical': 7957, 'barclaycardus': 2377, 'controllers': 3613, 'equally': 4717, 'coltsmissingbags': 3393, '1359': 184, 'sellmypointssoon': 10282, 'bitty': 2555, 'beware': 2506, 'barklays': 2382, 'grp': 5774, 'dump': 4470, 'liars': 7160, 'assure': 2150, '4h2m': 953, '5h2m': 1090, 'timezones': 11478, 'accuratetraveltimes': 1618, '3rdtimethishashappened': 795, 'e0c9bi09cf': 4493, 'gosh': 5690, 'rechecked': 9528, '2go': 586, 'sends': 10289, 'outrage': 8558, 'kkwiwi97a4': 6943, 'bangkok': 2366, 'accommodation': 1600, 'placing': 8916, 'ed': 4544, 'stollen': 10920, 'plague': 8917, 'alwaysdelayedonunited': 1868, 'grandbabies': 5715, 'births': 2548, 'unsmiling': 12086, 'breezy': 2733, 'sev': 10332, '2k': 597, 'buyer': 2862, 'axpn28xiqb': 2272, 'tbt': 11258, 'bagsflyfree': 2344, 'cheatcustomers': 3160, '771': 1266, 'repeated': 9706, '5cdx2roae6': 1086, 'n366sw': 7986, 'wqzztiemx0': 12752, 'mario': 7534, 'bros': 2770, 'gameboy': 5514, '2222': 460, 'g9b6e0a2sz': 5500, 'erieairport': 4725, 'rats': 9457, 'renhotels': 9689, 'marriottrewards': 7548, 'nowhereland': 8300, '691': 1182, 'unannounced': 11954, 'mouth': 7896, 'disneyprincesshalfmarathon': 4237, 'girlsweekend': 5609, 'bffs': 2509, '1735': 295, 'conditioning': 3516, 'qgmfcb7yt4': 9350, 'cache': 2907, '159': 243, 'clues': 3331, 'upholding': 12123, 'wheelchairs': 12576, 'strollers': 10976, 'ems': 4640, 'ski': 10523, 'prolly': 9226, 'tryna': 11719, 'fulfill': 5450, '606': 1119, '2maro': 600, 'leak': 7090, 'getmeoffthisplane': 5573, 'ineedabeer': 6422, '223': 461, 'usairwaysfailscustomers': 12173, 'herb': 5997, 'inaccessibility': 6353, '00am': 8, 'bttgmyn0a0': 2793, '20k': 424, 'yearly': 12858, 'ubetter': 11919, 'smth': 10613, 'f5ixyw8xyb': 4914, 'basketball': 2392, 'wheresmyrefund': 12583, 'bucketobolts': 2800, 'possibility': 9040, 'violation': 12326, 'aerocivilcol': 1701, 'reissued': 9640, 'flightlanding': 5194, 'sunscreen': 11056, 'feelsgood': 5037, '5pvg2hjxkp': 1101, 'we7pf5ll1y': 12495, 'charm': 3142, 'liking': 7188, 'maxabrahms': 7580, 'scooby': 10190, 'doo': 4356, 'surcharge': 11084, 'reopen': 9696, '1285': 161, 'growing': 5772, 'backlog': 2308, 'essentials': 4747, 'occur': 8377, '566': 1061, 'nosupport': 8262, 'deactivated': 3937, 'deactivate': 3936, 'scream': 10200, 'carrie': 2998, 'tmr': 11511, 'outofbusiness': 8557, 'tons': 11551, 'fields': 5074, 'airsouthwest': 1788, 'streaming': 10957, 'tos': 11566, 'nascar': 8031, 'mor': 7880, 'parhetic': 8674, 'narrower': 8028, 'bloated': 2593, 'fiancée': 5068, '1427': 199, '333': 681, 'retailbagholder': 9815, 'welp': 12538, 'kwuek1ukbc': 6988, 'thanx': 11359, 'rodeo': 9961, 'comm': 3419, 'understandably': 11985, 'edgy': 4545, 'chipper': 3204, 'requirement': 9743, 'deemed': 3977, 'obj_3': 8362, 'scheming': 10181, 'obj': 8361, 'lmaooo': 7254, 'populate': 9021, 'lvirtdtqly': 7423, 'frequently': 5383, 'advisories': 1698, '5903': 1078, 'uncomfortable': 11969, 'ua761': 11900, 'flite454': 5217, 'windy': 12638, '70f': 1217, '2ir7ynmbdu': 596, '24hr': 508, 'sld': 10551, 'lilly': 7192, 'reciprocate': 9530, 'inhumane': 6456, 'adv': 1686, 'dispute': 4251, 'stone': 10921, 'painted': 8649, 'allowable': 1846, 'length': 7122, 'suitcases': 11039, 'fist': 5126, 'version': 12291, 'lex': 7141, '1016': 59, 'dontchangeathing': 4349, '603': 1116, '2705': 543, 'psp': 9276, '616': 1123, 'civilized': 3255, 'volumes': 12358, 'pkfi9bttzf': 8910, 'aircargo': 1764, 'bbj6kmtyul': 2408, '425pm': 850, 'yxe': 12924, 'affect': 1707, 'ua6136': 11890, '4jdvk8tcqx': 956, 'no2jetblue': 8183, 'nonetheless': 8225, 'teams': 11267, '50k': 994, '4125': 829, 'comeon': 3409, 'extenuating': 4892, 'obama': 8360, 'therealaviation': 11384, '806': 1312, 'copilot': 3637, 'referred': 9585, 'yummy': 12917, 'egkvfokogj': 4569, 'theairhelper': 11365, 'blackberry10': 2563, 'ua3576': 11855, 'ray': 9460, '736': 1240, '917': 1401, 'xx5qscjll1': 12829, 'freberg15': 5366, 'junk': 6830, 'stl2atl': 10912, '2nite': 608, 'pd3nbaakxh': 8752, 'happyflight': 5889, '211pilot': 440, 'f1yvaio9ul': 4910, 'vglx6ykwqg': 12301, 'followers': 5290, 'soc': 10647, 'dontflyusairways': 4352, 'consistency': 3563, '4007': 806, 'xw': 12826, 'enroll': 4677, 'obnoxious': 8363, 'upsell': 12128, 'laden': 7009, '0pdntgbxc6': 47, 'moar': 7837, '2hours': 587, 'loans': 7269, 'valentine': 12238, 'smfh': 10595, 'remain': 9665, 'emrey35': 4639, 'miraculously': 7779, 'shoe': 10406, 'costarica': 3659, 'pennies': 8778, 'vacatime': 12229, 'sandiego': 10093, '7xmav13g2w': 1303, 'ela7tntcir': 4578, 'recognize': 9536, 'terri': 11310, '1388': 189, 'semester': 10285, '823': 1325, '3075': 645, 'kmanldqbh4': 6948, 'fate': 4993, 'mqxc64': 7913, 'mpwnc2': 7912, 'nature': 8048, 'investigate': 6562, 'series': 10308, 'levels': 7138, 'realistically': 9490, 'israel': 6615, 'greenfield': 5743, 'reporter': 9721, 'lm3opxkxch': 7252, 'impressive': 6341, '10voucherwhatajoke': 96, 'bohnjai': 2629, '3854': 749, 'forecasted': 5307, 'measles': 7625, 'outbreak': 8549, 'peace': 8758, 'usdelay': 12186, 'letsgoalready': 7132, 'goosebayairport': 5684, 'goose': 5683, 'labrador': 7003, '4ki6xr67nk': 959, 'perspective': 8812, 'communicationiskey': 3441, 'brcsjbxg2s': 2717, 'abassinet': 1549, 'mpls': 7910, 'professor': 9207, 'skiplagged': 10532, 'startups': 10857, 'itscostingmeincome': 6640, 'yasssss': 12847, 'da': 3869, 'fuccc': 5435, 'oaj5mnucha': 8355, '1874get': 332, 'occasion': 8373, '1815': 319, 'n747uw': 7993, 'ttlwzgiyag': 11731, '2ikbp8gxwi': 595, 'loaner': 7268, 'aa76': 1524, 'gems': 5544, 'maarten': 7442, 'medicine': 7641, 'orphanage': 8524, 'pgoeuxnspi': 8826, 'clarion': 3268, 'lostbags': 7337, 'filmjobnoequipment': 5088, 'ua1002': 11797, 'redsox': 9571, 'catsanddogslivingtogether': 3033, 'kfuyyokufv': 6906, 'org': 8509, 'flight353': 5176, 'usuck': 12201, 'shower': 10431, '3267': 675, 'n659sw': 7992, 'mitchellairport': 7820, 'lj2ydkor8q': 7247, 'grow': 5771, 'bestairline': 2489, 'horribleservice': 6134, 'lineup': 7205, '50m': 996, '1tix': 383, 'underweight': 11991, 'trv': 11712, 'contaced': 3578, 'eyewitness': 4905, 'airserv': 1786, 'contractors': 3604, 'ua1566': 11830, 'calamity': 2919, 'bundle': 2829, '1000': 53, 'notmadeofmoney': 8288, 'swanky': 11125, 'cabaret': 2898, 'singer': 10488, 'scanned': 10160, 'lo6lghpcdu': 7262, 'vacationing': 12232, 'nlrphoto': 8175, 'chocolate': 3215, 'kisses': 6934, 'nklozcntto': 8173, 'exercise': 4831, 'travelfail': 11638, 'compensating': 3465, 'hhagerty': 6012, 'psgrs': 9274, 'kfkjf1ztgi': 6905, 'greedy': 5740, '1712': 292, 'pointy': 8996, 'ua90': 11909, '1750': 298, 'registering': 9620, '13341': 179, 'woodland': 12698, 'virginia': 12334, '20171': 403, '0200': 18, 'arent': 2071, 'callings': 2931, 'restr': 9804, 'xrdtov7nl8': 12823, '4y78byackc': 975, 'jenniferdawnpro': 6714, 'vetr': 12298, 'mideast': 7731, 'ymmh9k4cbr': 12877, 'pky7zhnnrh': 8912, '1025': 62, 'silly': 10473, 'surly': 11096, 'pesky': 8814, 'folk': 5285, 'dividendrewards': 4286, 'wouldve': 12746, 'liked': 7184, 'perform': 8791, 'newyork': 8134, 'viracopos': 12329, '3fhes0lpmu': 778, 'renttherunway': 9695, 'dress': 4418, 'dandy': 3900, 'fvlxirh1f1': 5476, 'lookforwardtoflywithaa': 7316, 'gem': 5543, 'twa': 11759, '559': 1049, 'qdebyahqfm': 9345, '2031': 409, 'regretting': 9625, 'hotterandlongerthanhell': 6158, 'natural': 8047, 'beefjerky': 2445, 'cleanliness': 3287, 'satisfied': 10120, 'panam': 8656, 'howdy': 6170, 'erroring': 4731, 'bur': 2830, 'gettingbetter': 5582, 'cavalli': 3043, 'calves': 2935, 'interfering': 6533, 'brooding': 2768, 'x9blwgwa68': 12795, 'intlcheckin': 6552, '38a': 758, 'assumed': 2147, '8e': 1369, 'standbys': 10841, 'stare': 10847, 'overcharged': 8574, 'immediate': 6321, 'preparation': 9118, 'depending': 4052, 'belabor': 2464, 'rollers': 9967, 'irixaifjjx': 6592, 'batting': 2399, 'analystdoc': 1917, 'processing': 9198, 'confirmations': 3527, 'tucking': 11734, 'transfers': 11615, 'h6hn33jjje': 5826, 'appointment': 2034, 'ua1550': 11828, 'af': 1705, 'approaching': 2041, 'graphic': 5726, 'ut5grrwaaa': 12205, 'evoucher': 4795, 'foodallergy': 5295, '502': 984, 'plt': 8975, 'cartagena': 3011, 'praises': 9075, 'pact': 8635, 'valuables': 12246, 'us2146': 12146, 'aa2924': 1509, 'frontier': 5408, 'n8winfu6c5': 8000, 'attending': 2185, 'underserved': 11980, 'g97habyep5': 5499, 'ntrustopen': 8313, 'golfunited': 5662, 'trumping': 11706, 'chge': 3184, 'worthy': 12742, 'useles': 12191, 'arrange': 2089, 'argentina': 2074, 'tollfree': 11535, 'restore': 9802, 'rapidrewards': 9447, 'discusses': 4217, 'possibilities': 9039, 'nhl': 8142, 'arena': 2070, 'naming': 8017, 't3e4sh5xng': 11177, 'smusportmgt': 10615, 'sportsbiz': 10788, 'ua1565': 11829, 'hez4jk4zsk': 6005, 'missedflight': 7806, 'leathery': 7099, 'begins': 2455, 'bro': 2761, '835': 1332, '2672': 536, 'strict': 10967, 'liable': 7158, 'bushleague': 2847, 'weakservice': 12497, 'panicked': 8662, 'completed': 3485, 'manilla': 7511, 'elwoodblues77': 4603, 'gifting': 5601, '375': 736, 'lmfaooo': 7257, '1g9rnmyuqe': 361, 'mimosa': 7760, 'compared': 3455, 'jparkermastin': 6806, 'passive': 8708, 'unitedworstever': 12041, 'trappedhouston': 11629, 'setup': 10330, 'wentook3': 12542, 'ridic': 9882, '0736': 33, 'goods': 5680, 'tags': 11198, 'weighs': 12529, 'chronicleherald': 3228, 'registration': 9622, '9vkj9s7jrm': 1446, '46mins': 924, 'dice': 4131, 'encourage': 4646, 'sole': 10662, '6166': 1124, 'blatantly': 2583, 'stable': 10819, 'lchvjolidg': 7080, 'earrings': 4518, '38': 742, '1ker': 368, 'directs': 4175, 'okcdirects': 8421, 'okcprofessionals': 8422, 'pnr': 8984, 'displays': 4248, 'perceived': 8785, 'flightncy': 5202, 'ua4753': 11871, 'errored': 4730, '134': 181, 'flythroughs': 5270, 'time2switch': 11473, 'retroactively': 9833, 'ncguzdgdaq': 8063, 'offices': 8399, 'logical': 7293, 'newborns': 8123, 'illiterate': 6305, 'magic': 7459, 't4gcks2bh5': 11178, 'highbuddyyy': 6022, 'movement': 7899, 'wholly': 12598, 'desition': 4081, 'nade': 8008, 'greyed': 5752, 'syastem': 11157, 'rated': 9453, 'suuperg': 11109, 'rockstars': 9960, 'alittle': 1831, '218': 449, 'facepalm': 4932, 'punished': 9302, 'tinaisback': 11481, 'cutest': 3839, 'pepper': 8783, 'shaker': 10354, 'vc6keulg2j': 12261, 'shits': 10394, 'hacked': 5833, 'fjbfsc': 5138, '776': 1267, '656': 1162, 'getmorehands': 5577, 'enormous': 4674, 'ffanixjhwh': 5058, 'kacy2awdbw': 6852, 'intend': 6520, 'hosp': 6140, 'trys': 11721, 'cuts': 3841, 'hlp': 6061, 'practices': 9072, 'bench': 2477, 'dadeland': 3876, 'european': 4769, 'fabrice': 4926, 'updateyourwebsite': 12112, 'mha3xxaed5': 7714, 'b3': 2284, '1299': 163, 'm13': 7433, 'swiss': 11141, 'lx009': 7426, 'bff': 2508, 'akron': 1801, 'prefference': 9106, 'jannasaurusrex': 6687, 'janna': 6686, 'weappreciateyou': 12499, 'jetbluefame': 6731, 'twist': 11771, 'plot': 8968, 'unsecured': 12082, 'squawked': 10807, '7700': 1265, '1089': 83, '1098': 84, 'eqqi1nfszh': 4714, 'marketwatch': 7541, 'yi4wguk5tr': 12873, 'learning': 7096, 'famous': 4970, 'phd_mama_': 8831, '694': 1183, '790': 1278, 'matt_e_boss': 7571, 'tablets': 11191, 'defective': 3980, 'pure': 9310, 'awesomeness': 2263, 'attdt': 2175, 'decides': 3963, 'sche': 10174, 'genious': 5549, 'railed': 9422, 'notpghtimothy': 8293, 'rosetta': 9972, '6457': 1151, 'dan': 3894, 'wasappreciated': 12464, 'clockwork': 3306, 'scareways': 10163, 'neverfails': 8108, 'aumilo1': 2211, 'expeditious': 4858, 'onechildfourbags': 8443, 'inclusion': 6379, 'swadiversity': 11119, 'truthh4': 11711, 'imjustsaying': 6319, 't6fyybhjhl': 11181, 'occurs': 8379, 'captured': 2972, 'brittany': 2757, 'clouds': 3321, 'wannaa': 12446, 'rejecting': 9643, 'medication': 7640, '4days': 949, 'appalling': 2014, 'rnd': 9923, 'worstflightexperienceever': 12737, 'getmehome': 5571, 'largest': 7036, 'bible': 2520, '16hr': 282, '55mins': 1053, 'sanity': 10101, 'escape': 4735, 'bliss': 2590, 'indenial': 6406, 'whatfrozenpipes': 12569, '6ttzejv3hy': 1206, '4828': 933, 'marshall': 7552, 'accruing': 1612, 'reactive': 9478, 'proactive': 9179, '12pm': 168, 'gsa': 5783, 'stink': 10909, '904am': 1393, 'ieg2obcepp': 6276, 'sato': 10122, '1041': 69, 'gluten': 5637, 'whyyy': 12610, 'poop': 9007, 'w1aakjumxa': 12397, 'hashtag': 5907, 'abcletjetbluestreamfeed': 1553, 'rides': 9881, 'enuf': 4698, 'mbr': 7594, 'holdon': 6073, 'everythingsgonnabealright': 4789, 'brandloveaffair': 2707, '64kn6geep8': 1155, 'truebluelove': 11702, 'malhoit': 7492, '4110': 827, 'isp': 6614, 'quoting': 9397, '440': 871, 'thy': 11445, '87': 1344, '43rd': 869, 'languages': 7029, 'latinamerican': 7050, 'whoot': 12599, 'refundprocedurenottoopainful': 9605, 'competent': 3468, 'hep': 5996, 'acknowledgement': 1625, 'ife': 6279, 'profile': 9211, 'maintain': 7472, 'grandparents': 5723, 'began': 2451, 'bnasnow': 2611, 'flyknoxville': 5259, 'established': 4750, 'noclothesnoinfo': 8196, 'sched': 10175, 'separately': 10302, '245': 498, '55min': 1052, 'us755': 12159, 'aa2595': 1507, '2595': 521, 'tennetexan': 11301, 'choppy': 3221, 'gusty': 5813, 'windchill': 12634, 'asshole': 2132, 'jeff_hofmann': 6711, 'denisejtaylor': 4036, 'laurieameacham': 7062, 'invited': 6570, 'callmestanley7': 2932, 'discontinued': 4208, 'wannagohome': 12447, 'straighten': 10940, 'u1vieuidf5': 11791, 'ahhhhh': 1748, 'rtw': 10002, 'planner': 8930, 'spec': 10742, 'flythefriendlyskies': 5269, 'marsha': 7550, 'myrtle': 7973, 'praise': 9073, 'thankyouforeverything': 11357, 'callers': 2929, 'sweetingr': 11134, 'loudspeaker': 7349, 'template': 11298, 'aaaand': 1530, 'jimdaytv': 6761, 'bots': 2675, 'minus': 7774, 'freeneversucks': 5374, 'bom': 2635, 'saver': 10133, 'mktg': 7826, 'branding': 2706, 'cxp': 3851, 'cheapoair': 3156, '5612': 1057, 'buenos': 2807, 'ares': 2072, 'sre': 10811, '1373': 187, 'shared': 10368, '3kvkd8yrxa': 786, 'squared': 10804, 'relationship': 9646, 'saddening': 10056, 'expanding': 4847, 'kk6eixifp5': 6940, 'murraysawchuck': 7954, 'r1oqaveo7i': 9406, 'shaky': 10356, 'notourfaultyoudontuseyourgatesright': 8292, 'ua1750': 11839, 'prison': 9171, '6delays': 1189, 'literate': 7228, '18hrs': 338, 'snowboard': 10633, 'totalfail': 11571, 'dsdebodmel': 4443, 'string': 10970, 'roxydigital': 9988, 'realtime': 9497, 'rockingthetweets': 9956, 'restroom': 9808, '0530': 26, 'segs': 10269, 'uygew2nosr': 12217, 'shiver': 10399, 'forevercold': 5313, '28hrs': 555, '906': 1394, 'zvfmxnuelj': 12969, 'workin': 12713, 'sinuses': 10492, 'contend': 3587, 'landings': 7024, 'preregistration': 9124, 'cqmm7nue9m': 3709, 'livewelltraveled': 7240, 'sytycd': 11173, 'sided': 10455, 'span': 10735, 'believable': 2467, 'bbm6pabort': 2409, 'fuckin': 5440, 'recharging': 9526, '2350': 483, 'ted': 11277, 'bye': 2872, 'andrew_wasila': 1926, 'andrew': 1925, 'sma': 10583, 'hearts': 5958, '480': 932, 'differ': 4144, 'loveeee': 7360, 'solutions': 10666, '725': 1231, '1966': 350, 'chosen': 3223, '4369': 865, 'buses': 2845, 'rumor': 10020, '898': 1359, 'acquired': 1632, 'kravitz': 6970, 'baldordash': 2355, 'netneutrality': 8103, 'rollercoaster': 9966, 'champagne': 3111, 'aa153': 1492, 'celebrate': 3066, 'tokyomarathon2015': 11530, 'ij4xl01tkx': 6298, 'fuyukaidesuyo': 5474, 'hugeeeee': 6197, 'swamped': 11124, 'platinummember': 8939, 'limbo': 7194, 'weighed': 12527, 'lovesouthwestair': 7366, 'goddamn': 5649, 'butt': 2857, 'naelah': 8010, 'beautifully': 2439, 'mltple': 7832, 'referring': 9586, 'n8uvclmada': 7999, 'colossal': 3392, 'infringement': 6451, 'fs4ve7': 5421, 'rylietolbert15': 10043, 'generated': 5546, 'hint': 6038, 'commend': 3423, 'rebecca': 9507, 'levi': 7140, 'leadership': 7085, 'sentimental': 10297, 'heartbroken': 5956, 'mhtforlife': 7717, 'persisting': 8804, '3500pts': 706, 'partnerrewards': 8688, 'curiosity': 3807, 'kinder': 6926, '236': 484, 'drw08djhai': 4439, 'los': 7327, 'angeles': 1934, 'waspaid': 12468, 'ute': 12209, 'cud': 3795, 'flyeia': 5245, 'xatoxbnsfa': 12799, 'enraging': 4676, '1261': 156, 'l2n0eghdgn': 6994, 'earnedmybusiness': 4514, 'luke_mcintosh68': 7401, 'hardest': 5898, 'detective': 4101, 'wylie': 12785, 'jgor0vdi3s': 6751, 'documentation': 4325, 'fay': 5008, '261093929756': 532, 'solid': 10663, 'countless': 3675, 'strips': 10972, 'hyperlinked': 6230, 'ih5w9nfkz2': 6292, 'ho': 6065, 'weeklycommuteonaa': 12523, 'jqhg4jtm4w': 6809, 'thirty': 11408, 'capability': 2963, 'whining': 12588, 'openskies': 8473, '717': 1226, 'd1mqf5': 3863, 'looong': 7320, 'k0mhzrjf6e': 6848, 'slide': 10562, 'dot': 4367, 'branson': 2711, 'courtney': 3691, 'patricia': 8727, 'mmcwkqp2gy': 7833, 'pillow': 8881, 'combine': 3400, 'chef': 3178, 'miguel': 7740, 'allende': 1837, '7t1rdrcre6': 1299, 'thereisafirstforeverything': 11385, 'ridiculousness': 9886, 'learncustomerservice': 7094, 'pura': 9306, 'vida': 12310, 'suite': 11040, 'circulation': 3245, 'nrhodes85': 8305, 'notimpressed': 8286, '1826': 322, 'hollywood': 6083, 'dw5nf0ibtr': 4480, 'mod': 7842, 'lh7631': 7153, 'pops': 9019, '13ewr': 191, 'ua1151': 11807, 'classic': 3275, 'jsumiyasu': 6812, 'sleet': 10558, 'labyrinth': 7004, 'swindle': 11139, '5xgnyhgafz': 1106, 'contd': 3585, 'flite': 5216, 'ansleyhutson': 1969, 'emily_donneiiy': 4625, 'dcobokn7ee': 3935, '1265': 157, '2396': 488, 'kcqebeej7s': 6878, 'manifests': 7510, 'nominated': 8218, 'meetthefleet': 7651, 'dnstitrzwy': 4315, 'rpdbpx3wnd': 9991, 'aimed': 1756, 'satisfy': 10121, 'nano': 8020, 'smattering': 10590, 'whatstheholdup': 12573, 'chitocle': 3206, 'ws': 12770, 'ua475': 11870, 'gently': 5553, 'whipped': 12591, 'cream': 3733, 'smoothest': 10606, 'embody': 4616, 'thanksdave': 11351, 'innp0kkyby': 6466, 'xf9mpnaaje': 12806, 'nationwide': 8044, 'burned': 2837, 'cory': 3652, 'greatcustomerservice': 5733, 'celebration': 3069, 'nomorevirgin': 8222, 'shipping': 10390, '0162431184663': 13, 'dis': 4179, 'hour20delay': 6161, 'verifies': 12285, 'harris': 5904, 'texted': 11327, 'vastly': 12258, '9eueyxawcv': 1429, 'forgets': 5317, 'ricky': 9876, 'wjere': 12668, 'siting': 10502, 'desires': 4080, 'wmx12f33zc': 12679, 'lucycat': 7396, 'timieyancey': 11479, 'tkvcmhbpim': 11503, 'justifiable': 6835, 'aadavantage': 1534, 'lan': 7020, 'americanairsucks': 1894, 'hiremorepoeple': 6048, 'remove': 9684, 'consideration': 3560, 'caexhibitions': 2910, 'compounding': 3497, 'jeffsmisek': 6712, 'robertfor39': 9939, 'fioretti2ndward': 5113, 'garcia4chicago': 5520, 'invest': 6561, 'jvj73zza4a': 6843, 'ua3364': 11850, '2mins': 602, 'bourbon': 2685, 'denverairport': 4039, 'cltdouglas': 3324, 'slowest': 10578, 'ionlyflyblue': 6577, 'melinda': 7660, 'greensboro': 5744, 'jewel': 6748, 'warmer': 12455, 'simonroesner': 10480, 'concrete': 3511, 'us1937': 12142, 'zacks_com': 12935, 'gouzrdt7zf': 5696, '856': 1339, '81': 1317, 'wewantcomps': 12558, 'pitts': 8902, 'neglected': 8086, 'hoops': 6114, 'severely': 10336, 'dented': 4037, 'miranda': 7780, 'sarahpompei': 10108, 'pita': 8899, 'inedible': 6421, 'delicious': 4014, 'shrimp': 10438, 'sotl8xqsrp': 10699, 'pns': 8985, 'smiles1307': 10599, 'kaps12': 6858, 'quarter': 9372, '4210': 844, 'bradley_airport': 2699, 'aa106': 1480, 'shortstaffed': 10414, 'believing': 2469, 'whatgives': 12570, 'dullessucks': 4465, 'corpgreed': 3644, 'nevertakeno': 8115, '6mbvjflpbm': 1201, 'teyana': 11330, 'medusafridays': 7645, 'till11': 11467, 'qwfmoq0dql': 9401, 'kbb0b5fxmk': 6871, 'themenofbusiness': 11379, 'cyoonzftdc': 3858, 'frigidfriday': 5402, 'bfpfw6eyku': 2510, 'darn': 3909, 'aa951': 1526, 'portlandjetport': 9029, 'kdmq0jps02': 6880, 'rudestaff': 10011, 'incompetentmanagers': 6385, '1065': 76, '49flbgzzkd': 945, '2mm': 603, 'arrivals': 2094, '22ipgeicsm': 470, 'depends': 4053, 'burrito': 2840, '1119': 108, 'reopens': 9697, '6600': 1163, 'us2065': 12144, 'triple': 11682, 'looped': 7323, '4994': 944, 'wyoming': 12786, '2ndary': 607, '8000': 1307, 'hops': 6129, 'pitt': 8901, 'qygxgmd3sn': 9405, 'ua1121': 11803, 'msn': 7924, 'rx': 10039, 'eyeglasses': 4903, 'disguised': 4222, 'uh6uwuosc0': 11933, '1970': 351, '1366': 186, '1552': 228, 'ocean': 8380, 'unexplained': 12003, '16c9ex79rk': 281, 'bd': 2416, 'proj': 9223, 'cond': 3512, 'reviewing': 9856, 'hardcase': 5896, 'golfbags': 5661, 'tomorro': 11539, 'profiting': 9216, 'billions': 2534, 'hurting': 6219, 'adress': 1683, 'encounter': 4644, 'outright': 8561, 'ripping': 9903, 'multimillion': 7942, 'wrench': 12758, 'havin': 5923, 'k7ubotmr1r': 6851, 'marccopely': 7522, 'discourteous': 4211, 'frequentflyers': 5382, 'noreply': 8247, 'usairwaysmobile': 12175, 'filters': 5090, 'dns': 4314, 'admin': 1673, '44pm': 893, 'chiberia': 3187, 'giannilee': 5595, 'vxsafetydance': 12393, '1589': 242, 'unwind': 12103, 'ua1673': 11835, '41': 825, 'nbz45jcd1r': 8058, 'inebriated': 6420, 'alcohol': 1819, 'advertised': 1691, '1038': 67, 'bookable': 2643, 'reuse': 9845, 'staffers': 10826, 'arminrosen': 2083, 'ggreenwald': 5590, 'oylgeao7y8': 8613, '266': 535, 'lgb': 7149, 'v015pk7dsi': 12218, 'evolved': 4794, 'fornpf69ky': 5330, 'commutation': 3445, 'ops': 8488, 'rich': 9873, 'westagard': 12550, 'att': 2170, 'nancy': 8019, 'customersfirst': 3832, '3923': 765, 'unwilling': 12102, 'hitawall': 6054, 'taste': 11241, 'worlds': 12720, '1133': 113, 'n353jb': 7985, 'swzm2fx3nu': 11152, '1348': 182, '0167560070877': 14, 'fsqthg': 5423, 'hdsportsguy': 5939, 'tighter': 11463, 'sundown': 11051, 'rqbpmwettq': 9992, 'djevolutionhd': 4292, '125k': 155, '4609': 918, 'pulse': 9297, 'hxsnv7fbbh': 6228, 'gs': 5782, 'barcodes': 2379, 'panic': 8661, 'us2118': 12145, 'monsoon': 7866, 'shulemstern': 10444, 'grab': 5704, 'ooookay': 8465, 'jorescfb4x': 6797, 'deicer': 3998, 'balloons': 2359, 'requests': 9740, 'hardtodo': 5900, 'advan': 1687, 'chgy5yrvka': 3185, 'travelhelp': 11639, 'seattlebound': 10240, 'uncontrollably': 11972, 'vlci2kv1ip': 12347, 'crâpe': 3778, 'ua1207': 11810, 'biscuits': 2549, 'gz9gqdt7jj': 5821, 'fattuesday': 4996, 'mardigras': 7528, '8wbzorrn3c': 1385, 'tny9uipha5': 11517, 'heathrowairport': 5962, 'customs': 3833, '5396': 1030, 'formed': 5327, 'nicest': 8148, 'vebeen': 12266, 'waa': 12403, 'whereisthelove': 12582, 'whybeaaff': 12605, 'baked': 2351, 'usairwaysssuck': 12176, '740pm': 1246, 'entrusted': 4696, 'psychological': 9281, 'tricks': 11676, 'colors': 3391, 'americanisbetter': 1897, '4001': 805, '1215pm': 137, '799': 1281, 'downright': 4385, 'hostile': 6145, 'retain': 9817, 'flypdx': 5262, 'gonnabealongnight': 5668, 'stairs': 10833, 'distances': 4268, 'gopro': 5687, 'bitchy': 2553, 'marked': 7537, 'jacqueline': 6669, 'amexserve': 1902, 'blind': 2589, '3841': 748, 'jail': 6672, '820pm': 1324, 'ua1416': 11817, 'failagain': 4938, 'rejected': 9642, 'boggling': 2626, 'lindaswc': 7199, 'hisc4ndmgz': 6050, 'attndt': 2194, 'wrecking': 12757, 'havoc': 5925, 'smugsmirk': 10614, 'norush': 8257, 'durango': 4474, 'farmington': 4984, 'slopes': 10572, 'courrier': 3684, 'snag': 10622, '767': 1261, '2013': 398, '1ywxrfn0gr': 388, 'aal65': 1540, 'declared': 3969, 'squawking': 10808, 'kiosk': 6931, 'diffused': 4151, 'patronizing': 8730, 'oveur': 8600, 'murdock': 7952, 'alaskaair': 1809, '1925': 347, 'friendlyteam': 5398, 'cloud': 3320, 'keepusguessing': 6892, 'isthisyourfirsttry': 6623, 'scumbag': 10214, 'ftv2nwwqf1': 5432, 'carolinas': 2994, '4035': 813, 'prof': 9203, 'takers': 11211, 'mvmt': 7961, 'bypass': 2874, 'cju102xp2k': 3257, '1008': 57, 'guc': 5794, 'apollochplayers': 2002, '768': 1262, 'gong': 5665, 'enforcement': 4659, 'users': 12195, 'twitterhug': 11773, 'shesaidrun': 10383, 'synonymous': 11166, 'yer': 12868, '4781': 930, '5102newflight': 1000, 'witnessed': 12665, 'covert': 3700, 'tactics': 11194, 'unimpressed': 12020, 'hacks': 5834, 'unempathetic': 11999, 'melissa': 7661, 'pqms': 9067, 'pqds': 9066, '9shhtvioti': 1441, 'fransisco': 5358, 'humanity': 6202, 'bkk': 2560, 'developers': 4111, 'morn': 7881, 'curse': 3812, 'soaking': 10643, 'hs': 6182, 'ithaca': 6630, 'xld': 12814, 'rulesshouldbend': 10018, 'essence': 4744, 'xijifymvqp': 12812, 'mllovelace': 7831, 'u6duw27mde': 11795, 'unforeseeable': 12009, 'joanne': 6781, 'flightnightmare': 5204, 'mrrenevendez': 7919, 'gn30p75kqb': 5642, 'bbb_media': 2406, 'donotflywiththem': 4347, 'elhxuv0uj1': 4589, '5hours': 1091, 'ea': 4503, 'unfair': 12004, 'lengthy': 7123, 'c_istudios': 2895, 'youdidit': 12888, 'escorted': 4737, 'prebooked': 9086, 'dissatisfaction': 4264, 'und': 11976, '74': 1243, 'sporadically': 10785, 'uncharacteristic': 11966, 'txhyj40llg': 11777, 'szr0pioa21': 11174, 'unansweredquestions': 11955, 'wontflyagainwithyou': 12696, 'alicia': 1826, 'exceptionalservice': 4815, 'hf8ajz4ffl': 6006, '45minflight': 911, 'been3hours': 2446, 'comin': 3417, 'clutch': 3335, 'h8': 5827, 'thankjesus': 11347, 'thankme': 11348, '7pofsxojsy': 1297, '1553': 229, 'gottogetbetter': 5695, 'weary': 12502, 'german': 5561, 'deplanes': 4056, 'jealous': 6704, 'auf': 2206, 'wiedersehen': 12614, 'frustratingly': 5418, 'martysg': 7555, 'robinson': 9944, 'crazybitch': 3732, '6000': 1113, 'nonstops': 8232, 'grossed': 5763, 'offload': 8403, '713': 1223, 'kconti44': 6877, 'lined': 7202, 'berlin': 2486, 'hoagy10': 6066, 'pasting': 8715, 'inv': 6557, 'applications': 2028, 'intern': 6537, 'positions': 9035, 'gml7ot3imh': 5641, '0372389047497': 21, 'blast': 2580, 'stopping': 10928, 'codes': 3367, 'tryn': 11718, 'comping': 3475, 'o1u96xc3bo': 8347, 'assuage': 2144, 'indignation': 6415, '1848': 327, 'motion': 7890, 'm81rv0blxs': 7440, 'hgeronemus': 6011, 'completing': 3487, 'installation': 6494, 'sgckbopata': 10347, 'gregm528': 5750, 'scenes': 10170, 'noaccountability': 8186, 'flightedflight': 5191, 'happyfriday': 5890, 'sorrynotsorry': 10690, 'destin': 4091, 'walton': 12443, 'uncvsduke': 11975, 'dim': 4159, 'incls': 6374, 'sec': 10241, 'brag': 2700, 'pt': 9282, 'nthin': 8312, 'ser': 10306, 'chatting': 3151, 'stdby': 10875, 'connetion': 3552, 'lining': 7207, 'obscene': 8364, 'whichever': 12586, 'rebuilding': 9514, 'hanneslohmann': 5874, 'poorcommunication': 9009, 'waitingsince': 12417, 'flysw': 5267, 'tedious': 11278, 'feelingtheluv': 5035, 'vudwjm1lyb': 12380, 'excellentcustomerservice': 4811, 'handshake': 5863, 'problemsolvers': 9188, 'thisiscoach': 11410, 'travelingwithsmallkids': 11641, 'lifeisgood': 7170, '558': 1048, 'commit': 3430, '2401': 494, '2586': 519, 'balancing': 2354, 'systemwide': 11172, 'cyberattack': 3853, 'ua748': 11899, '1080': 80, 'diversion': 4278, 'xfinity': 12807, 'definately': 3986, 'employer': 4637, 'united13': 12023, 'wounded': 12747, 'vet': 12296, 'healing': 5949, 'fox8news': 5341, 'kristi_capel': 6972, 'risk': 9907, 'stpatricksfoundation': 10937, 'rotary': 9973, 'flight108': 5169, 'royal': 9989, 'commission': 3429, '619': 1127, 'satellite': 10116, 'undignified': 11994, 'freedrinkcoupons': 5372, 'adam_karren': 1653, 'zj76': 12949, '2707': 544, 'infinity': 6436, 'guilty': 5804, 'christinebpc': 3225, 'versions': 12292, 'connectns': 3548, 'hotl': 6152, 'kthxbai': 6978, 'istanbul': 6620, 'fueled': 5447, 'subscription': 11010, '1h': 362, 'kfd4wqrklw': 6904, 't5sparrow': 11180, 'unheard': 12017, 'g4wwr6vbrq': 5494, 'routed': 9980, '3618': 724, '6hr': 1193, 'pgwukrpmox': 8827, 'indianapolis': 6409, '1b': 358, 'ua246': 11845, 'fiscal': 5124, 'eqm': 4712, 'itsaaronchriz': 6638, 'worstever': 12734, 'mynzitcovn': 7970, 'swallowed': 11123, 'solves': 10669, 'alerted': 1821, 'showsomerespect': 10436, 'counts': 3678, 'sink': 10491, 'sanitizer': 10100, 'expects': 4853, 'prechk': 9088, 'income': 6380, 'flightledflight': 5198, 'muh': 7939, 'hahahaha': 5841, 'highhopes': 6026, '1510': 216, 'ccndjp': 3058, '423': 846, 'races': 9412, 'aa1224': 1485, 'mercy': 7684, 'disappearing': 4186, 'tailwind': 11203, 'credibility': 3740, 'partnering': 8687, 'hilton': 6034, 'genius': 5550, 'courtsnod': 3693, 'baggagelost': 2341, 'flywhonotblue': 5274, 'england': 4665, 'thismosaicnothappy': 11411, 'sacintlairport': 10053, 'bestinclass': 2493, '30000ft': 633, 'takemehome': 11207, 'dzkc3auzu9': 4491, 'se57dmjhiw': 10220, 'sil': 10470, 'declined': 3971, 'accused': 1619, 'activity': 1644, 'ericbradleypt': 4723, 'j6hb4jdver': 6656, 'briansumers': 2740, 'truebluepoints': 11704, 'jetbluemember': 6734, 'goodbye': 5670, 'leads': 7087, 'kirkwoodtiger': 6933, 'caribbean': 2986, 'aay5avg99b': 1544, 'ld': 7081, 'watered': 12481, 'hovuaisg16': 6169, 'specifics': 10750, 'depot': 4059, 'wd40': 12492, 'dkyde6': 4297, '4583': 905, '3636': 726, '4404': 872, '1159': 121, 'gah': 5504, 'disorganised': 4239, 'emilylyonss': 4626, 'mattthomasnews': 7574, 'siberia': 10450, 'oy': 8612, 'tomorrows': 11541, 'fxnv618b1a': 5486, 'hitch': 6055, 'hike': 6029, 'passengersarepeople': 8703, 'addresses': 1666, 'mobility': 7841, 'plse': 8974, 'nzherald': 8345, 'q4amiw7fsw': 9337, '1758': 299, 'vacate': 12228, 'findanothergate': 5098, '894': 1358, 'license': 7163, '1642': 268, 'ipaamzt7z2': 6581, 'unfamiliar': 12005, 'outcome': 8550, 'd4': 3864, 'bcn': 2412, 'reinforcements': 9634, '56': 1055, 'icelandair': 6252, 'iceland': 6251, 'chats': 3149, 'rkorhvr9z1': 9914, 'contentmarketing': 3589, 'answerthephone': 1975, 'maimi': 7467, 'missingtheoscars': 7812, 'carol': 2992, 'thrower': 11435, 'dmsc': 4310, 'oa2drfaoq2': 8352, 'lwwdac2khx': 7425, 'undetermined': 11992, 'amateurs': 1877, 'packingayak': 8634, 'brianregancomic': 2739, 'aa4285': 1518, 'winkwink': 12643, 'inflexible': 6439, '5097': 991, 'newarkliberty': 8122, 'indicate': 6410, 'flyingainteasy': 5253, 'fitbit': 5129, 'flexes': 5158, 'dadboner': 3873, 'boldflavors': 2634, 'flavors': 5149, 'ingredients': 6455, 'mold': 7848, 'us3825': 12149, 'filthyplane': 5092, 'hopeidonotgetsick': 6122, 'zik2uoxgnw': 12945, 'cdzhtyd0ak': 3062, 'sliced': 10561, 'bread': 2720, 'baking': 2352, '3415': 693, 'dmoukdarath': 4308, 'leaking': 7091, 'ua4904': 11873, 'suree': 11086, 'unprofessionalism': 12072, 'cared': 2979, 'undefined': 11977, 'cgroup': 3095, 'nrosenb1': 8306, 'octavia': 8383, 'shuttles': 10448, 'costumers': 3663, 'yzxfe7au22': 12932, 'eigajyzcw2': 4573, 'donation': 4343, 'flipping': 5215, 'beaches': 2424, 'steep': 10881, 'disconnecting': 4203, 'getmeouttahere': 5576, 'southwestsucks': 10722, 'tomrw': 11542, 'tmccexyaaq': 11508, 'tripping': 11684, 'reluctant': 9662, 'weekly': 12522, 'insider': 6485, 'trading': 11597, 'hill': 6031, 'vvzksmfkvw': 12384, 'ua14': 11816, 'cabins': 2902, 'functional': 5456, 'target': 11236, 'stafford': 10828, 'vqmdmzafuj': 12373, '3913': 764, 'iux94rgc83': 6644, 'coded': 3366, 'vabeatsjblue': 12225, 'cracker': 3712, 'expand': 4845, 'maybemange': 7585, 'alittlebetter': 1832, 'howisthatpossible': 6171, 'safer': 10062, 'duke': 4462, 'hat': 5912, '1761': 300, 'mason': 7561, 'paycheck': 8739, 'improves': 6346, 'angryairtravel': 1940, 'winterstorm': 12651, 'attackingbabymomma': 2173, 'crazinessintherockies': 3730, 'earphone': 4517, 'dos': 4365, 'ts': 11722, 'announcer': 1960, '651': 1158, 'insulin': 6507, 'px8hqoks3r': 9326, 'heavenlychc9': 5965, '78': 1272, '5lb': 1098, 'thoughtful': 11420, 'grnd': 5760, 'travellers': 11643, 'buisness': 2817, 'hail': 5842, 'agpb45v8wt': 1738, 'ig2dgctt2m': 6283, 'vital': 12345, 'bumper': 2826, 'melting': 7664, 'jjdosfyibm': 6766, '2293': 469, 'supvrs': 11081, 'multibillion': 7941, 'thevdt': 11392, 'vd0tlomtwu': 12263, 'noodles': 8235, 'peas': 8766, 'zukes': 12966, 'yogurt': 12881, 'curfew': 3806, 'aa1237': 1486, '2917': 560, 'cid': 3233, 'lizautter': 7245, 'finleybklyncfs': 5110, 'shady': 10352, 'ftlauderdale': 5428, 'etd': 4756, 'swa1004': 11118, 'ravioli': 9459, 'idiot': 6266, 'recordings': 9546, 'xna': 12821, 'jperhi': 6808, 'tsvgbrl15f': 11727, 'rim': 9892, 'randomly': 9439, 'repeatably': 9705, 'czamkoff': 3860, 'greed': 5739, 'relay': 9652, 'larger': 7035, 'allowabl': 1845, 'inconveniently': 6393, 'ri': 9868, '2218': 459, 'us2218': 12147, 'boot': 2654, 'denise': 4035, '4oje523ptw': 964, 'angelo': 1935, 'praywinn': 9080, 'slowdown': 10576, 'fê': 5490, 'escaping': 4736, 'ymftw1uyhr': 12876, 'collectively': 3383, 'vacay': 12234, 'playa': 8943, 'carmen': 2991, 'personable': 8806, 'vw4p4t4tlh': 12385, 'aa3031so': 1510, 'internships': 6545, 'jindalcmc': 6764, 'davidson': 3920, 'auditorium': 2205, 'jsom': 6811, 'utdallas': 12207, '356': 712, 'suntoshi': 11060, 'transcontinental': 11609, '72h': 1233, 'wndceo5qlk': 12680, 'enrolled': 4678, 'ruth_slobodin': 10036, 'justdoit': 6833, 'youknowyouwantto': 12889, '192': 345, 'rndtrp': 9924, 'djq_kc': 4296, 'djimpact': 4294, 'sch': 10172, '530': 1022, 'tmw': 11513, 'neglect': 8085, 'trade': 11596, 'sunkist': 11053, 'webbernaturals': 12508, '1l9scwphph': 369, 'penalized': 8774, 'lightly': 7179, 'lpdstock': 7382, 'dresparkles': 4417, 'kat': 6863, 'tasty': 11243, 'mistreated': 7818, 'foru': 5335, '353': 710, 'stunning': 10997, 'pid': 8871, 'eb': 4533, 'a30': 1463, 'steel': 10880, 'fgrbpazsix': 5063, 'jockeying': 6785, 'hrvuktpvn1': 6181, 'my3dnvbzaz': 7967, 'machines': 7447, 'hirasmusbidragi': 6044, '883': 1354, 'plundering': 8978, 'headlines': 5945, 'liveonfox17': 7235, 'februaryfreezefox17': 5020, 'venezuela': 12278, 'includes': 6377, 'keyrpflhil': 6903, 'normally': 8252, 'ua1568': 11831, 'ua1543': 11827, 'uplink': 12125, 'transf': 11610, 'makessense': 7483, 'annettenaif': 1952, 'roberto': 9940, 'impatience': 6328, 'untruthful': 12096, 'corner': 3641, 'outtage': 8568, 'affecting': 1709, 'deficiency': 3985, 'gerne': 5564, 'miscalculation': 7784, '83': 1328, 'supertzar85': 11067, 'qranzimhtr': 9361, 'pst': 9279, 'ystday': 12912, 'ua1589': 11832, 'jurassic': 6831, 'dinosaur': 4167, 'internship': 6544, 'mb3bjwgoap': 7589, 'spell': 10758, 'gobankrupt': 5647, 'am9cuiewo4': 1872, 'defibrillator': 3984, 'annamarie': 1950, 'norris': 8253, 'recognized': 9537, 'bze': 2875, 'awgjkjiiac': 2266, 'anni': 1953, 'bape6rumne': 2372, '300s': 638, 'deltapoints': 4027, 'crossing': 3765, 'boat': 2620, 'vicky': 12308, 'lb': 7078, '704': 1216, 'derekc21': 4062, 'thnkx': 11414, 'bt': 2790, 'sux': 11111, 'challemann': 3107, 'jvstatus': 6845, 'intelligent': 6519, 'sides': 10456, 'eul6sdurbu': 4767, 'overheating': 8583, 'sauna': 10126, 'newburg': 8124, 'negatively': 8084, 'integrity': 6518, 'seemless': 10261, 'simultaneously': 10483, 'wishmyflightwaslonger': 12661, 'authorize': 2221, '0016': 6, '964012': 1414, '964077': 1415, '964078': 1416, 'gassing': 5525, '7z3gqebfk2': 1304, 'chuckhole': 3231, 'efficencies': 4558, 'remote': 9681, 'resting': 9800, 'elbows': 4580, 'seatmate': 10237, '1incncav4n': 366, 'casimir': 3018, 'sex': 10337, 'husbands': 6222, 'apathy': 2000, 'strength': 10962, 'mauererpower': 7575, 'reached': 9471, 'orbitz': 8499, '1225': 143, 'delayforwhat': 4006, 'thelodge': 11376, 'yeniettelswood': 12866, 'andrewbiga': 1927, 'codycleverly': 3369, 'heidimacey': 5973, 'motherpollock': 7889, 'hurts': 6220, 'sine': 10485, 'queries': 9374, 'shaquille': 10366, 'germany': 5562, 'stickingtodelta': 10902, 'karajusto': 6859, '21p': 452, 'americanone': 1898, '4016688561': 810, 'mga': 7711, 'aggressive': 1733, 'anyhelp': 1990, '3336': 682, 'grumpykim': 5781, 'nogood': 8208, 'peak': 8760, 'caucasity': 3036, 'csnrpvy9b9': 3781, 'sons': 10679, 'zfv': 12943, 'consolation': 3566, 'impediment': 6330, 'reminds': 9679, '3900': 763, 'fro': 5405, 'tlh': 11506, 'unfold': 12006, 'beta': 2497, 'tks': 11500, 'thur': 11441, 'donut': 4354, 'designer': 4076, 'reactivate': 9477, 'customerloyalty': 3825, '6500': 1157, 'somewhat': 10674, 'egregious': 4570, 'sam': 10084, 'adams': 1654, 'draft': 4399, 'usurious': 12202, 'experts': 4868, 'mplio6dygn': 7909, 'fhk2te': 5064, 'upwherewebelong': 12131, 'ktawbiuuro': 6977, 'greater': 5734, 'aa3186': 1512, 'aa2401': 1502, '343': 694, 'pouting': 9058, 'attitudeissues': 2191, 'ueggkn79za': 11927, '5639': 1058, 'needing': 8077, 'revieving': 9853, '300rt': 637, 'exams': 4806, 'walls29': 12439, '5t4fpcgrej': 1103, 'qlyss8': 9355, 'sentiment': 10296, 'wht': 12600, '2258': 465, 'xltv5z6st1': 12815, 'jaipur': 6674, 'dehli': 3995, '2hourwaitsucks': 588, 'makingloveoutofnothingatall': 7486, 'kdhruf54sw': 6879, 'irreplaceable': 6597, 'milestone': 7755, 'repaid': 9699, 'zip': 12946, 'sheesh': 10377, 'dustyob': 4475, 'd9': 3867, 'sailor': 10073, 'cherry': 3180, '880': 1352, 'ege': 4568, 'birthdate': 2546, 'amenity': 1886, 'kits': 6937, 'pj': 8908, 'remembering': 9673, 'filthy': 5091, 'jwl26g6lrw': 6847, 'accumulation': 1615, 'onlywaytofly': 8458, 'reposted': 9723, 'unite': 12021, 'fashion': 4987, 'unitedvusa': 12040, 'rbn7stuij1': 9462, 'spvsr': 10803, 'unitedappeals': 12031, '6f': 1190, '1818': 320, 'cavs': 3046, 'nooooo': 8238, 'permanently': 8800, 'iove': 6579, 'manuel': 7517, 'borrow': 2663, 'hp': 6172, 'printers': 9167, 'mfps': 7710, 'amateurish': 1876, 'silverairwsys': 10476, 'affiliated': 1712, 'mosiac': 7885, 'interchangeably': 6527, 'podium': 8989, 'lacks': 7006, 'jokerunning': 6793, 'droppeditoffyet': 4431, '7c': 1287, 'portfolio': 9026, 'portal': 9024, 'huclxluv5h': 6193, 'o4zr27qpcr': 8350, 'whitterbug': 12596, 'lhrt2': 7156, 'remotely': 9682, 'briefings': 2744, 'resend': 9763, 'authoritative': 2220, 'sol': 10658, '276': 546, 'lucas': 7391, 'lj2zxzn8kg': 7248, 'pancho_joe': 8658, 'mixtape': 7822, 'sarita': 10113, 'inquiries': 6475, 'canister': 2954, 'powder': 9059, 'formula': 5329, 'divider': 4290, 'wvgpp3ymz1': 12782, 'trick': 11674, '77min': 1271, 'bish': 2550, 'pilyoc': 8885, 'thefutureisweird': 11373, 'profitable': 9214, 'venture': 12281, 'isitthegarykellyway': 6607, 'demolish': 4030, '2386': 486, 'hd': 5935, 'ua1037': 11798, '9abc': 1425, 'cld': 3281, 'inefficient': 6425, 'cncld': 3344, 'farelock': 4980, 'lasttweetaboutthis': 7047, 'hating': 5917, 'ua1665': 11834, '1416': 197, 'supv': 11080, 'semantics': 10284, 'dictionary': 4134, 'indicating': 6413, 'reinstate': 9635, 'sxu': 11155, 'angriest': 1938, 'angst': 1944, 'iest': 6277, 'tasha': 11240, 'dad_or_alive': 3872, 'pounding': 9056, 'retook': 9826, 'kylecomer_': 6991, 'oaaret': 8353, 'whatcustomerservice': 12568, 'cac': 2906, 'northern': 8256, 'nm4vnnf8kb': 8179, 'wasteoftime': 12473, 'connectfor': 3543, '2daysofunitedfailures': 583, '1thingafteranother': 382, 'guinea': 5806, 'pigs': 8879, 'tremendously': 11666, 'flow': 5224, 'fiancee': 5066, 'diapers': 4130, 'restating': 9799, 'g6455c': 5495, 'alleviate': 1840, 'graded': 5708, 'eqp': 4713, 'san68059m': 10091, 'mkpognntyc': 7825, 'reassigned': 9506, 'helpimstuck': 5988, 'bozos': 2693, 'neveind': 8106, 'skateboards': 10520, 'copa': 3636, '635': 1141, 'competing': 3470, 'undelayed': 11978, 'neverflyvirgin': 8111, 'visiting': 12342, 'ba1551': 2300, 'occupied': 8375, 'raft': 9418, 'dtheyofxrb': 4446, 'frowny': 5413, 'spreading': 10795, 'cheer': 3172, 'nftyconvention': 8140, 'ttbty89ilo': 11729, 'julesdameron': 6820, 'accessibility': 1590, 'equality': 4716, 'antitrust': 1984, 'frontrunner': 5409, 'oscars2016': 8531, 'taping': 11233, 'i5v9wfbtue': 6233, 'chocked': 3214, 'unmet': 12055, 'mardigras2015': 7529, 'c2next': 2887, 'hanged': 5867, 'bridges': 2743, 'jetblues': 6737, 'ncb2oncs9i': 8062, '6533': 1160, '71': 1221, 'flyerfriendly': 5247, '1024': 61, '2238': 462, 'd6': 3865, 'a15': 1460, 'dishonoring': 4228, 'ineligible': 6426, 'r7ibqr4cyd': 9408, 'removed': 9685, 'kl9baimes6': 6944, 'conection': 3519, 'desparately': 4085, 'annebevi': 1951, 'paulbev1': 8733, 'mikeabramson': 7742, 'walkway': 12435, 'tailfinthursday': 11201, 'nc0es6e4lf': 8061, '443min': 879, 'avoidable': 2245, 'goldentickets': 5659, 'disconnection': 4204, 'accts': 1614, 'prerecorded': 9123, '41min': 841, 'jlhalldc': 6770, 'ua3785': 11862, '1702': 287, '6h5uezh4cv': 1191, '5392': 1029, 'sarcastically': 10112, 'noob': 8234, 'sendambien': 10287, 'andchexmix': 1923, 'xwjol55flh': 12827, 'y8aormfkac': 12840, 'booze': 2657, 'telleveryone': 11291, '2516': 514, '2244': 463, '300er': 636, 'zrh_airport': 12962, '6may': 1199, '23sep': 491, '23oct': 489, 'percentage': 8786, 'yout': 12900, 'surgeryhelp': 11094, 'iitojhuikh': 6297, 'clu5pdprhp': 3325, 'acu': 1649, '0jutcdrljl': 44, 'fvyzjldton': 5478, 'thanksm': 11354, '150000': 210, 'thestarter': 11388, 'd1ergpdwsj': 3862, 'mikehertz7': 7743, 'doll': 4333, 'huxleyesque': 6225, 'datingrev': 3916, '2017': 402, '486': 935, 'c19': 2881, 'regains': 9612, 'karma': 6862, 'sweaty': 11129, 'vgn2x1ckg0': 12302, 'sighed': 10458, 'wikipearl': 12623, 'natprodexpo': 8045, 'expowest': 4883, 'nocommunication': 8198, 'hfjyn2vtvj': 6008, 'pales': 8653, 'comparison': 3457, 'wages': 12406, 'zones': 12958, '2692': 537, 'kigfkvxxdq': 6916, 'kgonzales89': 6907, 'scandal': 10159, 'gvn': 5818, 'nxqijcojnj': 8335, 'sofly': 10653, 'firststari': 5122, 'seetonight': 10265, 'pyjaoaynx6': 9329, 'keepit100': 6888, 'pir': 8892, 'pleeeeease': 8963, 'pits': 8900, 'increasing': 6399, 'ftlauderdalesun': 5429, 'orlandosentinel': 8521, '1ateafnc6r': 357, 'audition': 2204, 'jim': 6759, 'ua1470': 11820, 'aggiemensgolf': 1729, '12thman': 169, 'g8dka3edhf': 5498, 'pfsenjk5pw': 8822, 'bride': 2741, 'unfollowing': 12008, 'flt348': 5232, 'ysqbvq6mgb': 12911, 'amid': 1903, 'dtv': 4448, '10yr': 99, 'signup': 10469, 'sxvagbrtli': 11156, 'closure': 3317, 'clog': 3307, 'vegetarianproblems': 12272, 'abi': 1557, 'strives': 10974, 'centric': 3079, 'boooo': 2651, '0wbjawx7xd': 49, 'bostongarden': 2669, 'welcoming': 12535, 'mjkpgvxmpc': 7823, 'montrose': 7873, 'americant': 1899, 'oumc1lrxdn': 8544, 'planing': 8928, 'a3zz0f': 1471, 'osox9h7fwy': 8534, 'tvk0pyxqv5': 11757, '2390': 487, 'luxurious': 7418, 'cling': 3302, 'roll': 9964, 'occasions': 8374, 'circuit': 3244, 'breaker': 2723, 'doumented': 4376, 'n9vge2npib': 8003, 'quantas': 9371, 'auckland': 2199, '2016': 401, 'leopolds_ic': 7124, 'phillip': 8840, 'heller': 5981, 'ifc': 6278, 'engagements': 4661, 'tar': 11234, 'mat': 7567, '2348': 481, '3499': 702, 'buffaloairport': 2810, 'marsh': 7549, 'cus': 3816, 'segway': 10271, 'infographic': 6444, 'demonstration': 4031, 'corny': 3642, 'lwotkiekgu': 7424, 'bila': 2531, 'gum': 5809, 'n9hmcrjchb': 8002, '1401': 195, '25a': 522, 'songs': 10678, 'ewwgi97gdx': 4800, 'analyst': 1916, 'dwese7xidr': 4483, 'crappiest': 3720, 'enemy': 4655, 'motor': 7892, 'nothings': 8278, 'xfwxsrwkha': 12808, 'specialist': 10744, '00p': 9, '07p': 34, 'smoothoperation': 10610, 'minors': 7770, 'peopleon': 8782, 'hfof33iyhi': 6009, 'acknowledge': 1624, 'wernicke': 12547, 'fights': 5077, 'ktm': 6979, 'ua1266': 11813, '0638': 31, 'sporting': 10786, 'mzzfgqfhu2': 7978, 'ripoffs': 9901, 'pricediscrimination': 9150, 'dehydrated': 3996, 'encouraged': 4647, 'cpap': 3707, '41cgqueen': 839, 'vows': 12369, 'smoothtransition': 10611, 'draw': 4405, 'guyana': 5815, 'employ': 4634, 'whyareyouyelling': 12604, 'jbdkxd6efz': 6699, 'stmt': 10913, 'comedy': 3407, 'getyouracttogether': 5585, 'waldorf': 12430, 'astoria': 2152, 'outfit': 8553, '1hour': 364, 'sba0aricyq': 10150, 'toughtomakeplans': 11579, '8441639': 1335, 'restructured': 9809, 'brotha': 2771, 'winning': 12646, 'holdup': 6075, 'bru': 2780, 'setting': 10327, 'rumors': 10021, 'installing': 6496, '14a': 204, 'ua895': 11908, 'bone': 2636, '3252': 674, '354': 711, 'companionpasses': 3451, 'residing': 9772, 'mdn5ed58ze': 7610, '3130': 660, '1610': 256, 'caf2cx3gfi': 2911, 'wrecked': 12756, 'yorkshire2002': 12884, 'cjdjpdx': 3256, 'multinational': 7943, 'probls': 9190, 'rtrn': 10001, '4471': 887, 'weyburn': 12561, 'rtqyjcvtq3': 10000, 'exper': 4863, 'ma': 7441, 'sees': 10263, 'elevator': 4588, '7a': 1283, 'fifth': 5075, 'persistence': 8803, 'curb': 3804, 'catfoodbeerglue': 3027, '2thc9rkurt': 621, 'sobbing': 10645, '4g0k0z2rei': 950, 'buttons': 2859, 'whispering': 12594, 'hover': 6168, 'intrusive': 6554, '35k': 718, 'yokkhhqcmp': 12882, 'roundtrips': 9978, 'waitingagain': 12413, 'allll': 1843, 'dedicated': 3973, 'readded': 9480, 'asha': 2110, 'clvlhfguzw': 3336, 'sorta': 10692, 'jetbluefail': 6730, 'ordering': 8504, 'dqny4aktg9': 4397, 'beareavement': 2430, 'recovery': 9552, 'ish': 6605, 'comparing': 3456, 'pssngrs': 9278, 'chk': 3207, 'notcomingback': 8268, 'robbing': 9935, '154': 225, 'prettyplease': 9138, 'unmoving': 12058, 'asw6qwuf1z': 2157, 'wakinginmemphis': 12429, 'demanded': 4028, 'handles': 5860, 'bussines': 2853, 'platter': 8941, 'abundance': 1575, 'reverse': 9850, 'designated': 4074, 'pasengers': 8695, 'dies': 4141, 'ebola': 4535, 'hxvvis0vww': 6229, 'difficulty': 4150, 'dlewis2412': 4300, 'inflght': 6440, 'lzfgutxiyn': 7432, 'fp9m6y': 5343, 'jennifer': 6713, 'cascino': 3014, '1675': 275, 'saianel': 10069, 'warrants': 12462, 'alwayslate': 1870, 'belligerent': 2472, 'ranting': 9445, 'hilo': 6033, '2hr30min': 592, 'tied': 11458, 'proposal': 9250, '27th': 550, 'gala': 5510, 'boundless': 2684, 'conv': 3614, 'army': 2086, 'lacma': 7007, 'fairfax': 4952, 'earlybirdmeansnothing': 4511, '49min': 946, 'splitting': 10776, 'quadruples': 9366, '5223': 1014, 'swipe': 11140, 'improvetheprocess': 6347, 'learnt': 7097, 'notfair': 8273, 'cattle': 3034, 'a3ycflalxv': 1470, 'swivel': 11147, 'dietcoke': 4142, 'happyflier': 5888, 'chathes': 3148, '1945': 348, 'snowbama': 10632, '714': 1224, 'sector': 10250, 'motions': 7891, 'tailwinds': 11204, 'pxexilsjbs': 9328, 'ua6002': 11888, 'mli': 7830, 'ua3530': 11854, 'yeg': 12861, 'experiencing': 4867, 'spontaneously': 10783, 'realise': 9488, 'heyo': 6004, '1836': 323, '5320': 1023, 'sagerooski': 10067, '3001408092': 634, 'ijustwanttobeinboston': 6299, 'thanksdc': 11352, 'lednocdqee': 7105, 'abroad': 1566, '3611': 723, '34pm': 703, 'badbussiness': 2322, '63zaq2lt8f': 1147, 'relaxing': 9651, 'j4cj0lrf2d': 6655, 'dtlguq1kak': 4447, 'airfarewatchdog': 1770, 'ooh': 8464, 'benjaminokeefe': 2481, 'werenotincalianymore': 12544, 'onelove': 8445, 'smitten': 10602, 'amagrino': 1873, 'cpus': 3708, 'pad': 8636, 'lenaowfyvu': 7120, 'hinted': 6039, 'abandonment': 1548, 'ondemand': 8442, 'leatherseats': 7098, 'hipunis': 6043, 'plowing': 8971, 'craftbeer': 3715, 'goodflight': 5674, 'tgsljjn6g0': 11337, 'ua381': 11863, 'overselling': 8591, 'startled': 10854, 'description': 4068, 'expanded': 4846, '644': 1149, 'amt': 1911, 'ua1130': 11805, 'infuriating': 6453, 'retribution': 9829, 'ua1469': 11819, 'loganex': 7289, 'animals': 1946, 'americandairlinessucks': 1895, 'dan_roam': 3895, 'logically': 7294, 'chairmans': 3104, 'donedeal': 4344, 'talktoahuman': 11221, 'longing': 7312, 'firstlove': 5121, 'brandi': 2705, 'zabsonre': 12934, 'delight': 4015, 'tk3aopdtsq': 11498, 'buzz': 2865, 'dmb41shows': 4304, 'playlist': 8948, 'ebxc94kfjd': 4536, '_lucy_may': 1456, '70min': 1218, 'tree': 11662, 'oldseatnocushion': 8431, 'worstflight': 12735, 'nohelponboard': 8209, 'horror': 6138, 'cantblametheweather': 2957, '6tz6imqzlg': 1207, 'qsvgru': 9365, 'lostmybusiness': 7340, 'fuckinlame': 5443, 'naia_miaa': 8012, 'wallstslumlord': 12441, 'pkg49': 8911, '1657': 272, 'maui': 7576, 'obsolete': 8368, 'brushing': 2783, 'aisles': 1797, 'evermoreroom': 4786, 'jetbluebos': 6728, 'funerals': 5461, 'illogical': 6307, 'overflow': 8578, 'bearable': 2429, 'evidence': 4791, 'ils': 6312, 'doubled': 4370, 'inquiring': 6476, 'taylormdowns': 11255, 'retired': 9824, 'comically': 3416, 'eternally': 4758, 'bless': 2586, 'zsdgzydnde': 12963, 'origami': 8515, 'oldpolicieswaybetter': 8429, 'resources': 9783, 'ratings': 9456, 'dewithpew2': 4116, '1703': 288, 'smalls': 10587, 'cyprhe5gok': 3859, 'awfulness': 2265, '402': 811, 'c14': 2878, '1791': 305, '46min': 923, 'p7skxzve1a': 8619, 'sd': 10216, '833': 1330, 'helene': 5978, '8vnckgzxl1': 1384, '54': 1031, 'aa3074': 1511, 'us1951': 12143, 'us874': 12161, 'companionpass': 3450, 'tara': 11235, 'compliments': 3494, 'brizzyberg27': 2760, 'j6iclv8dts': 6657, '1903': 341, 'trashy': 11632, '3870': 753, 'ideserveareward': 6265, 'l7hsnlgie2': 6995, 'q37pown6uv': 9335, 'figures': 5080, 'weasel': 12503, 'flcnnn2usd': 5153, '456': 901, 'truebluecolors': 11701, 'om1vieg74a': 8435, '9vtfm7knad': 1447, 'utmost': 12212, 'atwyifh6zy': 2195, 'mccaren': 7596, 'qp6aw3nlip': 9358, 'bbbne_sd_ks_ia': 2407, 'listens': 7223, 'interns': 6543, '5lbs': 1099, 'mot': 7886, 'forum': 5336, 'iwoigrlhxb': 6650, 'fistfights': 5127, 'znsujp86bv': 12954, 'jmnkj6bmc2': 6776, 'blizzue': 2592, 'hizouse': 6058, 'markie_post': 7543, 'markie': 7542, 'specialolympics': 10746, 'instantly': 6498, 'avenue': 2237, 'musician': 7958, 'iqu0ppvq2s': 6586, '7min': 1295, 'verbal': 12282, 'booklet': 2646, 'expectations': 4850, 'cruz': 3775, 'sentinel': 10298, 'qm9dqbai6g': 9356, 'ua1523': 11824, '9hr': 1433, 'centre': 3078, 'na': 8004, '2464': 500, 'determined': 4104, 'desired': 4079, '5141': 1005, 'dec': 3956, 'ua1127': 11804, 'cutoff': 3840, 'muzak': 7960, '381': 744, 'verification': 12283, 'g4o6yx7tmj': 5493, '1030pm': 66, 'daydreaming': 3925, 'ohioprobz': 8411, 'majority': 7477, 'coffeemaker': 3371, 'ft1892': 5426, 'be4': 2422, 'coma': 3398, 'faults': 4998, 'monica': 7861, '50hrs': 993, 'uhumaskldv': 11936, 'fixthis': 5136, 'planebroken': 8924, 'neverontime': 8114, 'paymytab': 8744, 'riedel': 9887, 'tricities': 11673, 'tn': 11514, 'skipper': 10533, '8a': 1362, 'erickofiejones': 4724, 'billing': 2533, 'cycles': 3855, 'necessity': 8072, 'organized': 8513, 'breeze': 2732, 'uoaryq98pu': 12105, 'fulfilled': 5451, 'reqs': 9736, 'allgood': 1841, 'elmira': 4599, 'highest': 6025, 'xzy7phkfgr': 12836, 'layout': 7074, 'luvin': 7412, 'recycle': 9557, 'bagtag': 2345, 'imagined': 6315, 'stubbornly': 10984, 'satisfactorily': 10118, 'justsayin': 6838, 'curt': 3813, 'eternal': 4757, 'mergerdisaster': 7689, '3745': 735, 'spiritairpr': 10770, 'chicagosmayor': 3190, 'noise': 8211, 'norahm': 8245, 'cfzdjmn0ui': 3093, 'extending': 4889, 'notahappytraveler': 8265, 'southwestoliver': 10721, '1512': 217, 'n924an': 8001, 'j0mhmkdivl': 6654, 'whagpknnlf': 12565, '20th': 430, 'nehnsdckty': 8091, 'energy': 4656, 'mht': 7716, 'alb': 1811, '1708': 291, 'essentially': 4746, 'curvygirltravels': 3815, 'sharktank': 10371, 'hungary': 6210, 'roanoke': 9931, 'sous': 10710, 'duct': 4457, 'taped': 11232, 'ohboy': 8409, 'shouldigetoutandpush': 10424, 'r9zsvzurlw': 9410, 'poorlyhandled': 9013, 'usairheads': 12167, '18fmr06mn6': 337, 'virginmedia': 12335, 'seductive': 10256, 'ahlxhhkiyn': 1749, 'newest': 8126, '96ftlzwtvo': 1418, 'upgd': 12115, 'premiers': 9115, 'preparedness': 9122, 'snowballed': 10631, 'interim': 6534, 'jetbridge': 6740, 'unbelieavle': 11960, 'unaccpetable': 11952, 'failback': 4939, '2check': 578, 'heel': 5970, 'clicks': 3297, 'kentuckymbb': 6897, 'geraldine': 5560, 'botched': 2672, 'absurdity': 1573, '85': 1338, 'active_aly': 1641, 'vets': 12299, 'exits': 4843, 'ctg': 3790, 'gig': 5603, 'electrical': 4583, 'interiors': 6536, 'whyjeff': 12608, 'reassess': 9505, 'okie': 8424, 'southworst': 10724, 'voicemail': 12355, 'guidelines': 5803, '10x9x17': 98, '20x15': 431, '7x8': 1302, 'taller': 11223, 'allergy': 1839, 'tracing': 11591, 'turquoise': 11752, 'stonewalled': 10923, 'haning': 5872, 'fudgers': 5444, 'dating': 3915, 'edreams_en': 4549, 'themagicalstranger': 11377, 'burg': 2833, 'tic': 11447, 'dismissed': 4233, 'uschamber': 12184, 'summit': 11045, 'ought': 8542, 'f6dk04': 4919, 'xzmscw': 12835, '24hours': 507, 'flight919': 5183, 'saveus': 10137, 'laughed': 7055, '3ddqq0gqni': 777, '630a': 1136, 'weepysweetmonty': 12525, 'compartments': 3458, 'flyus': 5273, '1101': 102, 'anotherdisappointment': 1967, 'anticipating': 1981, 'miamore': 7722, 'iadore': 6239, 'fwzclbvug4': 5484, '0xjared': 50, 'ais': 1795, 'petition': 8818, 'bbzijwfdl3': 2410, '4302': 858, 'wireless': 12657, 'piggy': 8878, 'astounded': 2153, 'emerald': 4620, 'drvrugby': 4438, 'uphold': 12122, 'taxes': 11246, 'statusmatch': 10869, 'steered': 10882, 'dotnetnate': 4368, 'exps': 4886, 'government': 5698, 'approval': 2046, 'airbusintheus': 1762, 'aruba_airport': 2103, 'warmweather': 12458, 'kaej9g0chd': 6853, 'veterans': 12297, 'missedwork': 7808, 'clientnothappy': 3299, 'suprlfoi8t': 11079, 'affects': 1710, 'idaho': 6259, '9º': 1451, 'anticipation': 1982, 'session': 10322, 'beloved': 2475, 'paulgordonbrown': 8734, 'vv8cfyhkvb': 12383, 'newsvp': 8133, '407': 818, 'whacked': 12564, 'freaks': 5364, 'surreal': 11101, 'acts': 1645, 'cakendeath': 2917, 'behave': 2459, 'sfo2lax': 10344, 'waiving': 12426, 'career': 2980, 'italian': 6624, 'ua484': 11872, '10tmthvfdc': 95, 'dwell': 4482, 'encouragement': 4648, 'mtn': 7934, 'complainer': 3478, 'brewcrewfan8': 2738, 'yday': 12854, '90min': 1395, 'drenched': 4416, 'bugging': 2812, 'backhome': 2306, '533': 1024, 'onlyblue': 8457, 'jetblueforever': 6732, 'funnycaptain': 5465, 'jetbluesucks': 6739, 'u390czplhl': 11792, 'phf': 8833, 'initiated': 6458, 'streamline': 10958, 'commute': 3446, 'd_goodspeed': 3868, 'jaynegelman': 6696, 'soulandinspiration': 10701, 'igkogywksr': 6285, 'feelings': 5034, 'happy4them': 5884, '1914': 343, 'buggy': 2813, 'withheld': 12663, 'kvfwajvvid': 6986, '3121': 658, 'graphics': 5727, 'minimal': 7766, 'iconography': 6254, 'skebqktxvx': 10521, '14hrs': 206, 'drivers': 4425, 'litter': 7229, 'cowardly': 3701, 'vegecomgirl': 12271, 'outlook': 8556, 'reuters': 9846, 'jeu7od3eyj': 6747, '5534': 1041, 'arbitrary': 2063, 'swwhyhen76': 11151, '80sweresomuchfun': 1315, 'ua4935': 11874, 'confuses': 3534, '6in': 1195, 'fluctuated': 5236, 'hotspot': 6156, 'steaming': 10879, 'shortage': 10410, 'ssal': 10817, 'yccitaep3s': 12852, 'mx': 7965, 'groan': 5761, 'moveup': 7901, 'idontwanttocallback': 6273, 'bait': 2349, 'honorable': 6101, 'economic': 4541, 'snobby': 10628, 'remarks': 9669, 'poker': 8998, '1783': 303, 'ranging': 9442, 'sports': 10787, '4that': 971, 'hungupnohelp': 6212, '6377': 1144, 'tagged': 11196, '3880': 755, 'mfmnkmvotr': 7709, 'assurance': 2149, 'servicedog': 10317, 'vulnerable': 12381, 'thieves': 11398, 'tbd': 11257, 'usd': 12185, 'quotations': 9394, 'uctraveladvisor': 11921, 'hg7veqhghy': 6010, 'nomoaa': 8219, 'passengerslose': 8704, 'paradise': 8669, 'kdzqczlpyr': 6881, 'bethonors': 2499, '20l': 425, '4yr': 976, 'rett': 9834, 'cavan': 3044, 'gofundme': 5651, 'breath': 2729, 'nexttime': 8135, 'andthewinneris': 1931, 'substitutes': 11015, 'yeehaw': 12860, 'vent': 12279, 'shanese': 10361, 'bryant': 2786, 'melton': 7665, 'grandmother': 5720, 'bucket': 2799, '17a': 308, 'accountable': 1610, 'crummyservice': 3773, 'whydidntiflysouthwest': 12606, 'goodluckamericanair': 5677, 'marriage': 7545, 'glassdoor': 5626, 'snagging': 10623, 'notsurprising': 8295, 'luvthem': 7417, 'uncertainty': 11965, 'undue': 11997, 'req': 9735, 'mall': 7493, 'n7exdbcrhg': 7995, 'fred': 5367, 'flintstone': 5213, 'gkgkzlawpr': 5619, '601': 1115, 'complt': 3495, '295': 563, 'lav': 7063, 'pln': 8967, 'lnded': 7260, 'cheat': 3159, 'horribly': 6135, 'stray': 10954, 'tropic': 11689, 'elected': 4582, 'appointed': 2033, 'kkedjnrtwo': 6942, 'structure': 10979, 'diminishes': 4162, 'certs': 3089, '1531': 221, '2488': 502, 'sonyasloanmd': 10680, '2trgemtebz': 622, 'breathe': 2730, 'miserablemorning': 7789, '49': 938, 'transparency': 11620, 'aires': 1767, 'chasing': 3146, 'milesaaver': 7754, 'whyfly': 12607, 'notion': 8287, 'preoccupied': 9117, 'flagging': 5144, 'observer': 8366, 'prank': 9076, 'ryxbplgmnk': 10044, 'qw2ebeemvg': 9400, 'mp': 7905, '1855': 329, 'nobackup': 8190, '2boh2mh3cb': 575, 'dialup': 4129, 'flight7': 5179, 'bestfriend': 2492, 'enzo': 4701, 'setorii': 10325, 'pooch': 9004, 'dlh9138hbg': 4301, 'nocareforcustomers': 8193, '184': 325, 'finq5fh6ue': 5112, 'fridge': 5393, 'dorm': 4362, 'mag': 7457, 'lesliewolfson': 7125, 'ltr': 7388, 'deaffriendly': 3941, '2brt0athau': 576, 'wznp5q1m0h': 12787, 'daycare': 3924, 'jersey': 6720, 'tacky': 11193, 'aa2416': 1504, '684': 1178, 'mhhs9ruplv': 7715, 'elp': 4600, 'emb145': 4611, 'elpaso': 4601, '9meozbo4xl': 1435, 'dublinairport': 4455, 'loveloughneagh': 7362, 'frd0cay6da': 5360, 'reversed': 9851, 'complainers': 3479, 'robyn': 9949, 'manch': 7505, 'xcvqxykg49': 12802, 'worsttraveldayever': 12739, 'disputed': 4252, 'shined': 10387, 'wtfodds': 12776, 'dfpietra': 4117, 'tsk': 11726, 'actualy': 1648, 'hostel': 6144, 'us5235': 12151, 'wilco': 12624, '6cgfv02gzb': 1188, 'aurorabiz': 2214, 'a60': 1475, '1xdlbibclp': 386, 'hdndl11785': 5937, 'earnings': 4516, 'funflightattendants': 5462, 'flt635': 5233, 'sundayfunday': 11049, 'ua304': 11849, 'reseated': 9761, 'possessions': 9038, 'epqqonho2h': 4710, 'likeagirl': 7183, 'smm': 10603, 'ntgl2wnqvm': 8311, 'cruel': 3770, '350pm': 707, '1601': 254, 'contempt': 3586, '3744': 734, 'n284wn': 7981, 'bd5tvr3gcy': 2417, 'crystal': 3777, 'bafore': 2335, 'pedophile': 8767, '6mbk79mdnw': 1200, 's3esw5agum': 10045, 'ua863': 11906, 'sydneyairport': 11159, 'priceline': 9152, '299': 569, 'destroying': 4098, 'gastoncounty': 5526, 'lively': 7234, 'cbssoxfan': 3054, 'phonedied': 8850, 'alistpreferred': 1830, '1tzz0vbmbs': 384, 'regina': 9616, 'argg': 2075, 'spreadtheword': 10796, 'harf': 5903, 'iraiq': 6587, 'marieharf': 7533, 'ua1510': 11822, 'cooker': 3629, '1814': 318, 'dxb': 4484, 'sis': 10496, 'mega': 7652, '2513': 513, '1555': 230, 'hipster': 6042, 'fitz': 5131, '1326': 177, 'faceless': 4931, 'triage': 11669, 'personality': 8808, 'traveloneworld': 11646, 'amend': 1884, 'ow': 8601, 'phi': 8834, 'chariot': 3136, 'angle': 1937, '3zzkqwwbjz': 802, 'b5ttno68xu': 2290, '2646': 534, 'absorb': 1569, 'villages': 12318, 'ltf2qud3xc': 7387, 'franks105': 5356, 'waltdisneyworld': 12442, 'convey': 3623, 'emailmailto': 4608, 'jeans': 6707, 'suits': 11042, 'mellani': 7663, 'superstars': 11066, 'sloppy': 10573, 'overreacting': 8589, 'swag': 11120, 'valuing': 12250, 'rldelahunty': 9917, 'pleasent': 8959, 'albeit': 1814, 'tools': 11557, '1640': 266, 'n33289': 7984, 'rvcda2nnme': 10037, 'audio': 2203, 'nosecuritylines': 8259, 'butnot': 2856, 'wifes': 12616, '4179': 835, 'hutchinsjim': 6224, 'workout': 12716, 'refreshes': 9594, '358': 714, 'dounotwantmybusiness': 4377, '9rx5homm25': 1440, '681': 1176, 'players': 8946, 'chgd': 3183, 'acoustic': 1629, 'kidnapped': 6914, 'lay': 7073, 'freakin': 5362, 'hj5kq82chn': 6059, 'furryfiesta': 5470, 'tok': 11527, '1418': 198, 'boyfriends': 2691, 'ehsanismpowered': 4572, 'ua1150': 11806, 'ds22ceeenj': 4442, '117': 122, 'temps': 11299, 'qantas': 9344, 'bso': 2788, 'attentive': 2187, 'specially': 10745, 'carlton': 2989, '2463': 499, '5163': 1006, '3751': 738, 'ar0vaylmfc': 2061, 'arguing': 2079, 'cayman_islands': 3047, '9xbo5dakak': 1448, 'govt': 5700, 'ownership': 8607, 'cometoaustin': 3411, 'ch_mom': 3097, 'attendees': 2183, 'remorse': 9680, '994': 1423, '493': 939, 'crumbs': 3772, '3729': 731, 'unnecessarily': 12059, 'vary': 12257, 'argueing': 2078, 'potus': 9053, 'dvr': 4477, 'mere': 7685, 'thingsishouldknow': 11401, 'ifeeldumb': 6280, 'csrs': 3784, '1605': 255, 'reasonably': 9503, 'flightcancelled': 5187, 'custservicehasnonumber': 3836, 'overzealous': 8599, 'hindered': 6037, 'snapped': 10626, 'authors': 2222, 'fiction': 5070, 'ua5037': 11877, 't78k7abtwf': 11182, 'dreadful': 4410, 'bouncer': 2682, 'flgjt': 5162, 'rizzilient': 9911, 'ridicules': 9883, 'undies': 11993, '7e5bxwg16t': 1290, 'rescued': 9758, 'madhouse': 7452, '4595': 906, 'kta': 6976, '46': 915, '788': 1276, '188': 333, '1449': 200, 'aggravation': 1732, 'noc': 8192, 'cabine': 2901, 'sao': 10104, 'cozy': 3705, 'helpmeplease': 5992, 'anyonethere': 1993, 'xmz3tf9ix8': 12820, 'freecomedyshow': 5370, 'newlifetimecustomer': 8127, 'speechless': 10754, 'hoom': 6113, 'victim': 12309, 'auciello': 2198, 'transpired': 11622, 'stepup': 10890, 'makeitright': 7479, 'wewillsee': 12560, 'synch': 11164, '2851': 553, 'youretheworst': 12895, 'waives': 12424, 'jana': 6683, 'acosta': 1628, 'igiveup': 6284, 'wack': 12405, 'bueno': 2806, '1235': 150, 'jdhadp': 6703, 'fax': 5007}\n"
     ]
    }
   ],
   "source": [
    "print(tfidf.vocabulary_)"
   ]
  },
  {
   "cell_type": "code",
   "execution_count": 61,
   "metadata": {},
   "outputs": [
    {
     "data": {
      "text/plain": [
       "3        @VirginAmerica it's really aggressive to blast...\n",
       "4        @VirginAmerica and it's a really big bad thing...\n",
       "5        @VirginAmerica seriously would pay $30 a fligh...\n",
       "15           @VirginAmerica SFO-PDX schedule is still MIA.\n",
       "17       @VirginAmerica  I flew from NYC to SFO last we...\n",
       "                               ...                        \n",
       "14631    @AmericanAir thx for nothing on getting us out...\n",
       "14633    @AmericanAir my flight was Cancelled Flightled...\n",
       "14634           @AmericanAir right on cue with the delays👌\n",
       "14636    @AmericanAir leaving over 20 minutes Late Flig...\n",
       "14638    @AmericanAir you have my money, you change my ...\n",
       "Name: text, Length: 9178, dtype: object"
      ]
     },
     "execution_count": 61,
     "metadata": {},
     "output_type": "execute_result"
    }
   ],
   "source": [
    "data[data[\"airline_sentiment\"]==\"negative\"][\"text\"]"
   ]
  },
  {
   "cell_type": "code",
   "execution_count": 62,
   "metadata": {},
   "outputs": [
    {
     "name": "stdout",
     "output_type": "stream",
     "text": [
      "[('flight', 2943), ('united', 2899), ('usairways', 2375), ('americanair', 2110), ('southwestair', 1214), ('jetblue', 1052), ('cancelled', 926), ('service', 750), ('hours', 649), ('just', 622), ('help', 619), ('customer', 614), ('hold', 614), ('time', 598), ('plane', 532), ('delayed', 508), ('amp', 503), ('hour', 452), ('flightled', 448), ('http', 437), ('bag', 420), ('flights', 420), ('gate', 411), ('ve', 399), ('don', 388), ('late', 378), ('need', 373), ('phone', 369), ('waiting', 341), ('thanks', 315), ('got', 299), ('airline', 294), ('like', 292), ('trying', 288), ('delay', 273), ('wait', 272), ('today', 269), ('minutes', 267), ('going', 252), ('day', 251), ('bags', 245), ('luggage', 245), ('told', 245), ('airport', 244), ('people', 243), ('worst', 241), ('fly', 239), ('really', 236), ('did', 227), ('guys', 225), ('weather', 224), ('lost', 221), ('agent', 220), ('hrs', 217), ('way', 215), ('make', 211), ('change', 210), ('seat', 208), ('flighted', 205), ('want', 205), ('check', 204), ('days', 202), ('know', 201), ('home', 194), ('virginamerica', 191), ('baggage', 190), ('getting', 182), ('sitting', 180), ('ticket', 176), ('tomorrow', 176), ('let', 174), ('min', 173), ('customers', 169), ('flying', 168), ('line', 165), ('email', 164), ('online', 163), ('experience', 162), ('didn', 161), ('stuck', 160), ('bad', 159), ('work', 159), ('won', 157), ('number', 156), ('said', 155), ('30', 154), ('seats', 154), ('10', 150), ('problems', 150), ('times', 150), ('crew', 149), ('flightr', 148), ('doesn', 147), ('aa', 145), ('good', 145), ('ll', 144), ('travel', 143), ('yes', 142), ('response', 140), ('new', 138)]\n"
     ]
    }
   ],
   "source": [
    "count_vect = CountVectorizer(stop_words=\"english\")\n",
    "neg_matrix = count_vect.fit_transform(data[data[\"airline_sentiment\"]==\"negative\"][\"text\"])\n",
    "freqs = zip(count_vect.get_feature_names(), neg_matrix.sum(axis=0).tolist()[0])\n",
    "# Sort from largest to smallest\n",
    "print(sorted(freqs, key=lambda x: -x[1])[:100])"
   ]
  },
  {
   "cell_type": "code",
   "execution_count": 63,
   "metadata": {},
   "outputs": [],
   "source": [
    "#Wordcloud"
   ]
  },
  {
   "cell_type": "code",
   "execution_count": 64,
   "metadata": {},
   "outputs": [],
   "source": [
    "from wordcloud import WordCloud, STOPWORDS\n",
    "\n",
    "stopwords = set(STOPWORDS)\n",
    "\n",
    "wordcloud = WordCloud(\n",
    "                          background_color='white',\n",
    "                          stopwords=stopwords,\n",
    "                          max_words=200,\n",
    "                          max_font_size=40, \n",
    "                          random_state=42\n",
    "                         ).generate(str(data[data[\"airline_sentiment\"]==\"negative\"][\"text\"]))"
   ]
  },
  {
   "cell_type": "code",
   "execution_count": 65,
   "metadata": {},
   "outputs": [],
   "source": [
    "Xtrain_tfidf = tfidf.transform(Xtrain)\n",
    "Xvalid_tfidf = tfidf.transform(Xvalid)"
   ]
  },
  {
   "cell_type": "code",
   "execution_count": 66,
   "metadata": {},
   "outputs": [
    {
     "data": {
      "text/plain": [
       "(11712, 12971)"
      ]
     },
     "execution_count": 66,
     "metadata": {},
     "output_type": "execute_result"
    }
   ],
   "source": [
    "Xtrain_tfidf.toarray().shape"
   ]
  },
  {
   "cell_type": "code",
   "execution_count": 67,
   "metadata": {},
   "outputs": [],
   "source": [
    "#Modelling"
   ]
  },
  {
   "cell_type": "code",
   "execution_count": 68,
   "metadata": {},
   "outputs": [
    {
     "data": {
      "text/plain": [
       "MultinomialNB()"
      ]
     },
     "execution_count": 68,
     "metadata": {},
     "output_type": "execute_result"
    }
   ],
   "source": [
    "from sklearn.naive_bayes import MultinomialNB\n",
    "\n",
    "nb = MultinomialNB()\n",
    "nb.fit(Xtrain_tfidf, ytrain)"
   ]
  },
  {
   "cell_type": "code",
   "execution_count": 69,
   "metadata": {},
   "outputs": [
    {
     "data": {
      "text/plain": [
       "LogisticRegression(max_iter=10000)"
      ]
     },
     "execution_count": 69,
     "metadata": {},
     "output_type": "execute_result"
    }
   ],
   "source": [
    "from sklearn.linear_model import LogisticRegression\n",
    "\n",
    "lr = LogisticRegression(max_iter=10000)\n",
    "lr.fit(Xtrain_tfidf, ytrain)"
   ]
  },
  {
   "cell_type": "code",
   "execution_count": 70,
   "metadata": {},
   "outputs": [
    {
     "data": {
      "text/plain": [
       "SVC()"
      ]
     },
     "execution_count": 70,
     "metadata": {},
     "output_type": "execute_result"
    }
   ],
   "source": [
    "from sklearn.svm import SVC, LinearSVC\n",
    "\n",
    "rbf_svc = SVC()\n",
    "rbf_svc.fit(Xtrain_tfidf, ytrain)\n"
   ]
  },
  {
   "cell_type": "code",
   "execution_count": 71,
   "metadata": {},
   "outputs": [
    {
     "data": {
      "text/plain": [
       "LinearSVC()"
      ]
     },
     "execution_count": 71,
     "metadata": {},
     "output_type": "execute_result"
    }
   ],
   "source": [
    "linear_svc = LinearSVC()\n",
    "linear_svc.fit(Xtrain_tfidf, ytrain)\n"
   ]
  },
  {
   "cell_type": "code",
   "execution_count": 72,
   "metadata": {},
   "outputs": [],
   "source": [
    "from sklearn.metrics import plot_confusion_matrix, classification_report"
   ]
  },
  {
   "cell_type": "code",
   "execution_count": 73,
   "metadata": {},
   "outputs": [],
   "source": [
    "def report(model):\n",
    "    preds = model.predict(Xvalid_tfidf)\n",
    "    print(classification_report(yvalid, preds))\n",
    "    plot_confusion_matrix(model, Xvalid_tfidf, yvalid)"
   ]
  },
  {
   "cell_type": "code",
   "execution_count": 74,
   "metadata": {},
   "outputs": [
    {
     "name": "stdout",
     "output_type": "stream",
     "text": [
      "              precision    recall  f1-score   support\n",
      "\n",
      "    negative       0.66      0.99      0.79      1817\n",
      "     neutral       0.79      0.15      0.26       628\n",
      "    positive       0.89      0.14      0.24       483\n",
      "\n",
      "    accuracy                           0.67      2928\n",
      "   macro avg       0.78      0.43      0.43      2928\n",
      "weighted avg       0.73      0.67      0.59      2928\n",
      "\n"
     ]
    },
    {
     "data": {
      "image/png": "[encoded data removed]",
      "text/plain": [
       "<Figure size 432x288 with 2 Axes>"
      ]
     },
     "metadata": {
      "needs_background": "light"
     },
     "output_type": "display_data"
    }
   ],
   "source": [
    "report(nb)"
   ]
  },
  {
   "cell_type": "code",
   "execution_count": 75,
   "metadata": {},
   "outputs": [
    {
     "name": "stdout",
     "output_type": "stream",
     "text": [
      "              precision    recall  f1-score   support\n",
      "\n",
      "    negative       0.80      0.93      0.86      1817\n",
      "     neutral       0.63      0.47      0.54       628\n",
      "    positive       0.82      0.58      0.68       483\n",
      "\n",
      "    accuracy                           0.77      2928\n",
      "   macro avg       0.75      0.66      0.69      2928\n",
      "weighted avg       0.77      0.77      0.76      2928\n",
      "\n"
     ]
    },
    {
     "data": {
      "image/png": "[encoded data removed]",
      "text/plain": [
       "<Figure size 432x288 with 2 Axes>"
      ]
     },
     "metadata": {
      "needs_background": "light"
     },
     "output_type": "display_data"
    }
   ],
   "source": [
    "report(lr)"
   ]
  },
  {
   "cell_type": "code",
   "execution_count": 76,
   "metadata": {},
   "outputs": [
    {
     "name": "stdout",
     "output_type": "stream",
     "text": [
      "              precision    recall  f1-score   support\n",
      "\n",
      "    negative       0.78      0.95      0.86      1817\n",
      "     neutral       0.67      0.41      0.51       628\n",
      "    positive       0.81      0.56      0.66       483\n",
      "\n",
      "    accuracy                           0.77      2928\n",
      "   macro avg       0.75      0.64      0.67      2928\n",
      "weighted avg       0.76      0.77      0.75      2928\n",
      "\n"
     ]
    },
    {
     "data": {
      "image/png": "[encoded data removed]",
      "text/plain": [
       "<Figure size 432x288 with 2 Axes>"
      ]
     },
     "metadata": {
      "needs_background": "light"
     },
     "output_type": "display_data"
    }
   ],
   "source": [
    "report(rbf_svc)"
   ]
  },
  {
   "cell_type": "code",
   "execution_count": 28,
   "metadata": {},
   "outputs": [
    {
     "name": "stderr",
     "output_type": "stream",
     "text": [
      "G:\\Anaconda_install\\lib\\site-packages\\ipykernel\\ipkernel.py:287: DeprecationWarning:\n",
      "\n",
      "`should_run_async` will not call `transform_cell` automatically in the future. Please pass the result to `transformed_cell` argument and any exception that happen during thetransform in `preprocessing_exc_tuple` in IPython 7.17 and above.\n",
      "\n"
     ]
    },
    {
     "name": "stdout",
     "output_type": "stream",
     "text": [
      "              precision    recall  f1-score   support\n",
      "\n",
      "    negative       0.82      0.89      0.86      1817\n",
      "     neutral       0.59      0.52      0.55       628\n",
      "    positive       0.76      0.64      0.69       483\n",
      "\n",
      "    accuracy                           0.77      2928\n",
      "   macro avg       0.73      0.68      0.70      2928\n",
      "weighted avg       0.76      0.77      0.77      2928\n",
      "\n"
     ]
    },
    {
     "data": {
      "image/png": "[encoded data removed]",
      "text/plain": [
       "<Figure size 432x288 with 2 Axes>"
      ]
     },
     "metadata": {
      "needs_background": "light"
     },
     "output_type": "display_data"
    }
   ],
   "source": [
    "report(linear_svc)"
   ]
  },
  {
   "cell_type": "code",
   "execution_count": 29,
   "metadata": {},
   "outputs": [
    {
     "name": "stderr",
     "output_type": "stream",
     "text": [
      "G:\\Anaconda_install\\lib\\site-packages\\ipykernel\\ipkernel.py:287: DeprecationWarning:\n",
      "\n",
      "`should_run_async` will not call `transform_cell` automatically in the future. Please pass the result to `transformed_cell` argument and any exception that happen during thetransform in `preprocessing_exc_tuple` in IPython 7.17 and above.\n",
      "\n"
     ]
    }
   ],
   "source": [
    "from sklearn.pipeline import Pipeline\n"
   ]
  },
  {
   "cell_type": "code",
   "execution_count": 30,
   "metadata": {},
   "outputs": [
    {
     "name": "stderr",
     "output_type": "stream",
     "text": [
      "G:\\Anaconda_install\\lib\\site-packages\\ipykernel\\ipkernel.py:287: DeprecationWarning:\n",
      "\n",
      "`should_run_async` will not call `transform_cell` automatically in the future. Please pass the result to `transformed_cell` argument and any exception that happen during thetransform in `preprocessing_exc_tuple` in IPython 7.17 and above.\n",
      "\n"
     ]
    },
    {
     "data": {
      "text/plain": [
       "Pipeline(steps=[('tfidf', TfidfVectorizer()), ('rbf_svc', SVC())])"
      ]
     },
     "execution_count": 30,
     "metadata": {},
     "output_type": "execute_result"
    }
   ],
   "source": [
    "pipe = Pipeline([\n",
    "    (\"tfidf\", TfidfVectorizer()),\n",
    "    (\"rbf_svc\", SVC())\n",
    "])\n",
    "\n",
    "pipe.fit(X, y)"
   ]
  },
  {
   "cell_type": "code",
   "execution_count": null,
   "metadata": {},
   "outputs": [],
   "source": [
    "#Predicting feedbacks and classifying based on the training data"
   ]
  },
  {
   "cell_type": "code",
   "execution_count": 31,
   "metadata": {},
   "outputs": [
    {
     "name": "stderr",
     "output_type": "stream",
     "text": [
      "G:\\Anaconda_install\\lib\\site-packages\\ipykernel\\ipkernel.py:287: DeprecationWarning:\n",
      "\n",
      "`should_run_async` will not call `transform_cell` automatically in the future. Please pass the result to `transformed_cell` argument and any exception that happen during thetransform in `preprocessing_exc_tuple` in IPython 7.17 and above.\n",
      "\n"
     ]
    },
    {
     "data": {
      "text/plain": [
       "array(['positive'], dtype=object)"
      ]
     },
     "execution_count": 31,
     "metadata": {},
     "output_type": "execute_result"
    }
   ],
   "source": [
    "pipe.predict([\"The flight went really quick\"])"
   ]
  },
  {
   "cell_type": "code",
   "execution_count": 32,
   "metadata": {},
   "outputs": [
    {
     "name": "stderr",
     "output_type": "stream",
     "text": [
      "G:\\Anaconda_install\\lib\\site-packages\\ipykernel\\ipkernel.py:287: DeprecationWarning:\n",
      "\n",
      "`should_run_async` will not call `transform_cell` automatically in the future. Please pass the result to `transformed_cell` argument and any exception that happen during thetransform in `preprocessing_exc_tuple` in IPython 7.17 and above.\n",
      "\n"
     ]
    },
    {
     "data": {
      "text/plain": [
       "array(['negative'], dtype=object)"
      ]
     },
     "execution_count": 32,
     "metadata": {},
     "output_type": "execute_result"
    }
   ],
   "source": [
    "pipe.predict([\"This flight wasn't very good experience\"])"
   ]
  },
  {
   "cell_type": "code",
   "execution_count": 37,
   "metadata": {},
   "outputs": [
    {
     "name": "stderr",
     "output_type": "stream",
     "text": [
      "G:\\Anaconda_install\\lib\\site-packages\\ipykernel\\ipkernel.py:287: DeprecationWarning:\n",
      "\n",
      "`should_run_async` will not call `transform_cell` automatically in the future. Please pass the result to `transformed_cell` argument and any exception that happen during thetransform in `preprocessing_exc_tuple` in IPython 7.17 and above.\n",
      "\n"
     ]
    },
    {
     "data": {
      "text/plain": [
       "array(['positive'], dtype=object)"
      ]
     },
     "execution_count": 37,
     "metadata": {},
     "output_type": "execute_result"
    }
   ],
   "source": [
    "pipe.predict([\"happy\"])"
   ]
  },
  {
   "cell_type": "code",
   "execution_count": null,
   "metadata": {},
   "outputs": [],
   "source": []
  },
  {
   "cell_type": "code",
   "execution_count": null,
   "metadata": {},
   "outputs": [],
   "source": []
  }
 ],
 "metadata": {
  "kernelspec": {
   "display_name": "Python 3",
   "language": "python",
   "name": "python3"
  },
  "language_info": {
   "codemirror_mode": {
    "name": "ipython",
    "version": 3
   },
   "file_extension": ".py",
   "mimetype": "text/x-python",
   "name": "python",
   "nbconvert_exporter": "python",
   "pygments_lexer": "ipython3",
   "version": "3.8.5"
  }
 },
 "nbformat": 4,
 "nbformat_minor": 4
}
