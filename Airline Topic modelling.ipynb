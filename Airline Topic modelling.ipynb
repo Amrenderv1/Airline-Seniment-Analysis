{
 "cells": [
  {
   "cell_type": "code",
   "execution_count": 71,
   "metadata": {},
   "outputs": [],
   "source": [
    "import pandas as pd\n",
    "import numpy as np\n",
    "import nltk\n",
    "import re\n",
    "from pprint import pprint\n",
    "import spacy\n",
    "import gensim\n",
    "import gensim.corpora as corpora\n",
    "from gensim.utils import simple_preprocess\n",
    "from gensim.models import CoherenceModel\n",
    "\n",
    "\n",
    "import spacy  ## spacy is their for lemmatization\n",
    "\n",
    "# Plotting tools\n",
    "import pyLDAvis\n",
    "#from pyLDAvis import gensim\n",
    "import pyLDAvis.gensim_models\n",
    "import matplotlib.pyplot as plt\n",
    "%matplotlib inline\n",
    "\n",
    "\n",
    "\n",
    "# Enable logging for gensim - optional\n",
    "import logging\n",
    "logging.basicConfig(format='%(asctime)s : %(levelname)s : %(message)s', level=logging.ERROR)\n",
    "\n",
    "import warnings\n",
    "warnings.filterwarnings(\"ignore\",category=DeprecationWarning)\n",
    "\n",
    "import warnings\n",
    "warnings.filterwarnings(\"ignore\")"
   ]
  },
  {
   "cell_type": "code",
   "execution_count": 72,
   "metadata": {},
   "outputs": [],
   "source": [
    "train=pd.read_csv('Usecase3_Dataset.csv')"
   ]
  },
  {
   "cell_type": "code",
   "execution_count": 76,
   "metadata": {},
   "outputs": [],
   "source": [
    "Virgin_America=train[train.airline==\"Virgin America\"][\"text\"].values\n",
    "United = train[train.airline==\"United\"][\"text\"].values\n",
    "Southwest = train[train.airline==\"Southwest\"][\"text\"].values\n",
    "Delta= train[train.airline==\"Delta\"][\"text\"].values\n",
    "American= train[train.airline==\"American\"][\"text\"].values\n",
    "US_Airways= train[train.airline==\"US Airways\"][\"text\"].values"
   ]
  },
  {
   "cell_type": "code",
   "execution_count": 79,
   "metadata": {},
   "outputs": [],
   "source": [
    "data=train[train.airline==\"Virgin America\"][\"text\"].values"
   ]
  },
  {
   "cell_type": "code",
   "execution_count": 81,
   "metadata": {},
   "outputs": [],
   "source": [
    "def sent_to_words(sentences):\n",
    "    for sent in sentences:\n",
    "        sent = re.sub('\\S*@\\S*\\s?', '', sent)  # remove emails\n",
    "        sent = re.sub('\\s+', ' ', sent)  # remove newline chars\n",
    "        sent = re.sub(\"\\'\", \"\", sent)  # remove single quotes\n",
    "        sent = gensim.utils.simple_preprocess(str(sent), deacc=True) \n",
    "        yield(sent)  \n",
    "\n",
    "# Convert to list\n",
    "data = data.tolist()\n",
    "data_words = list(sent_to_words(data))\n",
    "#print(data_words[:1])"
   ]
  },
  {
   "cell_type": "code",
   "execution_count": 82,
   "metadata": {},
   "outputs": [],
   "source": [
    "# NLTK Stop words\n",
    "from nltk.corpus import stopwords\n",
    "stop_words = stopwords.words('english')\n",
    "stop_words.extend(['from', 'subject', 're', 'edu', 'use', 'not', 'would', 'say', 'could', '_', 'be', 'know', 'good', 'go', 'get', 'do', 'done', 'try', 'many', 'some', 'nice', 'thank', 'think', 'see', 'rather', 'easy', 'easily', 'lot', 'lack', 'make', 'want', 'seem', 'run', 'need', 'even', 'right', 'line', 'even', 'also', 'may', 'take'])"
   ]
  },
  {
   "cell_type": "code",
   "execution_count": 83,
   "metadata": {},
   "outputs": [
    {
     "name": "stdout",
     "output_type": "stream",
     "text": [
      "✔ Download and installation successful\n",
      "You can now load the package via spacy.load('en_core_web_sm')\n"
     ]
    }
   ],
   "source": [
    "import spacy\n",
    "from spacy.cli.download import download\n",
    "download(model=\"en_core_web_sm\")"
   ]
  },
  {
   "cell_type": "code",
   "execution_count": 84,
   "metadata": {
    "scrolled": true
   },
   "outputs": [],
   "source": [
    "# Building the bigram and trigram models\n",
    "bigram = gensim.models.Phrases(data_words, min_count=1, threshold=300) # higher threshold fewer phrases.\n",
    "trigram = gensim.models.Phrases(bigram[data_words], threshold=100)  \n",
    "bigram_mod = gensim.models.phrases.Phraser(bigram)\n",
    "trigram_mod = gensim.models.phrases.Phraser(trigram)\n",
    "\n",
    "# !python3 -m spacy download en  # run in terminal once\n",
    "def process_words(texts, stop_words=stop_words, allowed_postags=['NOUN', 'ADJ', 'VERB', 'ADV']):\n",
    "    \"\"\"Remove Stopwords, Form Bigrams, Trigrams and Lemmatization\"\"\"\n",
    "    texts = [[word for word in simple_preprocess(str(doc)) if word not in stop_words] for doc in texts]\n",
    "    texts = [bigram_mod[doc] for doc in texts]\n",
    "    texts = [trigram_mod[bigram_mod[doc]] for doc in texts]\n",
    "    texts_out = []\n",
    "    nlp = spacy.load('en_core_web_sm', disable=['parser', 'ner'])\n",
    "    for sent in texts:\n",
    "        doc = nlp(\" \".join(sent)) \n",
    "        texts_out.append([token.lemma_ for token in doc if token.pos_ in allowed_postags])\n",
    "    # remove stopwords once more after lemmatization\n",
    "    texts_out = [[word for word in simple_preprocess(str(doc)) if word not in stop_words] for doc in texts_out]    \n",
    "    return texts_out\n",
    "\n",
    "data_ready = process_words(data_words)  "
   ]
  },
  {
   "cell_type": "code",
   "execution_count": 85,
   "metadata": {},
   "outputs": [
    {
     "name": "stdout",
     "output_type": "stream",
     "text": [
      "[(0,\n",
      "  '0.029*\"love\" + 0.020*\"come\" + 0.018*\"amp\" + 0.018*\"day\" + 0.017*\"customer\" '\n",
      "  '+ 0.014*\"contact\" + 0.014*\"email\" + 0.014*\"site\" + 0.013*\"status\" + '\n",
      "  '0.011*\"work\"'),\n",
      " (1,\n",
      "  '0.073*\"flight\" + 0.036*\"fly\" + 0.024*\"guy\" + 0.020*\"help\" + 0.020*\"book\" + '\n",
      "  '0.016*\"long\" + 0.016*\"lax\" + 0.016*\"seat\" + 0.014*\"wish\" + 0.014*\"point\"'),\n",
      " (2,\n",
      "  '0.027*\"way\" + 0.024*\"fare\" + 0.022*\"dm\" + 0.021*\"change\" + 0.020*\"airline\" '\n",
      "  '+ 0.016*\"fee\" + 0.016*\"asap\" + 0.015*\"able\" + 0.014*\"add\" + 0.014*\"time\"'),\n",
      " (3,\n",
      "  '0.079*\"co\" + 0.048*\"virgin\" + 0.031*\"still\" + 0.027*\"look\" + 0.024*\"sfo\" + '\n",
      "  '0.022*\"plane\" + 0.018*\"awesome\" + 0.017*\"austin\" + 0.014*\"http\" + '\n",
      "  '0.011*\"restr\"')]\n"
     ]
    }
   ],
   "source": [
    "# Create Dictionary\n",
    "id2word = corpora.Dictionary(data_ready)\n",
    "\n",
    "# Create Corpus: Term Document Frequency\n",
    "corpus = [id2word.doc2bow(text) for text in data_ready]\n",
    "\n",
    "# Build LDA model\n",
    "lda_model = gensim.models.ldamodel.LdaModel(corpus=corpus,\n",
    "                                           id2word=id2word,\n",
    "                                           num_topics=4, \n",
    "                                           random_state=100,\n",
    "                                           update_every=1,\n",
    "                                           chunksize=10,\n",
    "                                           passes=10,\n",
    "                                           alpha='symmetric',\n",
    "                                           iterations=100,\n",
    "                                           per_word_topics=True)\n",
    "\n",
    "pprint(lda_model.print_topics())"
   ]
  },
  {
   "cell_type": "markdown",
   "metadata": {},
   "source": [
    "## Virgin America Airline Important topics ##"
   ]
  },
  {
   "cell_type": "code",
   "execution_count": 86,
   "metadata": {},
   "outputs": [
    {
     "data": {
      "text/html": [
       "\n",
       "<link rel=\"stylesheet\" type=\"text/css\" href=\"https://cdn.jsdelivr.net/gh/bmabey/pyLDAvis@3.3.1/pyLDAvis/js/ldavis.v1.0.0.css\">\n",
       "\n",
       "\n",
       "<div id=\"ldavis_el59765749338083590964954\"></div>\n",
       "<script type=\"text/javascript\">\n",
       "\n",
       "var ldavis_el59765749338083590964954_data = {\"mdsDat\": {\"x\": [0.21621751200266848, -0.0967585872283793, -0.07812788456416699, -0.04133104021012227], \"y\": [0.03182340070097453, 0.11641113762835321, 0.04738686165319281, -0.1956213999825205], \"topics\": [1, 2, 3, 4], \"cluster\": [1, 1, 1, 1], \"Freq\": [32.22160650477218, 23.60151933197648, 22.39239032135023, 21.78448384190111]}, \"tinfo\": {\"Term\": [\"co\", \"flight\", \"virgin\", \"fly\", \"still\", \"love\", \"look\", \"way\", \"guy\", \"sfo\", \"fare\", \"dm\", \"plane\", \"help\", \"change\", \"airline\", \"come\", \"book\", \"amp\", \"day\", \"awesome\", \"austin\", \"lax\", \"seat\", \"asap\", \"fee\", \"customer\", \"long\", \"add\", \"contact\", \"flight\", \"fly\", \"guy\", \"help\", \"seat\", \"lax\", \"book\", \"point\", \"long\", \"home\", \"route\", \"new\", \"cancel\", \"wait\", \"wish\", \"next\", \"well\", \"ticket\", \"start\", \"pay\", \"gate\", \"dalla\", \"boston\", \"leave\", \"haul\", \"open\", \"delay\", \"bo\", \"direct\", \"virginamerica\", \"year\", \"booking_problem\", \"wonder\", \"pm\", \"co\", \"virgin\", \"look\", \"still\", \"sfo\", \"plane\", \"austin\", \"awesome\", \"http\", \"nyc\", \"great\", \"first\", \"weather\", \"san\", \"week\", \"omg\", \"america\", \"free\", \"share\", \"lone_furrow\", \"middleeast\", \"seattle\", \"nonstop\", \"io\", \"mood_lighte\", \"save\", \"application\", \"carrier\", \"pdx\", \"instead\", \"foot\", \"restr\", \"hear\", \"byackc\", \"nl\", \"town\", \"xrdtov\", \"actually\", \"lineup\", \"movie\", \"love\", \"come\", \"day\", \"amp\", \"contact\", \"email\", \"site\", \"status\", \"work\", \"never\", \"check\", \"customer\", \"call\", \"bag\", \"back\", \"match\", \"fast\", \"cost\", \"return\", \"model\", \"fyi\", \"problem\", \"different\", \"suck\", \"reason\", \"news\", \"little\", \"cool\", \"dance\", \"much\", \"wifi\", \"always\", \"future\", \"perfect\", \"least\", \"way\", \"change\", \"dm\", \"fare\", \"airline\", \"asap\", \"add\", \"time\", \"elevate\", \"fee\", \"really\", \"experience\", \"able\", \"give\", \"trip\", \"mobile\", \"hour\", \"minute\", \"offer\", \"website\", \"incredible\", \"carry\", \"online\", \"respond\", \"month\", \"sign\", \"early\", \"bonus\", \"enroll\", \"select\", \"potentially\", \"recieve\", \"silver\", \"st\", \"bin\", \"byackc\", \"nl\"], \"Freq\": [63.0, 79.0, 38.0, 39.0, 25.0, 22.0, 22.0, 20.0, 26.0, 19.0, 17.0, 16.0, 17.0, 22.0, 15.0, 15.0, 15.0, 22.0, 14.0, 14.0, 14.0, 14.0, 18.0, 17.0, 12.0, 12.0, 13.0, 18.0, 11.0, 11.0, 79.37837901451616, 39.29920400811586, 25.684324632772032, 22.178535103028455, 17.067476040406238, 17.42646835232812, 21.319818002891076, 14.799589921270178, 17.452879148391077, 12.104013960778397, 11.959794750922487, 11.577438499233397, 9.876346344746235, 12.54465495917668, 15.60886118463448, 8.476337063598256, 9.8626001801669, 8.43304496853906, 7.1864050506159645, 7.385591767611391, 7.230339305950739, 7.428570601452101, 7.327822060683317, 6.146523085804673, 14.137559501737208, 6.148912143986241, 5.705515859315211, 7.354920417198447, 4.583851529729772, 4.657422515897593, 6.516896717551836, 4.965269006656214, 9.421259010156282, 6.582832907356051, 62.84429699872301, 38.10805420880342, 21.668761276434207, 24.474708775642604, 19.154078785044593, 17.114475873744603, 13.818559650037155, 14.141543531011664, 10.855305842361307, 7.543699410489227, 7.191798162536089, 6.1296053588663115, 6.431864301635417, 5.160381768099691, 4.30030385296813, 3.998997836132912, 4.015643187197544, 4.033279522114323, 3.7594062439512745, 2.9729539581525333, 2.9729539581525333, 2.9168913191076147, 2.787644965974906, 2.8337109353256333, 4.559125778701207, 2.792102361090629, 3.037448088816441, 3.1336601689001946, 2.6482502657164972, 2.457068160813342, 3.95342588073085, 9.03978425882776, 3.6226430824680285, 6.42464512098544, 6.42464512098544, 6.42464512098544, 6.42464512098544, 5.865791564437299, 5.865791564437299, 5.865791564437299, 22.112596516977177, 14.807424983951488, 13.592503428628612, 13.736919296463318, 10.512772786746185, 10.308045751828221, 10.197708988704616, 9.574741327965052, 8.566150290925863, 8.2394834993472, 6.681254542825178, 12.457318536729485, 6.287531016405663, 7.876637719944039, 6.097794132060125, 5.351738264396174, 5.875108013333114, 5.285957935968659, 6.524953827359359, 5.131010400605964, 4.556211394195283, 4.1511593664720285, 4.305982451333011, 4.417604735554583, 4.2558583465856765, 4.23898180685913, 3.4996574843610286, 3.4261868160572897, 3.3795774739301407, 3.9282695695999625, 5.776082223273573, 4.379327968005451, 4.392414551748871, 5.4311541610338185, 4.676528035861821, 19.781995384006468, 15.118659278151123, 16.045403182973963, 17.26156834601305, 14.93047188902041, 11.69095397351379, 10.47506710539295, 10.341249539629048, 9.878179073379066, 11.925969939403064, 8.087065476476804, 6.580817422695235, 10.67886697585653, 5.985185128290411, 5.635160376957644, 5.4756435032651085, 5.559553854737317, 5.528156321938452, 5.522767086278922, 5.135409890177466, 5.312304508066666, 6.181256175914078, 4.106550849027965, 10.221436756368812, 4.955197560321685, 3.900706397639257, 3.6429701754278585, 3.878340830918821, 3.878340830918821, 3.879957396988064, 8.975565657092766, 8.975565657092766, 5.561820116663502, 4.237320130503495, 4.28479431054667, 4.2690822432871744, 4.2690822432871744], \"Total\": [63.0, 79.0, 38.0, 39.0, 25.0, 22.0, 22.0, 20.0, 26.0, 19.0, 17.0, 16.0, 17.0, 22.0, 15.0, 15.0, 15.0, 22.0, 14.0, 14.0, 14.0, 14.0, 18.0, 17.0, 12.0, 12.0, 13.0, 18.0, 11.0, 11.0, 79.94928269179705, 39.87392801096107, 26.28958398025616, 22.743036129838117, 17.636334092862544, 18.012331258430876, 22.107306636945932, 15.38571238807481, 18.199843939140944, 12.665267080062698, 12.540037428147915, 12.153990231025999, 10.443133381340353, 13.333390547477645, 16.646483018083163, 9.056795306023709, 10.539739149421056, 9.028721601993617, 7.7470124446935085, 7.970442057711237, 7.8079949559978905, 8.060297508987327, 7.970046005180372, 6.709776045334681, 15.510779192688817, 6.759686980638551, 6.273115281040137, 8.235607822697697, 5.145734493712019, 5.2746459335672045, 7.422274215485549, 5.634998199834215, 12.516031410140599, 8.813104278627009, 63.40906454472741, 38.71254167767344, 22.262441393859877, 25.165236357875603, 19.751483947206406, 17.730080556844587, 14.39283299586295, 14.764986416647444, 11.410652645091682, 8.124827664405013, 7.793439837547327, 6.698865597433797, 7.109681587703366, 5.749522982972637, 4.876505643010194, 4.566743166235444, 4.591689182561285, 4.6152638171389215, 4.38742335859642, 3.544765194375683, 3.544765194375683, 3.489013388267805, 3.345418402707207, 3.410796780932242, 5.49747533988234, 3.384505248287309, 3.6996306604920037, 3.8318987421783524, 3.272411469740415, 3.0431212601495137, 4.950967816283851, 12.292960810171966, 4.776998924136438, 12.035703067020462, 12.035703067020462, 12.035703067020462, 12.035703067020462, 12.363946139950674, 12.363946139950674, 12.363946139950674, 22.674776403530252, 15.37922703179134, 14.141353281761479, 14.308988869561073, 11.0528322955855, 10.841865247769773, 10.74019451235939, 10.138376537571835, 9.103722888078284, 8.824290684121275, 7.218872337540219, 13.465845830616022, 6.823886475416818, 8.562643053410573, 6.637724368620769, 5.891752419260418, 6.4862038552850425, 5.846437824954697, 7.242455869290467, 5.726738783034249, 5.0890915333780375, 4.696830890988405, 4.880378528426778, 5.009674003737637, 4.851777908411753, 4.8683253703120215, 4.032744497295214, 3.957181908002454, 3.913768255173241, 4.5618119534430015, 7.126778293051099, 5.324193944191606, 5.668124703019604, 8.072379888512776, 6.7607954801196986, 20.383313013431025, 15.701737536884755, 16.667757362206693, 17.93993517744001, 15.52911086609958, 12.313641887359744, 11.066269637540634, 10.960296706190904, 10.571472298651168, 12.773640385969083, 8.667325417186856, 7.1672433910181175, 11.701066259082236, 6.567643626157176, 6.232254555987687, 6.058397977446266, 6.151831252381576, 6.120339545407996, 6.128912379949756, 5.705848950070677, 5.954609348406933, 7.019547160929492, 4.676245756159525, 11.663569936493726, 5.6803200413965635, 4.501477309779657, 4.211639200001855, 4.488125303587614, 4.488125303587614, 4.498270320642002, 11.661278709435313, 11.661278709435313, 6.987306568477336, 5.177492097262471, 5.598950592517098, 12.035703067020462, 12.035703067020462], \"Category\": [\"Default\", \"Default\", \"Default\", \"Default\", \"Default\", \"Default\", \"Default\", \"Default\", \"Default\", \"Default\", \"Default\", \"Default\", \"Default\", \"Default\", \"Default\", \"Default\", \"Default\", \"Default\", \"Default\", \"Default\", \"Default\", \"Default\", \"Default\", \"Default\", \"Default\", \"Default\", \"Default\", \"Default\", \"Default\", \"Default\", \"Topic1\", \"Topic1\", \"Topic1\", \"Topic1\", \"Topic1\", \"Topic1\", \"Topic1\", \"Topic1\", \"Topic1\", \"Topic1\", \"Topic1\", \"Topic1\", \"Topic1\", \"Topic1\", \"Topic1\", \"Topic1\", \"Topic1\", \"Topic1\", \"Topic1\", \"Topic1\", \"Topic1\", \"Topic1\", \"Topic1\", \"Topic1\", \"Topic1\", \"Topic1\", \"Topic1\", \"Topic1\", \"Topic1\", \"Topic1\", \"Topic1\", \"Topic1\", \"Topic1\", \"Topic1\", \"Topic2\", \"Topic2\", \"Topic2\", \"Topic2\", \"Topic2\", \"Topic2\", \"Topic2\", \"Topic2\", \"Topic2\", \"Topic2\", \"Topic2\", \"Topic2\", \"Topic2\", \"Topic2\", \"Topic2\", \"Topic2\", \"Topic2\", \"Topic2\", \"Topic2\", \"Topic2\", \"Topic2\", \"Topic2\", \"Topic2\", \"Topic2\", \"Topic2\", \"Topic2\", \"Topic2\", \"Topic2\", \"Topic2\", \"Topic2\", \"Topic2\", \"Topic2\", \"Topic2\", \"Topic2\", \"Topic2\", \"Topic2\", \"Topic2\", \"Topic2\", \"Topic2\", \"Topic2\", \"Topic3\", \"Topic3\", \"Topic3\", \"Topic3\", \"Topic3\", \"Topic3\", \"Topic3\", \"Topic3\", \"Topic3\", \"Topic3\", \"Topic3\", \"Topic3\", \"Topic3\", \"Topic3\", \"Topic3\", \"Topic3\", \"Topic3\", \"Topic3\", \"Topic3\", \"Topic3\", \"Topic3\", \"Topic3\", \"Topic3\", \"Topic3\", \"Topic3\", \"Topic3\", \"Topic3\", \"Topic3\", \"Topic3\", \"Topic3\", \"Topic3\", \"Topic3\", \"Topic3\", \"Topic3\", \"Topic3\", \"Topic4\", \"Topic4\", \"Topic4\", \"Topic4\", \"Topic4\", \"Topic4\", \"Topic4\", \"Topic4\", \"Topic4\", \"Topic4\", \"Topic4\", \"Topic4\", \"Topic4\", \"Topic4\", \"Topic4\", \"Topic4\", \"Topic4\", \"Topic4\", \"Topic4\", \"Topic4\", \"Topic4\", \"Topic4\", \"Topic4\", \"Topic4\", \"Topic4\", \"Topic4\", \"Topic4\", \"Topic4\", \"Topic4\", \"Topic4\", \"Topic4\", \"Topic4\", \"Topic4\", \"Topic4\", \"Topic4\", \"Topic4\", \"Topic4\"], \"logprob\": [30.0, 29.0, 28.0, 27.0, 26.0, 25.0, 24.0, 23.0, 22.0, 21.0, 20.0, 19.0, 18.0, 17.0, 16.0, 15.0, 14.0, 13.0, 12.0, 11.0, 10.0, 9.0, 8.0, 7.0, 6.0, 5.0, 4.0, 3.0, 2.0, 1.0, -2.6135, -3.3166, -3.7419, -3.8886, -4.1506, -4.1298, -3.9281, -4.2932, -4.1283, -4.4942, -4.5062, -4.5387, -4.6976, -4.4585, -4.2399, -4.8505, -4.699, -4.8556, -5.0156, -4.9882, -5.0095, -4.9824, -4.9961, -5.1719, -4.3389, -5.1715, -5.2463, -4.9924, -5.4652, -5.4493, -5.1134, -5.3853, -4.7448, -5.1033, -2.5358, -3.036, -3.6006, -3.4788, -3.7239, -3.8365, -4.0504, -4.0273, -4.2918, -4.6557, -4.7035, -4.8633, -4.8152, -5.0354, -5.2177, -5.2904, -5.2862, -5.2819, -5.3522, -5.5869, -5.5869, -5.6059, -5.6512, -5.6348, -5.1593, -5.6496, -5.5654, -5.5342, -5.7025, -5.7775, -5.3018, -4.4748, -5.3892, -4.8163, -4.8163, -4.8163, -4.8163, -4.9073, -4.9073, -4.9073, -3.5277, -3.9287, -4.0143, -4.0038, -4.2713, -4.2909, -4.3017, -4.3647, -4.476, -4.5149, -4.7245, -4.1015, -4.7853, -4.5599, -4.8159, -4.9464, -4.8531, -4.9588, -4.7482, -4.9885, -5.1074, -5.2005, -5.1638, -5.1382, -5.1755, -5.1795, -5.3712, -5.3924, -5.4061, -5.2556, -4.8701, -5.1469, -5.144, -4.9317, -5.0813, -3.6115, -3.8804, -3.8209, -3.7478, -3.8929, -4.1375, -4.2473, -4.2602, -4.306, -4.1176, -4.5061, -4.7122, -4.2281, -4.807, -4.8673, -4.896, -4.8808, -4.8865, -4.8874, -4.9602, -4.9263, -4.7748, -5.1837, -4.2718, -4.9959, -5.2352, -5.3035, -5.2409, -5.2409, -5.2405, -4.4018, -4.4018, -4.8804, -5.1524, -5.1412, -5.1449, -5.1449], \"loglift\": [30.0, 29.0, 28.0, 27.0, 26.0, 25.0, 24.0, 23.0, 22.0, 21.0, 20.0, 19.0, 18.0, 17.0, 16.0, 15.0, 14.0, 13.0, 12.0, 11.0, 10.0, 9.0, 8.0, 7.0, 6.0, 5.0, 4.0, 3.0, 2.0, 1.0, 1.1254, 1.118, 1.1092, 1.1074, 1.0997, 1.0995, 1.0963, 1.0937, 1.0906, 1.0872, 1.0852, 1.0839, 1.0767, 1.0716, 1.0682, 1.0663, 1.0661, 1.0643, 1.0574, 1.0563, 1.0557, 1.0509, 1.0485, 1.0449, 1.0398, 1.0378, 1.0377, 1.0194, 1.0169, 1.0081, 1.0024, 1.006, 0.8485, 0.8408, 1.4349, 1.4281, 1.4168, 1.416, 1.4131, 1.4085, 1.4031, 1.4007, 1.394, 1.3696, 1.3635, 1.3551, 1.3437, 1.3358, 1.3181, 1.3111, 1.3098, 1.3091, 1.2894, 1.2679, 1.2679, 1.2648, 1.2615, 1.2585, 1.2567, 1.2514, 1.2466, 1.2427, 1.2322, 1.2299, 1.2189, 1.1365, 1.1673, 0.8161, 0.8161, 0.8161, 0.8161, 0.6982, 0.6982, 0.6982, 1.4713, 1.4586, 1.4569, 1.4556, 1.4464, 1.446, 1.4446, 1.4392, 1.4356, 1.4279, 1.4191, 1.4186, 1.4146, 1.4129, 1.4116, 1.4003, 1.3975, 1.3957, 1.3921, 1.3866, 1.3858, 1.3729, 1.3712, 1.3707, 1.3654, 1.358, 1.3547, 1.3524, 1.3497, 1.3469, 1.2863, 1.3011, 1.2415, 1.1002, 1.1279, 1.494, 1.4861, 1.4859, 1.4854, 1.4847, 1.4721, 1.4691, 1.4658, 1.4561, 1.4553, 1.4547, 1.4386, 1.4326, 1.4311, 1.4233, 1.4228, 1.4227, 1.4222, 1.4198, 1.4186, 1.4098, 1.3968, 1.3941, 1.392, 1.3874, 1.3807, 1.3789, 1.3779, 1.3779, 1.3761, 1.2622, 1.2622, 1.2958, 1.3236, 1.2565, 0.4875, 0.4875]}, \"token.table\": {\"Topic\": [1, 4, 1, 2, 4, 4, 1, 3, 2, 3, 2, 4, 2, 2, 3, 3, 3, 4, 1, 4, 1, 1, 1, 1, 2, 4, 3, 1, 2, 4, 4, 3, 2, 3, 3, 3, 3, 3, 1, 3, 3, 1, 3, 1, 4, 4, 4, 3, 4, 4, 4, 3, 4, 2, 1, 1, 1, 2, 2, 1, 2, 3, 3, 1, 4, 2, 1, 1, 4, 2, 3, 1, 1, 4, 2, 4, 2, 2, 1, 1, 2, 3, 4, 1, 1, 2, 3, 2, 1, 2, 3, 3, 2, 4, 4, 3, 4, 1, 2, 1, 2, 3, 3, 1, 3, 1, 1, 2, 4, 2, 2, 4, 2, 4, 1, 1, 2, 1, 2, 3, 2, 1, 2, 4, 1, 1, 4, 3, 4, 3, 1, 4, 1, 4, 1, 2, 4, 3, 1, 2, 2, 1, 2, 4, 2, 2, 4, 3, 4, 3, 1, 4, 1, 3, 2, 3, 1, 4, 1, 2, 4, 4, 2, 1, 1, 4, 2, 4, 2, 1, 2, 3, 1, 4, 1, 4, 3, 1, 2, 4, 1], \"Freq\": [0.08546229701278815, 0.9400852671406696, 0.48528195869542484, 0.48528195869542484, 0.9036468771804117, 0.9659278067713044, 0.18782185819713487, 0.7512874327885395, 0.871139103925315, 0.978405960590383, 0.8108917552329502, 0.9745289094624634, 0.9727063465562433, 0.9481891554072189, 0.9039242467440268, 0.9342909601742108, 0.17860489809223945, 0.7144195923689578, 0.8499676223906258, 0.8912407139797484, 0.9499121871727517, 0.8873117297796302, 0.8782885312644543, 0.08308613085845747, 0.4985167851507448, 0.33234452343382986, 0.8792643344251279, 0.9575670093295814, 0.7829016896971981, 0.8547559924371975, 0.9553082876824102, 0.9696805363350146, 0.9935488001965577, 0.9753416065054885, 0.9952200219660801, 0.7581152622610594, 0.8552216152300813, 0.8911434269295385, 0.8684542961590335, 0.7665246903759779, 0.9900042606287345, 0.9564625758009581, 0.8196085563243034, 0.9716785827387512, 0.9599371800479409, 0.9497489718488322, 0.9459420331902035, 0.9223505154758358, 0.8912407139797484, 0.9766655906749722, 0.9476065455006769, 0.9250403061431877, 0.9394346198426824, 0.8956740380488424, 0.9881264389143237, 0.978082720851559, 0.20198071106642548, 0.8079228442657019, 0.8666893504865051, 0.17642519393888173, 0.17642519393888173, 0.7057007757555269, 0.982493627242955, 0.8965169725965038, 0.9135696669203544, 0.8981913180718117, 0.9889848397573107, 0.902598111034877, 0.06447129364534836, 0.8373458029871965, 0.20933645074679913, 0.9673290705077289, 0.9474731108426492, 0.975319340509739, 0.9640114673661261, 0.8396856464375241, 0.6572199491983887, 0.8795598778476733, 0.9437978769151804, 0.14791158864966808, 0.14791158864966808, 0.7395579432483403, 0.14791158864966808, 0.8942176250683972, 0.48528195869542484, 0.48528195869542484, 0.7439102581411041, 0.8463183978335047, 0.9340739435374753, 0.9882114728920854, 0.9702410999993281, 0.8486439422767941, 0.8463183978335047, 0.9803377664727303, 0.8253006848697646, 0.8730972704417305, 0.8802320931851403, 0.1819016799848715, 0.9095083999243575, 0.48528195869542484, 0.48528195869542484, 0.8768445610698667, 0.9065884484512131, 0.9873300678954883, 0.8216377698156259, 0.8833146526651838, 0.08308613085845747, 0.4985167851507448, 0.33234452343382986, 0.8967488184952636, 0.9846362692772076, 0.9789665160866906, 0.8758977359564029, 0.8553870366481963, 0.8876150651924436, 0.8782448889679394, 0.9167551292802356, 0.12387920462254609, 0.24775840924509218, 0.6193960231127305, 0.9588224907098494, 0.7942717774230771, 0.1134673967747253, 0.1134673967747253, 0.9749304823627297, 0.17150777799194272, 0.7717850009637423, 0.8516380710394784, 0.9230067656322695, 0.8244400455892702, 0.17150777799194272, 0.7717850009637423, 0.0857370432418925, 0.8573704324189251, 0.08134736744402027, 0.7321263069961824, 0.16269473488804054, 0.9665229759537051, 0.9569349428785816, 0.8696373620572752, 0.8863924798220114, 0.9639191404794225, 0.8598419284052716, 0.8892306853246456, 0.9619530386063628, 0.9116968373162966, 0.8885971703800049, 0.1431166630803661, 0.8586999784821967, 0.9310818336197167, 0.19314370378831414, 0.7725748151532565, 0.9035741261516635, 0.9863512134256383, 0.9536965859845407, 0.7984551483820432, 0.8860612113938183, 0.9123840593066717, 0.08308613085845747, 0.4985167851507448, 0.33234452343382986, 0.9627334612376276, 0.9815940352455756, 0.9479309252172945, 0.97499581623365, 0.9811947639140678, 0.8439196504070409, 0.8762937897152125, 0.8202594834958213, 0.9487900846720003, 0.1403158564614029, 0.8418951387684175, 0.9611639877696156, 0.06007274923560098, 0.7190777735431473, 0.2396925911810491, 0.9886065415925485, 0.08308613085845747, 0.4985167851507448, 0.33234452343382986, 0.9431071659135778], \"Term\": [\"able\", \"able\", \"actually\", \"actually\", \"add\", \"airline\", \"always\", \"always\", \"america\", \"amp\", \"application\", \"asap\", \"austin\", \"awesome\", \"back\", \"bag\", \"bin\", \"bin\", \"bo\", \"bonus\", \"book\", \"booking_problem\", \"boston\", \"byackc\", \"byackc\", \"byackc\", \"call\", \"cancel\", \"carrier\", \"carry\", \"change\", \"check\", \"co\", \"come\", \"contact\", \"cool\", \"cost\", \"customer\", \"dalla\", \"dance\", \"day\", \"delay\", \"different\", \"direct\", \"dm\", \"early\", \"elevate\", \"email\", \"enroll\", \"experience\", \"fare\", \"fast\", \"fee\", \"first\", \"flight\", \"fly\", \"foot\", \"foot\", \"free\", \"future\", \"future\", \"future\", \"fyi\", \"gate\", \"give\", \"great\", \"guy\", \"haul\", \"haul\", \"hear\", \"hear\", \"help\", \"home\", \"hour\", \"http\", \"incredible\", \"instead\", \"io\", \"lax\", \"least\", \"least\", \"least\", \"least\", \"leave\", \"lineup\", \"lineup\", \"little\", \"lone_furrow\", \"long\", \"look\", \"love\", \"match\", \"middleeast\", \"minute\", \"mobile\", \"model\", \"month\", \"mood_lighte\", \"mood_lighte\", \"movie\", \"movie\", \"much\", \"never\", \"new\", \"news\", \"next\", \"nl\", \"nl\", \"nl\", \"nonstop\", \"nyc\", \"offer\", \"omg\", \"online\", \"open\", \"pay\", \"pdx\", \"perfect\", \"perfect\", \"perfect\", \"plane\", \"pm\", \"pm\", \"pm\", \"point\", \"potentially\", \"potentially\", \"problem\", \"really\", \"reason\", \"recieve\", \"recieve\", \"respond\", \"respond\", \"restr\", \"restr\", \"restr\", \"return\", \"route\", \"san\", \"save\", \"seat\", \"seattle\", \"select\", \"sfo\", \"share\", \"sign\", \"silver\", \"silver\", \"site\", \"st\", \"st\", \"start\", \"status\", \"still\", \"suck\", \"ticket\", \"time\", \"town\", \"town\", \"town\", \"trip\", \"virgin\", \"virginamerica\", \"wait\", \"way\", \"weather\", \"website\", \"week\", \"well\", \"wifi\", \"wifi\", \"wish\", \"wish\", \"wonder\", \"wonder\", \"work\", \"xrdtov\", \"xrdtov\", \"xrdtov\", \"year\"]}, \"R\": 30, \"lambda.step\": 0.01, \"plot.opts\": {\"xlab\": \"PC1\", \"ylab\": \"PC2\"}, \"topic.order\": [2, 4, 1, 3]};\n",
       "\n",
       "function LDAvis_load_lib(url, callback){\n",
       "  var s = document.createElement('script');\n",
       "  s.src = url;\n",
       "  s.async = true;\n",
       "  s.onreadystatechange = s.onload = callback;\n",
       "  s.onerror = function(){console.warn(\"failed to load library \" + url);};\n",
       "  document.getElementsByTagName(\"head\")[0].appendChild(s);\n",
       "}\n",
       "\n",
       "if(typeof(LDAvis) !== \"undefined\"){\n",
       "   // already loaded: just create the visualization\n",
       "   !function(LDAvis){\n",
       "       new LDAvis(\"#\" + \"ldavis_el59765749338083590964954\", ldavis_el59765749338083590964954_data);\n",
       "   }(LDAvis);\n",
       "}else if(typeof define === \"function\" && define.amd){\n",
       "   // require.js is available: use it to load d3/LDAvis\n",
       "   require.config({paths: {d3: \"https://d3js.org/d3.v5\"}});\n",
       "   require([\"d3\"], function(d3){\n",
       "      window.d3 = d3;\n",
       "      LDAvis_load_lib(\"https://cdn.jsdelivr.net/gh/bmabey/pyLDAvis@3.3.1/pyLDAvis/js/ldavis.v3.0.0.js\", function(){\n",
       "        new LDAvis(\"#\" + \"ldavis_el59765749338083590964954\", ldavis_el59765749338083590964954_data);\n",
       "      });\n",
       "    });\n",
       "}else{\n",
       "    // require.js not available: dynamically load d3 & LDAvis\n",
       "    LDAvis_load_lib(\"https://d3js.org/d3.v5.js\", function(){\n",
       "         LDAvis_load_lib(\"https://cdn.jsdelivr.net/gh/bmabey/pyLDAvis@3.3.1/pyLDAvis/js/ldavis.v3.0.0.js\", function(){\n",
       "                 new LDAvis(\"#\" + \"ldavis_el59765749338083590964954\", ldavis_el59765749338083590964954_data);\n",
       "            })\n",
       "         });\n",
       "}\n",
       "</script>"
      ],
      "text/plain": [
       "PreparedData(topic_coordinates=              x         y  topics  cluster       Freq\n",
       "topic                                                \n",
       "1      0.216218  0.031823       1        1  32.221607\n",
       "3     -0.096759  0.116411       2        1  23.601519\n",
       "0     -0.078128  0.047387       3        1  22.392390\n",
       "2     -0.041331 -0.195621       4        1  21.784484, topic_info=        Term       Freq      Total Category  logprob  loglift\n",
       "62        co  63.000000  63.000000  Default  30.0000  30.0000\n",
       "20    flight  79.000000  79.000000  Default  29.0000  29.0000\n",
       "81    virgin  38.000000  38.000000  Default  28.0000  28.0000\n",
       "21       fly  39.000000  39.000000  Default  27.0000  27.0000\n",
       "71     still  25.000000  25.000000  Default  26.0000  26.0000\n",
       "...      ...        ...        ...      ...      ...      ...\n",
       "589   silver   5.561820   6.987307   Topic4  -4.8804   1.2958\n",
       "59        st   4.237320   5.177492   Topic4  -5.1524   1.3236\n",
       "387      bin   4.284794   5.598951   Topic4  -5.1412   1.2565\n",
       "1323  byackc   4.269082  12.035703   Topic4  -5.1449   0.4875\n",
       "1324      nl   4.269082  12.035703   Topic4  -5.1449   0.4875\n",
       "\n",
       "[176 rows x 6 columns], token_table=      Topic      Freq      Term\n",
       "term                           \n",
       "128       1  0.085462      able\n",
       "128       4  0.940085      able\n",
       "1320      1  0.485282  actually\n",
       "1320      2  0.485282  actually\n",
       "0         4  0.903647       add\n",
       "...     ...       ...       ...\n",
       "386       3  0.988607      work\n",
       "1326      1  0.083086    xrdtov\n",
       "1326      2  0.498517    xrdtov\n",
       "1326      4  0.332345    xrdtov\n",
       "183       1  0.943107      year\n",
       "\n",
       "[181 rows x 3 columns], R=30, lambda_step=0.01, plot_opts={'xlab': 'PC1', 'ylab': 'PC2'}, topic_order=[2, 4, 1, 3])"
      ]
     },
     "execution_count": 86,
     "metadata": {},
     "output_type": "execute_result"
    }
   ],
   "source": [
    "# Visualize the topics\n",
    "pyLDAvis.enable_notebook()\n",
    "vis = pyLDAvis.gensim_models.prepare(lda_model, corpus, id2word)\n",
    "vis"
   ]
  },
  {
   "cell_type": "markdown",
   "metadata": {},
   "source": [
    "## United Airline Important topics ##"
   ]
  },
  {
   "cell_type": "code",
   "execution_count": 88,
   "metadata": {},
   "outputs": [],
   "source": [
    "data=train[train.airline==\"United\"][\"text\"].values"
   ]
  },
  {
   "cell_type": "code",
   "execution_count": 89,
   "metadata": {},
   "outputs": [],
   "source": [
    "def sent_to_words(sentences):\n",
    "    for sent in sentences:\n",
    "        sent = re.sub('\\S*@\\S*\\s?', '', sent)  # remove emails\n",
    "        sent = re.sub('\\s+', ' ', sent)  # remove newline chars\n",
    "        sent = re.sub(\"\\'\", \"\", sent)  # remove single quotes\n",
    "        sent = gensim.utils.simple_preprocess(str(sent), deacc=True) \n",
    "        yield(sent)  \n",
    "\n",
    "# Convert to list\n",
    "data = data.tolist()\n",
    "data_words = list(sent_to_words(data))\n",
    "#print(data_words[:1])"
   ]
  },
  {
   "cell_type": "code",
   "execution_count": 90,
   "metadata": {},
   "outputs": [],
   "source": [
    "# NLTK Stop words\n",
    "from nltk.corpus import stopwords\n",
    "stop_words = stopwords.words('english')\n",
    "stop_words.extend(['from', 'subject', 're', 'edu', 'use', 'not', 'would', 'say', 'could', '_', 'be', 'know', 'good', 'go', 'get', 'do', 'done', 'try', 'many', 'some', 'nice', 'thank', 'think', 'see', 'rather', 'easy', 'easily', 'lot', 'lack', 'make', 'want', 'seem', 'run', 'need', 'even', 'right', 'line', 'even', 'also', 'may', 'take'])"
   ]
  },
  {
   "cell_type": "code",
   "execution_count": 91,
   "metadata": {},
   "outputs": [],
   "source": [
    "# Building the bigram and trigram models\n",
    "bigram = gensim.models.Phrases(data_words, min_count=1, threshold=300) # higher threshold fewer phrases.\n",
    "trigram = gensim.models.Phrases(bigram[data_words], threshold=100)  \n",
    "bigram_mod = gensim.models.phrases.Phraser(bigram)\n",
    "trigram_mod = gensim.models.phrases.Phraser(trigram)\n",
    "\n",
    "# !python3 -m spacy download en  # run in terminal once\n",
    "def process_words(texts, stop_words=stop_words, allowed_postags=['NOUN', 'ADJ', 'VERB', 'ADV']):\n",
    "    \"\"\"Remove Stopwords, Form Bigrams, Trigrams and Lemmatization\"\"\"\n",
    "    texts = [[word for word in simple_preprocess(str(doc)) if word not in stop_words] for doc in texts]\n",
    "    texts = [bigram_mod[doc] for doc in texts]\n",
    "    texts = [trigram_mod[bigram_mod[doc]] for doc in texts]\n",
    "    texts_out = []\n",
    "    nlp = spacy.load('en_core_web_sm', disable=['parser', 'ner'])\n",
    "    for sent in texts:\n",
    "        doc = nlp(\" \".join(sent)) \n",
    "        texts_out.append([token.lemma_ for token in doc if token.pos_ in allowed_postags])\n",
    "    # remove stopwords once more after lemmatization\n",
    "    texts_out = [[word for word in simple_preprocess(str(doc)) if word not in stop_words] for doc in texts_out]    \n",
    "    return texts_out\n",
    "\n",
    "data_ready = process_words(data_words)  "
   ]
  },
  {
   "cell_type": "code",
   "execution_count": 92,
   "metadata": {},
   "outputs": [
    {
     "name": "stdout",
     "output_type": "stream",
     "text": [
      "[(0,\n",
      "  '0.039*\"united\" + 0.038*\"seat\" + 0.030*\"fly\" + 0.023*\"ticket\" + '\n",
      "  '0.020*\"airline\" + 0.019*\"day\" + 0.011*\"problem\" + 0.011*\"lose\" + '\n",
      "  '0.011*\"new\" + 0.010*\"find\"'),\n",
      " (1,\n",
      "  '0.036*\"gate\" + 0.033*\"http_co\" + 0.030*\"customer\" + 0.023*\"leave\" + '\n",
      "  '0.022*\"amp\" + 0.021*\"iah\" + 0.020*\"people\" + 0.015*\"change\" + 0.015*\"sit\" + '\n",
      "  '0.012*\"agent\"'),\n",
      " (2,\n",
      "  '0.117*\"flight\" + 0.033*\"bag\" + 0.033*\"hour\" + 0.029*\"delay\" + 0.028*\"plane\" '\n",
      "  '+ 0.027*\"service\" + 0.019*\"still\" + 0.019*\"give\" + 0.018*\"tell\" + '\n",
      "  '0.015*\"last\"'),\n",
      " (3,\n",
      "  '0.059*\"wait\" + 0.046*\"time\" + 0.019*\"passenger\" + 0.016*\"call\" + '\n",
      "  '0.016*\"travel\" + 0.015*\"miss\" + 0.014*\"almost\" + 0.014*\"airport\" + '\n",
      "  '0.013*\"email\" + 0.012*\"home\"')]\n"
     ]
    }
   ],
   "source": [
    "# Create Dictionary\n",
    "id2word = corpora.Dictionary(data_ready)\n",
    "\n",
    "# Create Corpus: Term Document Frequency\n",
    "corpus = [id2word.doc2bow(text) for text in data_ready]\n",
    "\n",
    "# Build LDA model\n",
    "lda_model = gensim.models.ldamodel.LdaModel(corpus=corpus,\n",
    "                                           id2word=id2word,\n",
    "                                           num_topics=4, \n",
    "                                           random_state=100,\n",
    "                                           update_every=1,\n",
    "                                           chunksize=10,\n",
    "                                           passes=10,\n",
    "                                           alpha='symmetric',\n",
    "                                           iterations=100,\n",
    "                                           per_word_topics=True)\n",
    "\n",
    "pprint(lda_model.print_topics())"
   ]
  },
  {
   "cell_type": "markdown",
   "metadata": {},
   "source": [
    "## United Airline Important topics ##"
   ]
  },
  {
   "cell_type": "code",
   "execution_count": 93,
   "metadata": {},
   "outputs": [
    {
     "data": {
      "text/html": [
       "\n",
       "<link rel=\"stylesheet\" type=\"text/css\" href=\"https://cdn.jsdelivr.net/gh/bmabey/pyLDAvis@3.3.1/pyLDAvis/js/ldavis.v1.0.0.css\">\n",
       "\n",
       "\n",
       "<div id=\"ldavis_el59765651503206666452283\"></div>\n",
       "<script type=\"text/javascript\">\n",
       "\n",
       "var ldavis_el59765651503206666452283_data = {\"mdsDat\": {\"x\": [0.3060497907679985, -0.15976315360533802, -0.047505897416866276, -0.0987807397457941], \"y\": [0.058499412011387614, 0.25156014731090315, -0.16268412746980987, -0.14737543185248106], \"topics\": [1, 2, 3, 4], \"cluster\": [1, 1, 1, 1], \"Freq\": [31.34644883982996, 23.143229213214212, 22.78320339690235, 22.72711855005348]}, \"tinfo\": {\"Term\": [\"flight\", \"wait\", \"time\", \"united\", \"seat\", \"bag\", \"gate\", \"hour\", \"http_co\", \"delay\", \"fly\", \"customer\", \"plane\", \"service\", \"leave\", \"ticket\", \"amp\", \"iah\", \"people\", \"still\", \"airline\", \"give\", \"tell\", \"day\", \"passenger\", \"last\", \"call\", \"travel\", \"late\", \"miss\", \"flight\", \"bag\", \"hour\", \"delay\", \"plane\", \"service\", \"still\", \"give\", \"tell\", \"last\", \"late\", \"back\", \"check\", \"arrive\", \"ewr\", \"crew\", \"refund\", \"cancel\", \"sfo\", \"offer\", \"year\", \"unite\", \"connect\", \"connection\", \"carry\", \"lax\", \"ground\", \"denver\", \"newark\", \"ord\", \"close\", \"wait\", \"time\", \"passenger\", \"call\", \"travel\", \"miss\", \"almost\", \"airport\", \"email\", \"min\", \"number\", \"weather\", \"home\", \"link\", \"send\", \"never\", \"today\", \"phone\", \"response\", \"work\", \"staff\", \"way\", \"come\", \"guy\", \"land\", \"great\", \"attendant\", \"well\", \"put\", \"hotel\", \"transfer\", \"united\", \"seat\", \"fly\", \"ticket\", \"airline\", \"day\", \"lose\", \"problem\", \"find\", \"bad\", \"new\", \"really\", \"experience\", \"pay\", \"week\", \"mile\", \"club\", \"follow\", \"sure\", \"wifi\", \"business\", \"upgrade\", \"happen\", \"receive\", \"full\", \"price\", \"already\", \"charge\", \"buy\", \"actually\", \"reply\", \"gate\", \"http_co\", \"customer\", \"amp\", \"leave\", \"people\", \"iah\", \"change\", \"agent\", \"sit\", \"help\", \"hold\", \"hope\", \"much\", \"rude\", \"form\", \"thing\", \"minute\", \"issue\", \"next\", \"employee\", \"early\", \"stop\", \"yet\", \"stick\", \"less\", \"pilot\", \"break\", \"amazing\", \"care\", \"confirm\", \"step\"], \"Freq\": [1023.0, 385.0, 300.0, 248.0, 241.0, 291.0, 226.0, 290.0, 212.0, 258.0, 190.0, 189.0, 242.0, 239.0, 149.0, 148.0, 141.0, 132.0, 128.0, 164.0, 128.0, 163.0, 162.0, 124.0, 121.0, 135.0, 104.0, 101.0, 127.0, 95.0, 1022.9240214493561, 290.50913552389494, 289.9438928058566, 258.0949199533766, 241.6056891874198, 238.7683805519706, 164.2899888624581, 162.71406758879687, 162.04731909588415, 135.26535863892977, 126.64738436185858, 116.9067924900826, 91.40254332748208, 101.91220648068709, 85.25311857857143, 84.84966090190964, 116.50064683853883, 76.17611335691385, 80.94788970278876, 73.23577930121627, 69.72501449085404, 67.68964968071721, 64.91124772885172, 63.78613007240258, 55.40635612263841, 57.73595614071455, 52.20545599118577, 51.27914634929759, 56.24690384253236, 46.70352680871556, 85.57747299442079, 384.47947508798075, 299.8843441146153, 120.44369933417107, 103.60911701079105, 100.55395014930252, 94.99131448233346, 93.52535748817597, 92.4568281258842, 84.30583386587247, 76.937419648288, 74.53712830331486, 76.0785040158832, 78.72886604862396, 73.41210276277499, 69.75640312124737, 70.97566737551458, 71.03020916963365, 66.8293569971056, 67.34192439518952, 65.53641125476446, 66.80364840093932, 61.908018702595086, 56.01781860432293, 54.6284143539351, 55.492167690264196, 53.16639628828455, 55.71818859555528, 48.90793200829892, 41.96699709458871, 38.32258945025099, 47.145641520579055, 248.25320413358213, 240.67761244817433, 189.74275949660893, 148.20518748567284, 127.44298695806161, 124.23601957354428, 72.2245152200512, 73.21595327008977, 63.84871374738427, 61.81532127207922, 66.98938692559567, 63.47562178321419, 60.3124605936018, 61.18935052113578, 58.218462719733665, 52.38175191379174, 52.549150129105605, 48.59558611046718, 46.43712299979708, 45.5414861348475, 45.486432965135734, 43.07898059699454, 35.61596257837682, 34.665925747109746, 35.789880951208055, 37.17383485907728, 33.67573175262663, 37.061902519256115, 33.05046764899154, 36.136108441235535, 33.29449256066617, 225.90303770939323, 212.22209288916736, 188.79463117022078, 141.02909720973895, 149.13583276968788, 127.98341053493712, 132.0499938547415, 93.28074759755233, 74.84431131468006, 92.81603566783582, 72.62548674441787, 74.655449344085, 67.08661765026615, 64.96034924757124, 59.73412748296838, 58.14360675792389, 57.12777542224738, 55.31781513064098, 54.50745552516647, 52.62606260477966, 48.547439578698125, 47.750025989493594, 39.14742631517303, 45.32389041286752, 36.079359663666004, 39.85046223143256, 37.62701429548806, 34.2395829580148, 34.017492582813766, 32.18683228944327, 33.93581509695767, 38.84483132587131], \"Total\": [1023.0, 385.0, 300.0, 248.0, 241.0, 291.0, 226.0, 290.0, 212.0, 258.0, 190.0, 189.0, 242.0, 239.0, 149.0, 148.0, 141.0, 132.0, 128.0, 164.0, 128.0, 163.0, 162.0, 124.0, 121.0, 135.0, 104.0, 101.0, 127.0, 95.0, 1023.5706550227626, 291.15353216545486, 290.6135840548506, 258.7473579936337, 242.24640302501666, 239.45157714322315, 164.94773774526394, 163.37934197869214, 162.7162577316751, 135.93355757320245, 127.29073197874357, 117.58104196562596, 92.04496110951345, 102.64358475931583, 85.9090193321823, 85.52482746544987, 117.51243831970235, 76.83974386217116, 81.68952487167603, 73.91671812139923, 70.39485402613698, 68.35248779931673, 65.55212641086139, 64.43355781386319, 56.04846085564696, 58.42852776465132, 52.840389607084354, 51.94764676578985, 56.986263503473225, 47.343838984913255, 86.97000540115226, 385.2104526601658, 300.60006103063154, 121.16134477060407, 104.28270216564957, 101.22804351427074, 95.68685869324526, 94.2154820054232, 93.13915423465276, 84.96276502816433, 77.59244043251677, 75.18968319181073, 76.78354549261107, 79.45961815638275, 74.0991319543404, 70.41395497111388, 71.65598586570923, 71.71310874130886, 67.49179526978705, 68.0143699326882, 66.20186189189471, 67.48764048205048, 62.57628127064667, 56.694510873861795, 55.29009147734553, 56.178728284037426, 53.84435816523552, 56.48149665479638, 49.60824619478484, 42.661735480148735, 38.97553832941395, 47.99308822209672, 248.91145259378578, 241.39942691775073, 190.40057586277086, 148.85125482792114, 128.0924637691197, 124.90023885950902, 72.88847212131121, 73.92269683845784, 64.50980169109226, 62.46308138128152, 67.69448341574515, 64.16564164181955, 60.96820226682468, 61.86798441282328, 58.93368182075797, 53.02864778558858, 53.20928591255925, 49.243033568360424, 47.08523712594804, 46.19364572329982, 46.18532905765628, 43.765936102928826, 36.26635162457155, 35.31146514601516, 36.45801580759323, 37.86800338082004, 34.31392841473765, 37.779053160416694, 33.69652325678787, 36.85706795697793, 33.97569985425391, 226.57355075743985, 212.8804894090401, 189.43937019061957, 141.67999999081192, 149.85714064369225, 128.69291556588445, 132.78746862626775, 93.94431626117142, 75.486819201229, 93.63028282898516, 73.26267967470176, 75.35347646609358, 67.75414104264712, 65.61306098148982, 60.403255445068275, 58.81376611350658, 57.79050445756837, 55.98584284061119, 55.179871379596335, 53.299008661478794, 49.26629685847939, 48.4747334013486, 39.825643795644986, 46.148172394087474, 36.73817328184572, 40.588257890962865, 38.327093138541215, 34.882750504524175, 34.679858670784995, 32.815623517831874, 34.599274956432225, 39.75066628293612], \"Category\": [\"Default\", \"Default\", \"Default\", \"Default\", \"Default\", \"Default\", \"Default\", \"Default\", \"Default\", \"Default\", \"Default\", \"Default\", \"Default\", \"Default\", \"Default\", \"Default\", \"Default\", \"Default\", \"Default\", \"Default\", \"Default\", \"Default\", \"Default\", \"Default\", \"Default\", \"Default\", \"Default\", \"Default\", \"Default\", \"Default\", \"Topic1\", \"Topic1\", \"Topic1\", \"Topic1\", \"Topic1\", \"Topic1\", \"Topic1\", \"Topic1\", \"Topic1\", \"Topic1\", \"Topic1\", \"Topic1\", \"Topic1\", \"Topic1\", \"Topic1\", \"Topic1\", \"Topic1\", \"Topic1\", \"Topic1\", \"Topic1\", \"Topic1\", \"Topic1\", \"Topic1\", \"Topic1\", \"Topic1\", \"Topic1\", \"Topic1\", \"Topic1\", \"Topic1\", \"Topic1\", \"Topic1\", \"Topic2\", \"Topic2\", \"Topic2\", \"Topic2\", \"Topic2\", \"Topic2\", \"Topic2\", \"Topic2\", \"Topic2\", \"Topic2\", \"Topic2\", \"Topic2\", \"Topic2\", \"Topic2\", \"Topic2\", \"Topic2\", \"Topic2\", \"Topic2\", \"Topic2\", \"Topic2\", \"Topic2\", \"Topic2\", \"Topic2\", \"Topic2\", \"Topic2\", \"Topic2\", \"Topic2\", \"Topic2\", \"Topic2\", \"Topic2\", \"Topic2\", \"Topic3\", \"Topic3\", \"Topic3\", \"Topic3\", \"Topic3\", \"Topic3\", \"Topic3\", \"Topic3\", \"Topic3\", \"Topic3\", \"Topic3\", \"Topic3\", \"Topic3\", \"Topic3\", \"Topic3\", \"Topic3\", \"Topic3\", \"Topic3\", \"Topic3\", \"Topic3\", \"Topic3\", \"Topic3\", \"Topic3\", \"Topic3\", \"Topic3\", \"Topic3\", \"Topic3\", \"Topic3\", \"Topic3\", \"Topic3\", \"Topic3\", \"Topic4\", \"Topic4\", \"Topic4\", \"Topic4\", \"Topic4\", \"Topic4\", \"Topic4\", \"Topic4\", \"Topic4\", \"Topic4\", \"Topic4\", \"Topic4\", \"Topic4\", \"Topic4\", \"Topic4\", \"Topic4\", \"Topic4\", \"Topic4\", \"Topic4\", \"Topic4\", \"Topic4\", \"Topic4\", \"Topic4\", \"Topic4\", \"Topic4\", \"Topic4\", \"Topic4\", \"Topic4\", \"Topic4\", \"Topic4\", \"Topic4\", \"Topic4\"], \"logprob\": [30.0, 29.0, 28.0, 27.0, 26.0, 25.0, 24.0, 23.0, 22.0, 21.0, 20.0, 19.0, 18.0, 17.0, 16.0, 15.0, 14.0, 13.0, 12.0, 11.0, 10.0, 9.0, 8.0, 7.0, 6.0, 5.0, 4.0, 3.0, 2.0, 1.0, -2.149, -3.4078, -3.4097, -3.5261, -3.5921, -3.6039, -3.9778, -3.9874, -3.9915, -4.1722, -4.238, -4.318, -4.5641, -4.4553, -4.6338, -4.6385, -4.3215, -4.7463, -4.6856, -4.7857, -4.8348, -4.8645, -4.9064, -4.9239, -5.0647, -5.0235, -5.1242, -5.1421, -5.0496, -5.2356, -4.63, -2.8241, -3.0726, -3.9848, -4.1354, -4.1653, -4.2222, -4.2378, -4.2492, -4.3415, -4.433, -4.4647, -4.4442, -4.41, -4.4799, -4.531, -4.5137, -4.5129, -4.5738, -4.5662, -4.5934, -4.5742, -4.6503, -4.7503, -4.7754, -4.7597, -4.8026, -4.7557, -4.8861, -5.0391, -5.13, -4.9228, -3.2459, -3.2769, -3.5146, -3.7617, -3.9126, -3.9381, -4.4805, -4.4669, -4.6038, -4.6362, -4.5558, -4.6097, -4.6608, -4.6463, -4.6961, -4.8018, -4.7986, -4.8768, -4.9222, -4.9417, -4.9429, -4.9973, -5.1875, -5.2146, -5.1826, -5.1447, -5.2435, -5.1477, -5.2623, -5.173, -5.2549, -3.3377, -3.4002, -3.5172, -3.8089, -3.753, -3.9059, -3.8747, -4.2222, -4.4424, -4.2272, -4.4725, -4.445, -4.5519, -4.5841, -4.6679, -4.6949, -4.7126, -4.7448, -4.7595, -4.7946, -4.8753, -4.8919, -5.0905, -4.944, -5.1721, -5.0727, -5.1301, -5.2245, -5.231, -5.2863, -5.2334, -5.0983], \"loglift\": [30.0, 29.0, 28.0, 27.0, 26.0, 25.0, 24.0, 23.0, 22.0, 21.0, 20.0, 19.0, 18.0, 17.0, 16.0, 15.0, 14.0, 13.0, 12.0, 11.0, 10.0, 9.0, 8.0, 7.0, 6.0, 5.0, 4.0, 3.0, 2.0, 1.0, 1.1594, 1.1579, 1.1578, 1.1575, 1.1574, 1.1572, 1.1561, 1.156, 1.1559, 1.1551, 1.155, 1.1543, 1.1531, 1.1529, 1.1524, 1.1521, 1.1514, 1.1514, 1.1509, 1.1508, 1.1505, 1.1503, 1.1502, 1.15, 1.1485, 1.1481, 1.148, 1.1471, 1.147, 1.1465, 1.1439, 1.4616, 1.4611, 1.4575, 1.457, 1.4568, 1.4562, 1.4561, 1.4561, 1.4557, 1.455, 1.4548, 1.4542, 1.4542, 1.4542, 1.4541, 1.4539, 1.4539, 1.4536, 1.4535, 1.4534, 1.4533, 1.4527, 1.4515, 1.4514, 1.4512, 1.4508, 1.4499, 1.4493, 1.447, 1.4466, 1.4457, 1.4765, 1.4762, 1.4757, 1.4748, 1.4741, 1.4738, 1.47, 1.4695, 1.4688, 1.4687, 1.4687, 1.4683, 1.4683, 1.4681, 1.4669, 1.4669, 1.4667, 1.4659, 1.4653, 1.4649, 1.4639, 1.4633, 1.4611, 1.4607, 1.4607, 1.4606, 1.4604, 1.46, 1.4598, 1.4594, 1.4589, 1.4786, 1.4785, 1.4782, 1.477, 1.4768, 1.4761, 1.476, 1.4745, 1.4731, 1.4729, 1.4729, 1.4723, 1.4717, 1.4716, 1.4705, 1.4702, 1.4701, 1.4696, 1.4694, 1.4689, 1.4669, 1.4665, 1.4644, 1.4636, 1.4635, 1.4633, 1.4632, 1.463, 1.4623, 1.4623, 1.4622, 1.4586]}, \"token.table\": {\"Topic\": [3, 4, 3, 2, 2, 3, 4, 4, 1, 2, 1, 3, 1, 4, 3, 3, 2, 1, 4, 1, 4, 3, 1, 1, 4, 3, 2, 4, 1, 1, 1, 4, 3, 1, 1, 4, 2, 4, 1, 3, 3, 1, 3, 3, 4, 3, 4, 1, 2, 1, 2, 3, 4, 4, 2, 4, 2, 1, 4, 4, 4, 2, 1, 1, 1, 4, 4, 2, 3, 3, 2, 4, 2, 4, 2, 3, 1, 4, 2, 1, 1, 2, 3, 4, 2, 4, 1, 3, 3, 2, 3, 3, 1, 3, 3, 2, 4, 3, 2, 1, 1, 4, 2, 4, 4, 1, 4, 3, 1, 4, 3, 2, 2, 2, 2, 1, 3, 3, 2, 2, 2, 3, 2, 3, 2, 1, 4], \"Freq\": [0.9767461709656786, 0.9935509376818321, 0.9914712877169043, 0.9877693302670238, 0.9977128811439845, 0.9908512831599071, 0.9803961522093018, 0.9952004517867306, 0.9937299076135645, 0.9914751434839061, 0.9950583703298376, 0.9925863186534968, 0.9994726762738787, 0.9746937815465645, 0.9743353770160097, 0.979329521580611, 0.9972890790152282, 0.9890714906119752, 0.9751452683082902, 0.9812936726603916, 0.9899481277978951, 0.9793787007549212, 0.9886472752346521, 0.9888466673460801, 0.011498217062163722, 0.996066740814692, 0.987749945044821, 0.9826795516037016, 0.9915772921323586, 0.9932712420581267, 0.9938634490006789, 0.9976806817390838, 0.9927923367662921, 0.9971116304358473, 0.9817576574726784, 0.9902065804587716, 0.9886683887012719, 0.994594745790528, 0.9894188137724235, 0.9841195536226017, 0.9920972987402213, 0.999442485948613, 0.9978961415376203, 0.995064610143828, 0.9861636795722949, 0.9874371712928537, 0.9974685890938176, 0.9976781521207154, 0.9843185396946439, 0.984095696240444, 0.9947532827384742, 0.9926556818472171, 0.9964145500018823, 0.9953090888082299, 0.9942157014210894, 0.9888694472243043, 0.9749704976190737, 0.9978886601022243, 0.9958639262269438, 0.9940697067696644, 0.9967402718582116, 0.9790182455167404, 0.9931322508593972, 0.9977160004171229, 0.9926657784981778, 0.9942802816067989, 0.9855066977118562, 0.9851667364333273, 0.9878105261990883, 0.9806020362852221, 0.992364714536437, 0.9823912119458872, 0.992821807480929, 0.9906564185191303, 0.9908453444916854, 0.9897409156447803, 0.9826929606744068, 0.9943899770560855, 0.9974772710329575, 0.9875979596402856, 0.9927374080284697, 0.9904148903860149, 0.985970378361908, 0.9946157442867963, 0.992713258436508, 0.9914657462448595, 0.9989828413469106, 0.9770781846591975, 0.987518084730131, 0.9844887819798926, 0.9818338660380534, 0.9911794895871007, 0.9956392844278473, 0.008509737473742285, 0.9712824207171777, 0.985085946783127, 0.9933239451732034, 0.99834536923782, 0.9941211231312926, 0.9981141191525623, 0.9915592008551992, 0.9932683870010692, 0.9927743735213238, 0.9811156301735158, 0.9799071860165, 0.9942543149835279, 0.9792685386360215, 0.9769516478584329, 0.9955981182110503, 0.9863212051012847, 0.9942811713014765, 0.9980037893918777, 0.9900560894120313, 0.9793076824416669, 0.9977472298549503, 0.9948430874915388, 0.9963382456520663, 0.9824992637852531, 0.9968576848011088, 0.9907907395750443, 0.9897953983814609, 0.9841570763625852, 0.987739010317023, 0.995807957560662, 0.9969508124677167, 0.9943908680314846, 0.9751198729110543], \"Term\": [\"actually\", \"agent\", \"airline\", \"airport\", \"almost\", \"already\", \"amazing\", \"amp\", \"arrive\", \"attendant\", \"back\", \"bad\", \"bag\", \"break\", \"business\", \"buy\", \"call\", \"cancel\", \"care\", \"carry\", \"change\", \"charge\", \"check\", \"close\", \"close\", \"club\", \"come\", \"confirm\", \"connect\", \"connection\", \"crew\", \"customer\", \"day\", \"delay\", \"denver\", \"early\", \"email\", \"employee\", \"ewr\", \"experience\", \"find\", \"flight\", \"fly\", \"follow\", \"form\", \"full\", \"gate\", \"give\", \"great\", \"ground\", \"guy\", \"happen\", \"help\", \"hold\", \"home\", \"hope\", \"hotel\", \"hour\", \"http_co\", \"iah\", \"issue\", \"land\", \"last\", \"late\", \"lax\", \"leave\", \"less\", \"link\", \"lose\", \"mile\", \"min\", \"minute\", \"miss\", \"much\", \"never\", \"new\", \"newark\", \"next\", \"number\", \"offer\", \"ord\", \"passenger\", \"pay\", \"people\", \"phone\", \"pilot\", \"plane\", \"price\", \"problem\", \"put\", \"really\", \"receive\", \"refund\", \"refund\", \"reply\", \"response\", \"rude\", \"seat\", \"send\", \"service\", \"sfo\", \"sit\", \"staff\", \"step\", \"stick\", \"still\", \"stop\", \"sure\", \"tell\", \"thing\", \"ticket\", \"time\", \"today\", \"transfer\", \"travel\", \"unite\", \"united\", \"upgrade\", \"wait\", \"way\", \"weather\", \"week\", \"well\", \"wifi\", \"work\", \"year\", \"yet\"]}, \"R\": 30, \"lambda.step\": 0.01, \"plot.opts\": {\"xlab\": \"PC1\", \"ylab\": \"PC2\"}, \"topic.order\": [3, 4, 1, 2]};\n",
       "\n",
       "function LDAvis_load_lib(url, callback){\n",
       "  var s = document.createElement('script');\n",
       "  s.src = url;\n",
       "  s.async = true;\n",
       "  s.onreadystatechange = s.onload = callback;\n",
       "  s.onerror = function(){console.warn(\"failed to load library \" + url);};\n",
       "  document.getElementsByTagName(\"head\")[0].appendChild(s);\n",
       "}\n",
       "\n",
       "if(typeof(LDAvis) !== \"undefined\"){\n",
       "   // already loaded: just create the visualization\n",
       "   !function(LDAvis){\n",
       "       new LDAvis(\"#\" + \"ldavis_el59765651503206666452283\", ldavis_el59765651503206666452283_data);\n",
       "   }(LDAvis);\n",
       "}else if(typeof define === \"function\" && define.amd){\n",
       "   // require.js is available: use it to load d3/LDAvis\n",
       "   require.config({paths: {d3: \"https://d3js.org/d3.v5\"}});\n",
       "   require([\"d3\"], function(d3){\n",
       "      window.d3 = d3;\n",
       "      LDAvis_load_lib(\"https://cdn.jsdelivr.net/gh/bmabey/pyLDAvis@3.3.1/pyLDAvis/js/ldavis.v3.0.0.js\", function(){\n",
       "        new LDAvis(\"#\" + \"ldavis_el59765651503206666452283\", ldavis_el59765651503206666452283_data);\n",
       "      });\n",
       "    });\n",
       "}else{\n",
       "    // require.js not available: dynamically load d3 & LDAvis\n",
       "    LDAvis_load_lib(\"https://d3js.org/d3.v5.js\", function(){\n",
       "         LDAvis_load_lib(\"https://cdn.jsdelivr.net/gh/bmabey/pyLDAvis@3.3.1/pyLDAvis/js/ldavis.v3.0.0.js\", function(){\n",
       "                 new LDAvis(\"#\" + \"ldavis_el59765651503206666452283\", ldavis_el59765651503206666452283_data);\n",
       "            })\n",
       "         });\n",
       "}\n",
       "</script>"
      ],
      "text/plain": [
       "PreparedData(topic_coordinates=              x         y  topics  cluster       Freq\n",
       "topic                                                \n",
       "2      0.306050  0.058499       1        1  31.346449\n",
       "3     -0.159763  0.251560       2        1  23.143229\n",
       "0     -0.047506 -0.162684       3        1  22.783203\n",
       "1     -0.098781 -0.147375       4        1  22.727119, topic_info=         Term         Freq        Total Category  logprob  loglift\n",
       "6      flight  1023.000000  1023.000000  Default  30.0000  30.0000\n",
       "257      wait   385.000000   385.000000  Default  29.0000  29.0000\n",
       "256      time   300.000000   300.000000  Default  28.0000  28.0000\n",
       "99     united   248.000000   248.000000  Default  27.0000  27.0000\n",
       "90       seat   241.000000   241.000000  Default  26.0000  26.0000\n",
       "...       ...          ...          ...      ...      ...      ...\n",
       "406     break    34.239583    34.882751   Topic4  -5.2245   1.4630\n",
       "565   amazing    34.017493    34.679859   Topic4  -5.2310   1.4623\n",
       "0        care    32.186832    32.815624   Topic4  -5.2863   1.4623\n",
       "759   confirm    33.935815    34.599275   Topic4  -5.2334   1.4622\n",
       "1489     step    38.844831    39.750666   Topic4  -5.0983   1.4586\n",
       "\n",
       "[155 rows x 6 columns], token_table=      Topic      Freq      Term\n",
       "term                           \n",
       "534       3  0.976746  actually\n",
       "50        4  0.993551     agent\n",
       "94        3  0.991471   airline\n",
       "42        2  0.987769   airport\n",
       "167       2  0.997713    almost\n",
       "...     ...       ...       ...\n",
       "321       2  0.987739      well\n",
       "668       3  0.995808      wifi\n",
       "121       2  0.996951      work\n",
       "650       1  0.994391      year\n",
       "385       4  0.975120       yet\n",
       "\n",
       "[127 rows x 3 columns], R=30, lambda_step=0.01, plot_opts={'xlab': 'PC1', 'ylab': 'PC2'}, topic_order=[3, 4, 1, 2])"
      ]
     },
     "execution_count": 93,
     "metadata": {},
     "output_type": "execute_result"
    }
   ],
   "source": [
    "# Visualize the topics\n",
    "pyLDAvis.enable_notebook()\n",
    "vis = pyLDAvis.gensim_models.prepare(lda_model, corpus, id2word)\n",
    "vis"
   ]
  },
  {
   "cell_type": "code",
   "execution_count": null,
   "metadata": {},
   "outputs": [],
   "source": []
  },
  {
   "cell_type": "markdown",
   "metadata": {},
   "source": [
    "## Southwest Airline Important Topics ##"
   ]
  },
  {
   "cell_type": "code",
   "execution_count": 97,
   "metadata": {},
   "outputs": [],
   "source": [
    "data=train[train.airline==\"Southwest\"][\"text\"].values"
   ]
  },
  {
   "cell_type": "code",
   "execution_count": 98,
   "metadata": {},
   "outputs": [],
   "source": [
    "def sent_to_words(sentences):\n",
    "    for sent in sentences:\n",
    "        sent = re.sub('\\S*@\\S*\\s?', '', sent)  # remove emails\n",
    "        sent = re.sub('\\s+', ' ', sent)  # remove newline chars\n",
    "        sent = re.sub(\"\\'\", \"\", sent)  # remove single quotes\n",
    "        sent = gensim.utils.simple_preprocess(str(sent), deacc=True) \n",
    "        yield(sent)  \n",
    "\n",
    "# Convert to list\n",
    "data = data.tolist()\n",
    "data_words = list(sent_to_words(data))\n",
    "#print(data_words[:1])"
   ]
  },
  {
   "cell_type": "code",
   "execution_count": null,
   "metadata": {},
   "outputs": [],
   "source": [
    "# NLTK Stop words\n",
    "from nltk.corpus import stopwords\n",
    "stop_words = stopwords.words('english')\n",
    "stop_words.extend(['from', 'subject', 're', 'edu', 'use', 'not', 'would', 'say', 'could', '_', 'be', 'know', 'good', 'go', 'get', 'do', 'done', 'try', 'many', 'some', 'nice', 'thank', 'think', 'see', 'rather', 'easy', 'easily', 'lot', 'lack', 'make', 'want', 'seem', 'run', 'need', 'even', 'right', 'line', 'even', 'also', 'may', 'take'])"
   ]
  },
  {
   "cell_type": "code",
   "execution_count": 99,
   "metadata": {},
   "outputs": [],
   "source": [
    "# Building the bigram and trigram models\n",
    "bigram = gensim.models.Phrases(data_words, min_count=1, threshold=300) # higher threshold fewer phrases.\n",
    "trigram = gensim.models.Phrases(bigram[data_words], threshold=100)  \n",
    "bigram_mod = gensim.models.phrases.Phraser(bigram)\n",
    "trigram_mod = gensim.models.phrases.Phraser(trigram)\n",
    "\n",
    "# !python3 -m spacy download en  # run in terminal once\n",
    "def process_words(texts, stop_words=stop_words, allowed_postags=['NOUN', 'ADJ', 'VERB', 'ADV']):\n",
    "    \"\"\"Remove Stopwords, Form Bigrams, Trigrams and Lemmatization\"\"\"\n",
    "    texts = [[word for word in simple_preprocess(str(doc)) if word not in stop_words] for doc in texts]\n",
    "    texts = [bigram_mod[doc] for doc in texts]\n",
    "    texts = [trigram_mod[bigram_mod[doc]] for doc in texts]\n",
    "    texts_out = []\n",
    "    nlp = spacy.load('en_core_web_sm', disable=['parser', 'ner'])\n",
    "    for sent in texts:\n",
    "        doc = nlp(\" \".join(sent)) \n",
    "        texts_out.append([token.lemma_ for token in doc if token.pos_ in allowed_postags])\n",
    "    # remove stopwords once more after lemmatization\n",
    "    texts_out = [[word for word in simple_preprocess(str(doc)) if word not in stop_words] for doc in texts_out]    \n",
    "    return texts_out\n",
    "\n",
    "data_ready = process_words(data_words)  "
   ]
  },
  {
   "cell_type": "code",
   "execution_count": null,
   "metadata": {},
   "outputs": [],
   "source": [
    "# Create Dictionary\n",
    "id2word = corpora.Dictionary(data_ready)\n",
    "\n",
    "# Create Corpus: Term Document Frequency\n",
    "corpus = [id2word.doc2bow(text) for text in data_ready]\n",
    "\n",
    "# Build LDA model\n",
    "lda_model = gensim.models.ldamodel.LdaModel(corpus=corpus,\n",
    "                                           id2word=id2word,\n",
    "                                           num_topics=4, \n",
    "                                           random_state=100,\n",
    "                                           update_every=1,\n",
    "                                           chunksize=10,\n",
    "                                           passes=10,\n",
    "                                           alpha='symmetric',\n",
    "                                           iterations=100,\n",
    "                                           per_word_topics=True)\n",
    "\n",
    "pprint(lda_model.print_topics())"
   ]
  },
  {
   "cell_type": "markdown",
   "metadata": {},
   "source": [
    "## Southwest Important Topics ##"
   ]
  },
  {
   "cell_type": "code",
   "execution_count": 100,
   "metadata": {},
   "outputs": [
    {
     "data": {
      "text/html": [
       "\n",
       "<link rel=\"stylesheet\" type=\"text/css\" href=\"https://cdn.jsdelivr.net/gh/bmabey/pyLDAvis@3.3.1/pyLDAvis/js/ldavis.v1.0.0.css\">\n",
       "\n",
       "\n",
       "<div id=\"ldavis_el59765454646088318872755\"></div>\n",
       "<script type=\"text/javascript\">\n",
       "\n",
       "var ldavis_el59765454646088318872755_data = {\"mdsDat\": {\"x\": [0.3060497907679985, -0.15976315360533802, -0.047505897416866276, -0.0987807397457941], \"y\": [0.058499412011387614, 0.25156014731090315, -0.16268412746980987, -0.14737543185248106], \"topics\": [1, 2, 3, 4], \"cluster\": [1, 1, 1, 1], \"Freq\": [31.340421918942248, 23.144433316464013, 22.795549785348847, 22.719594979244896]}, \"tinfo\": {\"Term\": [\"flight\", \"wait\", \"time\", \"united\", \"seat\", \"bag\", \"gate\", \"hour\", \"http_co\", \"delay\", \"fly\", \"customer\", \"plane\", \"service\", \"leave\", \"ticket\", \"amp\", \"iah\", \"people\", \"airline\", \"still\", \"give\", \"tell\", \"day\", \"passenger\", \"last\", \"call\", \"travel\", \"late\", \"miss\", \"flight\", \"bag\", \"hour\", \"delay\", \"plane\", \"service\", \"still\", \"give\", \"tell\", \"last\", \"late\", \"back\", \"check\", \"arrive\", \"ewr\", \"crew\", \"refund\", \"cancel\", \"sfo\", \"offer\", \"year\", \"unite\", \"connect\", \"connection\", \"carry\", \"lax\", \"ground\", \"denver\", \"newark\", \"ord\", \"close\", \"wait\", \"time\", \"passenger\", \"call\", \"travel\", \"miss\", \"almost\", \"airport\", \"email\", \"min\", \"number\", \"weather\", \"home\", \"link\", \"send\", \"never\", \"today\", \"phone\", \"response\", \"work\", \"staff\", \"way\", \"come\", \"guy\", \"land\", \"great\", \"attendant\", \"well\", \"put\", \"hotel\", \"transfer\", \"united\", \"seat\", \"fly\", \"ticket\", \"airline\", \"day\", \"lose\", \"problem\", \"find\", \"bad\", \"new\", \"really\", \"experience\", \"pay\", \"week\", \"mile\", \"club\", \"follow\", \"sure\", \"wifi\", \"business\", \"upgrade\", \"happen\", \"receive\", \"full\", \"price\", \"already\", \"charge\", \"buy\", \"actually\", \"reply\", \"gate\", \"http_co\", \"customer\", \"amp\", \"leave\", \"people\", \"iah\", \"change\", \"agent\", \"sit\", \"help\", \"hold\", \"hope\", \"much\", \"rude\", \"form\", \"thing\", \"minute\", \"issue\", \"next\", \"employee\", \"early\", \"stop\", \"yet\", \"stick\", \"less\", \"pilot\", \"break\", \"amazing\", \"care\", \"confirm\", \"step\"], \"Freq\": [1023.0, 385.0, 300.0, 249.0, 241.0, 291.0, 226.0, 290.0, 212.0, 258.0, 190.0, 189.0, 242.0, 239.0, 149.0, 148.0, 141.0, 132.0, 128.0, 128.0, 164.0, 163.0, 162.0, 124.0, 121.0, 135.0, 104.0, 101.0, 127.0, 95.0, 1022.7273447863397, 290.4532795989654, 289.88814555962585, 258.04529627993304, 241.55923588324592, 238.72247277452468, 164.25840097704437, 162.68278270432043, 162.01616240652868, 135.23935129253746, 126.62303398547309, 116.88431492835876, 91.38496944434324, 101.89261191425695, 85.23672703968663, 84.83334693546215, 116.47824736606677, 76.16146704549438, 80.93232592630963, 73.22169832512778, 69.71160852629431, 67.67663505388198, 64.89876730281044, 63.77386597170075, 55.39570319338501, 57.72485530140321, 52.195418496063645, 51.26928695488038, 56.236089301940105, 46.694547164469036, 85.56101909221007, 384.49947851428897, 299.8999462852569, 120.44996569380801, 103.61450751268069, 100.55918169913065, 94.99625662328582, 93.53022335935425, 92.46163840437224, 84.3102200701938, 76.94142249396378, 74.54100626832953, 76.0824621745037, 78.73296209840652, 73.4159221957562, 69.76003235807217, 70.97936004735799, 71.03390467913897, 66.83283394764402, 67.34542801322215, 65.5398209368359, 66.80712401392907, 61.91123960922404, 56.020733059785464, 54.63125652245558, 55.4950547975326, 53.169162391962736, 55.72108746207955, 48.91047655560823, 41.96918052384347, 38.32458327084137, 47.148094380684775, 248.3877341488463, 240.8080372013589, 189.845582323893, 148.28550083431327, 127.51204913609318, 124.30334387523023, 72.2636541514858, 73.25562946820928, 63.88331377788544, 61.84881939406043, 67.02568890718375, 63.51001963276945, 60.34514430567148, 61.22250942552271, 58.25001168082635, 52.41013792358816, 52.577626853076445, 48.62192037255266, 46.462287576777236, 45.5661653604239, 45.51108235704377, 43.10232537490992, 35.63526309860995, 34.68471143624589, 35.80927571893109, 37.19397960036461, 33.6939808492396, 37.08198660368531, 33.06837791094697, 36.15569083187237, 33.312535061297865, 225.8282546810025, 212.15183880600588, 188.73213252298711, 140.9824108832181, 149.0864627863128, 127.941042857545, 132.0062799740449, 93.24986790303107, 74.81953482510876, 92.78530981173029, 72.60144477538475, 74.63073537545301, 67.06440927058587, 64.93884474859988, 59.714353074457776, 58.12435887600515, 57.10886382152427, 55.29950269986814, 54.48941135614876, 52.608641252797106, 48.53136841564905, 47.734218802545435, 39.134466936126, 45.30888637477272, 36.06741593858199, 39.837270119105725, 37.61455823422014, 34.22824827331823, 34.006231419000315, 32.176177148116636, 33.92458097169052, 38.83197211798579], \"Total\": [1023.0, 385.0, 300.0, 249.0, 241.0, 291.0, 226.0, 290.0, 212.0, 258.0, 190.0, 189.0, 242.0, 239.0, 149.0, 148.0, 141.0, 132.0, 128.0, 128.0, 164.0, 163.0, 162.0, 124.0, 121.0, 135.0, 104.0, 101.0, 127.0, 95.0, 1023.3740352849114, 291.09773559416095, 290.5578906924062, 258.6977889144671, 242.20000266887615, 239.405725455742, 164.9162050842147, 163.34811083620272, 162.68516166342312, 135.90761221725396, 127.26644139513886, 117.55862519503546, 92.02744257368845, 102.62403305140562, 85.89268248028962, 85.50856774154789, 117.49025961291619, 76.82515763955735, 81.6740140437695, 73.90270070278817, 70.38151125397395, 68.33953627864796, 65.53969968628095, 64.42134393679564, 56.037861532327405, 58.41747325782783, 52.8304100651982, 51.93783881437965, 56.97549478454815, 47.33492334635783, 86.95354679544552, 385.23044079702913, 300.61565561454086, 121.1676032944951, 104.28809275103416, 101.2332772955272, 95.69179525033226, 94.22034109246736, 93.14396241500198, 84.96715284096037, 77.59644222808664, 75.19356206604824, 76.78750442375741, 79.46370859088594, 74.1029450505084, 70.417590611627, 71.65968526924398, 71.71681352198246, 67.49527390696431, 68.01787578568366, 66.20527094813009, 67.49111595792118, 62.57950238043821, 56.69742072390247, 55.29293675199751, 56.181612598404854, 53.84713265558179, 56.48439474623259, 49.61078248060382, 42.663911160562996, 38.977533485346726, 47.995527486328875, 249.04587516100796, 241.52973195819578, 190.50329086369265, 148.9314627903885, 128.16141897325093, 124.96745387415744, 72.92750213706641, 73.96226438310019, 64.54429253136053, 62.49647444230391, 67.73066936486815, 64.19992886854733, 61.0007787231511, 61.901036520002926, 58.965121056015306, 53.05693033348296, 53.237654287599305, 49.26926463631602, 47.11029911594953, 46.21821728212929, 46.20986017441174, 43.78916952652534, 36.285545430903554, 35.330147967703454, 36.47729925385652, 37.888039018741566, 34.33207545440064, 37.79901775977754, 33.71432992751049, 36.87653571709612, 33.993637795007075, 226.4988489871874, 212.81032300993104, 189.37695597108132, 141.6334011004775, 149.8078537098811, 128.65063872855006, 132.7438291395518, 93.91352514119868, 75.46212667864614, 93.59962534935744, 73.23872244212868, 75.32884370258, 67.73202324300942, 65.59164322606163, 60.38356780670521, 58.79460940221756, 57.77167722308276, 55.96761095328836, 55.161914053264255, 53.281674222481094, 49.25030587233824, 48.45899851780101, 39.812763976478536, 46.13325309277357, 36.726308443771, 40.57516688441142, 38.31472128491498, 34.871501638729896, 34.66869006432588, 32.80505264022001, 34.588137402846094, 39.73789918914343], \"Category\": [\"Default\", \"Default\", \"Default\", \"Default\", \"Default\", \"Default\", \"Default\", \"Default\", \"Default\", \"Default\", \"Default\", \"Default\", \"Default\", \"Default\", \"Default\", \"Default\", \"Default\", \"Default\", \"Default\", \"Default\", \"Default\", \"Default\", \"Default\", \"Default\", \"Default\", \"Default\", \"Default\", \"Default\", \"Default\", \"Default\", \"Topic1\", \"Topic1\", \"Topic1\", \"Topic1\", \"Topic1\", \"Topic1\", \"Topic1\", \"Topic1\", \"Topic1\", \"Topic1\", \"Topic1\", \"Topic1\", \"Topic1\", \"Topic1\", \"Topic1\", \"Topic1\", \"Topic1\", \"Topic1\", \"Topic1\", \"Topic1\", \"Topic1\", \"Topic1\", \"Topic1\", \"Topic1\", \"Topic1\", \"Topic1\", \"Topic1\", \"Topic1\", \"Topic1\", \"Topic1\", \"Topic1\", \"Topic2\", \"Topic2\", \"Topic2\", \"Topic2\", \"Topic2\", \"Topic2\", \"Topic2\", \"Topic2\", \"Topic2\", \"Topic2\", \"Topic2\", \"Topic2\", \"Topic2\", \"Topic2\", \"Topic2\", \"Topic2\", \"Topic2\", \"Topic2\", \"Topic2\", \"Topic2\", \"Topic2\", \"Topic2\", \"Topic2\", \"Topic2\", \"Topic2\", \"Topic2\", \"Topic2\", \"Topic2\", \"Topic2\", \"Topic2\", \"Topic2\", \"Topic3\", \"Topic3\", \"Topic3\", \"Topic3\", \"Topic3\", \"Topic3\", \"Topic3\", \"Topic3\", \"Topic3\", \"Topic3\", \"Topic3\", \"Topic3\", \"Topic3\", \"Topic3\", \"Topic3\", \"Topic3\", \"Topic3\", \"Topic3\", \"Topic3\", \"Topic3\", \"Topic3\", \"Topic3\", \"Topic3\", \"Topic3\", \"Topic3\", \"Topic3\", \"Topic3\", \"Topic3\", \"Topic3\", \"Topic3\", \"Topic3\", \"Topic4\", \"Topic4\", \"Topic4\", \"Topic4\", \"Topic4\", \"Topic4\", \"Topic4\", \"Topic4\", \"Topic4\", \"Topic4\", \"Topic4\", \"Topic4\", \"Topic4\", \"Topic4\", \"Topic4\", \"Topic4\", \"Topic4\", \"Topic4\", \"Topic4\", \"Topic4\", \"Topic4\", \"Topic4\", \"Topic4\", \"Topic4\", \"Topic4\", \"Topic4\", \"Topic4\", \"Topic4\", \"Topic4\", \"Topic4\", \"Topic4\", \"Topic4\"], \"logprob\": [30.0, 29.0, 28.0, 27.0, 26.0, 25.0, 24.0, 23.0, 22.0, 21.0, 20.0, 19.0, 18.0, 17.0, 16.0, 15.0, 14.0, 13.0, 12.0, 11.0, 10.0, 9.0, 8.0, 7.0, 6.0, 5.0, 4.0, 3.0, 2.0, 1.0, -2.149, -3.4078, -3.4097, -3.5261, -3.5921, -3.6039, -3.9778, -3.9874, -3.9915, -4.1722, -4.238, -4.318, -4.5641, -4.4553, -4.6338, -4.6385, -4.3215, -4.7463, -4.6856, -4.7857, -4.8348, -4.8645, -4.9064, -4.9239, -5.0647, -5.0235, -5.1242, -5.1421, -5.0496, -5.2356, -4.63, -2.8241, -3.0726, -3.9848, -4.1354, -4.1653, -4.2222, -4.2378, -4.2492, -4.3415, -4.433, -4.4647, -4.4442, -4.41, -4.4799, -4.531, -4.5137, -4.5129, -4.5738, -4.5662, -4.5934, -4.5742, -4.6503, -4.7503, -4.7754, -4.7597, -4.8026, -4.7557, -4.8861, -5.0391, -5.13, -4.9228, -3.2459, -3.2769, -3.5146, -3.7617, -3.9126, -3.9381, -4.4805, -4.4669, -4.6038, -4.6362, -4.5558, -4.6097, -4.6608, -4.6463, -4.6961, -4.8018, -4.7986, -4.8768, -4.9222, -4.9417, -4.9429, -4.9973, -5.1875, -5.2146, -5.1826, -5.1447, -5.2435, -5.1477, -5.2623, -5.173, -5.2549, -3.3377, -3.4002, -3.5172, -3.8089, -3.753, -3.9059, -3.8747, -4.2222, -4.4424, -4.2272, -4.4725, -4.445, -4.5519, -4.5841, -4.6679, -4.6949, -4.7126, -4.7448, -4.7595, -4.7946, -4.8753, -4.8919, -5.0905, -4.944, -5.1721, -5.0727, -5.1301, -5.2245, -5.231, -5.2863, -5.2334, -5.0983], \"loglift\": [30.0, 29.0, 28.0, 27.0, 26.0, 25.0, 24.0, 23.0, 22.0, 21.0, 20.0, 19.0, 18.0, 17.0, 16.0, 15.0, 14.0, 13.0, 12.0, 11.0, 10.0, 9.0, 8.0, 7.0, 6.0, 5.0, 4.0, 3.0, 2.0, 1.0, 1.1596, 1.158, 1.158, 1.1577, 1.1576, 1.1574, 1.1563, 1.1562, 1.1561, 1.1553, 1.1552, 1.1545, 1.1533, 1.1531, 1.1526, 1.1523, 1.1516, 1.1516, 1.1511, 1.151, 1.1507, 1.1505, 1.1504, 1.1502, 1.1487, 1.1483, 1.1482, 1.1473, 1.1472, 1.1466, 1.1441, 1.4615, 1.461, 1.4575, 1.4569, 1.4567, 1.4561, 1.4561, 1.4561, 1.4557, 1.4549, 1.4547, 1.4542, 1.4542, 1.4541, 1.454, 1.4539, 1.4538, 1.4536, 1.4535, 1.4533, 1.4532, 1.4527, 1.4514, 1.4514, 1.4511, 1.4507, 1.4498, 1.4492, 1.447, 1.4465, 1.4456, 1.476, 1.4756, 1.4751, 1.4743, 1.4735, 1.4733, 1.4695, 1.469, 1.4683, 1.4682, 1.4681, 1.4678, 1.4678, 1.4676, 1.4664, 1.4663, 1.4661, 1.4654, 1.4648, 1.4644, 1.4634, 1.4628, 1.4605, 1.4602, 1.4601, 1.4601, 1.4598, 1.4595, 1.4593, 1.4589, 1.4584, 1.479, 1.4788, 1.4785, 1.4773, 1.4771, 1.4764, 1.4764, 1.4749, 1.4734, 1.4732, 1.4732, 1.4726, 1.472, 1.4719, 1.4708, 1.4705, 1.4704, 1.4699, 1.4697, 1.4692, 1.4672, 1.4669, 1.4648, 1.4639, 1.4638, 1.4636, 1.4635, 1.4633, 1.4626, 1.4626, 1.4626, 1.4589]}, \"token.table\": {\"Topic\": [3, 4, 3, 2, 2, 3, 4, 4, 1, 2, 1, 3, 1, 4, 3, 3, 2, 1, 4, 1, 4, 3, 1, 1, 4, 3, 2, 4, 1, 1, 1, 4, 3, 1, 1, 4, 2, 4, 1, 3, 3, 1, 3, 3, 4, 3, 4, 1, 2, 1, 2, 3, 4, 4, 2, 4, 2, 1, 4, 4, 4, 2, 1, 1, 1, 4, 4, 2, 3, 3, 2, 4, 2, 4, 2, 3, 1, 4, 2, 1, 1, 2, 3, 4, 2, 4, 1, 3, 3, 2, 3, 3, 1, 3, 3, 2, 4, 3, 2, 1, 1, 4, 2, 4, 4, 1, 4, 3, 1, 4, 3, 2, 2, 2, 2, 1, 3, 3, 2, 2, 2, 3, 2, 3, 2, 1, 4], \"Freq\": [0.9762305297921531, 0.9938760448587131, 0.9987405026056662, 0.9877183406702726, 0.9976614275652949, 0.9903275450142333, 0.9807119893170131, 0.9955278832849029, 0.9939192308774979, 0.9914242730508341, 0.995248113916706, 0.9920559608084414, 0.9962289792741934, 0.9750081987360715, 0.9954585412373105, 0.9788122756986012, 0.9972375297751209, 0.9892592782766713, 0.9754594925041213, 0.9814792801875803, 0.9902726988490189, 0.9788614147368722, 0.9888354761910747, 0.9890338366796159, 0.011500393449762976, 0.9955359737242468, 0.987699251306357, 0.9829959793441292, 0.9917653012011904, 0.9934595599680593, 0.9940524352707549, 0.9980094939790939, 0.9922583533218844, 0.997302686979293, 0.9819430527763893, 0.9905281055770808, 0.9886173325970959, 0.9949176788264614, 0.9896070019644051, 0.9835940008619712, 0.9915671469929573, 0.9996345077439772, 0.9973580988474747, 0.9945348354942253, 0.9864849956433661, 0.9869151701573394, 0.997797565023319, 0.9978689019761496, 0.9842678223741228, 0.9842815896342014, 0.994702094531325, 0.9921306011109217, 0.996740488717327, 0.9956345579406691, 0.9941645236661012, 0.9891923611910564, 0.9749205914808791, 0.9980799327422265, 0.9961922758329105, 0.994396506832948, 0.9789362991983507, 0.9789679835847502, 0.9933218441377434, 0.9979064284958545, 0.9928536235043016, 0.9946074008146089, 0.9858246575781209, 0.9851160429621707, 0.9872818606165451, 0.9800793161828294, 0.9923135364075911, 0.9827112335722898, 0.992770589698704, 0.9909798993139639, 0.9907941924840254, 0.9892121343001646, 0.9828786956877344, 0.9947134877687036, 0.9974258159777266, 0.987785281265721, 0.9929243923369826, 0.9903637336817065, 0.9854439187022053, 0.994942592318388, 0.9926620950135412, 0.9917858913138201, 0.9991742251582483, 0.9765614942936928, 0.9869897928203498, 0.984438577183784, 0.9968858397186593, 0.9906553471554873, 0.9873158879908343, 0.008511343861989951, 0.9707698893246131, 0.9850351723877578, 0.9936478114719379, 0.9978067629442512, 0.9940697969356813, 0.99830528089932, 0.9917475092701052, 0.9935937206252765, 0.9927232502981966, 0.9814308455101969, 0.9802237558157253, 0.9944444205240665, 0.9795853416015347, 0.9764319238725948, 0.9957884194451573, 0.9866426377045803, 0.9937456950134205, 0.997952017458032, 0.9900049446318088, 0.979257911341584, 0.9976956461179637, 0.9950316274131049, 0.9958004718595247, 0.9819779745754872, 0.9968059616615879, 0.990739741314732, 0.9897443675287126, 0.9836323399540133, 0.9876885134629229, 0.9952785439386979, 0.9968994772592817, 0.9945793824659823, 0.9754352226040811], \"Term\": [\"actually\", \"agent\", \"airline\", \"airport\", \"almost\", \"already\", \"amazing\", \"amp\", \"arrive\", \"attendant\", \"back\", \"bad\", \"bag\", \"break\", \"business\", \"buy\", \"call\", \"cancel\", \"care\", \"carry\", \"change\", \"charge\", \"check\", \"close\", \"close\", \"club\", \"come\", \"confirm\", \"connect\", \"connection\", \"crew\", \"customer\", \"day\", \"delay\", \"denver\", \"early\", \"email\", \"employee\", \"ewr\", \"experience\", \"find\", \"flight\", \"fly\", \"follow\", \"form\", \"full\", \"gate\", \"give\", \"great\", \"ground\", \"guy\", \"happen\", \"help\", \"hold\", \"home\", \"hope\", \"hotel\", \"hour\", \"http_co\", \"iah\", \"issue\", \"land\", \"last\", \"late\", \"lax\", \"leave\", \"less\", \"link\", \"lose\", \"mile\", \"min\", \"minute\", \"miss\", \"much\", \"never\", \"new\", \"newark\", \"next\", \"number\", \"offer\", \"ord\", \"passenger\", \"pay\", \"people\", \"phone\", \"pilot\", \"plane\", \"price\", \"problem\", \"put\", \"really\", \"receive\", \"refund\", \"refund\", \"reply\", \"response\", \"rude\", \"seat\", \"send\", \"service\", \"sfo\", \"sit\", \"staff\", \"step\", \"stick\", \"still\", \"stop\", \"sure\", \"tell\", \"thing\", \"ticket\", \"time\", \"today\", \"transfer\", \"travel\", \"unite\", \"united\", \"upgrade\", \"wait\", \"way\", \"weather\", \"week\", \"well\", \"wifi\", \"work\", \"year\", \"yet\"]}, \"R\": 30, \"lambda.step\": 0.01, \"plot.opts\": {\"xlab\": \"PC1\", \"ylab\": \"PC2\"}, \"topic.order\": [3, 4, 1, 2]};\n",
       "\n",
       "function LDAvis_load_lib(url, callback){\n",
       "  var s = document.createElement('script');\n",
       "  s.src = url;\n",
       "  s.async = true;\n",
       "  s.onreadystatechange = s.onload = callback;\n",
       "  s.onerror = function(){console.warn(\"failed to load library \" + url);};\n",
       "  document.getElementsByTagName(\"head\")[0].appendChild(s);\n",
       "}\n",
       "\n",
       "if(typeof(LDAvis) !== \"undefined\"){\n",
       "   // already loaded: just create the visualization\n",
       "   !function(LDAvis){\n",
       "       new LDAvis(\"#\" + \"ldavis_el59765454646088318872755\", ldavis_el59765454646088318872755_data);\n",
       "   }(LDAvis);\n",
       "}else if(typeof define === \"function\" && define.amd){\n",
       "   // require.js is available: use it to load d3/LDAvis\n",
       "   require.config({paths: {d3: \"https://d3js.org/d3.v5\"}});\n",
       "   require([\"d3\"], function(d3){\n",
       "      window.d3 = d3;\n",
       "      LDAvis_load_lib(\"https://cdn.jsdelivr.net/gh/bmabey/pyLDAvis@3.3.1/pyLDAvis/js/ldavis.v3.0.0.js\", function(){\n",
       "        new LDAvis(\"#\" + \"ldavis_el59765454646088318872755\", ldavis_el59765454646088318872755_data);\n",
       "      });\n",
       "    });\n",
       "}else{\n",
       "    // require.js not available: dynamically load d3 & LDAvis\n",
       "    LDAvis_load_lib(\"https://d3js.org/d3.v5.js\", function(){\n",
       "         LDAvis_load_lib(\"https://cdn.jsdelivr.net/gh/bmabey/pyLDAvis@3.3.1/pyLDAvis/js/ldavis.v3.0.0.js\", function(){\n",
       "                 new LDAvis(\"#\" + \"ldavis_el59765454646088318872755\", ldavis_el59765454646088318872755_data);\n",
       "            })\n",
       "         });\n",
       "}\n",
       "</script>"
      ],
      "text/plain": [
       "PreparedData(topic_coordinates=              x         y  topics  cluster       Freq\n",
       "topic                                                \n",
       "2      0.306050  0.058499       1        1  31.340422\n",
       "3     -0.159763  0.251560       2        1  23.144433\n",
       "0     -0.047506 -0.162684       3        1  22.795550\n",
       "1     -0.098781 -0.147375       4        1  22.719595, topic_info=         Term         Freq        Total Category  logprob  loglift\n",
       "6      flight  1023.000000  1023.000000  Default  30.0000  30.0000\n",
       "257      wait   385.000000   385.000000  Default  29.0000  29.0000\n",
       "256      time   300.000000   300.000000  Default  28.0000  28.0000\n",
       "99     united   249.000000   249.000000  Default  27.0000  27.0000\n",
       "90       seat   241.000000   241.000000  Default  26.0000  26.0000\n",
       "...       ...          ...          ...      ...      ...      ...\n",
       "406     break    34.228248    34.871502   Topic4  -5.2245   1.4633\n",
       "565   amazing    34.006231    34.668690   Topic4  -5.2310   1.4626\n",
       "0        care    32.176177    32.805053   Topic4  -5.2863   1.4626\n",
       "759   confirm    33.924581    34.588137   Topic4  -5.2334   1.4626\n",
       "1489     step    38.831972    39.737899   Topic4  -5.0983   1.4589\n",
       "\n",
       "[155 rows x 6 columns], token_table=      Topic      Freq      Term\n",
       "term                           \n",
       "534       3  0.976231  actually\n",
       "50        4  0.993876     agent\n",
       "94        3  0.998741   airline\n",
       "42        2  0.987718   airport\n",
       "167       2  0.997661    almost\n",
       "...     ...       ...       ...\n",
       "321       2  0.987689      well\n",
       "668       3  0.995279      wifi\n",
       "121       2  0.996899      work\n",
       "650       1  0.994579      year\n",
       "385       4  0.975435       yet\n",
       "\n",
       "[127 rows x 3 columns], R=30, lambda_step=0.01, plot_opts={'xlab': 'PC1', 'ylab': 'PC2'}, topic_order=[3, 4, 1, 2])"
      ]
     },
     "execution_count": 100,
     "metadata": {},
     "output_type": "execute_result"
    }
   ],
   "source": [
    "# Visualize the topics\n",
    "pyLDAvis.enable_notebook()\n",
    "vis = pyLDAvis.gensim_models.prepare(lda_model, corpus, id2word)\n",
    "vis"
   ]
  },
  {
   "cell_type": "code",
   "execution_count": 102,
   "metadata": {},
   "outputs": [],
   "source": [
    "data= train[train.airline==\"Delta\"][\"text\"].values"
   ]
  },
  {
   "cell_type": "code",
   "execution_count": 103,
   "metadata": {},
   "outputs": [],
   "source": [
    "def sent_to_words(sentences):\n",
    "    for sent in sentences:\n",
    "        sent = re.sub('\\S*@\\S*\\s?', '', sent)  # remove emails\n",
    "        sent = re.sub('\\s+', ' ', sent)  # remove newline chars\n",
    "        sent = re.sub(\"\\'\", \"\", sent)  # remove single quotes\n",
    "        sent = gensim.utils.simple_preprocess(str(sent), deacc=True) \n",
    "        yield(sent)  \n",
    "\n",
    "# Convert to list\n",
    "data = data.tolist()\n",
    "data_words = list(sent_to_words(data))\n",
    "#print(data_words[:1])"
   ]
  },
  {
   "cell_type": "code",
   "execution_count": 104,
   "metadata": {},
   "outputs": [],
   "source": [
    "# NLTK Stop words\n",
    "from nltk.corpus import stopwords\n",
    "stop_words = stopwords.words('english')\n",
    "stop_words.extend(['from', 'subject', 're', 'edu', 'use', 'not', 'would', 'say', 'could', '_', 'be', 'know', 'good', 'go', 'get', 'do', 'done', 'try', 'many', 'some', 'nice', 'thank', 'think', 'see', 'rather', 'easy', 'easily', 'lot', 'lack', 'make', 'want', 'seem', 'run', 'need', 'even', 'right', 'line', 'even', 'also', 'may', 'take'])"
   ]
  },
  {
   "cell_type": "code",
   "execution_count": 105,
   "metadata": {},
   "outputs": [],
   "source": [
    "# Building the bigram and trigram models\n",
    "bigram = gensim.models.Phrases(data_words, min_count=1, threshold=300) # higher threshold fewer phrases.\n",
    "trigram = gensim.models.Phrases(bigram[data_words], threshold=100)  \n",
    "bigram_mod = gensim.models.phrases.Phraser(bigram)\n",
    "trigram_mod = gensim.models.phrases.Phraser(trigram)\n",
    "\n",
    "# !python3 -m spacy download en  # run in terminal once\n",
    "def process_words(texts, stop_words=stop_words, allowed_postags=['NOUN', 'ADJ', 'VERB', 'ADV']):\n",
    "    \"\"\"Remove Stopwords, Form Bigrams, Trigrams and Lemmatization\"\"\"\n",
    "    texts = [[word for word in simple_preprocess(str(doc)) if word not in stop_words] for doc in texts]\n",
    "    texts = [bigram_mod[doc] for doc in texts]\n",
    "    texts = [trigram_mod[bigram_mod[doc]] for doc in texts]\n",
    "    texts_out = []\n",
    "    nlp = spacy.load('en_core_web_sm', disable=['parser', 'ner'])\n",
    "    for sent in texts:\n",
    "        doc = nlp(\" \".join(sent)) \n",
    "        texts_out.append([token.lemma_ for token in doc if token.pos_ in allowed_postags])\n",
    "    # remove stopwords once more after lemmatization\n",
    "    texts_out = [[word for word in simple_preprocess(str(doc)) if word not in stop_words] for doc in texts_out]    \n",
    "    return texts_out\n",
    "\n",
    "data_ready = process_words(data_words)  "
   ]
  },
  {
   "cell_type": "code",
   "execution_count": 106,
   "metadata": {},
   "outputs": [
    {
     "name": "stdout",
     "output_type": "stream",
     "text": [
      "[(0,\n",
      "  '0.039*\"wait\" + 0.037*\"great\" + 0.022*\"minute\" + 0.021*\"airport\" + '\n",
      "  '0.021*\"today\" + 0.020*\"bag\" + 0.018*\"hour\" + 0.016*\"seat\" + 0.015*\"really\" '\n",
      "  '+ 0.013*\"travel\"'),\n",
      " (1,\n",
      "  '0.032*\"help\" + 0.019*\"pick\" + 0.019*\"check\" + 0.016*\"love\" + '\n",
      "  '0.014*\"tomorrow\" + 0.013*\"call\" + 0.013*\"home\" + 0.012*\"look\" + '\n",
      "  '0.012*\"book\" + 0.011*\"email\"'),\n",
      " (2,\n",
      "  '0.066*\"co\" + 0.044*\"fly\" + 0.028*\"jetblue\" + 0.021*\"work\" + 0.017*\"well\" + '\n",
      "  '0.015*\"passenger\" + 0.014*\"wall\" + 0.014*\"http\" + 0.014*\"airline\" + '\n",
      "  '0.011*\"way\"'),\n",
      " (3,\n",
      "  '0.116*\"flight\" + 0.036*\"delay\" + 0.032*\"time\" + 0.025*\"new\" + 0.020*\"amp\" + '\n",
      "  '0.019*\"guy\" + 0.016*\"change\" + 0.016*\"follow\" + 0.013*\"plane\" + '\n",
      "  '0.013*\"character\"')]\n"
     ]
    }
   ],
   "source": [
    "# Create Dictionary\n",
    "id2word = corpora.Dictionary(data_ready)\n",
    "\n",
    "# Create Corpus: Term Document Frequency\n",
    "corpus = [id2word.doc2bow(text) for text in data_ready]\n",
    "\n",
    "# Build LDA model\n",
    "lda_model = gensim.models.ldamodel.LdaModel(corpus=corpus,\n",
    "                                           id2word=id2word,\n",
    "                                           num_topics=4, \n",
    "                                           random_state=100,\n",
    "                                           update_every=1,\n",
    "                                           chunksize=10,\n",
    "                                           passes=10,\n",
    "                                           alpha='symmetric',\n",
    "                                           iterations=100,\n",
    "                                           per_word_topics=True)\n",
    "\n",
    "pprint(lda_model.print_topics())"
   ]
  },
  {
   "cell_type": "markdown",
   "metadata": {},
   "source": [
    "## Delta Airline Important topics ##"
   ]
  },
  {
   "cell_type": "code",
   "execution_count": 107,
   "metadata": {},
   "outputs": [
    {
     "data": {
      "text/html": [
       "\n",
       "<link rel=\"stylesheet\" type=\"text/css\" href=\"https://cdn.jsdelivr.net/gh/bmabey/pyLDAvis@3.3.1/pyLDAvis/js/ldavis.v1.0.0.css\">\n",
       "\n",
       "\n",
       "<div id=\"ldavis_el59766482678089334257812\"></div>\n",
       "<script type=\"text/javascript\">\n",
       "\n",
       "var ldavis_el59766482678089334257812_data = {\"mdsDat\": {\"x\": [-0.24910832054047097, 0.1819965127543313, 0.05665963819271799, 0.010452169593421512], \"y\": [-0.1025505708117409, -0.19892452451824216, 0.1624477752452946, 0.1390273200846884], \"topics\": [1, 2, 3, 4], \"cluster\": [1, 1, 1, 1], \"Freq\": [30.76419594259911, 24.35024712766893, 23.89959867319456, 20.985958256537394]}, \"tinfo\": {\"Term\": [\"flight\", \"co\", \"fly\", \"delay\", \"wait\", \"great\", \"time\", \"help\", \"jetblue\", \"new\", \"minute\", \"work\", \"amp\", \"airport\", \"today\", \"guy\", \"bag\", \"check\", \"pick\", \"hour\", \"well\", \"change\", \"follow\", \"love\", \"seat\", \"passenger\", \"tomorrow\", \"really\", \"plane\", \"wall\", \"flight\", \"delay\", \"time\", \"amp\", \"guy\", \"change\", \"follow\", \"plane\", \"tell\", \"next\", \"service\", \"due\", \"bo\", \"deal\", \"last\", \"give\", \"arrive\", \"direct\", \"fll\", \"crew\", \"early\", \"extra\", \"awesome\", \"night\", \"info\", \"trip\", \"lol\", \"rock\", \"plan\", \"sit\", \"new\", \"happy\", \"character\", \"jfk\", \"business\", \"co\", \"fly\", \"jetblue\", \"work\", \"well\", \"passenger\", \"airline\", \"http\", \"way\", \"wall\", \"friend\", \"ceo_battle\", \"spend\", \"money\", \"balance\", \"ceo_seek\", \"first\", \"wish\", \"website\", \"daily\", \"jet_blue\", \"hotel\", \"offer\", \"ceo_weigh\", \"profits_flyer\", \"registration\", \"twitter\", \"social_media\", \"blog\", \"job\", \"review\", \"help\", \"check\", \"love\", \"tomorrow\", \"call\", \"pick\", \"home\", \"look\", \"book\", \"email\", \"phone\", \"credit\", \"hope\", \"thing\", \"leave\", \"already\", \"nyc\", \"agent\", \"speak\", \"ill\", \"keep\", \"day\", \"link\", \"customer\", \"suppose\", \"experience\", \"site\", \"claim\", \"point\", \"put\", \"drop\", \"deliver\", \"continue\", \"elite\", \"silver\", \"wait\", \"great\", \"airport\", \"minute\", \"bag\", \"today\", \"hour\", \"seat\", \"really\", \"travel\", \"much\", \"gate\", \"come\", \"pay\", \"always\", \"miss\", \"still\", \"min\", \"send\", \"bad\", \"wifi\", \"people\", \"hang\", \"huge\", \"flyfi\", \"apparently\", \"guess\", \"hold\", \"open\", \"issue\", \"app\", \"hear\", \"elite\", \"silver\"], \"Freq\": [507.0, 229.0, 150.0, 157.0, 115.0, 110.0, 140.0, 108.0, 96.0, 115.0, 65.0, 72.0, 85.0, 61.0, 61.0, 82.0, 59.0, 64.0, 64.0, 55.0, 58.0, 68.0, 68.0, 54.0, 48.0, 52.0, 48.0, 43.0, 59.0, 48.0, 506.93254507915856, 156.9666069967247, 139.9987242232889, 85.26952653788248, 82.1758918301173, 68.13359004306139, 67.81488286004114, 58.43102990515371, 52.45764409291631, 44.38590788010189, 42.98717128153856, 35.920705858945325, 34.29861452689841, 33.721145435382574, 31.805593122749336, 34.56428500400989, 27.344427039713725, 29.734566567561505, 26.470498182174182, 25.67454789074756, 25.362852752701325, 28.79138565011079, 24.195673925188107, 23.16683487269315, 23.947091249804384, 20.960254288363593, 29.464328928055203, 19.184636504032643, 18.599988993790515, 18.33067655466273, 110.68255720848089, 27.239741428463965, 54.966284340297435, 40.34238861003814, 23.43313026584977, 229.17130378209836, 150.2067048098139, 95.69361614879814, 71.57820938109509, 58.213709313732906, 52.2514109027045, 46.803924811320556, 46.81454006122963, 39.57965786896935, 47.76484421284704, 28.54677736990929, 24.658428993535512, 30.719046138290526, 23.735041968049096, 39.50119495216796, 39.50119495216796, 20.51921704858452, 22.893728007895934, 28.386552939738696, 18.447595623970464, 18.257129776093716, 26.025536677096856, 17.392237434826345, 20.593331085392908, 20.593331085392908, 20.593331085392908, 29.101086127717682, 16.05948076420826, 17.020912459943663, 19.474181828640926, 16.28542499347549, 108.16759945243388, 63.56129603016022, 54.260008173580744, 48.07647117620235, 44.19838477564454, 63.862158020275906, 44.03985202536763, 41.003935198746994, 40.07611714716515, 35.92456655984143, 34.7401624527944, 33.47576533458635, 32.966284723796655, 34.50698952418214, 30.085470799329062, 31.315739667731037, 31.593361914860356, 27.979761569214812, 29.341376597617728, 25.931803352616395, 24.433596514140735, 21.171516195767605, 25.221290453423002, 20.08392175872055, 21.39496071324911, 24.238542816699276, 18.27091759590901, 18.299360431109026, 16.154430194162856, 16.406197754354753, 20.034494747016367, 16.625663900207286, 17.528670720484982, 28.837028149278094, 28.837028149278094, 114.6735981409627, 109.66926626073911, 61.22861983731176, 64.81490156309707, 58.59914273396321, 60.97590197422986, 54.46177352292337, 47.424022827309365, 43.18157595588365, 39.79629816137495, 34.68670038891864, 33.71968695690593, 34.16302278230322, 29.650025848422427, 29.62728301233891, 32.30968094580488, 25.290127840796163, 24.21576135754307, 24.79126915681036, 23.661806104739547, 22.230936807908034, 21.073704022196782, 19.420606269299178, 19.10914622942463, 20.574807968653143, 18.147245506546085, 18.189167230142342, 16.48857415330109, 15.382990248683354, 14.539346183585236, 16.065992273076162, 18.106900224667154, 27.250648337265027, 27.250648337265027], \"Total\": [507.0, 229.0, 150.0, 157.0, 115.0, 110.0, 140.0, 108.0, 96.0, 115.0, 65.0, 72.0, 85.0, 61.0, 61.0, 82.0, 59.0, 64.0, 64.0, 55.0, 58.0, 68.0, 68.0, 54.0, 48.0, 52.0, 48.0, 43.0, 59.0, 48.0, 507.5612983700909, 157.58041539650944, 140.64406660534002, 85.89335563834716, 82.81231242991004, 68.80080456820382, 68.53341157550584, 59.05169343755225, 53.0897610880316, 45.05339353198212, 43.63368063168596, 36.550653397644524, 34.92238037916251, 34.34273625586722, 32.418481937716244, 35.26562812274713, 27.95942325082726, 30.403360928741364, 27.086874546932965, 26.282286813620104, 25.98233259853415, 29.50138505119286, 24.83163931359199, 23.778955788224945, 24.580498640040858, 21.586650362381913, 30.372739061848925, 19.80718293253267, 19.237376128392782, 18.96294505451691, 115.64744092970032, 28.257301081477355, 57.74802083940985, 56.02769430469386, 25.748368192890048, 229.78526642737953, 150.84823336139473, 96.33794002539264, 72.28660478975806, 58.87992542583181, 52.874287314108805, 47.42280361179825, 47.436782642259665, 40.22565114515839, 48.7517239000121, 29.169455940550563, 25.26775357016532, 31.52458628549284, 24.36542299474106, 40.55438012477198, 40.55438012477198, 21.14511162281929, 23.594142676349932, 29.3224346592282, 19.07711298224373, 18.88718102664302, 26.93678499162001, 18.025973728870543, 21.443472148662742, 21.443472148662742, 21.443472148662742, 30.30334515480972, 16.73884372006725, 17.749102620635533, 20.43237263305852, 18.27400594444422, 108.80499858467819, 64.24216801981993, 54.90274658718637, 48.69799724869879, 44.81117761275355, 64.76124309999733, 44.70084225982928, 41.64215354951216, 40.71223750145454, 36.536701866537975, 35.37482059086169, 34.09476342425609, 33.58396291984249, 35.16040432326765, 30.719305987316915, 31.990212500147667, 32.30447154284605, 28.615597969765723, 30.042927905861784, 26.55528755363657, 25.107036113017823, 21.796304228326093, 25.985535006988403, 20.70512131954759, 22.05998382424926, 25.00041073395352, 18.887953872420823, 18.919303898090256, 16.776175537238995, 17.038736171599567, 20.857068586641898, 17.2734030537525, 18.246321293900333, 56.75302365466218, 56.75302365466218, 115.32103412547193, 110.32248543904869, 61.87933640009387, 65.51089209420992, 59.23258194424277, 61.644485807107685, 55.100662743786785, 48.060070979598876, 43.819476036785936, 40.47009551959798, 35.33453093178473, 34.36772654157521, 34.83892075970882, 30.284964350038962, 30.291260843758174, 33.05164464322783, 25.917715116334637, 24.84364344752535, 25.450928706261063, 24.313071649992864, 22.894420204368682, 21.737057172481826, 20.114541273488527, 19.80752989403156, 21.348355040493995, 18.85656231803486, 18.904741488698505, 17.153081541619528, 16.026654836766763, 15.178800901473734, 16.779115177433216, 18.992881831942153, 56.75302365466218, 56.75302365466218], \"Category\": [\"Default\", \"Default\", \"Default\", \"Default\", \"Default\", \"Default\", \"Default\", \"Default\", \"Default\", \"Default\", \"Default\", \"Default\", \"Default\", \"Default\", \"Default\", \"Default\", \"Default\", \"Default\", \"Default\", \"Default\", \"Default\", \"Default\", \"Default\", \"Default\", \"Default\", \"Default\", \"Default\", \"Default\", \"Default\", \"Default\", \"Topic1\", \"Topic1\", \"Topic1\", \"Topic1\", \"Topic1\", \"Topic1\", \"Topic1\", \"Topic1\", \"Topic1\", \"Topic1\", \"Topic1\", \"Topic1\", \"Topic1\", \"Topic1\", \"Topic1\", \"Topic1\", \"Topic1\", \"Topic1\", \"Topic1\", \"Topic1\", \"Topic1\", \"Topic1\", \"Topic1\", \"Topic1\", \"Topic1\", \"Topic1\", \"Topic1\", \"Topic1\", \"Topic1\", \"Topic1\", \"Topic1\", \"Topic1\", \"Topic1\", \"Topic1\", \"Topic1\", \"Topic2\", \"Topic2\", \"Topic2\", \"Topic2\", \"Topic2\", \"Topic2\", \"Topic2\", \"Topic2\", \"Topic2\", \"Topic2\", \"Topic2\", \"Topic2\", \"Topic2\", \"Topic2\", \"Topic2\", \"Topic2\", \"Topic2\", \"Topic2\", \"Topic2\", \"Topic2\", \"Topic2\", \"Topic2\", \"Topic2\", \"Topic2\", \"Topic2\", \"Topic2\", \"Topic2\", \"Topic2\", \"Topic2\", \"Topic2\", \"Topic2\", \"Topic3\", \"Topic3\", \"Topic3\", \"Topic3\", \"Topic3\", \"Topic3\", \"Topic3\", \"Topic3\", \"Topic3\", \"Topic3\", \"Topic3\", \"Topic3\", \"Topic3\", \"Topic3\", \"Topic3\", \"Topic3\", \"Topic3\", \"Topic3\", \"Topic3\", \"Topic3\", \"Topic3\", \"Topic3\", \"Topic3\", \"Topic3\", \"Topic3\", \"Topic3\", \"Topic3\", \"Topic3\", \"Topic3\", \"Topic3\", \"Topic3\", \"Topic3\", \"Topic3\", \"Topic3\", \"Topic3\", \"Topic4\", \"Topic4\", \"Topic4\", \"Topic4\", \"Topic4\", \"Topic4\", \"Topic4\", \"Topic4\", \"Topic4\", \"Topic4\", \"Topic4\", \"Topic4\", \"Topic4\", \"Topic4\", \"Topic4\", \"Topic4\", \"Topic4\", \"Topic4\", \"Topic4\", \"Topic4\", \"Topic4\", \"Topic4\", \"Topic4\", \"Topic4\", \"Topic4\", \"Topic4\", \"Topic4\", \"Topic4\", \"Topic4\", \"Topic4\", \"Topic4\", \"Topic4\", \"Topic4\", \"Topic4\"], \"logprob\": [30.0, 29.0, 28.0, 27.0, 26.0, 25.0, 24.0, 23.0, 22.0, 21.0, 20.0, 19.0, 18.0, 17.0, 16.0, 15.0, 14.0, 13.0, 12.0, 11.0, 10.0, 9.0, 8.0, 7.0, 6.0, 5.0, 4.0, 3.0, 2.0, 1.0, -2.1512, -3.3235, -3.4379, -3.9338, -3.9707, -4.1581, -4.1628, -4.3117, -4.4196, -4.5866, -4.6187, -4.7983, -4.8445, -4.8614, -4.9199, -4.8367, -5.0711, -4.9873, -5.1035, -5.1341, -5.1463, -5.0195, -5.1934, -5.2368, -5.2037, -5.3369, -4.9964, -5.4255, -5.4564, -5.471, -3.6729, -5.0749, -4.3728, -4.6822, -5.2254, -2.7113, -3.1337, -3.5846, -3.875, -4.0816, -4.1897, -4.2998, -4.2996, -4.4674, -4.2795, -4.7942, -4.9406, -4.7209, -4.9788, -4.4694, -4.4694, -5.1244, -5.0149, -4.7998, -5.2308, -5.2412, -4.8867, -5.2897, -5.1208, -5.1208, -5.1208, -4.775, -5.3695, -5.3113, -5.1767, -5.3555, -3.4434, -3.9751, -4.1333, -4.2543, -4.3384, -3.9704, -4.342, -4.4134, -4.4363, -4.5457, -4.5792, -4.6163, -4.6316, -4.5859, -4.723, -4.683, -4.6741, -4.7956, -4.7481, -4.8716, -4.9311, -5.0744, -4.8994, -5.1272, -5.0639, -4.9391, -5.2218, -5.2202, -5.3449, -5.3294, -5.1296, -5.3161, -5.2632, -4.7654, -4.7654, -3.255, -3.2996, -3.8825, -3.8255, -3.9264, -3.8866, -3.9996, -4.1379, -4.2317, -4.3133, -4.4507, -4.479, -4.4659, -4.6076, -4.6084, -4.5217, -4.7667, -4.8101, -4.7866, -4.8332, -4.8956, -4.949, -5.0307, -5.0469, -4.973, -5.0986, -5.0962, -5.1944, -5.2638, -5.3202, -5.2204, -5.1008, -4.692, -4.692], \"loglift\": [30.0, 29.0, 28.0, 27.0, 26.0, 25.0, 24.0, 23.0, 22.0, 21.0, 20.0, 19.0, 18.0, 17.0, 16.0, 15.0, 14.0, 13.0, 12.0, 11.0, 10.0, 9.0, 8.0, 7.0, 6.0, 5.0, 4.0, 3.0, 2.0, 1.0, 1.1776, 1.1749, 1.1742, 1.1715, 1.1711, 1.1691, 1.1683, 1.1683, 1.1668, 1.1639, 1.1639, 1.1614, 1.1608, 1.1606, 1.1597, 1.1587, 1.1566, 1.1566, 1.1558, 1.1554, 1.1547, 1.1545, 1.1529, 1.1527, 1.1527, 1.1494, 1.1485, 1.1469, 1.1451, 1.1449, 1.1349, 1.1421, 1.1294, 0.8504, 1.0846, 1.41, 1.4084, 1.4059, 1.4028, 1.4012, 1.4008, 1.3995, 1.3994, 1.3964, 1.3922, 1.3911, 1.3882, 1.3867, 1.3864, 1.3863, 1.3863, 1.3826, 1.3825, 1.3802, 1.3791, 1.3787, 1.3782, 1.3768, 1.3722, 1.3722, 1.3722, 1.3721, 1.3712, 1.3707, 1.3646, 1.2974, 1.4254, 1.4207, 1.4195, 1.4185, 1.4175, 1.4173, 1.4164, 1.4159, 1.4156, 1.4144, 1.4132, 1.413, 1.4127, 1.4125, 1.4105, 1.41, 1.409, 1.4088, 1.4077, 1.4075, 1.4041, 1.4022, 1.4015, 1.4008, 1.4007, 1.4004, 1.3981, 1.398, 1.3935, 1.3935, 1.3911, 1.3931, 1.3912, 0.7543, 0.7543, 1.5557, 1.5554, 1.5507, 1.5506, 1.5506, 1.5504, 1.5497, 1.548, 1.5467, 1.5445, 1.5428, 1.5423, 1.5417, 1.5401, 1.5392, 1.5386, 1.5368, 1.5357, 1.5351, 1.5342, 1.5319, 1.5303, 1.5262, 1.5254, 1.5244, 1.523, 1.5227, 1.5218, 1.5203, 1.5183, 1.5179, 1.5135, 0.8277, 0.8277]}, \"token.table\": {\"Topic\": [3, 2, 4, 3, 4, 1, 4, 4, 1, 1, 4, 4, 1, 2, 2, 1, 3, 1, 2, 3, 2, 1, 2, 2, 1, 1, 2, 3, 4, 3, 3, 2, 4, 3, 3, 1, 3, 2, 3, 1, 1, 3, 1, 3, 1, 1, 3, 4, 3, 3, 1, 2, 1, 1, 2, 4, 1, 2, 4, 1, 4, 4, 1, 4, 1, 4, 4, 3, 4, 3, 3, 2, 4, 2, 4, 3, 1, 4, 2, 2, 1, 4, 1, 2, 3, 1, 3, 3, 1, 3, 3, 4, 4, 4, 2, 4, 1, 2, 1, 1, 3, 2, 4, 2, 4, 4, 3, 3, 1, 1, 3, 2, 3, 4, 2, 1, 2, 1, 4, 4, 1, 3, 4, 1, 3, 2, 3, 2, 4, 3, 1, 3, 1, 4, 3, 4, 1, 1, 2, 4, 1, 2, 2, 2, 2, 4, 2, 2], \"Freq\": [0.9784873281202741, 0.9910843817826691, 0.9857894985426422, 0.9690463919193066, 0.9903846576324277, 0.9895992462780402, 0.9535663728871071, 0.954574842243879, 0.9656851558696271, 0.9665088839649512, 0.9871233197310568, 0.9960734120207405, 0.02465824892214704, 0.9863299568858815, 0.9577949017115599, 0.9735877002326887, 0.9825055672405848, 0.893260490439586, 0.07767482525561617, 0.9818978733439335, 0.9894033488405766, 0.02465824892214704, 0.9863299568858815, 0.9793190139363509, 0.9883605348334268, 0.9524135927177183, 0.017316610776685788, 0.017316610776685788, 0.017316610776685788, 0.9962303884304587, 0.9514092112985694, 0.996582607581467, 0.9759200129793048, 0.9865002216100033, 0.9678905698616099, 0.989259427247639, 0.9659445936749045, 0.9435389944355697, 0.9634660894808382, 0.9900201238097716, 0.9963167034745468, 0.9841720214076111, 0.9867330151529381, 0.9589075241766806, 0.9849345128894464, 0.9621922860540408, 0.5109859903934421, 0.4757455772628599, 0.9853106099040233, 0.9599842280753075, 0.9830046945144162, 0.9931373442047623, 0.9988941269322673, 0.9598744940081678, 0.9943769088805795, 0.9836823474298967, 0.9922167660525967, 0.9941906376006489, 0.9893002366295494, 0.9924677898314309, 0.9970768838486072, 0.9521420861935949, 0.9901909220250605, 0.9445902713696225, 0.955505266484862, 0.03538908394388378, 0.9477234765778235, 0.9926014558600293, 0.9327770034310314, 0.9843214976631638, 0.9826118519355121, 0.9652228359133638, 0.9800245098882971, 0.9907923215291892, 0.9592311662104377, 0.9790893789978738, 0.9763837728216285, 0.9882203539901249, 0.9530273456165043, 0.9964921398017897, 0.713932645210583, 0.2677247419539686, 0.04894194217963957, 0.9298969014131518, 0.9559073357749371, 0.987091254349286, 0.9765845625674651, 0.9620737072866362, 0.9548035803075391, 0.9845792425516936, 0.983557351074362, 0.9660418791105544, 0.9922014175371751, 0.9681817756853044, 0.9850023947944622, 0.9905324643355091, 0.9598137157870583, 0.0432348520624801, 0.9766189969411662, 0.9672418000536981, 0.990574941229352, 0.943083589030903, 0.9359407906875542, 0.983464792463018, 0.9905905667662246, 0.9660921362706397, 0.9894043111851565, 0.988245390860983, 0.9876606806038151, 0.9821902916524413, 0.9537334635348756, 0.9793190139363509, 0.9390367829433882, 0.9812988170808342, 0.9793190139363509, 0.1094450776737354, 0.8755606213898832, 0.9592479690180022, 0.9779427920518705, 0.9822824262538549, 0.9854772592522072, 0.5109859903934421, 0.4757455772628599, 0.9492196464342156, 0.9529883502247766, 0.9558605282166837, 0.9652854106254306, 0.9833594553551921, 0.964591202881297, 0.9519499274027534, 0.9794732342791184, 0.9954379272265222, 0.9954205917043957, 0.989545118291288, 0.9856668181828064, 0.9883841262650261, 0.9728234648482451, 0.03299965712997467, 0.9569900567692655, 0.9972161702511041, 0.020512095163054363, 0.9845805678266094, 0.9943903668745074, 0.9549002436326681, 0.9850555954433026, 0.9609328300789198, 0.9748182129564944, 0.9960351604478916], \"Term\": [\"agent\", \"airline\", \"airport\", \"already\", \"always\", \"amp\", \"app\", \"apparently\", \"arrive\", \"awesome\", \"bad\", \"bag\", \"balance\", \"balance\", \"blog\", \"bo\", \"book\", \"business\", \"business\", \"call\", \"ceo_battle\", \"ceo_seek\", \"ceo_seek\", \"ceo_weigh\", \"change\", \"character\", \"character\", \"character\", \"character\", \"check\", \"claim\", \"co\", \"come\", \"continue\", \"credit\", \"crew\", \"customer\", \"daily\", \"day\", \"deal\", \"delay\", \"deliver\", \"direct\", \"drop\", \"due\", \"early\", \"elite\", \"elite\", \"email\", \"experience\", \"extra\", \"first\", \"flight\", \"fll\", \"fly\", \"flyfi\", \"follow\", \"friend\", \"gate\", \"give\", \"great\", \"guess\", \"guy\", \"hang\", \"happy\", \"happy\", \"hear\", \"help\", \"hold\", \"home\", \"hope\", \"hotel\", \"hour\", \"http\", \"huge\", \"ill\", \"info\", \"issue\", \"jet_blue\", \"jetblue\", \"jfk\", \"jfk\", \"job\", \"job\", \"keep\", \"last\", \"leave\", \"link\", \"lol\", \"look\", \"love\", \"min\", \"minute\", \"miss\", \"money\", \"much\", \"new\", \"new\", \"next\", \"night\", \"nyc\", \"offer\", \"open\", \"passenger\", \"pay\", \"people\", \"phone\", \"pick\", \"plan\", \"plane\", \"point\", \"profits_flyer\", \"put\", \"really\", \"registration\", \"review\", \"review\", \"rock\", \"seat\", \"send\", \"service\", \"silver\", \"silver\", \"sit\", \"site\", \"social_media\", \"speak\", \"spend\", \"still\", \"suppose\", \"tell\", \"thing\", \"time\", \"today\", \"tomorrow\", \"travel\", \"trip\", \"twitter\", \"twitter\", \"wait\", \"wall\", \"wall\", \"way\", \"website\", \"well\", \"wifi\", \"wish\", \"work\"]}, \"R\": 30, \"lambda.step\": 0.01, \"plot.opts\": {\"xlab\": \"PC1\", \"ylab\": \"PC2\"}, \"topic.order\": [4, 3, 2, 1]};\n",
       "\n",
       "function LDAvis_load_lib(url, callback){\n",
       "  var s = document.createElement('script');\n",
       "  s.src = url;\n",
       "  s.async = true;\n",
       "  s.onreadystatechange = s.onload = callback;\n",
       "  s.onerror = function(){console.warn(\"failed to load library \" + url);};\n",
       "  document.getElementsByTagName(\"head\")[0].appendChild(s);\n",
       "}\n",
       "\n",
       "if(typeof(LDAvis) !== \"undefined\"){\n",
       "   // already loaded: just create the visualization\n",
       "   !function(LDAvis){\n",
       "       new LDAvis(\"#\" + \"ldavis_el59766482678089334257812\", ldavis_el59766482678089334257812_data);\n",
       "   }(LDAvis);\n",
       "}else if(typeof define === \"function\" && define.amd){\n",
       "   // require.js is available: use it to load d3/LDAvis\n",
       "   require.config({paths: {d3: \"https://d3js.org/d3.v5\"}});\n",
       "   require([\"d3\"], function(d3){\n",
       "      window.d3 = d3;\n",
       "      LDAvis_load_lib(\"https://cdn.jsdelivr.net/gh/bmabey/pyLDAvis@3.3.1/pyLDAvis/js/ldavis.v3.0.0.js\", function(){\n",
       "        new LDAvis(\"#\" + \"ldavis_el59766482678089334257812\", ldavis_el59766482678089334257812_data);\n",
       "      });\n",
       "    });\n",
       "}else{\n",
       "    // require.js not available: dynamically load d3 & LDAvis\n",
       "    LDAvis_load_lib(\"https://d3js.org/d3.v5.js\", function(){\n",
       "         LDAvis_load_lib(\"https://cdn.jsdelivr.net/gh/bmabey/pyLDAvis@3.3.1/pyLDAvis/js/ldavis.v3.0.0.js\", function(){\n",
       "                 new LDAvis(\"#\" + \"ldavis_el59766482678089334257812\", ldavis_el59766482678089334257812_data);\n",
       "            })\n",
       "         });\n",
       "}\n",
       "</script>"
      ],
      "text/plain": [
       "PreparedData(topic_coordinates=              x         y  topics  cluster       Freq\n",
       "topic                                                \n",
       "3     -0.249108 -0.102551       1        1  30.764196\n",
       "2      0.181997 -0.198925       2        1  24.350247\n",
       "1      0.056660  0.162448       3        1  23.899599\n",
       "0      0.010452  0.139027       4        1  20.985958, topic_info=        Term        Freq       Total Category  logprob  loglift\n",
       "14    flight  507.000000  507.000000  Default  30.0000  30.0000\n",
       "0         co  229.000000  229.000000  Default  29.0000  29.0000\n",
       "10       fly  150.000000  150.000000  Default  28.0000  28.0000\n",
       "210    delay  157.000000  157.000000  Default  27.0000  27.0000\n",
       "431     wait  115.000000  115.000000  Default  26.0000  26.0000\n",
       "...      ...         ...         ...      ...      ...      ...\n",
       "113    issue   14.539346   15.178801   Topic4  -5.3202   1.5183\n",
       "196      app   16.065992   16.779115   Topic4  -5.2204   1.5179\n",
       "295     hear   18.106900   18.992882   Topic4  -5.1008   1.5135\n",
       "3587   elite   27.250648   56.753024   Topic4  -4.6920   0.8277\n",
       "3588  silver   27.250648   56.753024   Topic4  -4.6920   0.8277\n",
       "\n",
       "[165 rows x 6 columns], token_table=      Topic      Freq     Term\n",
       "term                          \n",
       "940       3  0.978487    agent\n",
       "8         2  0.991084  airline\n",
       "230       4  0.985789  airport\n",
       "364       3  0.969046  already\n",
       "112       4  0.990385   always\n",
       "...     ...       ...      ...\n",
       "117       2  0.954900  website\n",
       "268       2  0.985056     well\n",
       "195       4  0.960933     wifi\n",
       "249       2  0.974818     wish\n",
       "189       2  0.996035     work\n",
       "\n",
       "[148 rows x 3 columns], R=30, lambda_step=0.01, plot_opts={'xlab': 'PC1', 'ylab': 'PC2'}, topic_order=[4, 3, 2, 1])"
      ]
     },
     "execution_count": 107,
     "metadata": {},
     "output_type": "execute_result"
    }
   ],
   "source": [
    "# Visualize the topics\n",
    "pyLDAvis.enable_notebook()\n",
    "vis = pyLDAvis.gensim_models.prepare(lda_model, corpus, id2word)\n",
    "vis"
   ]
  },
  {
   "cell_type": "code",
   "execution_count": 109,
   "metadata": {},
   "outputs": [],
   "source": [
    "data= train[train.airline==\"American\"][\"text\"].values\n"
   ]
  },
  {
   "cell_type": "code",
   "execution_count": 110,
   "metadata": {},
   "outputs": [],
   "source": [
    "def sent_to_words(sentences):\n",
    "    for sent in sentences:\n",
    "        sent = re.sub('\\S*@\\S*\\s?', '', sent)  # remove emails\n",
    "        sent = re.sub('\\s+', ' ', sent)  # remove newline chars\n",
    "        sent = re.sub(\"\\'\", \"\", sent)  # remove single quotes\n",
    "        sent = gensim.utils.simple_preprocess(str(sent), deacc=True) \n",
    "        yield(sent)  \n",
    "\n",
    "# Convert to list\n",
    "data = data.tolist()\n",
    "data_words = list(sent_to_words(data))\n",
    "#print(data_words[:1])"
   ]
  },
  {
   "cell_type": "code",
   "execution_count": 111,
   "metadata": {},
   "outputs": [],
   "source": [
    "# NLTK Stop words\n",
    "from nltk.corpus import stopwords\n",
    "stop_words = stopwords.words('english')\n",
    "stop_words.extend(['from', 'subject', 're', 'edu', 'use', 'not', 'would', 'say', 'could', '_', 'be', 'know', 'good', 'go', 'get', 'do', 'done', 'try', 'many', 'some', 'nice', 'thank', 'think', 'see', 'rather', 'easy', 'easily', 'lot', 'lack', 'make', 'want', 'seem', 'run', 'need', 'even', 'right', 'line', 'even', 'also', 'may', 'take'])"
   ]
  },
  {
   "cell_type": "code",
   "execution_count": 112,
   "metadata": {},
   "outputs": [],
   "source": [
    "# Building the bigram and trigram models\n",
    "bigram = gensim.models.Phrases(data_words, min_count=1, threshold=300) # higher threshold fewer phrases.\n",
    "trigram = gensim.models.Phrases(bigram[data_words], threshold=100)  \n",
    "bigram_mod = gensim.models.phrases.Phraser(bigram)\n",
    "trigram_mod = gensim.models.phrases.Phraser(trigram)\n",
    "\n",
    "# !python3 -m spacy download en  # run in terminal once\n",
    "def process_words(texts, stop_words=stop_words, allowed_postags=['NOUN', 'ADJ', 'VERB', 'ADV']):\n",
    "    \"\"\"Remove Stopwords, Form Bigrams, Trigrams and Lemmatization\"\"\"\n",
    "    texts = [[word for word in simple_preprocess(str(doc)) if word not in stop_words] for doc in texts]\n",
    "    texts = [bigram_mod[doc] for doc in texts]\n",
    "    texts = [trigram_mod[bigram_mod[doc]] for doc in texts]\n",
    "    texts_out = []\n",
    "    nlp = spacy.load('en_core_web_sm', disable=['parser', 'ner'])\n",
    "    for sent in texts:\n",
    "        doc = nlp(\" \".join(sent)) \n",
    "        texts_out.append([token.lemma_ for token in doc if token.pos_ in allowed_postags])\n",
    "    # remove stopwords once more after lemmatization\n",
    "    texts_out = [[word for word in simple_preprocess(str(doc)) if word not in stop_words] for doc in texts_out]    \n",
    "    return texts_out\n",
    "\n",
    "data_ready = process_words(data_words)  "
   ]
  },
  {
   "cell_type": "code",
   "execution_count": 117,
   "metadata": {},
   "outputs": [
    {
     "name": "stdout",
     "output_type": "stream",
     "text": [
      "[(0,\n",
      "  '0.038*\"tomorrow\" + 0.026*\"time\" + 0.025*\"weather\" + 0.024*\"guy\" + '\n",
      "  '0.022*\"ticket\" + 0.019*\"airport\" + 0.019*\"work\" + 0.018*\"dfw\" + 0.017*\"jfk\" '\n",
      "  '+ 0.016*\"put\"'),\n",
      " (1,\n",
      "  '0.058*\"help\" + 0.038*\"customer\" + 0.035*\"amp\" + 0.028*\"service\" + '\n",
      "  '0.020*\"leave\" + 0.019*\"tell\" + 0.019*\"bag\" + 0.017*\"bad\" + 0.014*\"ever\" + '\n",
      "  '0.014*\"response\"'),\n",
      " (2,\n",
      "  '0.190*\"flight\" + 0.062*\"cancel\" + 0.041*\"hour\" + 0.022*\"http_co\" + '\n",
      "  '0.020*\"delay\" + 0.019*\"seat\" + 0.016*\"late\" + 0.015*\"flightle\" + '\n",
      "  '0.013*\"today\" + 0.013*\"book\"'),\n",
      " (3,\n",
      "  '0.064*\"call\" + 0.043*\"aa\" + 0.031*\"hold\" + 0.029*\"wait\" + 0.027*\"phone\" + '\n",
      "  '0.026*\"agent\" + 0.021*\"plane\" + 0.019*\"minute\" + 0.015*\"back\" + '\n",
      "  '0.015*\"still\"')]\n"
     ]
    }
   ],
   "source": [
    "# Create Dictionary\n",
    "id2word = corpora.Dictionary(data_ready)\n",
    "\n",
    "# Create Corpus: Term Document Frequency\n",
    "corpus = [id2word.doc2bow(text) for text in data_ready]\n",
    "\n",
    "# Build LDA model\n",
    "lda_model = gensim.models.ldamodel.LdaModel(corpus=corpus,\n",
    "                                           id2word=id2word,\n",
    "                                           num_topics=4, \n",
    "                                           random_state=100,\n",
    "                                           update_every=1,\n",
    "                                           chunksize=10,\n",
    "                                           passes=10,\n",
    "                                           alpha='symmetric',\n",
    "                                           iterations=100,\n",
    "                                           per_word_topics=True)\n",
    "\n",
    "pprint(lda_model.print_topics())"
   ]
  },
  {
   "cell_type": "markdown",
   "metadata": {},
   "source": [
    "## American Airline Important Topics ##"
   ]
  },
  {
   "cell_type": "code",
   "execution_count": 118,
   "metadata": {},
   "outputs": [
    {
     "data": {
      "text/html": [
       "\n",
       "<link rel=\"stylesheet\" type=\"text/css\" href=\"https://cdn.jsdelivr.net/gh/bmabey/pyLDAvis@3.3.1/pyLDAvis/js/ldavis.v1.0.0.css\">\n",
       "\n",
       "\n",
       "<div id=\"ldavis_el59765421742246794727621\"></div>\n",
       "<script type=\"text/javascript\">\n",
       "\n",
       "var ldavis_el59765421742246794727621_data = {\"mdsDat\": {\"x\": [-0.20264983116532917, 0.2872556891592167, -0.04082552825409528, -0.043780329739792394], \"y\": [0.22430447966130657, 0.10882958745347517, -0.13245306651153496, -0.20068100060324665], \"topics\": [1, 2, 3, 4], \"cluster\": [1, 1, 1, 1], \"Freq\": [27.558488761418342, 25.106219076651243, 24.355356391083756, 22.97993577084666]}, \"tinfo\": {\"Term\": [\"flight\", \"call\", \"cancel\", \"help\", \"aa\", \"hour\", \"customer\", \"tomorrow\", \"amp\", \"hold\", \"wait\", \"service\", \"phone\", \"agent\", \"time\", \"weather\", \"guy\", \"http_co\", \"ticket\", \"plane\", \"delay\", \"leave\", \"tell\", \"airport\", \"minute\", \"bag\", \"seat\", \"work\", \"dfw\", \"jfk\", \"call\", \"aa\", \"hold\", \"wait\", \"phone\", \"agent\", \"plane\", \"minute\", \"reservation\", \"still\", \"back\", \"day\", \"luggage\", \"number\", \"change\", \"issue\", \"people\", \"miss\", \"online\", \"sit\", \"min\", \"let\", \"system\", \"hang\", \"team\", \"airline\", \"understand\", \"mia\", \"speak\", \"desk\", \"find\", \"flight\", \"cancel\", \"hour\", \"http_co\", \"delay\", \"seat\", \"flightle\", \"late\", \"flightled\", \"book\", \"rebooke\", \"today\", \"way\", \"crew\", \"dalla\", \"available\", \"monday\", \"rebook\", \"great\", \"staff\", \"flighted\", \"give\", \"seriously\", \"love\", \"suppose\", \"tonight\", \"early\", \"itinerary\", \"nyc\", \"least\", \"wrong\", \"load\", \"help\", \"customer\", \"amp\", \"service\", \"tell\", \"bag\", \"leave\", \"bad\", \"ever\", \"response\", \"gate\", \"passenger\", \"fly\", \"email\", \"land\", \"look\", \"rude\", \"first\", \"dm\", \"stick\", \"info\", \"tweet\", \"send\", \"morning\", \"feel\", \"well\", \"appreciate\", \"awesome\", \"american\", \"start\", \"hard\", \"pm\", \"tomorrow\", \"time\", \"weather\", \"guy\", \"ticket\", \"airport\", \"work\", \"dfw\", \"jfk\", \"put\", \"next\", \"answer\", \"home\", \"keep\", \"flt\", \"lax\", \"refund\", \"st\", \"due\", \"yesterday\", \"new\", \"dme\", \"check\", \"really\", \"pay\", \"never\", \"connection\", \"point\", \"fix\", \"car\", \"buy\", \"full\"], \"Freq\": [931.0, 343.0, 303.0, 274.0, 230.0, 202.0, 179.0, 171.0, 166.0, 166.0, 156.0, 134.0, 143.0, 139.0, 119.0, 111.0, 109.0, 108.0, 100.0, 112.0, 100.0, 97.0, 92.0, 88.0, 101.0, 91.0, 91.0, 86.0, 83.0, 78.0, 342.7961026950111, 230.15292037917837, 166.19026597486385, 155.5743602879397, 143.06189496643097, 138.35590015932345, 111.89231258615494, 100.49106101712, 78.07959530996389, 78.18595363819149, 79.82908445436014, 71.12002806858634, 68.77061273325684, 61.66781794883354, 59.65158512738383, 61.78417496329499, 60.83691357716451, 53.94898268337006, 51.48157984033978, 45.096116793886615, 40.67446244856173, 38.59373483991721, 38.56918212018392, 37.88748042217002, 42.25258675350353, 34.361062186385034, 28.1075511951148, 31.528303435186125, 25.31105210510764, 34.42711973863847, 26.907914540046143, 930.9826810772876, 302.677245583795, 201.96383465656012, 108.27039350886768, 100.07390060097616, 91.1716894325041, 74.37672556677339, 77.58878846352815, 65.67551484946843, 65.80371216755442, 63.9971624533662, 65.91842200709675, 55.34193073780623, 52.51663991298666, 46.3681824584681, 45.2745997818751, 42.90047448382026, 34.49017921781454, 36.405881071135354, 39.604712436075836, 31.868665409128297, 31.655749723612356, 36.08283287910369, 37.969123710930575, 27.736064962477148, 25.763867439119572, 24.283919463072028, 27.43927187735643, 34.64570570497949, 18.105621362192323, 25.09777978729953, 40.821355214257686, 274.28636612222476, 178.55079864927066, 166.00910768085268, 134.05991937803805, 91.89369186519929, 90.90124206451998, 96.82783066507228, 81.00957180960201, 68.44695780483896, 66.98872991258912, 61.23143213079652, 63.63309431900122, 58.941590026639794, 49.296877220627, 45.7042335940183, 42.53173996679385, 39.52380630861939, 39.8162588361295, 37.30503336097358, 41.171866750374164, 36.44821529229545, 33.62759135936648, 34.14103043402478, 42.30613119769403, 30.76122405581407, 27.17071308029288, 23.904107910483084, 28.104395263842374, 22.647646102877555, 23.0645040161236, 25.677906090680228, 28.260985502476974, 171.08643538216936, 118.79000190450928, 110.3813158894332, 109.0135961592378, 99.6637630127568, 87.40418499731365, 85.35367635158602, 82.86916539445753, 78.01992249566196, 72.2232992043188, 64.38968382211515, 64.05722928318254, 50.71064164219879, 55.48492643820594, 50.33981698836634, 54.523535849975886, 39.96484665413025, 39.03471022294518, 34.20418174946628, 34.74450927241251, 33.282602456313015, 33.12055021679328, 30.242126439223956, 30.213729542152425, 30.8939059264205, 31.124747850235412, 28.663134715163647, 29.332402892432018, 29.52808127494835, 27.751143767338597, 30.594406095307715, 33.271616856473614], \"Total\": [931.0, 343.0, 303.0, 274.0, 230.0, 202.0, 179.0, 171.0, 166.0, 166.0, 156.0, 134.0, 143.0, 139.0, 119.0, 111.0, 109.0, 108.0, 100.0, 112.0, 100.0, 97.0, 92.0, 88.0, 101.0, 91.0, 91.0, 86.0, 83.0, 78.0, 343.43836697227374, 230.81028536883625, 166.82786429438448, 156.20699099725795, 143.71115463691646, 139.01029036123492, 112.55448621377893, 101.16042658710582, 78.71314155249998, 78.82561034952667, 80.49191035671802, 71.76265950978102, 69.420611764924, 62.30992356054627, 60.293691228793676, 62.52385724479238, 61.570628897191405, 54.624298418234, 52.1269617525444, 45.7399140885262, 41.308707682019715, 39.22089933615551, 39.198794084698925, 38.512557334044025, 42.965780124319295, 35.05279525674842, 28.76081333449709, 32.29756182997429, 25.92872384669265, 35.27510257121955, 27.62224251502278, 931.6255070324197, 303.3083687590957, 202.61952697015624, 108.94551550090522, 100.72442705353885, 91.81558214826524, 75.00471451401367, 78.24403408946402, 66.30631406350638, 66.45594481539257, 64.63773799804589, 66.62304130867203, 55.9993869950116, 53.15983443869003, 46.993464643394006, 45.96240443924015, 43.62441315282466, 35.12685875349975, 37.07829112378456, 40.34534703758975, 32.517334375961234, 32.30638933754572, 36.859153302826364, 38.7975900875085, 28.381508071886483, 26.395282982124233, 24.964311282813096, 28.20843355442314, 35.690953651661374, 18.752664241993447, 25.99671603030732, 50.531738999716296, 274.93891108231156, 179.1678404527323, 166.6560894125153, 134.6771194476923, 92.52522472279271, 91.52963276095254, 97.51121861796888, 81.62851491022197, 69.081554550928, 67.6134244507826, 61.85516848577954, 64.30633484941451, 59.585104983361155, 49.94449317194187, 46.334212129279805, 43.162497826063415, 40.14732926860745, 40.46765603498579, 37.94154568859401, 41.876166193952045, 37.0909173713842, 34.241386143303956, 34.771777015544, 43.10481210586091, 31.419914452485383, 27.796475675163308, 24.524796265719523, 28.838501709675597, 23.26626117311956, 23.706108699373985, 26.4595234921449, 29.352863084650796, 171.7522698165373, 119.44436011884704, 111.02689641280655, 109.67963360335645, 100.31999606280385, 88.04672134945228, 86.00160656158916, 83.52033964983329, 78.69696613971894, 72.9316483161137, 65.0321540834951, 64.8001853389129, 51.3443388043343, 56.19758208927554, 50.98645127761465, 55.25375389823475, 40.61921301342555, 39.71164829429632, 34.839169558921554, 35.41536703837872, 33.94901027546187, 33.804773005405295, 30.868720297867892, 30.845908298499587, 31.541534006304033, 31.781746277739064, 29.33764443932125, 30.029404329751692, 30.22987842885919, 28.424818532575138, 31.408833726843994, 35.186832738374534], \"Category\": [\"Default\", \"Default\", \"Default\", \"Default\", \"Default\", \"Default\", \"Default\", \"Default\", \"Default\", \"Default\", \"Default\", \"Default\", \"Default\", \"Default\", \"Default\", \"Default\", \"Default\", \"Default\", \"Default\", \"Default\", \"Default\", \"Default\", \"Default\", \"Default\", \"Default\", \"Default\", \"Default\", \"Default\", \"Default\", \"Default\", \"Topic1\", \"Topic1\", \"Topic1\", \"Topic1\", \"Topic1\", \"Topic1\", \"Topic1\", \"Topic1\", \"Topic1\", \"Topic1\", \"Topic1\", \"Topic1\", \"Topic1\", \"Topic1\", \"Topic1\", \"Topic1\", \"Topic1\", \"Topic1\", \"Topic1\", \"Topic1\", \"Topic1\", \"Topic1\", \"Topic1\", \"Topic1\", \"Topic1\", \"Topic1\", \"Topic1\", \"Topic1\", \"Topic1\", \"Topic1\", \"Topic1\", \"Topic2\", \"Topic2\", \"Topic2\", \"Topic2\", \"Topic2\", \"Topic2\", \"Topic2\", \"Topic2\", \"Topic2\", \"Topic2\", \"Topic2\", \"Topic2\", \"Topic2\", \"Topic2\", \"Topic2\", \"Topic2\", \"Topic2\", \"Topic2\", \"Topic2\", \"Topic2\", \"Topic2\", \"Topic2\", \"Topic2\", \"Topic2\", \"Topic2\", \"Topic2\", \"Topic2\", \"Topic2\", \"Topic2\", \"Topic2\", \"Topic2\", \"Topic2\", \"Topic3\", \"Topic3\", \"Topic3\", \"Topic3\", \"Topic3\", \"Topic3\", \"Topic3\", \"Topic3\", \"Topic3\", \"Topic3\", \"Topic3\", \"Topic3\", \"Topic3\", \"Topic3\", \"Topic3\", \"Topic3\", \"Topic3\", \"Topic3\", \"Topic3\", \"Topic3\", \"Topic3\", \"Topic3\", \"Topic3\", \"Topic3\", \"Topic3\", \"Topic3\", \"Topic3\", \"Topic3\", \"Topic3\", \"Topic3\", \"Topic3\", \"Topic3\", \"Topic4\", \"Topic4\", \"Topic4\", \"Topic4\", \"Topic4\", \"Topic4\", \"Topic4\", \"Topic4\", \"Topic4\", \"Topic4\", \"Topic4\", \"Topic4\", \"Topic4\", \"Topic4\", \"Topic4\", \"Topic4\", \"Topic4\", \"Topic4\", \"Topic4\", \"Topic4\", \"Topic4\", \"Topic4\", \"Topic4\", \"Topic4\", \"Topic4\", \"Topic4\", \"Topic4\", \"Topic4\", \"Topic4\", \"Topic4\", \"Topic4\", \"Topic4\"], \"logprob\": [30.0, 29.0, 28.0, 27.0, 26.0, 25.0, 24.0, 23.0, 22.0, 21.0, 20.0, 19.0, 18.0, 17.0, 16.0, 15.0, 14.0, 13.0, 12.0, 11.0, 10.0, 9.0, 8.0, 7.0, 6.0, 5.0, 4.0, 3.0, 2.0, 1.0, -2.7546, -3.153, -3.4786, -3.5446, -3.6284, -3.6619, -3.8742, -3.9816, -4.234, -4.2326, -4.2118, -4.3273, -4.3609, -4.47, -4.5032, -4.4681, -4.4835, -4.6037, -4.6505, -4.7829, -4.8861, -4.9386, -4.9393, -4.9571, -4.8481, -5.0548, -5.2557, -5.1408, -5.3605, -5.0529, -5.2993, -1.6623, -2.7859, -3.1904, -3.8139, -3.8926, -3.9858, -4.1894, -4.1471, -4.3138, -4.3118, -4.3397, -4.3101, -4.485, -4.5374, -4.6619, -4.6858, -4.7396, -4.9578, -4.9038, -4.8196, -5.0369, -5.0436, -4.9127, -4.8617, -5.1758, -5.2495, -5.3087, -5.1865, -4.9533, -5.6023, -5.2757, -4.7893, -2.854, -3.2833, -3.3561, -3.5699, -3.9475, -3.9584, -3.8952, -4.0736, -4.2421, -4.2636, -4.3535, -4.315, -4.3916, -4.5703, -4.646, -4.7179, -4.7913, -4.7839, -4.849, -4.7504, -4.8723, -4.9528, -4.9377, -4.7232, -5.0419, -5.166, -5.2941, -5.1322, -5.3481, -5.3299, -5.2225, -5.1267, -3.2679, -3.6327, -3.7061, -3.7186, -3.8082, -3.9395, -3.9632, -3.9928, -4.0531, -4.1303, -4.2451, -4.2503, -4.4839, -4.3939, -4.4912, -4.4114, -4.722, -4.7456, -4.8777, -4.862, -4.905, -4.9099, -5.0008, -5.0017, -4.9795, -4.972, -5.0544, -5.0313, -5.0247, -5.0868, -4.9892, -4.9053], \"loglift\": [30.0, 29.0, 28.0, 27.0, 26.0, 25.0, 24.0, 23.0, 22.0, 21.0, 20.0, 19.0, 18.0, 17.0, 16.0, 15.0, 14.0, 13.0, 12.0, 11.0, 10.0, 9.0, 8.0, 7.0, 6.0, 5.0, 4.0, 3.0, 2.0, 1.0, 1.287, 1.286, 1.285, 1.2848, 1.2843, 1.2841, 1.283, 1.2822, 1.2808, 1.2807, 1.2806, 1.2799, 1.2795, 1.2785, 1.2782, 1.277, 1.2769, 1.2764, 1.2764, 1.2747, 1.2734, 1.2727, 1.2727, 1.2725, 1.2721, 1.2689, 1.2659, 1.2648, 1.2647, 1.2645, 1.2627, 1.3814, 1.38, 1.3788, 1.3758, 1.3756, 1.375, 1.3736, 1.3736, 1.3725, 1.3722, 1.3721, 1.3714, 1.3702, 1.3699, 1.3687, 1.367, 1.3653, 1.3638, 1.3638, 1.3635, 1.3619, 1.3617, 1.3608, 1.3605, 1.3591, 1.3578, 1.3544, 1.3544, 1.3523, 1.3469, 1.3469, 1.1687, 1.41, 1.409, 1.4085, 1.4078, 1.4056, 1.4055, 1.4054, 1.4048, 1.4032, 1.4031, 1.4023, 1.4019, 1.4016, 1.3994, 1.3987, 1.3977, 1.3968, 1.3962, 1.3955, 1.3955, 1.3949, 1.3943, 1.3941, 1.3937, 1.3912, 1.3896, 1.3868, 1.3866, 1.3855, 1.385, 1.3824, 1.3745, 1.4667, 1.4651, 1.4647, 1.4645, 1.464, 1.4632, 1.463, 1.4627, 1.4619, 1.4608, 1.4606, 1.459, 1.4581, 1.4578, 1.4578, 1.4572, 1.4543, 1.4534, 1.4522, 1.4514, 1.4507, 1.4501, 1.45, 1.4498, 1.4498, 1.4497, 1.4473, 1.4471, 1.4471, 1.4466, 1.4443, 1.4146]}, \"token.table\": {\"Topic\": [1, 1, 1, 4, 3, 3, 4, 3, 2, 3, 1, 3, 3, 2, 4, 1, 2, 4, 1, 4, 4, 2, 3, 2, 1, 2, 1, 4, 3, 4, 4, 2, 3, 3, 3, 1, 3, 4, 2, 2, 2, 2, 4, 3, 1, 4, 3, 2, 2, 4, 1, 3, 3, 1, 4, 2, 2, 3, 1, 2, 4, 4, 3, 2, 4, 2, 3, 1, 1, 2, 3, 2, 1, 1, 1, 1, 1, 2, 3, 4, 4, 4, 1, 2, 1, 3, 4, 1, 1, 1, 3, 4, 4, 4, 2, 2, 4, 1, 3, 3, 2, 3, 2, 3, 1, 1, 4, 2, 3, 3, 1, 2, 1, 1, 3, 4, 4, 2, 4, 2, 3, 1, 1, 2, 4, 3, 4, 2, 4], \"Freq\": [0.9964893879510551, 0.9927322620605312, 0.9699654407291318, 0.9881117509725558, 0.9885559105892278, 0.9960632136825716, 0.987651496138046, 0.9786014016168169, 0.9790610510702851, 0.9709242276829426, 0.9938886981991356, 0.9923003020339984, 0.9942135377912443, 0.9931391417779232, 0.9869834795395609, 0.9987235934757717, 0.9989833160213901, 0.9850546615772308, 0.9951289890731815, 0.9718575862722791, 0.9884910855737039, 0.9969933232415469, 0.9990632222149456, 0.9788595148084349, 0.9893724742785338, 0.9928078314791129, 0.9638526190350504, 0.9937699050073927, 0.975184308611943, 0.9761935095592384, 0.975913043578656, 0.9613724059162415, 0.9810891429273233, 0.9843438012077353, 0.986635404335031, 0.977473135474632, 0.9884437083635019, 0.9923956548684054, 0.9993285853299443, 0.9840905047757027, 0.986604648514115, 0.9953803183326855, 0.9806526782528254, 0.9901803482007031, 0.02841972187253462, 0.9378508217936424, 0.9861746640302801, 0.9905161380201148, 0.9709185323513232, 0.993803465775476, 0.9866911633626848, 0.9826329641846604, 0.996585019273498, 0.9950376137830091, 0.9932935390278075, 0.9969424123162252, 0.9913212077013178, 0.9705880186121832, 0.9916214822968873, 0.9571605579554184, 0.9911436720637802, 0.9786897933193449, 0.9927869253857754, 0.9968811157003358, 0.9954074812961649, 0.95986361018996, 0.9947573353587986, 0.9943678156316044, 0.17810588311735184, 0.8113712453123806, 0.9962352080104759, 0.9794422775819445, 0.9939411112315129, 0.9907868639886577, 0.992526813368357, 0.9885288484217036, 0.988571049215973, 0.9856866119748771, 0.9743691701254235, 0.975402664444319, 0.9720460105386987, 0.9841285576644145, 0.9950260962807134, 0.9806406503338357, 0.9783804443102921, 0.9952363192501663, 0.9828310821472475, 0.9907321249204029, 0.9950515000821392, 0.9950736196092107, 0.9539103534551546, 0.9657201215699172, 0.9872257334418718, 0.972576320647989, 0.9679203096010549, 0.9901336584819046, 0.9847556619764916, 0.990939993774428, 0.9909274754863344, 0.9963302846966049, 0.9911171706459562, 0.9778044988842822, 0.9766909105109454, 0.9949722755396823, 0.983823448223052, 0.9641816599928378, 0.9820796082544242, 0.9914402263718791, 0.9702140613489791, 0.9790772108914166, 0.9895261153593893, 0.9865578646870993, 0.994928566315857, 0.9775221089545015, 0.9943234428841833, 0.99681024645771, 0.9962797731227753, 0.9906482607753463, 0.995620029840998, 0.9850244840189085, 0.9929504564361463, 0.9735468769381241, 0.9986748928717181, 0.9821536083046655, 0.9907509221100042, 0.9713461632880684, 0.9883536296397921, 0.9616599254634572, 0.9882715591249246], \"Term\": [\"aa\", \"agent\", \"airline\", \"airport\", \"american\", \"amp\", \"answer\", \"appreciate\", \"available\", \"awesome\", \"back\", \"bad\", \"bag\", \"book\", \"buy\", \"call\", \"cancel\", \"car\", \"change\", \"check\", \"connection\", \"crew\", \"customer\", \"dalla\", \"day\", \"delay\", \"desk\", \"dfw\", \"dm\", \"dme\", \"due\", \"early\", \"email\", \"ever\", \"feel\", \"find\", \"first\", \"fix\", \"flight\", \"flighted\", \"flightle\", \"flightled\", \"flt\", \"fly\", \"full\", \"full\", \"gate\", \"give\", \"great\", \"guy\", \"hang\", \"hard\", \"help\", \"hold\", \"home\", \"hour\", \"http_co\", \"info\", \"issue\", \"itinerary\", \"jfk\", \"keep\", \"land\", \"late\", \"lax\", \"least\", \"leave\", \"let\", \"load\", \"load\", \"look\", \"love\", \"luggage\", \"mia\", \"min\", \"minute\", \"miss\", \"monday\", \"morning\", \"never\", \"new\", \"next\", \"number\", \"nyc\", \"online\", \"passenger\", \"pay\", \"people\", \"phone\", \"plane\", \"pm\", \"point\", \"put\", \"really\", \"rebook\", \"rebooke\", \"refund\", \"reservation\", \"response\", \"rude\", \"seat\", \"send\", \"seriously\", \"service\", \"sit\", \"speak\", \"st\", \"staff\", \"start\", \"stick\", \"still\", \"suppose\", \"system\", \"team\", \"tell\", \"ticket\", \"time\", \"today\", \"tomorrow\", \"tonight\", \"tweet\", \"understand\", \"wait\", \"way\", \"weather\", \"well\", \"work\", \"wrong\", \"yesterday\"]}, \"R\": 30, \"lambda.step\": 0.01, \"plot.opts\": {\"xlab\": \"PC1\", \"ylab\": \"PC2\"}, \"topic.order\": [4, 3, 2, 1]};\n",
       "\n",
       "function LDAvis_load_lib(url, callback){\n",
       "  var s = document.createElement('script');\n",
       "  s.src = url;\n",
       "  s.async = true;\n",
       "  s.onreadystatechange = s.onload = callback;\n",
       "  s.onerror = function(){console.warn(\"failed to load library \" + url);};\n",
       "  document.getElementsByTagName(\"head\")[0].appendChild(s);\n",
       "}\n",
       "\n",
       "if(typeof(LDAvis) !== \"undefined\"){\n",
       "   // already loaded: just create the visualization\n",
       "   !function(LDAvis){\n",
       "       new LDAvis(\"#\" + \"ldavis_el59765421742246794727621\", ldavis_el59765421742246794727621_data);\n",
       "   }(LDAvis);\n",
       "}else if(typeof define === \"function\" && define.amd){\n",
       "   // require.js is available: use it to load d3/LDAvis\n",
       "   require.config({paths: {d3: \"https://d3js.org/d3.v5\"}});\n",
       "   require([\"d3\"], function(d3){\n",
       "      window.d3 = d3;\n",
       "      LDAvis_load_lib(\"https://cdn.jsdelivr.net/gh/bmabey/pyLDAvis@3.3.1/pyLDAvis/js/ldavis.v3.0.0.js\", function(){\n",
       "        new LDAvis(\"#\" + \"ldavis_el59765421742246794727621\", ldavis_el59765421742246794727621_data);\n",
       "      });\n",
       "    });\n",
       "}else{\n",
       "    // require.js not available: dynamically load d3 & LDAvis\n",
       "    LDAvis_load_lib(\"https://d3js.org/d3.v5.js\", function(){\n",
       "         LDAvis_load_lib(\"https://cdn.jsdelivr.net/gh/bmabey/pyLDAvis@3.3.1/pyLDAvis/js/ldavis.v3.0.0.js\", function(){\n",
       "                 new LDAvis(\"#\" + \"ldavis_el59765421742246794727621\", ldavis_el59765421742246794727621_data);\n",
       "            })\n",
       "         });\n",
       "}\n",
       "</script>"
      ],
      "text/plain": [
       "PreparedData(topic_coordinates=              x         y  topics  cluster       Freq\n",
       "topic                                                \n",
       "3     -0.202650  0.224304       1        1  27.558489\n",
       "2      0.287256  0.108830       2        1  25.106219\n",
       "1     -0.040826 -0.132453       3        1  24.355356\n",
       "0     -0.043780 -0.200681       4        1  22.979936, topic_info=        Term        Freq       Total Category  logprob  loglift\n",
       "14    flight  931.000000  931.000000  Default  30.0000  30.0000\n",
       "77      call  343.000000  343.000000  Default  29.0000  29.0000\n",
       "42    cancel  303.000000  303.000000  Default  28.0000  28.0000\n",
       "50      help  274.000000  274.000000  Default  27.0000  27.0000\n",
       "20        aa  230.000000  230.000000  Default  26.0000  26.0000\n",
       "...      ...         ...         ...      ...      ...      ...\n",
       "16     point   29.332403   30.029404   Topic4  -5.0313   1.4471\n",
       "85       fix   29.528081   30.229878   Topic4  -5.0247   1.4471\n",
       "869      car   27.751144   28.424819   Topic4  -5.0868   1.4466\n",
       "1097     buy   30.594406   31.408834   Topic4  -4.9892   1.4443\n",
       "646     full   33.271617   35.186833   Topic4  -4.9053   1.4146\n",
       "\n",
       "[157 rows x 6 columns], token_table=      Topic      Freq       Term\n",
       "term                            \n",
       "20        1  0.996489         aa\n",
       "169       1  0.992732      agent\n",
       "9         1  0.969965    airline\n",
       "59        4  0.988112    airport\n",
       "358       3  0.988556   american\n",
       "...     ...       ...        ...\n",
       "392       4  0.990751    weather\n",
       "273       3  0.971346       well\n",
       "281       4  0.988354       work\n",
       "1026      2  0.961660      wrong\n",
       "215       4  0.988272  yesterday\n",
       "\n",
       "[129 rows x 3 columns], R=30, lambda_step=0.01, plot_opts={'xlab': 'PC1', 'ylab': 'PC2'}, topic_order=[4, 3, 2, 1])"
      ]
     },
     "execution_count": 118,
     "metadata": {},
     "output_type": "execute_result"
    }
   ],
   "source": [
    "# Visualize the topics\n",
    "pyLDAvis.enable_notebook()\n",
    "vis = pyLDAvis.gensim_models.prepare(lda_model, corpus, id2word)\n",
    "vis"
   ]
  },
  {
   "cell_type": "code",
   "execution_count": null,
   "metadata": {},
   "outputs": [],
   "source": []
  },
  {
   "cell_type": "code",
   "execution_count": 120,
   "metadata": {},
   "outputs": [],
   "source": [
    "data= train[train.airline==\"US Airways\"][\"text\"].values"
   ]
  },
  {
   "cell_type": "code",
   "execution_count": 121,
   "metadata": {},
   "outputs": [],
   "source": [
    "def sent_to_words(sentences):\n",
    "    for sent in sentences:\n",
    "        sent = re.sub('\\S*@\\S*\\s?', '', sent)  # remove emails\n",
    "        sent = re.sub('\\s+', ' ', sent)  # remove newline chars\n",
    "        sent = re.sub(\"\\'\", \"\", sent)  # remove single quotes\n",
    "        sent = gensim.utils.simple_preprocess(str(sent), deacc=True) \n",
    "        yield(sent)  \n",
    "\n",
    "# Convert to list\n",
    "data = data.tolist()\n",
    "data_words = list(sent_to_words(data))\n",
    "#print(data_words[:1])"
   ]
  },
  {
   "cell_type": "code",
   "execution_count": 122,
   "metadata": {},
   "outputs": [],
   "source": [
    "# NLTK Stop words\n",
    "from nltk.corpus import stopwords\n",
    "stop_words = stopwords.words('english')\n",
    "stop_words.extend(['from', 'subject', 're', 'edu', 'use', 'not', 'would', 'say', 'could', '_', 'be', 'know', 'good', 'go', 'get', 'do', 'done', 'try', 'many', 'some', 'nice', 'thank', 'think', 'see', 'rather', 'easy', 'easily', 'lot', 'lack', 'make', 'want', 'seem', 'run', 'need', 'even', 'right', 'line', 'even', 'also', 'may', 'take'])"
   ]
  },
  {
   "cell_type": "code",
   "execution_count": 123,
   "metadata": {},
   "outputs": [],
   "source": [
    "# Building the bigram and trigram models\n",
    "bigram = gensim.models.Phrases(data_words, min_count=1, threshold=300) # higher threshold fewer phrases.\n",
    "trigram = gensim.models.Phrases(bigram[data_words], threshold=100)  \n",
    "bigram_mod = gensim.models.phrases.Phraser(bigram)\n",
    "trigram_mod = gensim.models.phrases.Phraser(trigram)\n",
    "\n",
    "# !python3 -m spacy download en  # run in terminal once\n",
    "def process_words(texts, stop_words=stop_words, allowed_postags=['NOUN', 'ADJ', 'VERB', 'ADV']):\n",
    "    \"\"\"Remove Stopwords, Form Bigrams, Trigrams and Lemmatization\"\"\"\n",
    "    texts = [[word for word in simple_preprocess(str(doc)) if word not in stop_words] for doc in texts]\n",
    "    texts = [bigram_mod[doc] for doc in texts]\n",
    "    texts = [trigram_mod[bigram_mod[doc]] for doc in texts]\n",
    "    texts_out = []\n",
    "    nlp = spacy.load('en_core_web_sm', disable=['parser', 'ner'])\n",
    "    for sent in texts:\n",
    "        doc = nlp(\" \".join(sent)) \n",
    "        texts_out.append([token.lemma_ for token in doc if token.pos_ in allowed_postags])\n",
    "    # remove stopwords once more after lemmatization\n",
    "    texts_out = [[word for word in simple_preprocess(str(doc)) if word not in stop_words] for doc in texts_out]    \n",
    "    return texts_out\n",
    "\n",
    "data_ready = process_words(data_words)  "
   ]
  },
  {
   "cell_type": "code",
   "execution_count": 124,
   "metadata": {},
   "outputs": [
    {
     "name": "stdout",
     "output_type": "stream",
     "text": [
      "[(0,\n",
      "  '0.039*\"reservation\" + 0.034*\"delay\" + 0.033*\"phone\" + 0.024*\"tell\" + '\n",
      "  '0.023*\"miss\" + 0.018*\"http_co\" + 0.017*\"hope\" + 0.016*\"clt\" + 0.015*\"phl\" + '\n",
      "  '0.014*\"work\"'),\n",
      " (1,\n",
      "  '0.031*\"bag\" + 0.030*\"charlotte\" + 0.020*\"pay\" + 0.019*\"give\" + 0.018*\"look\" '\n",
      "  '+ 0.015*\"contact\" + 0.015*\"great\" + 0.015*\"home\" + 0.014*\"sit\" + '\n",
      "  '0.012*\"vacation\"'),\n",
      " (2,\n",
      "  '0.037*\"today\" + 0.034*\"help\" + 0.033*\"day\" + 0.025*\"amp\" + 0.025*\"back\" + '\n",
      "  '0.022*\"service\" + 0.021*\"customer\" + 0.020*\"number\" + 0.019*\"airline\" + '\n",
      "  '0.016*\"email\"'),\n",
      " (3,\n",
      "  '0.146*\"flight\" + 0.038*\"hour\" + 0.037*\"hold\" + 0.025*\"time\" + 0.021*\"call\" '\n",
      "  '+ 0.020*\"gate\" + 0.020*\"wait\" + 0.020*\"plane\" + 0.019*\"change\" + '\n",
      "  '0.018*\"still\"')]\n"
     ]
    }
   ],
   "source": [
    "# Create Dictionary\n",
    "id2word = corpora.Dictionary(data_ready)\n",
    "\n",
    "# Create Corpus: Term Document Frequency\n",
    "corpus = [id2word.doc2bow(text) for text in data_ready]\n",
    "\n",
    "# Build LDA model\n",
    "lda_model = gensim.models.ldamodel.LdaModel(corpus=corpus,\n",
    "                                           id2word=id2word,\n",
    "                                           num_topics=4, \n",
    "                                           random_state=100,\n",
    "                                           update_every=1,\n",
    "                                           chunksize=10,\n",
    "                                           passes=10,\n",
    "                                           alpha='symmetric',\n",
    "                                           iterations=100,\n",
    "                                           per_word_topics=True)\n",
    "\n",
    "pprint(lda_model.print_topics())"
   ]
  },
  {
   "cell_type": "markdown",
   "metadata": {},
   "source": [
    "## US Airways Airline Important Topics"
   ]
  },
  {
   "cell_type": "code",
   "execution_count": 125,
   "metadata": {},
   "outputs": [
    {
     "data": {
      "text/html": [
       "\n",
       "<link rel=\"stylesheet\" type=\"text/css\" href=\"https://cdn.jsdelivr.net/gh/bmabey/pyLDAvis@3.3.1/pyLDAvis/js/ldavis.v1.0.0.css\">\n",
       "\n",
       "\n",
       "<div id=\"ldavis_el59766106720803771764036\"></div>\n",
       "<script type=\"text/javascript\">\n",
       "\n",
       "var ldavis_el59766106720803771764036_data = {\"mdsDat\": {\"x\": [0.31122272480345065, -0.11912217126205464, -0.10614808526026755, -0.08595246828112858], \"y\": [-0.014850619498897462, -0.26606483002997006, 0.14493212670293468, 0.13598332282593276], \"topics\": [1, 2, 3, 4], \"cluster\": [1, 1, 1, 1], \"Freq\": [33.1551416314974, 24.79449736083988, 22.696828432085987, 19.353532575576736]}, \"tinfo\": {\"Term\": [\"flight\", \"hour\", \"reservation\", \"hold\", \"today\", \"delay\", \"phone\", \"help\", \"day\", \"bag\", \"charlotte\", \"time\", \"amp\", \"back\", \"tell\", \"miss\", \"service\", \"call\", \"gate\", \"wait\", \"customer\", \"plane\", \"change\", \"number\", \"still\", \"pay\", \"airline\", \"give\", \"http_co\", \"hope\", \"flight\", \"hour\", \"hold\", \"time\", \"call\", \"wait\", \"gate\", \"plane\", \"change\", \"still\", \"min\", \"suppose\", \"cancel\", \"book\", \"agent\", \"well\", \"hang\", \"people\", \"way\", \"much\", \"desk\", \"pm\", \"tomorrow\", \"pilot\", \"board\", \"voucher\", \"guy\", \"dca\", \"attendant\", \"let\", \"allow\", \"smh\", \"delay\", \"reservation\", \"phone\", \"tell\", \"miss\", \"http_co\", \"clt\", \"hope\", \"work\", \"minute\", \"leave\", \"check\", \"phl\", \"website\", \"connection\", \"seat\", \"update\", \"weather\", \"airport\", \"baggage\", \"keep\", \"rep\", \"bad\", \"due\", \"rebooke\", \"follow\", \"come\", \"issue\", \"boston\", \"aa\", \"option\", \"today\", \"help\", \"day\", \"amp\", \"back\", \"service\", \"customer\", \"number\", \"airline\", \"never\", \"email\", \"fly\", \"staff\", \"travel\", \"name\", \"usairway\", \"really\", \"first_class\", \"airway\", \"ticket\", \"problem\", \"anywhere\", \"appreciate\", \"passenger\", \"mean\", \"last\", \"less\", \"job\", \"ill\", \"sure\", \"else\", \"joke\", \"next\", \"put\", \"bag\", \"charlotte\", \"pay\", \"give\", \"look\", \"home\", \"great\", \"sit\", \"contact\", \"find\", \"send\", \"vacation\", \"luggage\", \"charge\", \"response\", \"first\", \"crew\", \"helpful\", \"lose\", \"fee\", \"talk\", \"choice\", \"site\", \"understand\", \"complaint\", \"tonight\", \"info\", \"money\", \"amazing\", \"different\", \"month\", \"carry\"], \"Freq\": [1022.0, 267.0, 207.0, 258.0, 176.0, 180.0, 175.0, 163.0, 157.0, 129.0, 123.0, 179.0, 122.0, 122.0, 128.0, 122.0, 108.0, 146.0, 144.0, 142.0, 102.0, 138.0, 136.0, 97.0, 127.0, 82.0, 89.0, 79.0, 93.0, 92.0, 1021.6949650058542, 266.6928557768439, 257.5518617560755, 178.63504933482525, 146.19320484546435, 141.97848884055568, 143.84652549136888, 137.4045651998941, 136.1615616061583, 127.18176307458174, 89.68352017001261, 105.22083621373369, 80.6861699673208, 72.24531367678871, 64.38722649012318, 67.63665943802988, 59.87939626971566, 58.76502209879542, 51.92944073295229, 43.7617012621402, 44.927419302569156, 47.57694345585182, 39.811378556359955, 42.23407482583519, 35.28976007270858, 46.10191317855573, 35.70911357101084, 35.78564382699511, 34.8208675712269, 33.789311261275024, 36.080353648958976, 54.694159171827614, 180.23442292447027, 206.48929110796885, 175.03767745574424, 127.68302073329588, 121.49199763818932, 92.48937593801358, 84.70189646935707, 91.60454445542241, 75.62331928060698, 70.68215843265243, 72.85622930045604, 67.22847239817872, 76.32862583296988, 67.36974497198516, 63.79543344230551, 63.94578251489984, 65.18861732198816, 58.96396814624283, 58.702813411182895, 58.104683877912414, 49.79315397277371, 50.408101436718525, 42.800019749061576, 44.04717273957108, 50.80159406709056, 42.579401166185306, 41.02382816002049, 38.20443338849781, 35.66140235593073, 37.341209939254874, 35.85603359260071, 176.12354246329417, 162.9234936918392, 156.79052404290894, 121.9535105551142, 121.30734624484714, 107.33525955685604, 101.51394325173544, 97.07895563772433, 89.19959378323, 71.59446122057771, 75.62300753505181, 62.987729165720246, 53.032777887360105, 46.95778046978287, 42.06534942250466, 39.06592884498159, 35.4546057697521, 43.348245804315965, 33.862021280390906, 33.5213661527341, 33.31380989631963, 35.93139939375461, 27.469815033358532, 28.0189575544276, 27.882872777524074, 27.39187707599512, 30.108941550487675, 28.03082731283938, 26.386065576950376, 26.991394157919974, 37.54978264522295, 42.13387752424614, 28.420461141904177, 43.1209454145901, 128.31716079555565, 122.29767506694448, 82.13030308409743, 78.46572658179272, 74.39832822116979, 61.16632032582211, 61.628446258801375, 59.161479204498654, 62.41370992557841, 42.94010849470476, 43.520124942735, 50.04695519781378, 36.579238799231966, 36.514445585837485, 34.36341320219624, 35.56103410180894, 34.39372561574435, 33.31764066059183, 33.57316045035343, 33.57017921436538, 35.19133411886625, 33.9177012445673, 37.01462903840806, 25.92210648590285, 30.478702387222352, 23.69984317504659, 27.62789642795424, 23.384620412850882, 23.643428723487904, 22.70550363434221, 26.355712182410045, 39.728985238868624], \"Total\": [1022.0, 267.0, 207.0, 258.0, 176.0, 180.0, 175.0, 163.0, 157.0, 129.0, 123.0, 179.0, 122.0, 122.0, 128.0, 122.0, 108.0, 146.0, 144.0, 142.0, 102.0, 138.0, 136.0, 97.0, 127.0, 82.0, 89.0, 79.0, 93.0, 92.0, 1022.4215330282982, 267.4032116337943, 258.26589660172044, 179.36360374511818, 146.91002526263668, 142.68150547781818, 144.56002523750286, 138.1176810743601, 136.89951653488762, 127.8992089669279, 90.39208310050876, 106.11501077833572, 81.40747622757598, 72.96565386768037, 65.08838516125498, 68.44000876327885, 60.60321927329243, 59.51577531266661, 52.65364877457521, 44.47209826886175, 45.669027769057735, 48.38465743816902, 40.56371436976227, 43.05009360029739, 36.0025249733843, 47.0331155112963, 36.44026416365827, 36.51988880574492, 35.539008343838205, 34.49463546744026, 36.99889977527842, 64.1283210607943, 180.95674969968454, 207.3199279041039, 175.7687322866464, 128.4109864952796, 122.21196333330772, 93.20466097796074, 85.4137205888608, 92.38867864367215, 76.34744153584354, 71.39955185471952, 73.60977206387685, 67.94167775663617, 77.14435081508692, 68.1060714437236, 64.49664225781264, 64.65108627617961, 65.9271146307358, 59.69354164748345, 59.45080421379682, 58.916649187910856, 50.51794278761959, 51.16412479378666, 43.4974658623413, 44.77203590899787, 51.642875943172974, 43.285612154552126, 41.77892396682466, 38.925491070017465, 36.423851842069986, 38.16022926702956, 36.75004120816888, 176.8714084063291, 163.6367821832369, 157.51067976659414, 122.66494480040194, 122.05079397587616, 108.05477308246482, 102.23927513802089, 97.83565795735046, 89.89613216294056, 72.2848629052202, 76.35256506323614, 63.69088404628705, 53.80925109755503, 47.680421666503335, 42.799012311523, 39.76626259597048, 36.14433186549284, 44.19688694043045, 34.55172158908333, 34.213053640671305, 34.03315864049934, 36.76355579187878, 28.158210233851772, 28.727080794345206, 28.58945080296937, 28.087785572459932, 30.888773724184713, 28.759453087216997, 27.078302820801692, 27.702457014808125, 38.64006991109662, 43.79284277611896, 29.280704038639957, 53.01668647310513, 129.03708031241044, 123.0395974792224, 82.89048304785322, 79.21324047226437, 75.16303984864473, 61.8895321136808, 62.36301285275736, 59.893096570840754, 63.196199093763404, 43.66198876988154, 44.27027865684408, 50.9445728062758, 37.292297641423026, 37.23037968496378, 35.073294122892094, 36.309704708816255, 35.12232028794258, 34.044306561482855, 34.310629750515055, 34.34701306346731, 36.009574570942604, 34.714796918938156, 37.9141656841573, 26.693761945321302, 31.387758853945073, 24.419089402454393, 28.484288293908172, 24.128851106015826, 24.443655580376337, 23.495299222800064, 27.42428364807211, 43.24063254257725], \"Category\": [\"Default\", \"Default\", \"Default\", \"Default\", \"Default\", \"Default\", \"Default\", \"Default\", \"Default\", \"Default\", \"Default\", \"Default\", \"Default\", \"Default\", \"Default\", \"Default\", \"Default\", \"Default\", \"Default\", \"Default\", \"Default\", \"Default\", \"Default\", \"Default\", \"Default\", \"Default\", \"Default\", \"Default\", \"Default\", \"Default\", \"Topic1\", \"Topic1\", \"Topic1\", \"Topic1\", \"Topic1\", \"Topic1\", \"Topic1\", \"Topic1\", \"Topic1\", \"Topic1\", \"Topic1\", \"Topic1\", \"Topic1\", \"Topic1\", \"Topic1\", \"Topic1\", \"Topic1\", \"Topic1\", \"Topic1\", \"Topic1\", \"Topic1\", \"Topic1\", \"Topic1\", \"Topic1\", \"Topic1\", \"Topic1\", \"Topic1\", \"Topic1\", \"Topic1\", \"Topic1\", \"Topic1\", \"Topic1\", \"Topic2\", \"Topic2\", \"Topic2\", \"Topic2\", \"Topic2\", \"Topic2\", \"Topic2\", \"Topic2\", \"Topic2\", \"Topic2\", \"Topic2\", \"Topic2\", \"Topic2\", \"Topic2\", \"Topic2\", \"Topic2\", \"Topic2\", \"Topic2\", \"Topic2\", \"Topic2\", \"Topic2\", \"Topic2\", \"Topic2\", \"Topic2\", \"Topic2\", \"Topic2\", \"Topic2\", \"Topic2\", \"Topic2\", \"Topic2\", \"Topic2\", \"Topic3\", \"Topic3\", \"Topic3\", \"Topic3\", \"Topic3\", \"Topic3\", \"Topic3\", \"Topic3\", \"Topic3\", \"Topic3\", \"Topic3\", \"Topic3\", \"Topic3\", \"Topic3\", \"Topic3\", \"Topic3\", \"Topic3\", \"Topic3\", \"Topic3\", \"Topic3\", \"Topic3\", \"Topic3\", \"Topic3\", \"Topic3\", \"Topic3\", \"Topic3\", \"Topic3\", \"Topic3\", \"Topic3\", \"Topic3\", \"Topic3\", \"Topic3\", \"Topic3\", \"Topic3\", \"Topic4\", \"Topic4\", \"Topic4\", \"Topic4\", \"Topic4\", \"Topic4\", \"Topic4\", \"Topic4\", \"Topic4\", \"Topic4\", \"Topic4\", \"Topic4\", \"Topic4\", \"Topic4\", \"Topic4\", \"Topic4\", \"Topic4\", \"Topic4\", \"Topic4\", \"Topic4\", \"Topic4\", \"Topic4\", \"Topic4\", \"Topic4\", \"Topic4\", \"Topic4\", \"Topic4\", \"Topic4\", \"Topic4\", \"Topic4\", \"Topic4\", \"Topic4\"], \"logprob\": [30.0, 29.0, 28.0, 27.0, 26.0, 25.0, 24.0, 23.0, 22.0, 21.0, 20.0, 19.0, 18.0, 17.0, 16.0, 15.0, 14.0, 13.0, 12.0, 11.0, 10.0, 9.0, 8.0, 7.0, 6.0, 5.0, 4.0, 3.0, 2.0, 1.0, -1.9275, -3.2706, -3.3055, -3.6714, -3.8718, -3.9011, -3.888, -3.9338, -3.9429, -4.0111, -4.3605, -4.2007, -4.4662, -4.5767, -4.6918, -4.6426, -4.7644, -4.7832, -4.9069, -5.078, -5.0517, -4.9944, -5.1726, -5.1135, -5.2932, -5.0259, -5.2813, -5.2792, -5.3065, -5.3366, -5.271, -4.855, -3.3719, -3.2359, -3.4012, -3.7166, -3.7663, -4.0391, -4.127, -4.0487, -4.2404, -4.308, -4.2777, -4.3581, -4.2311, -4.356, -4.4105, -4.4081, -4.3889, -4.4892, -4.4937, -4.5039, -4.6583, -4.646, -4.8096, -4.7809, -4.6382, -4.8148, -4.852, -4.9232, -4.9921, -4.9461, -4.9867, -3.3066, -3.3845, -3.4229, -3.6741, -3.6794, -3.8018, -3.8576, -3.9022, -3.9869, -4.2068, -4.152, -4.3348, -4.5069, -4.6285, -4.7385, -4.8125, -4.9095, -4.7085, -4.9555, -4.9656, -4.9718, -4.8962, -5.1647, -5.1449, -5.1498, -5.1675, -5.073, -5.1445, -5.2049, -5.1823, -4.8521, -4.7369, -5.1307, -4.7138, -3.4639, -3.512, -3.9101, -3.9558, -4.009, -4.2048, -4.1973, -4.2382, -4.1846, -4.5586, -4.5452, -4.4055, -4.7189, -4.7207, -4.7814, -4.7472, -4.7805, -4.8123, -4.8047, -4.8048, -4.7576, -4.7945, -4.7071, -5.0633, -4.9014, -5.153, -4.9996, -5.1663, -5.1553, -5.1958, -5.0467, -4.6363], \"loglift\": [30.0, 29.0, 28.0, 27.0, 26.0, 25.0, 24.0, 23.0, 22.0, 21.0, 20.0, 19.0, 18.0, 17.0, 16.0, 15.0, 14.0, 13.0, 12.0, 11.0, 10.0, 9.0, 8.0, 7.0, 6.0, 5.0, 4.0, 3.0, 2.0, 1.0, 1.1033, 1.1013, 1.1012, 1.0999, 1.0991, 1.099, 1.099, 1.0988, 1.0986, 1.0983, 1.0961, 1.0955, 1.0951, 1.0941, 1.0931, 1.0922, 1.092, 1.0913, 1.0901, 1.0879, 1.0876, 1.0871, 1.0853, 1.0848, 1.084, 1.084, 1.0837, 1.0837, 1.0836, 1.0833, 1.0788, 0.9448, 1.3905, 1.3905, 1.3904, 1.3889, 1.3886, 1.3868, 1.3862, 1.386, 1.385, 1.3845, 1.3843, 1.384, 1.3839, 1.3837, 1.3836, 1.3836, 1.3833, 1.3823, 1.3819, 1.3807, 1.3801, 1.3797, 1.3784, 1.3782, 1.3781, 1.3781, 1.3763, 1.3759, 1.3734, 1.3729, 1.3699, 1.4787, 1.4786, 1.4784, 1.4771, 1.4768, 1.4763, 1.4758, 1.4752, 1.4752, 1.4733, 1.4733, 1.4718, 1.4684, 1.4677, 1.4657, 1.4652, 1.4637, 1.4636, 1.4628, 1.4625, 1.4616, 1.46, 1.4582, 1.458, 1.4579, 1.4579, 1.4574, 1.4573, 1.457, 1.4569, 1.4543, 1.4443, 1.4531, 1.2763, 1.6367, 1.6362, 1.6331, 1.6328, 1.6321, 1.6305, 1.6304, 1.63, 1.6298, 1.6256, 1.6252, 1.6245, 1.623, 1.6229, 1.6218, 1.6215, 1.6213, 1.6207, 1.6206, 1.6194, 1.6193, 1.6191, 1.6183, 1.613, 1.6129, 1.6124, 1.6118, 1.611, 1.609, 1.6081, 1.6026, 1.5576]}, \"token.table\": {\"Topic\": [2, 1, 3, 2, 3, 1, 4, 3, 3, 3, 1, 3, 2, 4, 2, 1, 1, 2, 1, 1, 1, 2, 4, 1, 4, 4, 2, 4, 2, 2, 4, 2, 4, 4, 3, 3, 1, 2, 1, 4, 2, 3, 3, 4, 4, 4, 3, 1, 3, 2, 1, 4, 4, 1, 1, 3, 4, 1, 4, 2, 1, 2, 3, 4, 2, 3, 1, 3, 2, 3, 2, 3, 1, 4, 4, 4, 3, 1, 2, 2, 4, 4, 1, 3, 3, 3, 3, 2, 3, 4, 1, 2, 2, 1, 1, 1, 3, 1, 2, 3, 3, 2, 2, 2, 4, 2, 4, 3, 4, 4, 1, 3, 4, 3, 1, 1, 3, 4, 2, 3, 1, 3, 1, 4, 3, 4, 2, 3, 4, 1, 1, 1, 2, 2, 1, 2], \"Freq\": [0.9695958517725155, 0.9832783505296908, 0.9900314714172987, 0.99241718897232, 0.9840320087188464, 0.9730019059662457, 0.9818498677942219, 0.994579178252728, 0.9792306327439781, 0.9588677609751144, 0.9848333319088893, 0.9913905191302249, 0.9885633369098867, 0.991962927943661, 0.9844415933264082, 0.9721540371369665, 0.9867656381256922, 0.9883633437806698, 0.9938055605054196, 0.9949946092612321, 0.04625279239453038, 0.02312639619726519, 0.9250558478906076, 0.9934293666065768, 0.9938120511551801, 0.9915507080604847, 0.9861399101739994, 0.9794094454705506, 0.9951562748231957, 0.9813560548509297, 0.9557866217717979, 0.9922997191725516, 0.9810716607815508, 0.9680453831426431, 0.99765965537512, 0.9967578086301775, 0.9857642281303131, 0.9947128266766929, 0.9853505143038972, 0.9789192204745611, 0.9827562921068167, 0.9834350736794913, 0.9953824070881686, 0.9898968488809758, 0.9848383276041199, 0.9914704701869674, 0.9729192026116309, 0.9995877111204322, 0.9891525442513098, 0.9934016838312846, 0.9961260020771111, 0.984683867683848, 0.9941790359998409, 0.9879181950580549, 0.990046415346812, 0.9961085632781275, 0.9693250746759411, 0.9989704540738087, 0.9856270990698899, 0.9957930057082944, 0.9984921212003001, 0.9870750994068248, 0.9601783454473618, 0.9829980553169817, 0.9762240361116388, 0.9735929231715968, 0.02283478159004828, 0.9590608267820278, 0.9897473499703452, 0.9612719354591447, 0.9917161533478503, 0.9712266426592119, 0.9856605103739348, 0.9845264394443501, 0.9909465447654632, 0.9921619835754407, 0.9793822271357465, 0.9956624176912398, 0.9944040005246461, 0.990083103975653, 0.953215712548602, 0.9480648732215022, 0.9893843940978989, 0.9813310572284427, 0.9960591624059147, 0.956261159671916, 0.9914585543267389, 0.9795907383090999, 0.9746900564122642, 0.9892571135417423, 0.9913338050297256, 0.9851661099873676, 0.9956264559876739, 0.9756076349090648, 0.9919077625278233, 0.9920500121622112, 0.9696425873539143, 0.16975787433576436, 0.01886198603730715, 0.8110653996042075, 0.9683399358507624, 0.9875515077068833, 0.9772472450476074, 0.9936333766008522, 0.9693985367005615, 0.9899292291331615, 0.993894805611252, 0.9902385331774299, 0.985088488958249, 0.9758885454114242, 0.8576553867340365, 0.07796867152127605, 0.07796867152127605, 0.9849607440904934, 0.9929693938360447, 0.9894924311823813, 0.9746427901888763, 0.9719637184562223, 0.9967994444517823, 0.9937727382387747, 0.9979728120001711, 0.9950732093209367, 0.9861029893706557, 0.9828376318401018, 0.9857295375602488, 0.9740103344465878, 0.9859372788278592, 0.980730836997286, 0.9814588138786112, 0.9780342956220246, 0.9952235892413952, 0.987585878855734, 0.9883816301003027, 0.9837595764918323, 0.9935708838845891, 0.995449205253585], \"Term\": [\"aa\", \"agent\", \"airline\", \"airport\", \"airway\", \"allow\", \"amazing\", \"amp\", \"anywhere\", \"appreciate\", \"attendant\", \"back\", \"bad\", \"bag\", \"baggage\", \"board\", \"book\", \"boston\", \"call\", \"cancel\", \"carry\", \"carry\", \"carry\", \"change\", \"charge\", \"charlotte\", \"check\", \"choice\", \"clt\", \"come\", \"complaint\", \"connection\", \"contact\", \"crew\", \"customer\", \"day\", \"dca\", \"delay\", \"desk\", \"different\", \"due\", \"else\", \"email\", \"fee\", \"find\", \"first\", \"first_class\", \"flight\", \"fly\", \"follow\", \"gate\", \"give\", \"great\", \"guy\", \"hang\", \"help\", \"helpful\", \"hold\", \"home\", \"hope\", \"hour\", \"http_co\", \"ill\", \"info\", \"issue\", \"job\", \"joke\", \"joke\", \"keep\", \"last\", \"leave\", \"less\", \"let\", \"look\", \"lose\", \"luggage\", \"mean\", \"min\", \"minute\", \"miss\", \"money\", \"month\", \"much\", \"name\", \"never\", \"next\", \"number\", \"option\", \"passenger\", \"pay\", \"people\", \"phl\", \"phone\", \"pilot\", \"plane\", \"pm\", \"problem\", \"put\", \"put\", \"put\", \"really\", \"rebooke\", \"rep\", \"reservation\", \"response\", \"seat\", \"send\", \"service\", \"sit\", \"site\", \"smh\", \"smh\", \"smh\", \"staff\", \"still\", \"suppose\", \"sure\", \"talk\", \"tell\", \"ticket\", \"time\", \"today\", \"tomorrow\", \"tonight\", \"travel\", \"understand\", \"update\", \"usairway\", \"vacation\", \"voucher\", \"wait\", \"way\", \"weather\", \"website\", \"well\", \"work\"]}, \"R\": 30, \"lambda.step\": 0.01, \"plot.opts\": {\"xlab\": \"PC1\", \"ylab\": \"PC2\"}, \"topic.order\": [4, 1, 3, 2]};\n",
       "\n",
       "function LDAvis_load_lib(url, callback){\n",
       "  var s = document.createElement('script');\n",
       "  s.src = url;\n",
       "  s.async = true;\n",
       "  s.onreadystatechange = s.onload = callback;\n",
       "  s.onerror = function(){console.warn(\"failed to load library \" + url);};\n",
       "  document.getElementsByTagName(\"head\")[0].appendChild(s);\n",
       "}\n",
       "\n",
       "if(typeof(LDAvis) !== \"undefined\"){\n",
       "   // already loaded: just create the visualization\n",
       "   !function(LDAvis){\n",
       "       new LDAvis(\"#\" + \"ldavis_el59766106720803771764036\", ldavis_el59766106720803771764036_data);\n",
       "   }(LDAvis);\n",
       "}else if(typeof define === \"function\" && define.amd){\n",
       "   // require.js is available: use it to load d3/LDAvis\n",
       "   require.config({paths: {d3: \"https://d3js.org/d3.v5\"}});\n",
       "   require([\"d3\"], function(d3){\n",
       "      window.d3 = d3;\n",
       "      LDAvis_load_lib(\"https://cdn.jsdelivr.net/gh/bmabey/pyLDAvis@3.3.1/pyLDAvis/js/ldavis.v3.0.0.js\", function(){\n",
       "        new LDAvis(\"#\" + \"ldavis_el59766106720803771764036\", ldavis_el59766106720803771764036_data);\n",
       "      });\n",
       "    });\n",
       "}else{\n",
       "    // require.js not available: dynamically load d3 & LDAvis\n",
       "    LDAvis_load_lib(\"https://d3js.org/d3.v5.js\", function(){\n",
       "         LDAvis_load_lib(\"https://cdn.jsdelivr.net/gh/bmabey/pyLDAvis@3.3.1/pyLDAvis/js/ldavis.v3.0.0.js\", function(){\n",
       "                 new LDAvis(\"#\" + \"ldavis_el59766106720803771764036\", ldavis_el59766106720803771764036_data);\n",
       "            })\n",
       "         });\n",
       "}\n",
       "</script>"
      ],
      "text/plain": [
       "PreparedData(topic_coordinates=              x         y  topics  cluster       Freq\n",
       "topic                                                \n",
       "3      0.311223 -0.014851       1        1  33.155142\n",
       "0     -0.119122 -0.266065       2        1  24.794497\n",
       "2     -0.106148  0.144932       3        1  22.696828\n",
       "1     -0.085952  0.135983       4        1  19.353533, topic_info=             Term         Freq        Total Category  logprob  loglift\n",
       "2          flight  1022.000000  1022.000000  Default  30.0000  30.0000\n",
       "25           hour   267.000000   267.000000  Default  29.0000  29.0000\n",
       "117   reservation   207.000000   207.000000  Default  28.0000  28.0000\n",
       "4            hold   258.000000   258.000000  Default  27.0000  27.0000\n",
       "40          today   176.000000   176.000000  Default  26.0000  26.0000\n",
       "...           ...          ...          ...      ...      ...      ...\n",
       "587         money    23.384620    24.128851   Topic4  -5.1663   1.6110\n",
       "395       amazing    23.643429    24.443656   Topic4  -5.1553   1.6090\n",
       "352     different    22.705504    23.495299   Topic4  -5.1958   1.6081\n",
       "672         month    26.355712    27.424284   Topic4  -5.0467   1.6026\n",
       "1059        carry    39.728985    43.240633   Topic4  -4.6363   1.5576\n",
       "\n",
       "[159 rows x 6 columns], token_table=      Topic      Freq     Term\n",
       "term                          \n",
       "697       2  0.969596       aa\n",
       "8         1  0.983278    agent\n",
       "362       3  0.990031  airline\n",
       "78        2  0.992417  airport\n",
       "186       3  0.984032   airway\n",
       "...     ...       ...      ...\n",
       "28        1  0.987586      way\n",
       "211       2  0.988382  weather\n",
       "642       2  0.983760  website\n",
       "6         1  0.993571     well\n",
       "268       2  0.995449     work\n",
       "\n",
       "[136 rows x 3 columns], R=30, lambda_step=0.01, plot_opts={'xlab': 'PC1', 'ylab': 'PC2'}, topic_order=[4, 1, 3, 2])"
      ]
     },
     "execution_count": 125,
     "metadata": {},
     "output_type": "execute_result"
    }
   ],
   "source": [
    "# Visualize the topics\n",
    "pyLDAvis.enable_notebook()\n",
    "vis = pyLDAvis.gensim_models.prepare(lda_model, corpus, id2word)\n",
    "vis"
   ]
  }
 ],
 "metadata": {
  "kernelspec": {
   "display_name": "Python 3",
   "language": "python",
   "name": "python3"
  },
  "language_info": {
   "codemirror_mode": {
    "name": "ipython",
    "version": 3
   },
   "file_extension": ".py",
   "mimetype": "text/x-python",
   "name": "python",
   "nbconvert_exporter": "python",
   "pygments_lexer": "ipython3",
   "version": "3.8.5"
  }
 },
 "nbformat": 4,
 "nbformat_minor": 4
}
